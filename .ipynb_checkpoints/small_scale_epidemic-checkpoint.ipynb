{
 "cells": [
  {
   "cell_type": "code",
   "execution_count": 228,
   "id": "3e2ddeaf",
   "metadata": {
    "ExecuteTime": {
     "end_time": "2023-07-12T13:18:39.664123Z",
     "start_time": "2023-07-12T13:18:39.657444Z"
    }
   },
   "outputs": [],
   "source": [
    "import pandas as pd \n",
    "import numpy as np \n",
    "import matplotlib.pyplot as plt \n",
    "import tensorflow as tf \n",
    "import tensorflow_probability as tfp \n",
    "import scipy as sp\n",
    "import seaborn as sns \n",
    "\n",
    "import sys \n",
    "\n",
    "sys.path.append('/Users/alinmorariu/Documents/Github/ContinuousTimeIndividualLevelEpidemicModels')"
   ]
  },
  {
   "cell_type": "code",
   "execution_count": 229,
   "id": "fe5b4b07",
   "metadata": {
    "ExecuteTime": {
     "end_time": "2023-07-12T13:18:39.673939Z",
     "start_time": "2023-07-12T13:18:39.669008Z"
    }
   },
   "outputs": [],
   "source": [
    "sns.set_theme()"
   ]
  },
  {
   "cell_type": "code",
   "execution_count": 230,
   "id": "71fdf5c8",
   "metadata": {
    "ExecuteTime": {
     "end_time": "2023-07-12T13:18:39.684084Z",
     "start_time": "2023-07-12T13:18:39.678115Z"
    }
   },
   "outputs": [],
   "source": [
    "DTYPE = tf.float32"
   ]
  },
  {
   "cell_type": "code",
   "execution_count": 231,
   "id": "663732f0",
   "metadata": {
    "ExecuteTime": {
     "end_time": "2023-07-12T13:18:39.695734Z",
     "start_time": "2023-07-12T13:18:39.691605Z"
    }
   },
   "outputs": [],
   "source": [
    "population_size = 4 # 3 infected, 1 occult "
   ]
  },
  {
   "cell_type": "markdown",
   "id": "55087686",
   "metadata": {},
   "source": [
    "# Characteristic data simulation"
   ]
  },
  {
   "cell_type": "code",
   "execution_count": 232,
   "id": "cd01c253",
   "metadata": {
    "ExecuteTime": {
     "end_time": "2023-07-12T13:18:39.702614Z",
     "start_time": "2023-07-12T13:18:39.698543Z"
    }
   },
   "outputs": [],
   "source": [
    "ind_id = ['A', 'B', 'C', 'D']"
   ]
  },
  {
   "cell_type": "code",
   "execution_count": 233,
   "id": "85660e3c",
   "metadata": {
    "ExecuteTime": {
     "end_time": "2023-07-12T13:18:39.712421Z",
     "start_time": "2023-07-12T13:18:39.706865Z"
    }
   },
   "outputs": [],
   "source": [
    "np.random.seed(20230720)\n",
    "location_data = np.random.uniform(low = 0.0, high = 10.0, size = (population_size,2))"
   ]
  },
  {
   "cell_type": "code",
   "execution_count": 234,
   "id": "4767a59b",
   "metadata": {
    "ExecuteTime": {
     "end_time": "2023-07-12T13:18:39.953326Z",
     "start_time": "2023-07-12T13:18:39.715267Z"
    }
   },
   "outputs": [
    {
     "data": {
      "text/plain": [
       "<AxesSubplot:xlabel='Long', ylabel='Lat'>"
      ]
     },
     "execution_count": 234,
     "metadata": {},
     "output_type": "execute_result"
    },
    {
     "data": {
      "image/png": "[encoded data removed]",
      "text/plain": [
       "<Figure size 640x480 with 1 Axes>"
      ]
     },
     "metadata": {},
     "output_type": "display_data"
    }
   ],
   "source": [
    "sns.scatterplot(data=pd.DataFrame(\n",
    "    location_data, columns=('Long', 'Lat')), x='Long', y='Lat')"
   ]
  },
  {
   "cell_type": "code",
   "execution_count": 235,
   "id": "782eb8d4",
   "metadata": {
    "ExecuteTime": {
     "end_time": "2023-07-12T13:18:39.962077Z",
     "start_time": "2023-07-12T13:18:39.958911Z"
    }
   },
   "outputs": [],
   "source": [
    "farm_size = [30, 7, 70, 20]"
   ]
  },
  {
   "cell_type": "code",
   "execution_count": 236,
   "id": "7e2ed66e",
   "metadata": {
    "ExecuteTime": {
     "end_time": "2023-07-12T13:18:39.970002Z",
     "start_time": "2023-07-12T13:18:39.965672Z"
    }
   },
   "outputs": [],
   "source": [
    "raw_data = {'ind_id': ind_id,\n",
    " 'long': location_data[:, 0],\n",
    " 'lat': location_data[:, 1],\n",
    " 'farm_size': farm_size}"
   ]
  },
  {
   "cell_type": "code",
   "execution_count": 237,
   "id": "fa6b19ca",
   "metadata": {
    "ExecuteTime": {
     "end_time": "2023-07-12T13:18:39.979335Z",
     "start_time": "2023-07-12T13:18:39.973021Z"
    }
   },
   "outputs": [
    {
     "data": {
      "text/plain": [
       "array([[ 6.7622786 ,  0.27765238, 30.        ],\n",
       "       [ 3.67218619,  9.27634228,  7.        ],\n",
       "       [ 5.51130133,  5.66629101, 70.        ],\n",
       "       [ 5.12430292,  5.36310558, 20.        ]])"
      ]
     },
     "execution_count": 237,
     "metadata": {},
     "output_type": "execute_result"
    }
   ],
   "source": [
    "np.column_stack((location_data[:, 0], location_data[:, 1], farm_size))"
   ]
  },
  {
   "cell_type": "code",
   "execution_count": 238,
   "id": "e870a680",
   "metadata": {
    "ExecuteTime": {
     "end_time": "2023-07-12T13:18:39.989370Z",
     "start_time": "2023-07-12T13:18:39.983146Z"
    }
   },
   "outputs": [],
   "source": [
    "characteristic_data = tf.convert_to_tensor(np.column_stack(\n",
    "    (location_data[:, 0], location_data[:, 1], farm_size)), dtype=DTYPE, name='long-lat-size')"
   ]
  },
  {
   "cell_type": "code",
   "execution_count": 239,
   "id": "4347ebd5",
   "metadata": {
    "ExecuteTime": {
     "end_time": "2023-07-12T13:18:40.000833Z",
     "start_time": "2023-07-12T13:18:39.993850Z"
    }
   },
   "outputs": [
    {
     "data": {
      "text/plain": [
       "<tf.Tensor: shape=(4, 3), dtype=float32, numpy=\n",
       "array([[ 6.7622786 ,  0.27765238, 30.        ],\n",
       "       [ 3.6721861 ,  9.276342  ,  7.        ],\n",
       "       [ 5.5113015 ,  5.666291  , 70.        ],\n",
       "       [ 5.124303  ,  5.363106  , 20.        ]], dtype=float32)>"
      ]
     },
     "execution_count": 239,
     "metadata": {},
     "output_type": "execute_result"
    }
   ],
   "source": [
    "characteristic_data "
   ]
  },
  {
   "cell_type": "markdown",
   "id": "7bf2fe26",
   "metadata": {
    "ExecuteTime": {
     "end_time": "2023-07-10T15:21:16.002595Z",
     "start_time": "2023-07-10T15:21:15.997447Z"
    }
   },
   "source": [
    "# Stochastic process"
   ]
  },
  {
   "cell_type": "code",
   "execution_count": 240,
   "id": "93b76c12",
   "metadata": {
    "ExecuteTime": {
     "end_time": "2023-07-12T13:18:40.013610Z",
     "start_time": "2023-07-12T13:18:40.005460Z"
    }
   },
   "outputs": [],
   "source": [
    "# Define variables to govern epidemic\n",
    "sir_graph = np.array([[-1, 0],\n",
    "                      [1, -1],\n",
    "                      [0, 1]], dtype=np.float32)\n",
    "\n",
    "\n",
    "initial_state = np.array([[2],\n",
    "                          [1],\n",
    "                          [1]], dtype=np.float32)"
   ]
  },
  {
   "cell_type": "code",
   "execution_count": 241,
   "id": "55d8fc22",
   "metadata": {
    "ExecuteTime": {
     "end_time": "2023-07-12T13:18:40.024657Z",
     "start_time": "2023-07-12T13:18:40.018712Z"
    }
   },
   "outputs": [],
   "source": [
    "THEORETICAL_VALUES = tf.constant((0.8, 1.2, 3.14, 2), dtype=DTYPE)\n",
    "THEORETICAL_VALUES_DICT = {\n",
    "    'reg': THEORETICAL_VALUES[0:2], 'spatial': THEORETICAL_VALUES[2], 'removal': THEORETICAL_VALUES[3]}"
   ]
  },
  {
   "cell_type": "code",
   "execution_count": 242,
   "id": "345e8fdb",
   "metadata": {
    "ExecuteTime": {
     "end_time": "2023-07-12T13:18:40.033730Z",
     "start_time": "2023-07-12T13:18:40.028157Z"
    }
   },
   "outputs": [
    {
     "data": {
      "text/plain": [
       "{'reg': <tf.Tensor: shape=(2,), dtype=float32, numpy=array([0.8, 1.2], dtype=float32)>,\n",
       " 'spatial': <tf.Tensor: shape=(), dtype=float32, numpy=3.14>,\n",
       " 'removal': <tf.Tensor: shape=(), dtype=float32, numpy=2.0>}"
      ]
     },
     "execution_count": 242,
     "metadata": {},
     "output_type": "execute_result"
    }
   ],
   "source": [
    "THEORETICAL_VALUES_DICT"
   ]
  },
  {
   "cell_type": "code",
   "execution_count": 243,
   "id": "fdea5451",
   "metadata": {
    "ExecuteTime": {
     "end_time": "2023-07-12T13:18:40.048029Z",
     "start_time": "2023-07-12T13:18:40.037067Z"
    }
   },
   "outputs": [],
   "source": [
    "###########\n",
    "# Hazard fn\n",
    "###########\n",
    "\n",
    "# 1. Compute spatial component\n",
    "def pairwise_distance(location_data):\n",
    "    \"\"\"Compute pairwise distance matrix between farms\n",
    "\n",
    "    Args:\n",
    "        farm_locations_data (DataFrame): Lat-Long coordinates of farms\n",
    "\n",
    "    Returns:\n",
    "        tensor: tensor of Euclidean distances between entities\n",
    "                Dim = len(farm_location_data)\n",
    "    \"\"\"\n",
    "    return tf.convert_to_tensor(\n",
    "        sp.spatial.distance.squareform(\n",
    "            sp.spatial.distance.pdist(location_data)\n",
    "        ),\n",
    "        dtype=DTYPE\n",
    "    )\n",
    "\n",
    "\n",
    "def generate_spatial_kernel(pairwise_distance_tensor):\n",
    "    farm_distance_matrix = tf.convert_to_tensor(\n",
    "        pairwise_distance_tensor, DTYPE)\n",
    "\n",
    "    def square_exponential_kernel(parameters):\n",
    "        parameters = tf.convert_to_tensor(parameters, DTYPE)\n",
    "        partial_step = tf.math.multiply(pairwise_distance_tensor, 1/parameters)\n",
    "        return tf.math.exp(-tf.math.square(partial_step))\n",
    "\n",
    "    return square_exponential_kernel\n",
    "\n",
    "# 2. Compute regression component\n",
    "\n",
    "\n",
    "def generate_regression_pressure(characteristic_data=None):\n",
    "    \"\"\"_summary_\n",
    "\n",
    "    Args:\n",
    "        farm_characteristics_data (_type_, optional): Factor variables for each farm unit. Defaults to None.\n",
    "\n",
    "    Returns:\n",
    "        tensor: exp(alpha + beta * data)\n",
    "    \"\"\"\n",
    "    characteristic_data = tf.convert_to_tensor(characteristic_data, DTYPE)\n",
    "\n",
    "    def compute_regression(parameters):\n",
    "        parameters = tf.convert_to_tensor(parameters, DTYPE)\n",
    "        # note: char_data is a column vector so this needs to change for general case\n",
    "        one_padded_data = tf.stack([np.full(np.shape(characteristic_data), 1.0),\n",
    "                                    characteristic_data], axis=-1)\n",
    "        regression = tf.matmul(one_padded_data, tf.expand_dims(parameters,-1))\n",
    "        expontiated_regression = tf.math.exp(-regression)\n",
    "        return expontiated_regression\n",
    "\n",
    "    return compute_regression\n",
    "\n",
    "# 3. Combine for overall hazard function\n",
    "\n",
    "\n",
    "def generate_pairwise_hazard_fn(pairwise_distance_tensor, characteristic_data):\n",
    "    \"\"\"_summary_\n",
    "\n",
    "    Args:\n",
    "        farm_characteristics_data (_type_): features of farms, including a 1s column for regression\n",
    "        farm_locations_data (_type_): Northing-Easting coordinates of farms\n",
    "\n",
    "    Returns:\n",
    "        fn: fn which outputs a tensor of pairwise hazard rates\n",
    "    \"\"\"\n",
    "    spatial_kernel = generate_spatial_kernel(pairwise_distance_tensor)\n",
    "    regression_kernel = generate_regression_pressure(characteristic_data)\n",
    "\n",
    "    def compute_hazard(parameters_dict):\n",
    "\n",
    "        # spatial component - already exponentiated!\n",
    "        spatial = spatial_kernel(parameters_dict.get(\"spatial\"))\n",
    "\n",
    "        # regression component - already exponentiated!\n",
    "        regression = regression_kernel(parameters_dict.get(\"reg\"))\n",
    "        return tf.math.multiply(spatial,\n",
    "                                regression\n",
    "                                )\n",
    "\n",
    "    return compute_hazard"
   ]
  },
  {
   "cell_type": "code",
   "execution_count": 244,
   "id": "1a2f4262",
   "metadata": {
    "ExecuteTime": {
     "end_time": "2023-07-12T13:18:40.070042Z",
     "start_time": "2023-07-12T13:18:40.053504Z"
    }
   },
   "outputs": [
    {
     "data": {
      "text/plain": [
       "<tf.Tensor: shape=(4, 4), dtype=float32, numpy=\n",
       "array([[1.04222957e-16, 1.07281715e-20, 4.67728616e-18, 5.76269436e-18],\n",
       "       [1.04004645e-08, 1.01039324e-04, 1.91184536e-05, 1.72617820e-05],\n",
       "       [0.00000000e+00, 2.81053472e-38, 1.48534252e-37, 1.44937488e-37],\n",
       "       [9.37906111e-13, 2.89795987e-12, 1.65520306e-11, 1.69627853e-11]],\n",
       "      dtype=float32)>"
      ]
     },
     "execution_count": 244,
     "metadata": {},
     "output_type": "execute_result"
    }
   ],
   "source": [
    "# example usage \n",
    "generate_pairwise_hazard_fn(\n",
    "    pairwise_distance_tensor=pairwise_distance(location_data),\n",
    "    characteristic_data=tf.stack(characteristic_data[:, -1]))(THEORETICAL_VALUES_DICT) "
   ]
  },
  {
   "cell_type": "code",
   "execution_count": 245,
   "id": "bc633a27",
   "metadata": {
    "ExecuteTime": {
     "end_time": "2023-07-12T13:18:40.077092Z",
     "start_time": "2023-07-12T13:18:40.072874Z"
    }
   },
   "outputs": [],
   "source": [
    "############\n",
    "# Removal fn\n",
    "############\n",
    "\n",
    "def generate_removal_fn(infection_time, removal_time):\n",
    "    time_diff = removal_time - infection_time\n",
    "\n",
    "    def removal_fn(parameters):\n",
    "        return tfp.distributions.Exponential(rate=parameters).prob(time_diff)"
   ]
  },
  {
   "cell_type": "markdown",
   "id": "29778f7e",
   "metadata": {},
   "source": [
    "The hazard functions and removal function correspond to the $S \\rightarrow I$ and $I \\rightarrow R$ transitions of the $SIR$ model. They can be combined in order to evaluate the likelihood of the epidemic. Implementation requires the raw data (called the characteristic data in the code above) and timestamps for the epidemic events. We create a closure over the model parameters (target of the MCMC scheme) and evaluate the likelihood at proposed parameter values. Several additional functions are required in order to compute the like likelihood. The hazard function quantifies pairwise infectious pressure but does not factor in the directionality of that pressure since it is missing information about the ordering of events (i.e. at a given time, a susceptible individual does not exert infectious pressure on another susceptible individual, but an infectious individual does exert infectious pressure on susceptibles). Direction of infection is determined by the computation of a \"who acquired infection from who\" (called the WAIFW matrix). The WAIFW matrix encodes whether or not individual $j$ is exerts infectious pressure on individual $i$ by checking for overlap of individual $j$'s infectious period with individual $i$'s susceptible period. "
   ]
  },
  {
   "cell_type": "code",
   "execution_count": 268,
   "id": "9dae352e",
   "metadata": {
    "ExecuteTime": {
     "end_time": "2023-07-13T12:54:06.571549Z",
     "start_time": "2023-07-13T12:54:06.566502Z"
    }
   },
   "outputs": [],
   "source": [
    "def generate_waifw(infection_times, removal_times):\n",
    "    \"\"\"\n",
    "    Compute a WAIFW (who acquired infection from who) matrix \n",
    "    given tensors of infection and removal times. \n",
    "\n",
    "    Args:\n",
    "        infection_times (datetime): array of infection times \n",
    "        removal_times (datetime): array of removal times \n",
    "\n",
    "    Returns:\n",
    "        tensor: len(infection_times) x len(infection_times) tensor of 1s and 0s\n",
    "    \"\"\"\n",
    "\n",
    "    infection_times = tf.convert_to_tensor(infection_times, dtype=DTYPE)\n",
    "    removal_times = tf.convert_to_tensor(removal_times, dtype=DTYPE)\n",
    "\n",
    "    # use the expand_dim to do the [I,:] trick\n",
    "    waifw = tf.math.logical_and(\n",
    "        # compare infections to infections: I_i <= I_j\n",
    "        infection_times[tf.newaxis, :] < infection_times[:, tf.newaxis],\n",
    "        # compare infections to removals: I_j <= R_i\n",
    "        infection_times[:, tf.newaxis] < removal_times[tf.newaxis, :]\n",
    "    )\n",
    "    return tf.cast(waifw,\n",
    "                   dtype=DTYPE)"
   ]
  },
  {
   "cell_type": "markdown",
   "id": "21569482",
   "metadata": {},
   "source": [
    "With the direction of infectious pressure being determined, we now turn to the exposure matrix which provides the duration that infectious pressure is exerted from one individual to another. "
   ]
  },
  {
   "cell_type": "code",
   "execution_count": 269,
   "id": "42a6e849",
   "metadata": {
    "ExecuteTime": {
     "end_time": "2023-07-13T12:54:07.465427Z",
     "start_time": "2023-07-13T12:54:07.460703Z"
    }
   },
   "outputs": [],
   "source": [
    "def generate_exposure(infection_times, removal_times):\n",
    "    \"\"\"\n",
    "    Compute exposure matrix given two tensors of infections and removal times\n",
    "\n",
    "    Args:\n",
    "        infection_times (datetime): array of infection times \n",
    "        removal_times (datetime): array of removal times \n",
    "\n",
    "    Returns:\n",
    "        tensor: len(infection_times) x len(infection_times) tensor of exposure\n",
    "        durations \n",
    "    \"\"\"\n",
    "    infection_times = tf.convert_to_tensor(infection_times, dtype=DTYPE)\n",
    "    removal_times = tf.convert_to_tensor(removal_times, dtype=DTYPE)\n",
    "\n",
    "    return (\n",
    "        tf.math.minimum(infection_times[:, tf.newaxis],\n",
    "                        removal_times[tf.newaxis, :]) -\n",
    "        tf.math.minimum(infection_times[:, tf.newaxis],\n",
    "                        infection_times[tf.newaxis, :])\n",
    "    )"
   ]
  },
  {
   "cell_type": "code",
   "execution_count": 250,
   "id": "5f5d9626",
   "metadata": {
    "ExecuteTime": {
     "end_time": "2023-07-13T12:44:11.441332Z",
     "start_time": "2023-07-13T12:44:11.427727Z"
    }
   },
   "outputs": [],
   "source": [
    "def identify_initial_infective(infection_times):\n",
    "    infection_times = tf.convert_to_tensor(infection_times, dtype=DTYPE)\n",
    "    return tf.argmin(infection_times)"
   ]
  },
  {
   "cell_type": "markdown",
   "id": "37367bea",
   "metadata": {},
   "source": [
    "## Create fake dates"
   ]
  },
  {
   "cell_type": "code",
   "execution_count": 274,
   "id": "b82a22f6",
   "metadata": {
    "ExecuteTime": {
     "end_time": "2023-07-13T12:56:07.833995Z",
     "start_time": "2023-07-13T12:56:07.829864Z"
    }
   },
   "outputs": [],
   "source": [
    "# Create fake dates \n",
    "epidemic_timestamps = {'ind_id': indivudal_id,\n",
    " 'infection_time': np.array([0, 5.4, 3.7835, np.inf]),\n",
    "'removal_time': np.array([6.111, 8.4954, 10.03313, np.inf])}"
   ]
  },
  {
   "cell_type": "code",
   "execution_count": 281,
   "id": "330447cb",
   "metadata": {
    "ExecuteTime": {
     "end_time": "2023-07-13T12:59:19.365946Z",
     "start_time": "2023-07-13T12:59:19.361663Z"
    }
   },
   "outputs": [],
   "source": [
    "def generate_infectious_duration(infection_times, removal_times):\n",
    "    infection_times = tf.convert_to_tensor(infection_times, dtype=DTYPE)\n",
    "    removal_times = tf.convert_to_tensor(removal_times, dtype=DTYPE)\n",
    "    return tf.math.subtract(x=removal_times,\n",
    "                            y=infection_times)"
   ]
  },
  {
   "cell_type": "code",
   "execution_count": 282,
   "id": "aa4d62db",
   "metadata": {
    "ExecuteTime": {
     "end_time": "2023-07-13T12:59:20.819631Z",
     "start_time": "2023-07-13T12:59:20.813052Z"
    }
   },
   "outputs": [
    {
     "data": {
      "text/plain": [
       "<tf.Tensor: shape=(4,), dtype=float32, numpy=array([6.111    , 3.0954003, 6.24963  ,       nan], dtype=float32)>"
      ]
     },
     "execution_count": 282,
     "metadata": {},
     "output_type": "execute_result"
    }
   ],
   "source": [
    "# example\n",
    "generate_infectious_duration(infection_times=epidemic_timestamps.get('infection_time'),\n",
    "                 removal_times=epidemic_timestamps.get('removal_time'))"
   ]
  },
  {
   "cell_type": "code",
   "execution_count": 271,
   "id": "ef7b996a",
   "metadata": {
    "ExecuteTime": {
     "end_time": "2023-07-13T12:54:10.900249Z",
     "start_time": "2023-07-13T12:54:10.890475Z"
    }
   },
   "outputs": [
    {
     "data": {
      "text/plain": [
       "<tf.Tensor: shape=(4, 4), dtype=float32, numpy=\n",
       "array([[0.       , 0.       , 0.       , 0.       ],\n",
       "       [5.4      , 0.       , 1.6165001, 0.       ],\n",
       "       [3.7835   , 0.       , 0.       , 0.       ],\n",
       "       [6.111    , 3.0954003, 6.24963  ,       nan]], dtype=float32)>"
      ]
     },
     "execution_count": 271,
     "metadata": {},
     "output_type": "execute_result"
    }
   ],
   "source": [
    "generate_exposure(infection_times=epidemic_timestamps.get('infection_time'),\n",
    "                 removal_times=epidemic_timestamps.get('removal_time'))"
   ]
  },
  {
   "cell_type": "code",
   "execution_count": 272,
   "id": "6b172f58",
   "metadata": {
    "ExecuteTime": {
     "end_time": "2023-07-13T12:54:31.601355Z",
     "start_time": "2023-07-13T12:54:31.593579Z"
    }
   },
   "outputs": [
    {
     "data": {
      "text/plain": [
       "<tf.Tensor: shape=(4, 4), dtype=float32, numpy=\n",
       "array([[0., 0., 0., 0.],\n",
       "       [1., 0., 1., 0.],\n",
       "       [1., 0., 0., 0.],\n",
       "       [0., 0., 0., 0.]], dtype=float32)>"
      ]
     },
     "execution_count": 272,
     "metadata": {},
     "output_type": "execute_result"
    }
   ],
   "source": [
    "generate_waifw(infection_times=epidemic_timestamps.get('infection_time'),\n",
    "                 removal_times=epidemic_timestamps.get('removal_time'))"
   ]
  },
  {
   "cell_type": "code",
   "execution_count": 273,
   "id": "17b6dbf8",
   "metadata": {
    "ExecuteTime": {
     "end_time": "2023-07-13T12:54:40.212735Z",
     "start_time": "2023-07-13T12:54:40.109850Z"
    }
   },
   "outputs": [
    {
     "data": {
      "text/plain": [
       "<tf.Tensor: shape=(4, 4), dtype=float32, numpy=\n",
       "array([[0.    , 0.    , 0.    ,    nan],\n",
       "       [3.7835, 0.    , 0.    ,    nan],\n",
       "       [0.    , 0.    , 0.    ,    nan],\n",
       "       [0.    , 0.    , 0.    ,    nan]], dtype=float32)>"
      ]
     },
     "execution_count": 273,
     "metadata": {},
     "output_type": "execute_result"
    }
   ],
   "source": [
    "tf.matmul(a = generate_waifw(infection_times=epidemic_timestamps.get('infection_time'),\n",
    "                 removal_times=epidemic_timestamps.get('removal_time')),\n",
    "         b = generate_exposure(infection_times=epidemic_timestamps.get('infection_time'),\n",
    "                 removal_times=epidemic_timestamps.get('removal_time')))"
   ]
  },
  {
   "cell_type": "code",
   "execution_count": null,
   "id": "9416a9e1",
   "metadata": {},
   "outputs": [],
   "source": []
  }
 ],
 "metadata": {
  "kernelspec": {
   "display_name": "Python 3 (ipykernel)",
   "language": "python",
   "name": "python3"
  },
  "language_info": {
   "codemirror_mode": {
    "name": "ipython",
    "version": 3
   },
   "file_extension": ".py",
   "mimetype": "text/x-python",
   "name": "python",
   "nbconvert_exporter": "python",
   "pygments_lexer": "ipython3",
   "version": "3.9.13"
  },
  "toc": {
   "base_numbering": 1,
   "nav_menu": {},
   "number_sections": true,
   "sideBar": true,
   "skip_h1_title": false,
   "title_cell": "Table of Contents",
   "title_sidebar": "Contents",
   "toc_cell": false,
   "toc_position": {},
   "toc_section_display": true,
   "toc_window_display": false
  },
  "varInspector": {
   "cols": {
    "lenName": 16,
    "lenType": 16,
    "lenVar": 40
   },
   "kernels_config": {
    "python": {
     "delete_cmd_postfix": "",
     "delete_cmd_prefix": "del ",
     "library": "var_list.py",
     "varRefreshCmd": "print(var_dic_list())"
    },
    "r": {
     "delete_cmd_postfix": ") ",
     "delete_cmd_prefix": "rm(",
     "library": "var_list.r",
     "varRefreshCmd": "cat(var_dic_list()) "
    }
   },
   "types_to_exclude": [
    "module",
    "function",
    "builtin_function_or_method",
    "instance",
    "_Feature"
   ],
   "window_display": false
  }
 },
 "nbformat": 4,
 "nbformat_minor": 5
}
