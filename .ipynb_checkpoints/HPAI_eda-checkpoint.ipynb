{
 "cells": [
  {
   "cell_type": "code",
   "execution_count": 1,
   "id": "14f9d6bd",
   "metadata": {
    "ExecuteTime": {
     "end_time": "2023-07-01T00:11:12.520964Z",
     "start_time": "2023-07-01T00:11:00.120530Z"
    }
   },
   "outputs": [],
   "source": [
    "import pandas as pd \n",
    "import numpy as np \n",
    "import matplotlib.pyplot as plt \n",
    "import tensorflow as tf \n",
    "import tensorflow_probability as tfp \n",
    "import seaborn as sns \n",
    "import geopandas \n",
    "import datetime\n",
    "import scipy as sp"
   ]
  },
  {
   "cell_type": "code",
   "execution_count": 2,
   "id": "89723284",
   "metadata": {
    "ExecuteTime": {
     "end_time": "2023-07-01T00:11:12.526576Z",
     "start_time": "2023-07-01T00:11:12.523711Z"
    }
   },
   "outputs": [],
   "source": [
    "sns.set_theme()"
   ]
  },
  {
   "cell_type": "code",
   "execution_count": 3,
   "id": "c360d209",
   "metadata": {
    "ExecuteTime": {
     "end_time": "2023-07-01T00:11:12.531258Z",
     "start_time": "2023-07-01T00:11:12.528799Z"
    }
   },
   "outputs": [],
   "source": [
    "plt.rcParams[\"figure.figsize\"] = (15, 10)"
   ]
  },
  {
   "cell_type": "code",
   "execution_count": 4,
   "id": "d3cf8a07",
   "metadata": {
    "ExecuteTime": {
     "end_time": "2023-07-01T00:11:22.380052Z",
     "start_time": "2023-07-01T00:11:12.536684Z"
    }
   },
   "outputs": [],
   "source": [
    "hpai_main = pd.read_csv('data_files/combinedDataset20221130 _1_.csv')\n",
    "hpai_wild = pd.read_csv('data_files/wildBirdData20221130 _1_.csv')\n",
    "hpai_poultry = pd.read_excel('data_files/GBPR Poultry Premises Extract 01Dec22 _1_.xlsx')"
   ]
  },
  {
   "cell_type": "markdown",
   "id": "4e368d43",
   "metadata": {},
   "source": [
    "## Preview the data"
   ]
  },
  {
   "cell_type": "code",
   "execution_count": 5,
   "id": "d7d16c73",
   "metadata": {
    "ExecuteTime": {
     "end_time": "2023-07-01T00:11:22.443572Z",
     "start_time": "2023-07-01T00:11:22.382270Z"
    }
   },
   "outputs": [
    {
     "data": {
      "text/html": [
       "<div>\n",
       "<style scoped>\n",
       "    .dataframe tbody tr th:only-of-type {\n",
       "        vertical-align: middle;\n",
       "    }\n",
       "\n",
       "    .dataframe tbody tr th {\n",
       "        vertical-align: top;\n",
       "    }\n",
       "\n",
       "    .dataframe thead th {\n",
       "        text-align: right;\n",
       "    }\n",
       "</style>\n",
       "<table border=\"1\" class=\"dataframe\">\n",
       "  <thead>\n",
       "    <tr style=\"text-align: right;\">\n",
       "      <th></th>\n",
       "      <th>dprNumber</th>\n",
       "      <th>aivNumber</th>\n",
       "      <th>reportDate</th>\n",
       "      <th>Status</th>\n",
       "      <th>NDI1Type</th>\n",
       "      <th>Resolution</th>\n",
       "      <th>Stock Details</th>\n",
       "      <th>CPH</th>\n",
       "      <th>Country</th>\n",
       "      <th>dprID</th>\n",
       "      <th>...</th>\n",
       "      <th>PZ/SZ presence</th>\n",
       "      <th>Lat</th>\n",
       "      <th>Long</th>\n",
       "      <th>Genomics</th>\n",
       "      <th>cullStart</th>\n",
       "      <th>cullEnd</th>\n",
       "      <th>dispComplete</th>\n",
       "      <th>cdEffective</th>\n",
       "      <th>County</th>\n",
       "      <th>premisesType</th>\n",
       "    </tr>\n",
       "  </thead>\n",
       "  <tbody>\n",
       "    <tr>\n",
       "      <th>0</th>\n",
       "      <td>DPR 2022/389</td>\n",
       "      <td>NaN</td>\n",
       "      <td>28/11/2022</td>\n",
       "      <td>Pending</td>\n",
       "      <td>Report case- Clinical</td>\n",
       "      <td>NaN</td>\n",
       "      <td>80,000</td>\n",
       "      <td>38/270/6002</td>\n",
       "      <td>England</td>\n",
       "      <td>2022 389</td>\n",
       "      <td>...</td>\n",
       "      <td>NaN</td>\n",
       "      <td>NaN</td>\n",
       "      <td>NaN</td>\n",
       "      <td>NaN</td>\n",
       "      <td>NaN</td>\n",
       "      <td>NaN</td>\n",
       "      <td>NaN</td>\n",
       "      <td>NaN</td>\n",
       "      <td>Suffolk</td>\n",
       "      <td>Ducks</td>\n",
       "    </tr>\n",
       "    <tr>\n",
       "      <th>1</th>\n",
       "      <td>DPR 2022/388</td>\n",
       "      <td>NaN</td>\n",
       "      <td>28/11/2022</td>\n",
       "      <td>Pending</td>\n",
       "      <td>Report case- Clinical</td>\n",
       "      <td>NaN</td>\n",
       "      <td>3342</td>\n",
       "      <td>06/369/0014</td>\n",
       "      <td>England</td>\n",
       "      <td>2022 388</td>\n",
       "      <td>...</td>\n",
       "      <td>NaN</td>\n",
       "      <td>NaN</td>\n",
       "      <td>NaN</td>\n",
       "      <td>NaN</td>\n",
       "      <td>NaN</td>\n",
       "      <td>NaN</td>\n",
       "      <td>NaN</td>\n",
       "      <td>NaN</td>\n",
       "      <td>Cheshire West and Chester</td>\n",
       "      <td>Turkeys</td>\n",
       "    </tr>\n",
       "    <tr>\n",
       "      <th>2</th>\n",
       "      <td>DPR 2022/387</td>\n",
       "      <td>NaN</td>\n",
       "      <td>26/11/2022</td>\n",
       "      <td>Pending</td>\n",
       "      <td>Samples taken for laboratory testing</td>\n",
       "      <td>NaN</td>\n",
       "      <td>Approx 400 chickens, 78\\r\\r\\ngeese, 18 turkeys...</td>\n",
       "      <td>28/461/0002</td>\n",
       "      <td>England</td>\n",
       "      <td>2022 387</td>\n",
       "      <td>...</td>\n",
       "      <td>NaN</td>\n",
       "      <td>NaN</td>\n",
       "      <td>NaN</td>\n",
       "      <td>NaN</td>\n",
       "      <td>30/11/2022</td>\n",
       "      <td>30/11/2022</td>\n",
       "      <td>NaN</td>\n",
       "      <td>01/12/2022</td>\n",
       "      <td>Norfolk</td>\n",
       "      <td>Chickens</td>\n",
       "    </tr>\n",
       "    <tr>\n",
       "      <th>3</th>\n",
       "      <td>DPR 2022/386</td>\n",
       "      <td>AIV 2022/218</td>\n",
       "      <td>26/11/2022</td>\n",
       "      <td>Confirmed</td>\n",
       "      <td>Interim Results - POSITIVE</td>\n",
       "      <td>Confirmed on Lab</td>\n",
       "      <td>32000</td>\n",
       "      <td>70/224/0125</td>\n",
       "      <td>Scotland</td>\n",
       "      <td>2022 386</td>\n",
       "      <td>...</td>\n",
       "      <td>NaN</td>\n",
       "      <td>57.568064</td>\n",
       "      <td>-2.493343</td>\n",
       "      <td>NaN</td>\n",
       "      <td>29/11/2022</td>\n",
       "      <td>NaN</td>\n",
       "      <td>NaN</td>\n",
       "      <td>NaN</td>\n",
       "      <td>Aberdeenshire</td>\n",
       "      <td>Chickens</td>\n",
       "    </tr>\n",
       "    <tr>\n",
       "      <th>4</th>\n",
       "      <td>DPR 2022/385</td>\n",
       "      <td>NaN</td>\n",
       "      <td>25/11/2022</td>\n",
       "      <td>Not Confirmed</td>\n",
       "      <td>Final Report</td>\n",
       "      <td>Negated on Clinical</td>\n",
       "      <td>4</td>\n",
       "      <td>NaN</td>\n",
       "      <td>Wales</td>\n",
       "      <td>2022 385</td>\n",
       "      <td>...</td>\n",
       "      <td>NaN</td>\n",
       "      <td>NaN</td>\n",
       "      <td>NaN</td>\n",
       "      <td>NaN</td>\n",
       "      <td>NaN</td>\n",
       "      <td>NaN</td>\n",
       "      <td>NaN</td>\n",
       "      <td>NaN</td>\n",
       "      <td>Caerphilly</td>\n",
       "      <td>Chickens</td>\n",
       "    </tr>\n",
       "  </tbody>\n",
       "</table>\n",
       "<p>5 rows × 32 columns</p>\n",
       "</div>"
      ],
      "text/plain": [
       "      dprNumber     aivNumber  reportDate         Status  \\\n",
       "0  DPR 2022/389           NaN  28/11/2022        Pending   \n",
       "1  DPR 2022/388           NaN  28/11/2022        Pending   \n",
       "2  DPR 2022/387           NaN  26/11/2022        Pending   \n",
       "3  DPR 2022/386  AIV 2022/218  26/11/2022      Confirmed   \n",
       "4  DPR 2022/385           NaN  25/11/2022  Not Confirmed   \n",
       "\n",
       "                               NDI1Type           Resolution  \\\n",
       "0                 Report case- Clinical                  NaN   \n",
       "1                 Report case- Clinical                  NaN   \n",
       "2  Samples taken for laboratory testing                  NaN   \n",
       "3            Interim Results - POSITIVE     Confirmed on Lab   \n",
       "4                          Final Report  Negated on Clinical   \n",
       "\n",
       "                                       Stock Details          CPH   Country  \\\n",
       "0                                             80,000  38/270/6002   England   \n",
       "1                                               3342  06/369/0014   England   \n",
       "2  Approx 400 chickens, 78\\r\\r\\ngeese, 18 turkeys...  28/461/0002   England   \n",
       "3                                              32000  70/224/0125  Scotland   \n",
       "4                                                  4          NaN     Wales   \n",
       "\n",
       "      dprID  ... PZ/SZ presence        Lat      Long Genomics   cullStart  \\\n",
       "0  2022 389  ...            NaN        NaN       NaN      NaN         NaN   \n",
       "1  2022 388  ...            NaN        NaN       NaN      NaN         NaN   \n",
       "2  2022 387  ...            NaN        NaN       NaN      NaN  30/11/2022   \n",
       "3  2022 386  ...            NaN  57.568064 -2.493343      NaN  29/11/2022   \n",
       "4  2022 385  ...            NaN        NaN       NaN      NaN         NaN   \n",
       "\n",
       "      cullEnd dispComplete cdEffective                     County premisesType  \n",
       "0         NaN          NaN         NaN                    Suffolk        Ducks  \n",
       "1         NaN          NaN         NaN  Cheshire West and Chester      Turkeys  \n",
       "2  30/11/2022          NaN  01/12/2022                    Norfolk     Chickens  \n",
       "3         NaN          NaN         NaN              Aberdeenshire     Chickens  \n",
       "4         NaN          NaN         NaN                 Caerphilly     Chickens  \n",
       "\n",
       "[5 rows x 32 columns]"
      ]
     },
     "execution_count": 5,
     "metadata": {},
     "output_type": "execute_result"
    }
   ],
   "source": [
    "hpai_main.head(5)"
   ]
  },
  {
   "cell_type": "code",
   "execution_count": 6,
   "id": "27460ab3",
   "metadata": {
    "ExecuteTime": {
     "end_time": "2023-07-01T00:11:22.476814Z",
     "start_time": "2023-07-01T00:11:22.448069Z"
    }
   },
   "outputs": [
    {
     "name": "stdout",
     "output_type": "stream",
     "text": [
      "<class 'pandas.core.frame.DataFrame'>\n",
      "RangeIndex: 540 entries, 0 to 539\n",
      "Data columns (total 32 columns):\n",
      " #   Column          Non-Null Count  Dtype  \n",
      "---  ------          --------------  -----  \n",
      " 0   dprNumber       504 non-null    object \n",
      " 1   aivNumber       324 non-null    object \n",
      " 2   reportDate      540 non-null    object \n",
      " 3   Status          504 non-null    object \n",
      " 4   NDI1Type        504 non-null    object \n",
      " 5   Resolution      495 non-null    object \n",
      " 6   Stock Details   499 non-null    object \n",
      " 7   CPH             369 non-null    object \n",
      " 8   Country         503 non-null    object \n",
      " 9   dprID           504 non-null    object \n",
      " 10  aivID           324 non-null    object \n",
      " 11  ipNumber        134 non-null    float64\n",
      " 12  region          191 non-null    object \n",
      " 13  approxNumBirds  190 non-null    object \n",
      " 14  Year            324 non-null    float64\n",
      " 15  Season          324 non-null    float64\n",
      " 16  Subtype         249 non-null    object \n",
      " 17  infDate         320 non-null    object \n",
      " 18  confDate        324 non-null    object \n",
      " 19  speciesPresent  323 non-null    object \n",
      " 20  businessType    324 non-null    object \n",
      " 21  Sector          255 non-null    object \n",
      " 22  PZ/SZ presence  0 non-null      float64\n",
      " 23  Lat             324 non-null    float64\n",
      " 24  Long            324 non-null    float64\n",
      " 25  Genomics        235 non-null    object \n",
      " 26  cullStart       181 non-null    object \n",
      " 27  cullEnd         110 non-null    object \n",
      " 28  dispComplete    45 non-null     object \n",
      " 29  cdEffective     74 non-null     object \n",
      " 30  County          540 non-null    object \n",
      " 31  premisesType    525 non-null    object \n",
      "dtypes: float64(6), object(26)\n",
      "memory usage: 135.1+ KB\n"
     ]
    }
   ],
   "source": [
    "hpai_main.info()"
   ]
  },
  {
   "cell_type": "markdown",
   "id": "7efee44d",
   "metadata": {},
   "source": [
    "Comments: \n",
    "- unique ID for each farm\n",
    "- dates (resolution is daily) \n",
    "    - format is DD/MM/YYYY\n",
    "    - reported date for initial infection? \n",
    "    - culling dates for end of infectious period (can be longer than 1 day - should factor into the model, decay term? ) \n",
    "    - clarify: infDate, confDate, reportDate\n",
    "- herd details (types of birds present - cat var in model to tell difference in susceptibility) \n",
    "- herd size\n",
    "- spatial component (have geolocation and regional area - can impute from geolocation if need be)"
   ]
  },
  {
   "cell_type": "code",
   "execution_count": 7,
   "id": "d581b23d",
   "metadata": {
    "ExecuteTime": {
     "end_time": "2023-07-01T00:11:22.497256Z",
     "start_time": "2023-07-01T00:11:22.480618Z"
    }
   },
   "outputs": [
    {
     "data": {
      "text/html": [
       "<div>\n",
       "<style scoped>\n",
       "    .dataframe tbody tr th:only-of-type {\n",
       "        vertical-align: middle;\n",
       "    }\n",
       "\n",
       "    .dataframe tbody tr th {\n",
       "        vertical-align: top;\n",
       "    }\n",
       "\n",
       "    .dataframe thead th {\n",
       "        text-align: right;\n",
       "    }\n",
       "</style>\n",
       "<table border=\"1\" class=\"dataframe\">\n",
       "  <thead>\n",
       "    <tr style=\"text-align: right;\">\n",
       "      <th></th>\n",
       "      <th>Location Id</th>\n",
       "      <th>AHO</th>\n",
       "      <th>Created Datetime</th>\n",
       "      <th>Updated Datetime</th>\n",
       "      <th>Easting</th>\n",
       "      <th>Northing</th>\n",
       "      <th>OS Map Reference</th>\n",
       "    </tr>\n",
       "  </thead>\n",
       "  <tbody>\n",
       "    <tr>\n",
       "      <th>0</th>\n",
       "      <td>L1000007</td>\n",
       "      <td>APHA Leicester</td>\n",
       "      <td>2008-07-15</td>\n",
       "      <td>2013-08-22 09:58:00</td>\n",
       "      <td>458300.0</td>\n",
       "      <td>263000.0</td>\n",
       "      <td>SP5830063000</td>\n",
       "    </tr>\n",
       "    <tr>\n",
       "      <th>1</th>\n",
       "      <td>L1000018</td>\n",
       "      <td>APHA Worcester</td>\n",
       "      <td>2008-07-18</td>\n",
       "      <td>2019-01-24 01:16:00</td>\n",
       "      <td>427801.0</td>\n",
       "      <td>282900.0</td>\n",
       "      <td>SP2780182900</td>\n",
       "    </tr>\n",
       "    <tr>\n",
       "      <th>2</th>\n",
       "      <td>L1000019</td>\n",
       "      <td>APHA Leicester</td>\n",
       "      <td>2008-07-18</td>\n",
       "      <td>2019-01-02 02:40:00</td>\n",
       "      <td>487900.0</td>\n",
       "      <td>269200.0</td>\n",
       "      <td>SP8790069200</td>\n",
       "    </tr>\n",
       "    <tr>\n",
       "      <th>3</th>\n",
       "      <td>L1000036</td>\n",
       "      <td>APHA Worcester</td>\n",
       "      <td>2008-07-24</td>\n",
       "      <td>2011-05-20 03:23:00</td>\n",
       "      <td>423200.0</td>\n",
       "      <td>292900.0</td>\n",
       "      <td>SP2320092900</td>\n",
       "    </tr>\n",
       "    <tr>\n",
       "      <th>4</th>\n",
       "      <td>L1000080</td>\n",
       "      <td>APHA Worcester</td>\n",
       "      <td>2008-08-06</td>\n",
       "      <td>2019-01-25 04:12:00</td>\n",
       "      <td>407851.0</td>\n",
       "      <td>301448.0</td>\n",
       "      <td>SK0785101448</td>\n",
       "    </tr>\n",
       "  </tbody>\n",
       "</table>\n",
       "</div>"
      ],
      "text/plain": [
       "  Location Id             AHO Created Datetime    Updated Datetime   Easting  \\\n",
       "0    L1000007  APHA Leicester       2008-07-15 2013-08-22 09:58:00  458300.0   \n",
       "1    L1000018  APHA Worcester       2008-07-18 2019-01-24 01:16:00  427801.0   \n",
       "2    L1000019  APHA Leicester       2008-07-18 2019-01-02 02:40:00  487900.0   \n",
       "3    L1000036  APHA Worcester       2008-07-24 2011-05-20 03:23:00  423200.0   \n",
       "4    L1000080  APHA Worcester       2008-08-06 2019-01-25 04:12:00  407851.0   \n",
       "\n",
       "   Northing OS Map Reference  \n",
       "0  263000.0     SP5830063000  \n",
       "1  282900.0     SP2780182900  \n",
       "2  269200.0     SP8790069200  \n",
       "3  292900.0     SP2320092900  \n",
       "4  301448.0     SK0785101448  "
      ]
     },
     "execution_count": 7,
     "metadata": {},
     "output_type": "execute_result"
    }
   ],
   "source": [
    "hpai_poultry.head()"
   ]
  },
  {
   "cell_type": "code",
   "execution_count": 8,
   "id": "7d157ec1",
   "metadata": {
    "ExecuteTime": {
     "end_time": "2023-07-01T00:11:22.541264Z",
     "start_time": "2023-07-01T00:11:22.499840Z"
    }
   },
   "outputs": [
    {
     "name": "stdout",
     "output_type": "stream",
     "text": [
      "<class 'pandas.core.frame.DataFrame'>\n",
      "RangeIndex: 58119 entries, 0 to 58118\n",
      "Data columns (total 7 columns):\n",
      " #   Column            Non-Null Count  Dtype         \n",
      "---  ------            --------------  -----         \n",
      " 0   Location Id       58119 non-null  object        \n",
      " 1   AHO               57743 non-null  object        \n",
      " 2   Created Datetime  58119 non-null  datetime64[ns]\n",
      " 3   Updated Datetime  58119 non-null  datetime64[ns]\n",
      " 4   Easting           58118 non-null  float64       \n",
      " 5   Northing          58118 non-null  float64       \n",
      " 6   OS Map Reference  58118 non-null  object        \n",
      "dtypes: datetime64[ns](2), float64(2), object(3)\n",
      "memory usage: 3.1+ MB\n"
     ]
    }
   ],
   "source": [
    "hpai_poultry.info()"
   ]
  },
  {
   "cell_type": "markdown",
   "id": "9b305aea",
   "metadata": {},
   "source": [
    "Comments: \n",
    "\n",
    "- spatial data for farms \n",
    "- long/lat coordinates for mapping"
   ]
  },
  {
   "cell_type": "code",
   "execution_count": 9,
   "id": "53e44545",
   "metadata": {
    "ExecuteTime": {
     "end_time": "2023-07-01T00:11:22.561249Z",
     "start_time": "2023-07-01T00:11:22.544330Z"
    }
   },
   "outputs": [
    {
     "data": {
      "text/html": [
       "<div>\n",
       "<style scoped>\n",
       "    .dataframe tbody tr th:only-of-type {\n",
       "        vertical-align: middle;\n",
       "    }\n",
       "\n",
       "    .dataframe tbody tr th {\n",
       "        vertical-align: top;\n",
       "    }\n",
       "\n",
       "    .dataframe thead th {\n",
       "        text-align: right;\n",
       "    }\n",
       "</style>\n",
       "<table border=\"1\" class=\"dataframe\">\n",
       "  <thead>\n",
       "    <tr style=\"text-align: right;\">\n",
       "      <th></th>\n",
       "      <th>Bird ID</th>\n",
       "      <th>Lab ID</th>\n",
       "      <th>Species Name</th>\n",
       "      <th>Final Result</th>\n",
       "      <th>Virus Isolated</th>\n",
       "      <th>Date Received</th>\n",
       "      <th>COUNTY</th>\n",
       "      <th>COUNTRY</th>\n",
       "      <th>speciesName</th>\n",
       "      <th>birdFamily</th>\n",
       "      <th>...</th>\n",
       "      <th>Date PHE informed</th>\n",
       "      <th>High Path</th>\n",
       "      <th>Postcode</th>\n",
       "      <th>Comment</th>\n",
       "      <th>date</th>\n",
       "      <th>easting</th>\n",
       "      <th>northing</th>\n",
       "      <th>latitude</th>\n",
       "      <th>longitude</th>\n",
       "      <th>osGridRef</th>\n",
       "    </tr>\n",
       "  </thead>\n",
       "  <tbody>\n",
       "    <tr>\n",
       "      <th>0</th>\n",
       "      <td>AVA-21-050799</td>\n",
       "      <td>AV001973-21</td>\n",
       "      <td>TUFTED_DUCK</td>\n",
       "      <td>Negative</td>\n",
       "      <td>NaN</td>\n",
       "      <td>2021-10-05T00:00:00Z</td>\n",
       "      <td>GREATER LONDON</td>\n",
       "      <td>ENGLAND</td>\n",
       "      <td>TUFTED_DUCK</td>\n",
       "      <td>ducks/geese/swans</td>\n",
       "      <td>...</td>\n",
       "      <td>NaN</td>\n",
       "      <td>NaN</td>\n",
       "      <td>NaN</td>\n",
       "      <td>NaN</td>\n",
       "      <td>NaN</td>\n",
       "      <td>NaN</td>\n",
       "      <td>NaN</td>\n",
       "      <td>NaN</td>\n",
       "      <td>NaN</td>\n",
       "      <td>NaN</td>\n",
       "    </tr>\n",
       "    <tr>\n",
       "      <th>1</th>\n",
       "      <td>AVA-21-050998</td>\n",
       "      <td>AV001979-21</td>\n",
       "      <td>BLACK-HEADED_GULL</td>\n",
       "      <td>Negative</td>\n",
       "      <td>NaN</td>\n",
       "      <td>2021-10-06T00:00:00Z</td>\n",
       "      <td>TYNE &amp; WEAR</td>\n",
       "      <td>ENGLAND</td>\n",
       "      <td>BLACK-HEADED_GULL</td>\n",
       "      <td>gulls/terns</td>\n",
       "      <td>...</td>\n",
       "      <td>NaN</td>\n",
       "      <td>NaN</td>\n",
       "      <td>NaN</td>\n",
       "      <td>NaN</td>\n",
       "      <td>NaN</td>\n",
       "      <td>NaN</td>\n",
       "      <td>NaN</td>\n",
       "      <td>NaN</td>\n",
       "      <td>NaN</td>\n",
       "      <td>NaN</td>\n",
       "    </tr>\n",
       "    <tr>\n",
       "      <th>2</th>\n",
       "      <td>AVA-21-051051</td>\n",
       "      <td>AV001985-21</td>\n",
       "      <td>UNSPECIFIED_BIRD</td>\n",
       "      <td>Negative</td>\n",
       "      <td>NaN</td>\n",
       "      <td>2021-10-07T00:00:00Z</td>\n",
       "      <td>ABERDEENSHIRE</td>\n",
       "      <td>SCOTLAND</td>\n",
       "      <td>UNSPECIFIED_BIRD</td>\n",
       "      <td>unspecified</td>\n",
       "      <td>...</td>\n",
       "      <td>NaN</td>\n",
       "      <td>NaN</td>\n",
       "      <td>NaN</td>\n",
       "      <td>NaN</td>\n",
       "      <td>NaN</td>\n",
       "      <td>NaN</td>\n",
       "      <td>NaN</td>\n",
       "      <td>NaN</td>\n",
       "      <td>NaN</td>\n",
       "      <td>NaN</td>\n",
       "    </tr>\n",
       "    <tr>\n",
       "      <th>3</th>\n",
       "      <td>AVA-21-051052</td>\n",
       "      <td>AV001985-21</td>\n",
       "      <td>UNSPECIFIED_BIRD</td>\n",
       "      <td>Negative</td>\n",
       "      <td>NaN</td>\n",
       "      <td>2021-10-07T00:00:00Z</td>\n",
       "      <td>ABERDEENSHIRE</td>\n",
       "      <td>SCOTLAND</td>\n",
       "      <td>UNSPECIFIED_BIRD</td>\n",
       "      <td>unspecified</td>\n",
       "      <td>...</td>\n",
       "      <td>NaN</td>\n",
       "      <td>NaN</td>\n",
       "      <td>NaN</td>\n",
       "      <td>NaN</td>\n",
       "      <td>NaN</td>\n",
       "      <td>NaN</td>\n",
       "      <td>NaN</td>\n",
       "      <td>NaN</td>\n",
       "      <td>NaN</td>\n",
       "      <td>NaN</td>\n",
       "    </tr>\n",
       "    <tr>\n",
       "      <th>4</th>\n",
       "      <td>AVA-21-051053</td>\n",
       "      <td>AV001985-21</td>\n",
       "      <td>UNSPECIFIED_BIRD</td>\n",
       "      <td>Negative</td>\n",
       "      <td>NaN</td>\n",
       "      <td>2021-10-07T00:00:00Z</td>\n",
       "      <td>ABERDEENSHIRE</td>\n",
       "      <td>SCOTLAND</td>\n",
       "      <td>UNSPECIFIED_BIRD</td>\n",
       "      <td>unspecified</td>\n",
       "      <td>...</td>\n",
       "      <td>NaN</td>\n",
       "      <td>NaN</td>\n",
       "      <td>NaN</td>\n",
       "      <td>NaN</td>\n",
       "      <td>NaN</td>\n",
       "      <td>NaN</td>\n",
       "      <td>NaN</td>\n",
       "      <td>NaN</td>\n",
       "      <td>NaN</td>\n",
       "      <td>NaN</td>\n",
       "    </tr>\n",
       "  </tbody>\n",
       "</table>\n",
       "<p>5 rows × 33 columns</p>\n",
       "</div>"
      ],
      "text/plain": [
       "         Bird ID       Lab ID       Species Name Final Result Virus Isolated  \\\n",
       "0  AVA-21-050799  AV001973-21        TUFTED_DUCK     Negative            NaN   \n",
       "1  AVA-21-050998  AV001979-21  BLACK-HEADED_GULL     Negative            NaN   \n",
       "2  AVA-21-051051  AV001985-21   UNSPECIFIED_BIRD     Negative            NaN   \n",
       "3  AVA-21-051052  AV001985-21   UNSPECIFIED_BIRD     Negative            NaN   \n",
       "4  AVA-21-051053  AV001985-21   UNSPECIFIED_BIRD     Negative            NaN   \n",
       "\n",
       "          Date Received          COUNTY   COUNTRY        speciesName  \\\n",
       "0  2021-10-05T00:00:00Z  GREATER LONDON   ENGLAND        TUFTED_DUCK   \n",
       "1  2021-10-06T00:00:00Z     TYNE & WEAR   ENGLAND  BLACK-HEADED_GULL   \n",
       "2  2021-10-07T00:00:00Z   ABERDEENSHIRE  SCOTLAND   UNSPECIFIED_BIRD   \n",
       "3  2021-10-07T00:00:00Z   ABERDEENSHIRE  SCOTLAND   UNSPECIFIED_BIRD   \n",
       "4  2021-10-07T00:00:00Z   ABERDEENSHIRE  SCOTLAND   UNSPECIFIED_BIRD   \n",
       "\n",
       "          birdFamily  ... Date PHE informed High Path  Postcode  Comment date  \\\n",
       "0  ducks/geese/swans  ...               NaN       NaN       NaN      NaN  NaN   \n",
       "1        gulls/terns  ...               NaN       NaN       NaN      NaN  NaN   \n",
       "2        unspecified  ...               NaN       NaN       NaN      NaN  NaN   \n",
       "3        unspecified  ...               NaN       NaN       NaN      NaN  NaN   \n",
       "4        unspecified  ...               NaN       NaN       NaN      NaN  NaN   \n",
       "\n",
       "  easting northing latitude longitude osGridRef  \n",
       "0     NaN      NaN      NaN       NaN       NaN  \n",
       "1     NaN      NaN      NaN       NaN       NaN  \n",
       "2     NaN      NaN      NaN       NaN       NaN  \n",
       "3     NaN      NaN      NaN       NaN       NaN  \n",
       "4     NaN      NaN      NaN       NaN       NaN  \n",
       "\n",
       "[5 rows x 33 columns]"
      ]
     },
     "execution_count": 9,
     "metadata": {},
     "output_type": "execute_result"
    }
   ],
   "source": [
    "hpai_wild.head()"
   ]
  },
  {
   "cell_type": "code",
   "execution_count": 10,
   "id": "821f47d7",
   "metadata": {
    "ExecuteTime": {
     "end_time": "2023-07-01T00:11:22.600622Z",
     "start_time": "2023-07-01T00:11:22.567277Z"
    }
   },
   "outputs": [
    {
     "name": "stdout",
     "output_type": "stream",
     "text": [
      "<class 'pandas.core.frame.DataFrame'>\n",
      "RangeIndex: 7356 entries, 0 to 7355\n",
      "Data columns (total 33 columns):\n",
      " #   Column                 Non-Null Count  Dtype  \n",
      "---  ------                 --------------  -----  \n",
      " 0   Bird ID                5273 non-null   object \n",
      " 1   Lab ID                 7247 non-null   object \n",
      " 2   Species Name           5273 non-null   object \n",
      " 3   Final Result           5273 non-null   object \n",
      " 4   Virus Isolated         4650 non-null   object \n",
      " 5   Date Received          5273 non-null   object \n",
      " 6   COUNTY                 4306 non-null   object \n",
      " 7   COUNTRY                4306 non-null   object \n",
      " 8   speciesName            7356 non-null   object \n",
      " 9   birdFamily             7341 non-null   object \n",
      " 10  Order                  7341 non-null   object \n",
      " 11  originalReportedOSRef  4941 non-null   object \n",
      " 12  originalOSEasting      4718 non-null   float64\n",
      " 13  originalOSNorthing     4719 non-null   float64\n",
      " 14  Case Ref Number        2934 non-null   object \n",
      " 15  Index Bird             2934 non-null   object \n",
      " 16  Case Ref Name          2934 non-null   object \n",
      " 17  Town                   2934 non-null   object \n",
      " 18  District               2930 non-null   object \n",
      " 19  County                 2934 non-null   object \n",
      " 20  Country                2934 non-null   object \n",
      " 21  Species                2934 non-null   object \n",
      " 22  Test date              2934 non-null   object \n",
      " 23  Date PHE informed      13 non-null     object \n",
      " 24  High Path              2770 non-null   object \n",
      " 25  Postcode               2919 non-null   object \n",
      " 26  Comment                6 non-null      object \n",
      " 27  date                   2899 non-null   object \n",
      " 28  easting                2927 non-null   float64\n",
      " 29  northing               2927 non-null   float64\n",
      " 30  latitude               2927 non-null   float64\n",
      " 31  longitude              2927 non-null   float64\n",
      " 32  osGridRef              2928 non-null   object \n",
      "dtypes: float64(6), object(27)\n",
      "memory usage: 1.9+ MB\n"
     ]
    }
   ],
   "source": [
    "hpai_wild.info()"
   ]
  },
  {
   "cell_type": "code",
   "execution_count": 11,
   "id": "9e0ddd5c",
   "metadata": {
    "ExecuteTime": {
     "end_time": "2023-07-01T00:11:22.614591Z",
     "start_time": "2023-07-01T00:11:22.603329Z"
    }
   },
   "outputs": [
    {
     "data": {
      "text/html": [
       "<div>\n",
       "<style scoped>\n",
       "    .dataframe tbody tr th:only-of-type {\n",
       "        vertical-align: middle;\n",
       "    }\n",
       "\n",
       "    .dataframe tbody tr th {\n",
       "        vertical-align: top;\n",
       "    }\n",
       "\n",
       "    .dataframe thead th {\n",
       "        text-align: right;\n",
       "    }\n",
       "</style>\n",
       "<table border=\"1\" class=\"dataframe\">\n",
       "  <thead>\n",
       "    <tr style=\"text-align: right;\">\n",
       "      <th></th>\n",
       "      <th>Date Received</th>\n",
       "    </tr>\n",
       "  </thead>\n",
       "  <tbody>\n",
       "    <tr>\n",
       "      <th>0</th>\n",
       "      <td>2021-10-05T00:00:00Z</td>\n",
       "    </tr>\n",
       "    <tr>\n",
       "      <th>1</th>\n",
       "      <td>2021-10-06T00:00:00Z</td>\n",
       "    </tr>\n",
       "    <tr>\n",
       "      <th>2</th>\n",
       "      <td>2021-10-07T00:00:00Z</td>\n",
       "    </tr>\n",
       "    <tr>\n",
       "      <th>3</th>\n",
       "      <td>2021-10-07T00:00:00Z</td>\n",
       "    </tr>\n",
       "    <tr>\n",
       "      <th>4</th>\n",
       "      <td>2021-10-07T00:00:00Z</td>\n",
       "    </tr>\n",
       "    <tr>\n",
       "      <th>...</th>\n",
       "      <td>...</td>\n",
       "    </tr>\n",
       "    <tr>\n",
       "      <th>5268</th>\n",
       "      <td>2022-11-28T00:00:00Z</td>\n",
       "    </tr>\n",
       "    <tr>\n",
       "      <th>5269</th>\n",
       "      <td>2022-11-28T00:00:00Z</td>\n",
       "    </tr>\n",
       "    <tr>\n",
       "      <th>5270</th>\n",
       "      <td>2022-11-28T00:00:00Z</td>\n",
       "    </tr>\n",
       "    <tr>\n",
       "      <th>5271</th>\n",
       "      <td>2022-11-25T00:00:00Z</td>\n",
       "    </tr>\n",
       "    <tr>\n",
       "      <th>5272</th>\n",
       "      <td>2022-11-25T00:00:00Z</td>\n",
       "    </tr>\n",
       "  </tbody>\n",
       "</table>\n",
       "<p>5273 rows × 1 columns</p>\n",
       "</div>"
      ],
      "text/plain": [
       "             Date Received\n",
       "0     2021-10-05T00:00:00Z\n",
       "1     2021-10-06T00:00:00Z\n",
       "2     2021-10-07T00:00:00Z\n",
       "3     2021-10-07T00:00:00Z\n",
       "4     2021-10-07T00:00:00Z\n",
       "...                    ...\n",
       "5268  2022-11-28T00:00:00Z\n",
       "5269  2022-11-28T00:00:00Z\n",
       "5270  2022-11-28T00:00:00Z\n",
       "5271  2022-11-25T00:00:00Z\n",
       "5272  2022-11-25T00:00:00Z\n",
       "\n",
       "[5273 rows x 1 columns]"
      ]
     },
     "execution_count": 11,
     "metadata": {},
     "output_type": "execute_result"
    }
   ],
   "source": [
    "hpai_wild[['Date Received']].dropna()"
   ]
  },
  {
   "cell_type": "markdown",
   "id": "31d678c1",
   "metadata": {},
   "source": [
    "Comments: \n",
    "\n",
    "- dead wild bird reports w/ accompanying HPAI test result \n",
    "- long/lat location of carcass \n",
    "- species of wild bird (are some species more likely to be the cause?)"
   ]
  },
  {
   "cell_type": "markdown",
   "id": "43c78105",
   "metadata": {},
   "source": [
    "# EDA and Data Cleaning"
   ]
  },
  {
   "cell_type": "markdown",
   "id": "a156000a",
   "metadata": {},
   "source": [
    "## Time filtering"
   ]
  },
  {
   "cell_type": "code",
   "execution_count": 12,
   "id": "93af672b",
   "metadata": {
    "ExecuteTime": {
     "end_time": "2023-07-01T00:11:22.835010Z",
     "start_time": "2023-07-01T00:11:22.616998Z"
    }
   },
   "outputs": [
    {
     "data": {
      "text/html": [
       "<div>\n",
       "<style scoped>\n",
       "    .dataframe tbody tr th:only-of-type {\n",
       "        vertical-align: middle;\n",
       "    }\n",
       "\n",
       "    .dataframe tbody tr th {\n",
       "        vertical-align: top;\n",
       "    }\n",
       "\n",
       "    .dataframe thead th {\n",
       "        text-align: right;\n",
       "    }\n",
       "</style>\n",
       "<table border=\"1\" class=\"dataframe\">\n",
       "  <thead>\n",
       "    <tr style=\"text-align: right;\">\n",
       "      <th></th>\n",
       "      <th>reportDate</th>\n",
       "      <th>infDate</th>\n",
       "      <th>confDate</th>\n",
       "      <th>cullStart</th>\n",
       "      <th>cullEnd</th>\n",
       "    </tr>\n",
       "  </thead>\n",
       "  <tbody>\n",
       "    <tr>\n",
       "      <th>535</th>\n",
       "      <td>2021-01-26</td>\n",
       "      <td>2021-01-18</td>\n",
       "      <td>2021-01-27</td>\n",
       "      <td>NaT</td>\n",
       "      <td>NaT</td>\n",
       "    </tr>\n",
       "    <tr>\n",
       "      <th>536</th>\n",
       "      <td>2021-02-05</td>\n",
       "      <td>2021-01-30</td>\n",
       "      <td>2021-02-06</td>\n",
       "      <td>NaT</td>\n",
       "      <td>NaT</td>\n",
       "    </tr>\n",
       "    <tr>\n",
       "      <th>537</th>\n",
       "      <td>2021-02-10</td>\n",
       "      <td>2020-02-03</td>\n",
       "      <td>2021-02-11</td>\n",
       "      <td>NaT</td>\n",
       "      <td>NaT</td>\n",
       "    </tr>\n",
       "    <tr>\n",
       "      <th>538</th>\n",
       "      <td>2021-03-26</td>\n",
       "      <td>2021-03-18</td>\n",
       "      <td>2021-03-27</td>\n",
       "      <td>NaT</td>\n",
       "      <td>NaT</td>\n",
       "    </tr>\n",
       "    <tr>\n",
       "      <th>539</th>\n",
       "      <td>2021-03-30</td>\n",
       "      <td>2021-03-21</td>\n",
       "      <td>2021-04-01</td>\n",
       "      <td>NaT</td>\n",
       "      <td>NaT</td>\n",
       "    </tr>\n",
       "  </tbody>\n",
       "</table>\n",
       "</div>"
      ],
      "text/plain": [
       "    reportDate    infDate   confDate cullStart cullEnd\n",
       "535 2021-01-26 2021-01-18 2021-01-27       NaT     NaT\n",
       "536 2021-02-05 2021-01-30 2021-02-06       NaT     NaT\n",
       "537 2021-02-10 2020-02-03 2021-02-11       NaT     NaT\n",
       "538 2021-03-26 2021-03-18 2021-03-27       NaT     NaT\n",
       "539 2021-03-30 2021-03-21 2021-04-01       NaT     NaT"
      ]
     },
     "execution_count": 12,
     "metadata": {},
     "output_type": "execute_result"
    }
   ],
   "source": [
    "# Time variables for hpai_main:\n",
    "# reportDate\n",
    "# infDate\n",
    "# confDate\n",
    "# cullStart\n",
    "# cullEnd\n",
    "\n",
    "hpai_main_dates = hpai_main[['reportDate', 'infDate',\n",
    "                                                                                      'confDate', 'cullStart', 'cullEnd']].apply(lambda x: pd.to_datetime(x, format='%d/%m/%Y'), axis=1)\n",
    "hpai_main_dates[['reportDate', 'infDate', 'confDate', 'cullStart', 'cullEnd']].tail()"
   ]
  },
  {
   "cell_type": "code",
   "execution_count": 13,
   "id": "35c7ac27",
   "metadata": {
    "ExecuteTime": {
     "end_time": "2023-07-01T00:11:22.851748Z",
     "start_time": "2023-07-01T00:11:22.837278Z"
    }
   },
   "outputs": [],
   "source": [
    "hpai_main_dates[['reportDate', 'infDate', 'confDate', 'cullStart', 'cullEnd']] = hpai_main_dates[['reportDate', 'infDate', 'confDate', 'cullStart', 'cullEnd']].apply(lambda x: pd.to_datetime(x, format='%d/%m/%Y'))"
   ]
  },
  {
   "cell_type": "code",
   "execution_count": 14,
   "id": "29bf80a8",
   "metadata": {
    "ExecuteTime": {
     "end_time": "2023-07-01T00:11:23.198161Z",
     "start_time": "2023-07-01T00:11:22.853283Z"
    }
   },
   "outputs": [
    {
     "data": {
      "text/plain": [
       "<AxesSubplot:xlabel='reportDate', ylabel='Count'>"
      ]
     },
     "execution_count": 14,
     "metadata": {},
     "output_type": "execute_result"
    },
    {
     "data": {
      "image/png": "[encoded data removed]",
      "text/plain": [
       "<Figure size 1500x1000 with 1 Axes>"
      ]
     },
     "metadata": {},
     "output_type": "display_data"
    }
   ],
   "source": [
    "sns.histplot(data = hpai_main_dates, x = 'reportDate')"
   ]
  },
  {
   "cell_type": "code",
   "execution_count": 15,
   "id": "c46a51be",
   "metadata": {
    "ExecuteTime": {
     "end_time": "2023-07-01T00:11:23.208192Z",
     "start_time": "2023-07-01T00:11:23.201176Z"
    }
   },
   "outputs": [],
   "source": [
    "# most cases are in 2020 onwards so we filter out the 2017 wave \n",
    "hpai_main_dates = hpai_main_dates[hpai_main_dates.reportDate >= datetime.datetime(2020,1, 1, 0,0,0)]"
   ]
  },
  {
   "cell_type": "code",
   "execution_count": 16,
   "id": "5ed69c0a",
   "metadata": {
    "ExecuteTime": {
     "end_time": "2023-07-01T00:11:28.068798Z",
     "start_time": "2023-07-01T00:11:23.211620Z"
    }
   },
   "outputs": [],
   "source": [
    "# Time variables for hpai_wild:\n",
    "# Date Received\n",
    "# Test date\n",
    "# Date PHE informed\n",
    "\n",
    "hpai_wild[['Date Received', 'Test date', 'Date PHE informed']] = hpai_wild[['Date Received', 'Test date', 'Date PHE informed']].apply(\n",
    "    lambda x: pd.to_datetime(x, infer_datetime_format=True), axis=1)"
   ]
  },
  {
   "cell_type": "markdown",
   "id": "ae2e6709",
   "metadata": {},
   "source": [
    "## Geopandas attempts"
   ]
  },
  {
   "cell_type": "code",
   "execution_count": 17,
   "id": "74192076",
   "metadata": {
    "ExecuteTime": {
     "end_time": "2023-07-01T00:11:28.505148Z",
     "start_time": "2023-07-01T00:11:28.071936Z"
    }
   },
   "outputs": [
    {
     "data": {
      "text/plain": [
       "<AxesSubplot:xlabel='Long', ylabel='Lat'>"
      ]
     },
     "execution_count": 17,
     "metadata": {},
     "output_type": "execute_result"
    },
    {
     "data": {
      "image/png": "[encoded data removed]",
      "text/plain": [
       "<Figure size 1500x1000 with 1 Axes>"
      ]
     },
     "metadata": {},
     "output_type": "display_data"
    }
   ],
   "source": [
    "sns.scatterplot(data=hpai_main, x = 'Long', y = 'Lat', style = 'region', hue='premisesType')"
   ]
  },
  {
   "cell_type": "code",
   "execution_count": 18,
   "id": "6507e735",
   "metadata": {
    "ExecuteTime": {
     "end_time": "2023-07-01T00:11:28.767279Z",
     "start_time": "2023-07-01T00:11:28.507092Z"
    }
   },
   "outputs": [
    {
     "data": {
      "text/plain": [
       "<AxesSubplot:xlabel='easting', ylabel='northing'>"
      ]
     },
     "execution_count": 18,
     "metadata": {},
     "output_type": "execute_result"
    },
    {
     "data": {
      "image/png": "[encoded data removed]",
      "text/plain": [
       "<Figure size 1500x1000 with 1 Axes>"
      ]
     },
     "metadata": {},
     "output_type": "display_data"
    }
   ],
   "source": [
    "sns.scatterplot(data=hpai_wild, x = 'easting', y = 'northing', hue='Final Result')"
   ]
  },
  {
   "cell_type": "code",
   "execution_count": 19,
   "id": "69fc0d90",
   "metadata": {
    "ExecuteTime": {
     "end_time": "2023-07-01T00:11:28.790044Z",
     "start_time": "2023-07-01T00:11:28.769159Z"
    }
   },
   "outputs": [],
   "source": [
    "geo_hpai_main = geopandas.GeoDataFrame(\n",
    "    hpai_main, geometry=geopandas.points_from_xy(hpai_main.Long, hpai_main.Lat))"
   ]
  },
  {
   "cell_type": "code",
   "execution_count": 20,
   "id": "046826cb",
   "metadata": {
    "ExecuteTime": {
     "end_time": "2023-07-01T00:11:28.975763Z",
     "start_time": "2023-07-01T00:11:28.792161Z"
    }
   },
   "outputs": [],
   "source": [
    "geo_hpai_wild = geopandas.GeoDataFrame(\n",
    "    hpai_wild, geometry=geopandas.points_from_xy(hpai_wild.longitude, hpai_wild.latitude))"
   ]
  },
  {
   "cell_type": "code",
   "execution_count": 21,
   "id": "21a3ff25",
   "metadata": {
    "ExecuteTime": {
     "end_time": "2023-07-01T00:11:30.470873Z",
     "start_time": "2023-07-01T00:11:28.977772Z"
    },
    "scrolled": false
   },
   "outputs": [
    {
     "data": {
      "image/png": "[encoded data removed]",
      "text/plain": [
       "<Figure size 1500x1000 with 1 Axes>"
      ]
     },
     "metadata": {},
     "output_type": "display_data"
    }
   ],
   "source": [
    "world = geopandas.read_file(geopandas.datasets.get_path('naturalearth_lowres'))\n",
    "\n",
    "\n",
    "# restrict to UK.\n",
    "ax = world[world.name == 'United Kingdom'].plot(\n",
    "    color='white', edgecolor='black')\n",
    "\n",
    "# plot our ``GeoDataFrame``.\n",
    "geo_hpai_wild[geo_hpai_wild['Final Result'] == 'Positive'].plot(\n",
    "    ax=ax, color='red', alpha=0.5, label='Wild bird Infected',  marker='x')\n",
    "geo_hpai_wild[geo_hpai_wild['Final Result'] != 'Positive'].plot(\n",
    "    ax=ax, color='green', alpha=0.3, label='Wild bird *Not* Infected',  marker='.')\n",
    "geo_hpai_main.plot(ax=ax, color='blue', marker='s',\n",
    "                   label='Poultry Farms', alpha=0.5)\n",
    "\n",
    "plt.title('Wild bird deaths in relation to Poultry Farms in the UK')\n",
    "plt.xlabel('Longitude')\n",
    "plt.ylabel('Latitude')\n",
    "plt.legend(loc=\"upper left\")\n",
    "plt.show()"
   ]
  },
  {
   "cell_type": "markdown",
   "id": "da346ee6",
   "metadata": {},
   "source": [
    "# Extracting modeling data \n",
    "\n",
    "Proposed model: SEINR "
   ]
  },
  {
   "cell_type": "code",
   "execution_count": 22,
   "id": "857f414b",
   "metadata": {
    "ExecuteTime": {
     "end_time": "2023-07-01T00:11:30.651350Z",
     "start_time": "2023-07-01T00:11:30.473522Z"
    }
   },
   "outputs": [],
   "source": [
    "# spatial data - farm level\n",
    "hpai_poultry[['Location Id', 'Easting', 'Northing']].to_csv('data_files/farm_locations.csv')"
   ]
  },
  {
   "cell_type": "code",
   "execution_count": 23,
   "id": "d37bb465",
   "metadata": {
    "ExecuteTime": {
     "end_time": "2023-07-01T00:11:30.668447Z",
     "start_time": "2023-07-01T00:11:30.653747Z"
    }
   },
   "outputs": [],
   "source": [
    "# time data - case level (will not have every farm infected)\n",
    "hpai_main_dates.to_csv('data_files/hpai_temporal_data.csv')"
   ]
  },
  {
   "cell_type": "code",
   "execution_count": 24,
   "id": "9d662a26",
   "metadata": {
    "ExecuteTime": {
     "end_time": "2023-07-01T00:11:30.683451Z",
     "start_time": "2023-07-01T00:11:30.670839Z"
    }
   },
   "outputs": [
    {
     "data": {
      "text/html": [
       "<div>\n",
       "<style scoped>\n",
       "    .dataframe tbody tr th:only-of-type {\n",
       "        vertical-align: middle;\n",
       "    }\n",
       "\n",
       "    .dataframe tbody tr th {\n",
       "        vertical-align: top;\n",
       "    }\n",
       "\n",
       "    .dataframe thead th {\n",
       "        text-align: right;\n",
       "    }\n",
       "</style>\n",
       "<table border=\"1\" class=\"dataframe\">\n",
       "  <thead>\n",
       "    <tr style=\"text-align: right;\">\n",
       "      <th></th>\n",
       "      <th>approxNumBirds</th>\n",
       "      <th>Season</th>\n",
       "      <th>speciesPresent</th>\n",
       "      <th>businessType</th>\n",
       "      <th>premisesType</th>\n",
       "    </tr>\n",
       "  </thead>\n",
       "  <tbody>\n",
       "    <tr>\n",
       "      <th>0</th>\n",
       "      <td>80000</td>\n",
       "      <td>NaN</td>\n",
       "      <td>NaN</td>\n",
       "      <td>NaN</td>\n",
       "      <td>Ducks</td>\n",
       "    </tr>\n",
       "    <tr>\n",
       "      <th>1</th>\n",
       "      <td>3342</td>\n",
       "      <td>NaN</td>\n",
       "      <td>NaN</td>\n",
       "      <td>NaN</td>\n",
       "      <td>Turkeys</td>\n",
       "    </tr>\n",
       "    <tr>\n",
       "      <th>2</th>\n",
       "      <td>400</td>\n",
       "      <td>NaN</td>\n",
       "      <td>NaN</td>\n",
       "      <td>NaN</td>\n",
       "      <td>Chickens</td>\n",
       "    </tr>\n",
       "    <tr>\n",
       "      <th>3</th>\n",
       "      <td>32000</td>\n",
       "      <td>2022.0</td>\n",
       "      <td>Chickens</td>\n",
       "      <td>Commercial</td>\n",
       "      <td>Chickens</td>\n",
       "    </tr>\n",
       "    <tr>\n",
       "      <th>4</th>\n",
       "      <td>4</td>\n",
       "      <td>NaN</td>\n",
       "      <td>NaN</td>\n",
       "      <td>NaN</td>\n",
       "      <td>Chickens</td>\n",
       "    </tr>\n",
       "    <tr>\n",
       "      <th>...</th>\n",
       "      <td>...</td>\n",
       "      <td>...</td>\n",
       "      <td>...</td>\n",
       "      <td>...</td>\n",
       "      <td>...</td>\n",
       "    </tr>\n",
       "    <tr>\n",
       "      <th>535</th>\n",
       "      <td>NaN</td>\n",
       "      <td>2020.0</td>\n",
       "      <td>Game Birds</td>\n",
       "      <td>Commercial</td>\n",
       "      <td>Game Birds</td>\n",
       "    </tr>\n",
       "    <tr>\n",
       "      <th>536</th>\n",
       "      <td>NaN</td>\n",
       "      <td>2020.0</td>\n",
       "      <td>Chickens</td>\n",
       "      <td>Commercial</td>\n",
       "      <td>Chickens</td>\n",
       "    </tr>\n",
       "    <tr>\n",
       "      <th>537</th>\n",
       "      <td>NaN</td>\n",
       "      <td>2020.0</td>\n",
       "      <td>Game Birds</td>\n",
       "      <td>Commercial</td>\n",
       "      <td>Game Birds</td>\n",
       "    </tr>\n",
       "    <tr>\n",
       "      <th>538</th>\n",
       "      <td>NaN</td>\n",
       "      <td>2020.0</td>\n",
       "      <td>Chickens</td>\n",
       "      <td>Commercial</td>\n",
       "      <td>Chickens</td>\n",
       "    </tr>\n",
       "    <tr>\n",
       "      <th>539</th>\n",
       "      <td>NaN</td>\n",
       "      <td>2020.0</td>\n",
       "      <td>Falcons</td>\n",
       "      <td>Captive Birds</td>\n",
       "      <td>Falcons</td>\n",
       "    </tr>\n",
       "  </tbody>\n",
       "</table>\n",
       "<p>540 rows × 5 columns</p>\n",
       "</div>"
      ],
      "text/plain": [
       "    approxNumBirds  Season speciesPresent   businessType premisesType\n",
       "0            80000     NaN            NaN            NaN        Ducks\n",
       "1             3342     NaN            NaN            NaN      Turkeys\n",
       "2              400     NaN            NaN            NaN     Chickens\n",
       "3            32000  2022.0       Chickens     Commercial     Chickens\n",
       "4                4     NaN            NaN            NaN     Chickens\n",
       "..             ...     ...            ...            ...          ...\n",
       "535            NaN  2020.0     Game Birds     Commercial   Game Birds\n",
       "536            NaN  2020.0       Chickens     Commercial     Chickens\n",
       "537            NaN  2020.0     Game Birds     Commercial   Game Birds\n",
       "538            NaN  2020.0       Chickens     Commercial     Chickens\n",
       "539            NaN  2020.0        Falcons  Captive Birds      Falcons\n",
       "\n",
       "[540 rows x 5 columns]"
      ]
     },
     "execution_count": 24,
     "metadata": {},
     "output_type": "execute_result"
    }
   ],
   "source": [
    "# farm characteristics - from the hpai_main dataset so they align with the hpai_main_dates\n",
    "# characteristics available for every infected/case but not for every farm (i.e. occults)! Harder to simulate\n",
    "hpai_main[['approxNumBirds', 'Season', 'speciesPresent', 'businessType', 'premisesType']]\n",
    "\n",
    "# any derivative data sets from the main file can be matched by index, o/w need to match by location? "
   ]
  },
  {
   "cell_type": "code",
   "execution_count": 25,
   "id": "4fac9a56",
   "metadata": {
    "ExecuteTime": {
     "end_time": "2023-07-01T00:11:30.697384Z",
     "start_time": "2023-07-01T00:11:30.686275Z"
    }
   },
   "outputs": [
    {
     "name": "stdout",
     "output_type": "stream",
     "text": [
      "<class 'pandas.core.frame.DataFrame'>\n",
      "RangeIndex: 540 entries, 0 to 539\n",
      "Data columns (total 33 columns):\n",
      " #   Column          Non-Null Count  Dtype   \n",
      "---  ------          --------------  -----   \n",
      " 0   dprNumber       504 non-null    object  \n",
      " 1   aivNumber       324 non-null    object  \n",
      " 2   reportDate      540 non-null    object  \n",
      " 3   Status          504 non-null    object  \n",
      " 4   NDI1Type        504 non-null    object  \n",
      " 5   Resolution      495 non-null    object  \n",
      " 6   Stock Details   499 non-null    object  \n",
      " 7   CPH             369 non-null    object  \n",
      " 8   Country         503 non-null    object  \n",
      " 9   dprID           504 non-null    object  \n",
      " 10  aivID           324 non-null    object  \n",
      " 11  ipNumber        134 non-null    float64 \n",
      " 12  region          191 non-null    object  \n",
      " 13  approxNumBirds  190 non-null    object  \n",
      " 14  Year            324 non-null    float64 \n",
      " 15  Season          324 non-null    float64 \n",
      " 16  Subtype         249 non-null    object  \n",
      " 17  infDate         320 non-null    object  \n",
      " 18  confDate        324 non-null    object  \n",
      " 19  speciesPresent  323 non-null    object  \n",
      " 20  businessType    324 non-null    object  \n",
      " 21  Sector          255 non-null    object  \n",
      " 22  PZ/SZ presence  0 non-null      float64 \n",
      " 23  Lat             324 non-null    float64 \n",
      " 24  Long            324 non-null    float64 \n",
      " 25  Genomics        235 non-null    object  \n",
      " 26  cullStart       181 non-null    object  \n",
      " 27  cullEnd         110 non-null    object  \n",
      " 28  dispComplete    45 non-null     object  \n",
      " 29  cdEffective     74 non-null     object  \n",
      " 30  County          540 non-null    object  \n",
      " 31  premisesType    525 non-null    object  \n",
      " 32  geometry        540 non-null    geometry\n",
      "dtypes: float64(6), geometry(1), object(26)\n",
      "memory usage: 139.3+ KB\n"
     ]
    }
   ],
   "source": [
    "hpai_main.info()"
   ]
  },
  {
   "cell_type": "markdown",
   "id": "0fafc76e",
   "metadata": {},
   "source": [
    "# Simulation "
   ]
  },
  {
   "cell_type": "code",
   "execution_count": 26,
   "id": "5393a75e",
   "metadata": {
    "ExecuteTime": {
     "end_time": "2023-07-01T00:11:30.703279Z",
     "start_time": "2023-07-01T00:11:30.700387Z"
    }
   },
   "outputs": [],
   "source": [
    "import sys \n",
    "\n",
    "sys.path.append('/Users/alinmorariu/Documents/Github/ContinuousTimeIndividualLevelEpidemicModels')"
   ]
  },
  {
   "cell_type": "code",
   "execution_count": 27,
   "id": "0f2082be",
   "metadata": {
    "ExecuteTime": {
     "end_time": "2023-07-01T00:11:30.905446Z",
     "start_time": "2023-07-01T00:11:30.705654Z"
    }
   },
   "outputs": [
    {
     "name": "stderr",
     "output_type": "stream",
     "text": [
      "2023-06-30 20:11:30.723250: I tensorflow/core/platform/cpu_feature_guard.cc:151] This TensorFlow binary is optimized with oneAPI Deep Neural Network Library (oneDNN) to use the following CPU instructions in performance-critical operations:  AVX2 FMA\n",
      "To enable them in other operations, rebuild TensorFlow with the appropriate compiler flags.\n"
     ]
    }
   ],
   "source": [
    "import ContinousTimeStateTransitionModel as epi_sim"
   ]
  },
  {
   "cell_type": "markdown",
   "id": "d1f06071",
   "metadata": {},
   "source": [
    "## Fake data "
   ]
  },
  {
   "cell_type": "code",
   "execution_count": 28,
   "id": "e95b0eeb",
   "metadata": {
    "ExecuteTime": {
     "end_time": "2023-07-01T00:11:30.927705Z",
     "start_time": "2023-07-01T00:11:30.918292Z"
    }
   },
   "outputs": [
    {
     "data": {
      "text/html": [
       "<div>\n",
       "<style scoped>\n",
       "    .dataframe tbody tr th:only-of-type {\n",
       "        vertical-align: middle;\n",
       "    }\n",
       "\n",
       "    .dataframe tbody tr th {\n",
       "        vertical-align: top;\n",
       "    }\n",
       "\n",
       "    .dataframe thead th {\n",
       "        text-align: right;\n",
       "    }\n",
       "</style>\n",
       "<table border=\"1\" class=\"dataframe\">\n",
       "  <thead>\n",
       "    <tr style=\"text-align: right;\">\n",
       "      <th></th>\n",
       "      <th>Long</th>\n",
       "      <th>Lat</th>\n",
       "    </tr>\n",
       "  </thead>\n",
       "  <tbody>\n",
       "    <tr>\n",
       "      <th>0</th>\n",
       "      <td>489.152364</td>\n",
       "      <td>99.924608</td>\n",
       "    </tr>\n",
       "    <tr>\n",
       "      <th>1</th>\n",
       "      <td>744.422926</td>\n",
       "      <td>164.224133</td>\n",
       "    </tr>\n",
       "    <tr>\n",
       "      <th>2</th>\n",
       "      <td>29.352368</td>\n",
       "      <td>350.934199</td>\n",
       "    </tr>\n",
       "    <tr>\n",
       "      <th>3</th>\n",
       "      <td>247.268800</td>\n",
       "      <td>952.144133</td>\n",
       "    </tr>\n",
       "    <tr>\n",
       "      <th>4</th>\n",
       "      <td>948.006707</td>\n",
       "      <td>304.171672</td>\n",
       "    </tr>\n",
       "  </tbody>\n",
       "</table>\n",
       "</div>"
      ],
      "text/plain": [
       "         Long         Lat\n",
       "0  489.152364   99.924608\n",
       "1  744.422926  164.224133\n",
       "2   29.352368  350.934199\n",
       "3  247.268800  952.144133\n",
       "4  948.006707  304.171672"
      ]
     },
     "execution_count": 28,
     "metadata": {},
     "output_type": "execute_result"
    }
   ],
   "source": [
    "# location data\n",
    "num_farms = 1000\n",
    "np.random.seed(1356315)\n",
    "location_data = np.random.uniform(low = 0.0, high = 1000.0, size = (num_farms,2))\n",
    "location_data = pd.DataFrame(location_data, columns= ('Long', 'Lat'))\n",
    "location_data.head()"
   ]
  },
  {
   "cell_type": "code",
   "execution_count": 29,
   "id": "de04a885",
   "metadata": {
    "ExecuteTime": {
     "end_time": "2023-07-01T00:11:31.109837Z",
     "start_time": "2023-07-01T00:11:30.930336Z"
    }
   },
   "outputs": [
    {
     "data": {
      "text/plain": [
       "<AxesSubplot:xlabel='Long', ylabel='Lat'>"
      ]
     },
     "execution_count": 29,
     "metadata": {},
     "output_type": "execute_result"
    },
    {
     "data": {
      "image/png": "[encoded data removed]",
      "text/plain": [
       "<Figure size 1500x1000 with 1 Axes>"
      ]
     },
     "metadata": {},
     "output_type": "display_data"
    }
   ],
   "source": [
    "sns.scatterplot(data=location_data, x='Long', y='Lat')"
   ]
  },
  {
   "cell_type": "code",
   "execution_count": 30,
   "id": "7aa5a743",
   "metadata": {
    "ExecuteTime": {
     "end_time": "2023-07-01T00:11:31.115414Z",
     "start_time": "2023-07-01T00:11:31.111909Z"
    }
   },
   "outputs": [],
   "source": [
    "# farm type data \n",
    "farm_types = ['chicken', 'other']\n",
    "np.random.seed(1356315)\n"
   ]
  },
  {
   "cell_type": "code",
   "execution_count": 31,
   "id": "f0df77c4",
   "metadata": {
    "ExecuteTime": {
     "end_time": "2023-07-01T00:11:31.121590Z",
     "start_time": "2023-07-01T00:11:31.117643Z"
    }
   },
   "outputs": [],
   "source": [
    "# Create hazard fn \n",
    "DTYPE = tf.float32\n",
    "def pairwise_distance(farm_locations_data):\n",
    "    \"\"\"Compute pairwise distance matrix between farms\n",
    "\n",
    "    Args:\n",
    "        farm_locations_data (DataFrame): Lat-Long coordinates of farms\n",
    "\n",
    "    Returns:\n",
    "        tensor: tensor of Euclidean distances between entities\n",
    "                Dim = len(farm_location_data)\n",
    "    \"\"\"\n",
    "    return tf.convert_to_tensor(\n",
    "        sp.spatial.distance.squareform(\n",
    "            sp.spatial.distance.pdist(farm_locations_data)\n",
    "        ),\n",
    "        dtype=DTYPE\n",
    "    )"
   ]
  },
  {
   "cell_type": "code",
   "execution_count": 32,
   "id": "536cd4fd",
   "metadata": {
    "ExecuteTime": {
     "end_time": "2023-07-01T00:11:31.138965Z",
     "start_time": "2023-07-01T00:11:31.124165Z"
    }
   },
   "outputs": [
    {
     "data": {
      "text/plain": [
       "<tf.Tensor: shape=(1000, 1000), dtype=float32, numpy=\n",
       "array([[   0.     ,  263.24417,  523.8529 , ...,  919.12366,  263.98505,\n",
       "         575.8765 ],\n",
       "       [ 263.24417,    0.     ,  739.0444 , ..., 1008.3365 ,  287.13318,\n",
       "         745.43414],\n",
       "       [ 523.8529 ,  739.0444 ,    0.     , ...,  574.65814,  505.1158 ,\n",
       "         166.37543],\n",
       "       ...,\n",
       "       [ 919.12366, 1008.3365 ,  574.65814, ...,    0.     ,  723.28735,\n",
       "         414.94156],\n",
       "       [ 263.98505,  287.13318,  505.1158 , ...,  723.28735,    0.     ,\n",
       "         474.97015],\n",
       "       [ 575.8765 ,  745.43414,  166.37543, ...,  414.94156,  474.97015,\n",
       "           0.     ]], dtype=float32)>"
      ]
     },
     "execution_count": 32,
     "metadata": {},
     "output_type": "execute_result"
    }
   ],
   "source": [
    "# eg. spatial distance\n",
    "pairwise_distance(farm_locations_data= location_data)"
   ]
  },
  {
   "cell_type": "code",
   "execution_count": 33,
   "id": "e11bdf2b",
   "metadata": {
    "ExecuteTime": {
     "end_time": "2023-07-01T00:11:31.166176Z",
     "start_time": "2023-07-01T00:11:31.141461Z"
    }
   },
   "outputs": [
    {
     "data": {
      "text/plain": [
       "array(['2023-01-16', '2023-01-25', '2023-01-20', '2023-01-19',\n",
       "       '2023-01-20', '2023-01-18', '2023-01-18', '2023-01-23',\n",
       "       '2023-01-15', '2023-01-07', '2023-01-16', '2023-01-10',\n",
       "       '2023-01-18', '2023-01-15', '2023-01-14', '2023-01-23',\n",
       "       '2023-01-17', '2023-01-18', '2023-01-10', '2023-01-19',\n",
       "       '2023-01-25', '2023-01-09', '2023-01-14', '2023-01-15',\n",
       "       '2023-01-10', '2023-01-20', '2023-01-11', '2023-01-25',\n",
       "       '2023-01-08', '2023-01-18', '2023-01-14', '2023-01-26',\n",
       "       '2023-01-14', '2023-01-08', '2023-01-18', '2023-01-25',\n",
       "       '2023-01-08', '2023-01-12', '2023-01-09', '2023-01-24',\n",
       "       '2023-01-24', '2023-01-19', '2023-01-12', '2023-01-22',\n",
       "       '2023-01-25', '2023-01-22', '2023-01-15', '2023-01-15',\n",
       "       '2023-01-09', '2023-01-20', '2023-01-20', '2023-01-18',\n",
       "       '2023-01-09', '2023-01-26', '2023-01-24', '2023-01-11',\n",
       "       '2023-01-08', '2023-01-14', '2023-01-23', '2023-01-24',\n",
       "       '2023-01-17', '2023-01-19', '2023-01-12', '2023-01-26',\n",
       "       '2023-01-20', '2023-01-18', '2023-01-23', '2023-01-09',\n",
       "       '2023-01-22', '2023-01-15', '2023-01-21', '2023-01-24',\n",
       "       '2023-01-21', '2023-01-26', '2023-01-26', '2023-01-10',\n",
       "       '2023-01-10', '2023-01-25', '2023-01-09', '2023-01-22',\n",
       "       '2023-01-22', '2023-01-21', '2023-01-25', '2023-01-15',\n",
       "       '2023-01-09', '2023-01-17', '2023-01-16', '2023-01-20',\n",
       "       '2023-01-11', '2023-01-21', '2023-01-15', '2023-01-12',\n",
       "       '2023-01-12', '2023-01-23', '2023-01-18', '2023-01-10',\n",
       "       '2023-01-10', '2023-01-23', '2023-01-09', '2023-01-25',\n",
       "       '2023-01-26', '2023-01-16', '2023-01-16', '2023-01-15',\n",
       "       '2023-01-10', '2023-01-19', '2023-01-13', '2023-01-23',\n",
       "       '2023-01-14', '2023-01-24', '2023-01-07', '2023-01-17',\n",
       "       '2023-01-21', '2023-01-21', '2023-01-21', '2023-01-26',\n",
       "       '2023-01-17', '2023-01-23', '2023-01-19', '2023-01-15',\n",
       "       '2023-01-10', '2023-01-19', '2023-01-18', '2023-01-18',\n",
       "       '2023-01-18', '2023-01-16', '2023-01-10', '2023-01-11',\n",
       "       '2023-01-13', '2023-01-21', '2023-01-11', '2023-01-17',\n",
       "       '2023-01-15', '2023-01-19', '2023-01-16', '2023-01-14',\n",
       "       '2023-01-17', '2023-01-20', '2023-01-14', '2023-01-25',\n",
       "       '2023-01-09', '2023-01-24', '2023-01-17', '2023-01-14',\n",
       "       '2023-01-18', '2023-01-16', '2023-01-14', '2023-01-12',\n",
       "       '2023-01-18', '2023-01-23', '2023-01-18', '2023-01-08',\n",
       "       '2023-01-23', '2023-01-08', '2023-01-08', '2023-01-26',\n",
       "       '2023-01-18', '2023-01-07', '2023-01-07', '2023-01-20',\n",
       "       '2023-01-22', '2023-01-14', '2023-01-10', '2023-01-20',\n",
       "       '2023-01-20', '2023-01-20', '2023-01-08', '2023-01-23',\n",
       "       '2023-01-24', '2023-01-12', '2023-01-25', '2023-01-13',\n",
       "       '2023-01-14', '2023-01-23', '2023-01-16', '2023-01-23',\n",
       "       '2023-01-19', '2023-01-23', '2023-01-17', '2023-01-20',\n",
       "       '2023-01-08', '2023-01-16', '2023-01-24', '2023-01-10',\n",
       "       '2023-01-19', '2023-01-13', '2023-01-10', '2023-01-14',\n",
       "       '2023-01-24', '2023-01-09', '2023-01-14', '2023-01-25',\n",
       "       '2023-01-07', '2023-01-18', '2023-01-07', '2023-01-08',\n",
       "       '2023-01-17', '2023-01-19', '2023-01-26', '2023-01-10',\n",
       "       '2023-01-16', '2023-01-17', '2023-01-09', '2023-01-09',\n",
       "       '2023-01-12', '2023-01-24', '2023-01-18', '2023-01-12',\n",
       "       '2023-01-18', '2023-01-07', '2023-01-26', '2023-01-21',\n",
       "       '2023-01-23', '2023-01-22', '2023-01-14', '2023-01-22',\n",
       "       '2023-01-10', '2023-01-12', '2023-01-18', '2023-01-24',\n",
       "       '2023-01-18', '2023-01-07', '2023-01-07', '2023-01-26',\n",
       "       '2023-01-21', '2023-01-13', '2023-01-17', '2023-01-12',\n",
       "       '2023-01-16', '2023-01-10', '2023-01-24', '2023-01-11',\n",
       "       '2023-01-20', '2023-01-24', '2023-01-11', '2023-01-15',\n",
       "       '2023-01-26', '2023-01-17', '2023-01-10', '2023-01-16',\n",
       "       '2023-01-19', '2023-01-09', '2023-01-13', '2023-01-24',\n",
       "       '2023-01-26', '2023-01-07', '2023-01-15', '2023-01-23',\n",
       "       '2023-01-13', '2023-01-13', '2023-01-18', '2023-01-11',\n",
       "       '2023-01-23', '2023-01-24', '2023-01-21', '2023-01-18',\n",
       "       '2023-01-19', '2023-01-23', '2023-01-24', '2023-01-07',\n",
       "       '2023-01-09', '2023-01-18', '2023-01-17', '2023-01-17',\n",
       "       '2023-01-21', '2023-01-22', '2023-01-22', '2023-01-24',\n",
       "       '2023-01-22', '2023-01-15', '2023-01-17', '2023-01-08',\n",
       "       '2023-01-08', '2023-01-22', '2023-01-16', '2023-01-23',\n",
       "       '2023-01-12', '2023-01-08', '2023-01-12', '2023-01-23',\n",
       "       '2023-01-18', '2023-01-18', '2023-01-21', '2023-01-11',\n",
       "       '2023-01-26', '2023-01-13', '2023-01-19', '2023-01-09',\n",
       "       '2023-01-18', '2023-01-11', '2023-01-17', '2023-01-18',\n",
       "       '2023-01-24', '2023-01-26', '2023-01-07', '2023-01-15',\n",
       "       '2023-01-07', '2023-01-13', '2023-01-09', '2023-01-09',\n",
       "       '2023-01-11', '2023-01-11', '2023-01-13', '2023-01-24',\n",
       "       '2023-01-21', '2023-01-13', '2023-01-12', '2023-01-10',\n",
       "       '2023-01-09', '2023-01-24', '2023-01-24', '2023-01-12',\n",
       "       '2023-01-22', '2023-01-16', '2023-01-24', '2023-01-19',\n",
       "       '2023-01-15', '2023-01-09', '2023-01-11', '2023-01-08',\n",
       "       '2023-01-11', '2023-01-16', '2023-01-24', '2023-01-14',\n",
       "       '2023-01-24', '2023-01-24', '2023-01-16', '2023-01-20',\n",
       "       '2023-01-18', '2023-01-25', '2023-01-26', '2023-01-11',\n",
       "       '2023-01-13', '2023-01-15', '2023-01-19', '2023-01-10',\n",
       "       '2023-01-25', '2023-01-21', '2023-01-14', '2023-01-23',\n",
       "       '2023-01-18', '2023-01-16', '2023-01-08', '2023-01-24',\n",
       "       '2023-01-13', '2023-01-22', '2023-01-11', '2023-01-26',\n",
       "       '2023-01-17', '2023-01-18', '2023-01-21', '2023-01-24',\n",
       "       '2023-01-14', '2023-01-16', '2023-01-24', '2023-01-14',\n",
       "       '2023-01-13', '2023-01-13', '2023-01-10', '2023-01-17',\n",
       "       '2023-01-10', '2023-01-12', '2023-01-22', '2023-01-09',\n",
       "       '2023-01-09', '2023-01-22', '2023-01-26', '2023-01-16',\n",
       "       '2023-01-21', '2023-01-09', '2023-01-21', '2023-01-11',\n",
       "       '2023-01-07', '2023-01-25', '2023-01-14', '2023-01-09',\n",
       "       '2023-01-25', '2023-01-24', '2023-01-26', '2023-01-26',\n",
       "       '2023-01-22', '2023-01-18', '2023-01-11', '2023-01-10',\n",
       "       '2023-01-22', '2023-01-10', '2023-01-22', '2023-01-16',\n",
       "       '2023-01-10', '2023-01-19', '2023-01-22', '2023-01-15',\n",
       "       '2023-01-21', '2023-01-25', '2023-01-19', '2023-01-18',\n",
       "       '2023-01-19', '2023-01-12', '2023-01-19', '2023-01-14',\n",
       "       '2023-01-07', '2023-01-10', '2023-01-15', '2023-01-25',\n",
       "       '2023-01-12', '2023-01-10', '2023-01-13', '2023-01-23',\n",
       "       '2023-01-10', '2023-01-25', '2023-01-25', '2023-01-24',\n",
       "       '2023-01-19', '2023-01-13', '2023-01-17', '2023-01-09',\n",
       "       '2023-01-07', '2023-01-26', '2023-01-07', '2023-01-12',\n",
       "       '2023-01-26', '2023-01-19', '2023-01-24', '2023-01-26',\n",
       "       '2023-01-21', '2023-01-19', '2023-01-15', '2023-01-11',\n",
       "       '2023-01-25', '2023-01-18', '2023-01-07', '2023-01-20',\n",
       "       '2023-01-17', '2023-01-17', '2023-01-21', '2023-01-23',\n",
       "       '2023-01-07', '2023-01-14', '2023-01-22', '2023-01-22',\n",
       "       '2023-01-08', '2023-01-10', '2023-01-07', '2023-01-22',\n",
       "       '2023-01-26', '2023-01-17', '2023-01-17', '2023-01-18',\n",
       "       '2023-01-21', '2023-01-26', '2023-01-11', '2023-01-18',\n",
       "       '2023-01-14', '2023-01-21', '2023-01-08', '2023-01-20',\n",
       "       '2023-01-17', '2023-01-24', '2023-01-26', '2023-01-21',\n",
       "       '2023-01-21', '2023-01-08', '2023-01-17', '2023-01-24',\n",
       "       '2023-01-10', '2023-01-24', '2023-01-08', '2023-01-21',\n",
       "       '2023-01-25', '2023-01-08', '2023-01-07', '2023-01-15',\n",
       "       '2023-01-17', '2023-01-11', '2023-01-07', '2023-01-25',\n",
       "       '2023-01-13', '2023-01-22', '2023-01-14', '2023-01-17',\n",
       "       '2023-01-15', '2023-01-16', '2023-01-24', '2023-01-11',\n",
       "       '2023-01-18', '2023-01-12', '2023-01-13', '2023-01-11',\n",
       "       '2023-01-23', '2023-01-21', '2023-01-23', '2023-01-07',\n",
       "       '2023-01-11', '2023-01-23', '2023-01-19', '2023-01-20',\n",
       "       '2023-01-14', '2023-01-22', '2023-01-10', '2023-01-08',\n",
       "       '2023-01-12', '2023-01-25', '2023-01-10', '2023-01-15',\n",
       "       '2023-01-15', '2023-01-25', '2023-01-24', '2023-01-11',\n",
       "       '2023-01-12', '2023-01-20', '2023-01-24', '2023-01-17',\n",
       "       '2023-01-09', '2023-01-17', '2023-01-16', '2023-01-19',\n",
       "       '2023-01-12', '2023-01-24', '2023-01-21', '2023-01-16',\n",
       "       '2023-01-18', '2023-01-21', '2023-01-23', '2023-01-25',\n",
       "       '2023-01-07', '2023-01-10', '2023-01-13', '2023-01-08',\n",
       "       '2023-01-10', '2023-01-12', '2023-01-25', '2023-01-26',\n",
       "       '2023-01-10', '2023-01-23', '2023-01-11', '2023-01-09',\n",
       "       '2023-01-20', '2023-01-19', '2023-01-14', '2023-01-24',\n",
       "       '2023-01-10', '2023-01-26', '2023-01-19', '2023-01-12',\n",
       "       '2023-01-15', '2023-01-12', '2023-01-18', '2023-01-14',\n",
       "       '2023-01-25', '2023-01-21', '2023-01-15', '2023-01-11',\n",
       "       '2023-01-25', '2023-01-15', '2023-01-22', '2023-01-10',\n",
       "       '2023-01-19', '2023-01-23', '2023-01-23', '2023-01-15',\n",
       "       '2023-01-24', '2023-01-20', '2023-01-26', '2023-01-15',\n",
       "       '2023-01-19', '2023-01-23', '2023-01-07', '2023-01-23',\n",
       "       '2023-01-09', '2023-01-13', '2023-01-21', '2023-01-16',\n",
       "       '2023-01-20', '2023-01-26', '2023-01-22', '2023-01-19',\n",
       "       '2023-01-14', '2023-01-10', '2023-01-19', '2023-01-09',\n",
       "       '2023-01-16', '2023-01-09', '2023-01-17', '2023-01-09',\n",
       "       '2023-01-22', '2023-01-15', '2023-01-15', '2023-01-15',\n",
       "       '2023-01-22', '2023-01-07', '2023-01-09', '2023-01-25',\n",
       "       '2023-01-22', '2023-01-09', '2023-01-18', '2023-01-26',\n",
       "       '2023-01-19', '2023-01-24', '2023-01-09', '2023-01-10',\n",
       "       '2023-01-10', '2023-01-21', '2023-01-10', '2023-01-10',\n",
       "       '2023-01-18', '2023-01-11', '2023-01-18', '2023-01-17',\n",
       "       '2023-01-13', '2023-01-10', '2023-01-14', '2023-01-08',\n",
       "       '2023-01-18', '2023-01-20', '2023-01-12', '2023-01-18',\n",
       "       '2023-01-15', '2023-01-15', '2023-01-07', '2023-01-07',\n",
       "       '2023-01-19', '2023-01-25', '2023-01-07', '2023-01-12',\n",
       "       '2023-01-24', '2023-01-07', '2023-01-21', '2023-01-19',\n",
       "       '2023-01-15', '2023-01-15', '2023-01-08', '2023-01-10',\n",
       "       '2023-01-21', '2023-01-26', '2023-01-09', '2023-01-13',\n",
       "       '2023-01-25', '2023-01-16', '2023-01-21', '2023-01-20',\n",
       "       '2023-01-16', '2023-01-13', '2023-01-26', '2023-01-07',\n",
       "       '2023-01-10', '2023-01-17', '2023-01-09', '2023-01-13',\n",
       "       '2023-01-23', '2023-01-26', '2023-01-09', '2023-01-08',\n",
       "       '2023-01-25', '2023-01-25', '2023-01-22', '2023-01-09',\n",
       "       '2023-01-17', '2023-01-17', '2023-01-17', '2023-01-11',\n",
       "       '2023-01-16', '2023-01-12', '2023-01-26', '2023-01-25',\n",
       "       '2023-01-18', '2023-01-22', '2023-01-20', '2023-01-11',\n",
       "       '2023-01-25', '2023-01-15', '2023-01-26', '2023-01-20',\n",
       "       '2023-01-16', '2023-01-18', '2023-01-21', '2023-01-17',\n",
       "       '2023-01-08', '2023-01-16', '2023-01-09', '2023-01-24',\n",
       "       '2023-01-15', '2023-01-12', '2023-01-19', '2023-01-23',\n",
       "       '2023-01-20', '2023-01-26', '2023-01-15', '2023-01-08',\n",
       "       '2023-01-11', '2023-01-12', '2023-01-18', '2023-01-10',\n",
       "       '2023-01-24', '2023-01-18', '2023-01-19', '2023-01-10',\n",
       "       '2023-01-16', '2023-01-17', '2023-01-12', '2023-01-24',\n",
       "       '2023-01-22', '2023-01-07', '2023-01-10', '2023-01-08',\n",
       "       '2023-01-09', '2023-01-14', '2023-01-10', '2023-01-20',\n",
       "       '2023-01-22', '2023-01-09', '2023-01-09', '2023-01-21',\n",
       "       '2023-01-23', '2023-01-26', '2023-01-26', '2023-01-14',\n",
       "       '2023-01-09', '2023-01-21', '2023-01-08', '2023-01-24',\n",
       "       '2023-01-20', '2023-01-07', '2023-01-16', '2023-01-09',\n",
       "       '2023-01-16', '2023-01-23', '2023-01-16', '2023-01-20',\n",
       "       '2023-01-12', '2023-01-10', '2023-01-12', '2023-01-17',\n",
       "       '2023-01-17', '2023-01-26', '2023-01-16', '2023-01-19',\n",
       "       '2023-01-07', '2023-01-11', '2023-01-10', '2023-01-22',\n",
       "       '2023-01-10', '2023-01-12', '2023-01-16', '2023-01-25',\n",
       "       '2023-01-16', '2023-01-26', '2023-01-24', '2023-01-17',\n",
       "       '2023-01-17', '2023-01-08', '2023-01-08', '2023-01-26',\n",
       "       '2023-01-13', '2023-01-19', '2023-01-25', '2023-01-22',\n",
       "       '2023-01-19', '2023-01-13', '2023-01-16', '2023-01-18',\n",
       "       '2023-01-24', '2023-01-11', '2023-01-17', '2023-01-09',\n",
       "       '2023-01-10', '2023-01-08', '2023-01-21', '2023-01-24',\n",
       "       '2023-01-11', '2023-01-11', '2023-01-07', '2023-01-13',\n",
       "       '2023-01-18', '2023-01-18', '2023-01-21', '2023-01-24',\n",
       "       '2023-01-15', '2023-01-18', '2023-01-24', '2023-01-13',\n",
       "       '2023-01-26', '2023-01-23', '2023-01-12', '2023-01-23',\n",
       "       '2023-01-10', '2023-01-18', '2023-01-14', '2023-01-20',\n",
       "       '2023-01-18', '2023-01-24', '2023-01-14', '2023-01-16',\n",
       "       '2023-01-21', '2023-01-19', '2023-01-16', '2023-01-22',\n",
       "       '2023-01-11', '2023-01-13', '2023-01-09', '2023-01-09',\n",
       "       '2023-01-17', '2023-01-14', '2023-01-09', '2023-01-18',\n",
       "       '2023-01-10', '2023-01-18', '2023-01-26', '2023-01-21',\n",
       "       '2023-01-20', '2023-01-20', '2023-01-10', '2023-01-12',\n",
       "       '2023-01-16', '2023-01-21', '2023-01-13', '2023-01-12',\n",
       "       '2023-01-07', '2023-01-17', '2023-01-15', '2023-01-21',\n",
       "       '2023-01-09', '2023-01-26', '2023-01-14', '2023-01-12',\n",
       "       '2023-01-26', '2023-01-12', '2023-01-07', '2023-01-24',\n",
       "       '2023-01-24', '2023-01-21', '2023-01-18', '2023-01-26',\n",
       "       '2023-01-08', '2023-01-10', '2023-01-09', '2023-01-13',\n",
       "       '2023-01-07', '2023-01-24', '2023-01-20', '2023-01-21',\n",
       "       '2023-01-21', '2023-01-18', '2023-01-20', '2023-01-09',\n",
       "       '2023-01-25', '2023-01-07', '2023-01-14', '2023-01-25',\n",
       "       '2023-01-13', '2023-01-21', '2023-01-25', '2023-01-19',\n",
       "       '2023-01-07', '2023-01-26', '2023-01-16', '2023-01-16',\n",
       "       '2023-01-19', '2023-01-20', '2023-01-16', '2023-01-13',\n",
       "       '2023-01-13', '2023-01-10', '2023-01-17', '2023-01-07',\n",
       "       '2023-01-22', '2023-01-11', '2023-01-18', '2023-01-21',\n",
       "       '2023-01-25', '2023-01-10', '2023-01-21', '2023-01-09',\n",
       "       '2023-01-24', '2023-01-08', '2023-01-09', '2023-01-20',\n",
       "       '2023-01-26', '2023-01-12', '2023-01-19', '2023-01-22',\n",
       "       '2023-01-26', '2023-01-24', '2023-01-16', '2023-01-09',\n",
       "       '2023-01-12', '2023-01-20', '2023-01-23', '2023-01-12',\n",
       "       '2023-01-08', '2023-01-09', '2023-01-20', '2023-01-19',\n",
       "       '2023-01-24', '2023-01-19', '2023-01-21', '2023-01-13',\n",
       "       '2023-01-22', '2023-01-26', '2023-01-20', '2023-01-25',\n",
       "       '2023-01-18', '2023-01-20', '2023-01-08', '2023-01-22',\n",
       "       '2023-01-08', '2023-01-18', '2023-01-12', '2023-01-14',\n",
       "       '2023-01-20', '2023-01-24', '2023-01-09', '2023-01-15',\n",
       "       '2023-01-23', '2023-01-08', '2023-01-09', '2023-01-11',\n",
       "       '2023-01-23', '2023-01-12', '2023-01-24', '2023-01-20',\n",
       "       '2023-01-22', '2023-01-26', '2023-01-07', '2023-01-11',\n",
       "       '2023-01-08', '2023-01-23', '2023-01-20', '2023-01-24',\n",
       "       '2023-01-16', '2023-01-13', '2023-01-19', '2023-01-23',\n",
       "       '2023-01-11', '2023-01-12', '2023-01-24', '2023-01-09',\n",
       "       '2023-01-22', '2023-01-11', '2023-01-08', '2023-01-17',\n",
       "       '2023-01-13', '2023-01-08', '2023-01-17', '2023-01-11',\n",
       "       '2023-01-17', '2023-01-10', '2023-01-10', '2023-01-17',\n",
       "       '2023-01-24', '2023-01-07', '2023-01-10', '2023-01-24',\n",
       "       '2023-01-13', '2023-01-12', '2023-01-23', '2023-01-20',\n",
       "       '2023-01-17', '2023-01-13', '2023-01-22', '2023-01-07',\n",
       "       '2023-01-25', '2023-01-23', '2023-01-26', '2023-01-11',\n",
       "       '2023-01-10', '2023-01-13', '2023-01-16', '2023-01-21',\n",
       "       '2023-01-12', '2023-01-07', '2023-01-25', '2023-01-21',\n",
       "       '2023-01-12', '2023-01-26', '2023-01-21', '2023-01-09',\n",
       "       '2023-01-11', '2023-01-09', '2023-01-13', '2023-01-25',\n",
       "       '2023-01-12', '2023-01-18', '2023-01-07', '2023-01-11',\n",
       "       '2023-01-09', '2023-01-11', '2023-01-08', '2023-01-24',\n",
       "       '2023-01-26', '2023-01-23', '2023-01-14', '2023-01-20',\n",
       "       '2023-01-19', '2023-01-22', '2023-01-24', '2023-01-08',\n",
       "       '2023-01-14', '2023-01-16', '2023-01-14', '2023-01-20'],\n",
       "      dtype='datetime64[D]')"
      ]
     },
     "execution_count": 33,
     "metadata": {},
     "output_type": "execute_result"
    }
   ],
   "source": [
    "# Datetimes for events \n",
    "np.random.seed(1356315)\n",
    "\n",
    "infectious_period_range = np.arange(0, 20)\n",
    "base_date = np.datetime64('2023-01-07')\n",
    "infectious_dates = base_date + np.random.choice(infectious_period_range, num_farms)\n",
    "\n",
    "infectious_dates"
   ]
  },
  {
   "cell_type": "code",
   "execution_count": 34,
   "id": "9584d09b",
   "metadata": {
    "ExecuteTime": {
     "end_time": "2023-07-01T00:11:31.171403Z",
     "start_time": "2023-07-01T00:11:31.168582Z"
    }
   },
   "outputs": [],
   "source": [
    "removal_dates = infectious_dates + 4"
   ]
  },
  {
   "cell_type": "code",
   "execution_count": 35,
   "id": "ed0666d3",
   "metadata": {
    "ExecuteTime": {
     "end_time": "2023-07-01T00:11:31.182106Z",
     "start_time": "2023-07-01T00:11:31.173925Z"
    }
   },
   "outputs": [
    {
     "data": {
      "text/html": [
       "<div>\n",
       "<style scoped>\n",
       "    .dataframe tbody tr th:only-of-type {\n",
       "        vertical-align: middle;\n",
       "    }\n",
       "\n",
       "    .dataframe tbody tr th {\n",
       "        vertical-align: top;\n",
       "    }\n",
       "\n",
       "    .dataframe thead th {\n",
       "        text-align: right;\n",
       "    }\n",
       "</style>\n",
       "<table border=\"1\" class=\"dataframe\">\n",
       "  <thead>\n",
       "    <tr style=\"text-align: right;\">\n",
       "      <th></th>\n",
       "      <th>inf_date</th>\n",
       "      <th>removal_date</th>\n",
       "    </tr>\n",
       "  </thead>\n",
       "  <tbody>\n",
       "    <tr>\n",
       "      <th>0</th>\n",
       "      <td>19373</td>\n",
       "      <td>19377</td>\n",
       "    </tr>\n",
       "    <tr>\n",
       "      <th>1</th>\n",
       "      <td>19382</td>\n",
       "      <td>19386</td>\n",
       "    </tr>\n",
       "    <tr>\n",
       "      <th>2</th>\n",
       "      <td>19377</td>\n",
       "      <td>19381</td>\n",
       "    </tr>\n",
       "    <tr>\n",
       "      <th>3</th>\n",
       "      <td>19376</td>\n",
       "      <td>19380</td>\n",
       "    </tr>\n",
       "    <tr>\n",
       "      <th>4</th>\n",
       "      <td>19377</td>\n",
       "      <td>19381</td>\n",
       "    </tr>\n",
       "    <tr>\n",
       "      <th>...</th>\n",
       "      <td>...</td>\n",
       "      <td>...</td>\n",
       "    </tr>\n",
       "    <tr>\n",
       "      <th>995</th>\n",
       "      <td>19365</td>\n",
       "      <td>19369</td>\n",
       "    </tr>\n",
       "    <tr>\n",
       "      <th>996</th>\n",
       "      <td>19371</td>\n",
       "      <td>19375</td>\n",
       "    </tr>\n",
       "    <tr>\n",
       "      <th>997</th>\n",
       "      <td>19373</td>\n",
       "      <td>19377</td>\n",
       "    </tr>\n",
       "    <tr>\n",
       "      <th>998</th>\n",
       "      <td>19371</td>\n",
       "      <td>19375</td>\n",
       "    </tr>\n",
       "    <tr>\n",
       "      <th>999</th>\n",
       "      <td>19377</td>\n",
       "      <td>19381</td>\n",
       "    </tr>\n",
       "  </tbody>\n",
       "</table>\n",
       "<p>1000 rows × 2 columns</p>\n",
       "</div>"
      ],
      "text/plain": [
       "     inf_date  removal_date\n",
       "0       19373         19377\n",
       "1       19382         19386\n",
       "2       19377         19381\n",
       "3       19376         19380\n",
       "4       19377         19381\n",
       "..        ...           ...\n",
       "995     19365         19369\n",
       "996     19371         19375\n",
       "997     19373         19377\n",
       "998     19371         19375\n",
       "999     19377         19381\n",
       "\n",
       "[1000 rows x 2 columns]"
      ]
     },
     "execution_count": 35,
     "metadata": {},
     "output_type": "execute_result"
    }
   ],
   "source": [
    "key_dates = pd.DataFrame({'inf_date': pd.to_numeric(infectious_dates), \n",
    "                          'removal_date': pd.to_numeric(removal_dates)})\n",
    "key_dates"
   ]
  },
  {
   "cell_type": "code",
   "execution_count": 36,
   "id": "850fd934",
   "metadata": {
    "ExecuteTime": {
     "end_time": "2023-07-01T00:11:31.190870Z",
     "start_time": "2023-07-01T00:11:31.184482Z"
    }
   },
   "outputs": [
    {
     "data": {
      "text/plain": [
       "0      19373\n",
       "1      19382\n",
       "2      19377\n",
       "3      19376\n",
       "4      19377\n",
       "       ...  \n",
       "995    19365\n",
       "996    19371\n",
       "997    19373\n",
       "998    19371\n",
       "999    19377\n",
       "Name: inf_date, Length: 1000, dtype: int64"
      ]
     },
     "execution_count": 36,
     "metadata": {},
     "output_type": "execute_result"
    }
   ],
   "source": [
    "key_dates.iloc[:,0]"
   ]
  },
  {
   "cell_type": "code",
   "execution_count": 37,
   "id": "44aa7f8d",
   "metadata": {
    "ExecuteTime": {
     "end_time": "2023-07-01T00:11:31.197762Z",
     "start_time": "2023-07-01T00:11:31.193311Z"
    }
   },
   "outputs": [],
   "source": [
    "def generate_waifw(infection_times, removal_times):\n",
    "    \"\"\"\n",
    "    Compute a WAIFW (who acquired infection from who) matrix \n",
    "    given tensors of infection and removal times. \n",
    "\n",
    "    Args:\n",
    "        infection_times (datetime): array of infection times \n",
    "        removal_times (datetime): array of removal times \n",
    "\n",
    "    Returns:\n",
    "        tensor: len(infection_times) x len(infection_times) tensor of 1s and 0s\n",
    "    \"\"\"\n",
    "\n",
    "    infection_times = tf.convert_to_tensor(infection_times)\n",
    "    removal_times = tf.convert_to_tensor(removal_times)\n",
    "\n",
    "    # use the expand_dim to do the [I,:] trick\n",
    "    waifw = tf.math.logical_and(\n",
    "        # compare infections to infections: I_i <= I_j\n",
    "        infection_times[tf.newaxis, :] < infection_times[:, tf.newaxis],\n",
    "        # compare infections to removals: I_j <= R_i\n",
    "        infection_times[:, tf.newaxis] < removal_times[tf.newaxis, :]\n",
    "    )\n",
    "    return tf.cast(waifw,\n",
    "                   dtype=DTYPE)"
   ]
  },
  {
   "cell_type": "code",
   "execution_count": 38,
   "id": "bef8277c",
   "metadata": {
    "ExecuteTime": {
     "end_time": "2023-07-01T00:11:31.212936Z",
     "start_time": "2023-07-01T00:11:31.199809Z"
    }
   },
   "outputs": [
    {
     "data": {
      "text/plain": [
       "<tf.Tensor: shape=(1000, 1000), dtype=float32, numpy=\n",
       "array([[0., 0., 0., ..., 0., 1., 0.],\n",
       "       [0., 0., 0., ..., 0., 0., 0.],\n",
       "       [0., 0., 0., ..., 0., 0., 0.],\n",
       "       ...,\n",
       "       [0., 0., 0., ..., 0., 1., 0.],\n",
       "       [0., 0., 0., ..., 0., 0., 0.],\n",
       "       [0., 0., 0., ..., 0., 0., 0.]], dtype=float32)>"
      ]
     },
     "execution_count": 38,
     "metadata": {},
     "output_type": "execute_result"
    }
   ],
   "source": [
    "generate_waifw(infection_times= key_dates.iloc[:,0],\n",
    "              removal_times= key_dates.iloc[:,1])"
   ]
  },
  {
   "cell_type": "code",
   "execution_count": 39,
   "id": "a811aa48",
   "metadata": {
    "ExecuteTime": {
     "end_time": "2023-07-01T00:11:31.218120Z",
     "start_time": "2023-07-01T00:11:31.214999Z"
    }
   },
   "outputs": [],
   "source": [
    "def generate_exposure(infection_times, removal_times):\n",
    "    \"\"\"\n",
    "    Compute exposure matrix given two tensors of infections and removal times\n",
    "\n",
    "    Args:\n",
    "        infection_times (datetime): array of infection times \n",
    "        removal_times (datetime): array of removal times \n",
    "\n",
    "    Returns:\n",
    "        tensor: len(infection_times) x len(infection_times) tensor of exposure\n",
    "        durations \n",
    "    \"\"\"\n",
    "\n",
    "    return (\n",
    "        tf.math.minimum(infection_times[:, tf.newaxis],\n",
    "                        removal_times[tf.newaxis, :]) -\n",
    "        tf.math.minimum(infection_times[:, tf.newaxis],\n",
    "                        infection_times[tf.newaxis, :])\n",
    "    )"
   ]
  },
  {
   "cell_type": "code",
   "execution_count": 40,
   "id": "4a5cc51d",
   "metadata": {
    "ExecuteTime": {
     "end_time": "2023-07-01T00:11:31.237303Z",
     "start_time": "2023-07-01T00:11:31.219727Z"
    }
   },
   "outputs": [
    {
     "name": "stderr",
     "output_type": "stream",
     "text": [
      "/var/folders/_q/07k1y14x087brt3tmd2bs1740000gn/T/ipykernel_96783/2203921878.py:15: FutureWarning: Support for multi-dimensional indexing (e.g. `obj[:, None]`) is deprecated and will be removed in a future version.  Convert to a numpy array before indexing instead.\n",
      "  tf.math.minimum(infection_times[:, tf.newaxis],\n",
      "/var/folders/_q/07k1y14x087brt3tmd2bs1740000gn/T/ipykernel_96783/2203921878.py:16: FutureWarning: Support for multi-dimensional indexing (e.g. `obj[:, None]`) is deprecated and will be removed in a future version.  Convert to a numpy array before indexing instead.\n",
      "  removal_times[tf.newaxis, :]) -\n",
      "/var/folders/_q/07k1y14x087brt3tmd2bs1740000gn/T/ipykernel_96783/2203921878.py:17: FutureWarning: Support for multi-dimensional indexing (e.g. `obj[:, None]`) is deprecated and will be removed in a future version.  Convert to a numpy array before indexing instead.\n",
      "  tf.math.minimum(infection_times[:, tf.newaxis],\n",
      "/var/folders/_q/07k1y14x087brt3tmd2bs1740000gn/T/ipykernel_96783/2203921878.py:18: FutureWarning: Support for multi-dimensional indexing (e.g. `obj[:, None]`) is deprecated and will be removed in a future version.  Convert to a numpy array before indexing instead.\n",
      "  infection_times[tf.newaxis, :])\n"
     ]
    },
    {
     "data": {
      "text/plain": [
       "<tf.Tensor: shape=(1000, 1000), dtype=int64, numpy=\n",
       "array([[0, 0, 0, ..., 0, 2, 0],\n",
       "       [4, 0, 4, ..., 4, 4, 4],\n",
       "       [4, 0, 0, ..., 4, 4, 0],\n",
       "       ...,\n",
       "       [0, 0, 0, ..., 0, 2, 0],\n",
       "       [0, 0, 0, ..., 0, 0, 0],\n",
       "       [4, 0, 0, ..., 4, 4, 0]])>"
      ]
     },
     "execution_count": 40,
     "metadata": {},
     "output_type": "execute_result"
    }
   ],
   "source": [
    "generate_exposure(infection_times= key_dates.iloc[:,0],\n",
    "              removal_times= key_dates.iloc[:,1])"
   ]
  },
  {
   "cell_type": "code",
   "execution_count": 41,
   "id": "e9fe03b5",
   "metadata": {
    "ExecuteTime": {
     "end_time": "2023-07-01T00:11:31.244616Z",
     "start_time": "2023-07-01T00:11:31.239547Z"
    }
   },
   "outputs": [],
   "source": [
    "def generate_spatial_kernel(farm_distance_matrix):\n",
    "    \"\"\"Compute the square exponential spatial kernel given a pairwise distance matrix\n",
    "\n",
    "    Args:\n",
    "        farm_distance_matrix (tensor): matrix of pairwise distance\n",
    "\n",
    "    Returns:\n",
    "        function: function taking in spatial pressure parameter based on \n",
    "    \"\"\"\n",
    "    farm_distance_matrix = tf.convert_to_tensor(farm_distance_matrix, DTYPE)\n",
    "    def square_exponential_kernel(parameters):\n",
    "        partial_step = tf.math.multiply(farm_distance_matrix, 1/parameters)\n",
    "        return tf.math.exp(tf.math.negative(tf.math.square(partial_step)))\n",
    "    return square_exponential_kernel"
   ]
  },
  {
   "cell_type": "code",
   "execution_count": 42,
   "id": "1499650a",
   "metadata": {
    "ExecuteTime": {
     "end_time": "2023-07-01T00:11:31.270325Z",
     "start_time": "2023-07-01T00:11:31.247524Z"
    }
   },
   "outputs": [
    {
     "data": {
      "text/plain": [
       "<tf.Tensor: shape=(1000, 1000), dtype=float32, numpy=\n",
       "array([[1.        , 0.7579105 , 0.3336417 , ..., 0.03407629, 0.7567272 ,\n",
       "        0.26539522],\n",
       "       [0.7579105 , 1.        , 0.11250623, ..., 0.01712921, 0.71908057,\n",
       "        0.10831751],\n",
       "       [0.3336417 , 0.11250623, 1.        , ..., 0.26688752, 0.36039013,\n",
       "        0.89518654],\n",
       "       ...,\n",
       "       [0.03407629, 0.01712921, 0.26688752, ..., 1.        , 0.1233686 ,\n",
       "        0.5022255 ],\n",
       "       [0.7567272 , 0.71908057, 0.36039013, ..., 0.1233686 , 1.        ,\n",
       "        0.4056005 ],\n",
       "       [0.26539522, 0.10831751, 0.89518654, ..., 0.5022255 , 0.4056005 ,\n",
       "        1.        ]], dtype=float32)>"
      ]
     },
     "execution_count": 42,
     "metadata": {},
     "output_type": "execute_result"
    }
   ],
   "source": [
    "farm_distances = pairwise_distance(farm_locations_data= location_data)\n",
    "spatial_kernel = generate_spatial_kernel(farm_distance_matrix= farm_distances)\n",
    "\n",
    "spatial_kernel(500.0)"
   ]
  },
  {
   "cell_type": "code",
   "execution_count": 43,
   "id": "672c0718",
   "metadata": {
    "ExecuteTime": {
     "end_time": "2023-07-01T00:11:31.276114Z",
     "start_time": "2023-07-01T00:11:31.272659Z"
    }
   },
   "outputs": [],
   "source": [
    "# farm type data \n",
    "np.random.seed(1356315)\n",
    "farm_types = np.random.choice((0,1), size = num_farms) # chicken, o/w "
   ]
  },
  {
   "cell_type": "code",
   "execution_count": 44,
   "id": "f0913928",
   "metadata": {
    "ExecuteTime": {
     "end_time": "2023-07-01T00:11:31.281995Z",
     "start_time": "2023-07-01T00:11:31.278716Z"
    }
   },
   "outputs": [],
   "source": [
    "def generate_regression_pressure(farm_characteristics_data = None): \n",
    "    \"\"\"_summary_\n",
    "\n",
    "    Args:\n",
    "        farm_characteristics_data (_type_, optional): Factor variables for each farm unit. Defaults to None.\n",
    "\n",
    "    Returns:\n",
    "        tensor: exp(alpha + beta^T * data)\n",
    "    \"\"\"\n",
    "    farm_characteristics_data = tf.convert_to_tensor(farm_characteristics_data, DTYPE)\n",
    "    def compute_regression(parameters):\n",
    "        # regression does not include the intercept term \n",
    "        regression = tf.math.multiply(farm_characteristics_data, parameters)\n",
    "        expontiated_regression = tf.math.exp(regression)\n",
    "        return expontiated_regression\n",
    "        \n",
    "    return compute_regression"
   ]
  },
  {
   "cell_type": "code",
   "execution_count": 45,
   "id": "b05b5ed3",
   "metadata": {
    "ExecuteTime": {
     "end_time": "2023-07-01T00:11:31.294245Z",
     "start_time": "2023-07-01T00:11:31.284228Z"
    }
   },
   "outputs": [
    {
     "data": {
      "text/plain": [
       "<tf.Tensor: shape=(1000,), dtype=float32, numpy=\n",
       "array([1.       , 2.0137527, 1.       , 1.       , 2.0137527, 1.       ,\n",
       "       1.       , 2.0137527, 2.0137527, 1.       , 2.0137527, 1.       ,\n",
       "       1.       , 1.       , 2.0137527, 1.       , 2.0137527, 2.0137527,\n",
       "       2.0137527, 2.0137527, 1.       , 1.       , 1.       , 1.       ,\n",
       "       2.0137527, 1.       , 1.       , 2.0137527, 1.       , 1.       ,\n",
       "       2.0137527, 1.       , 1.       , 1.       , 1.       , 1.       ,\n",
       "       2.0137527, 2.0137527, 1.       , 2.0137527, 2.0137527, 1.       ,\n",
       "       1.       , 2.0137527, 2.0137527, 2.0137527, 1.       , 2.0137527,\n",
       "       2.0137527, 1.       , 1.       , 2.0137527, 1.       , 1.       ,\n",
       "       2.0137527, 2.0137527, 1.       , 1.       , 2.0137527, 1.       ,\n",
       "       2.0137527, 2.0137527, 1.       , 2.0137527, 2.0137527, 1.       ,\n",
       "       2.0137527, 2.0137527, 1.       , 2.0137527, 2.0137527, 1.       ,\n",
       "       2.0137527, 1.       , 1.       , 1.       , 1.       , 1.       ,\n",
       "       1.       , 2.0137527, 2.0137527, 2.0137527, 1.       , 2.0137527,\n",
       "       2.0137527, 1.       , 2.0137527, 1.       , 2.0137527, 2.0137527,\n",
       "       1.       , 1.       , 2.0137527, 2.0137527, 2.0137527, 1.       ,\n",
       "       2.0137527, 1.       , 1.       , 2.0137527, 2.0137527, 1.       ,\n",
       "       2.0137527, 2.0137527, 1.       , 1.       , 2.0137527, 1.       ,\n",
       "       1.       , 2.0137527, 2.0137527, 2.0137527, 1.       , 2.0137527,\n",
       "       2.0137527, 2.0137527, 2.0137527, 2.0137527, 2.0137527, 1.       ,\n",
       "       2.0137527, 1.       , 2.0137527, 2.0137527, 1.       , 2.0137527,\n",
       "       2.0137527, 1.       , 1.       , 1.       , 1.       , 2.0137527,\n",
       "       1.       , 1.       , 1.       , 2.0137527, 1.       , 1.       ,\n",
       "       1.       , 2.0137527, 2.0137527, 1.       , 2.0137527, 1.       ,\n",
       "       1.       , 2.0137527, 2.0137527, 1.       , 1.       , 1.       ,\n",
       "       2.0137527, 2.0137527, 2.0137527, 2.0137527, 1.       , 1.       ,\n",
       "       2.0137527, 1.       , 1.       , 1.       , 2.0137527, 2.0137527,\n",
       "       1.       , 2.0137527, 1.       , 1.       , 2.0137527, 2.0137527,\n",
       "       2.0137527, 1.       , 1.       , 2.0137527, 1.       , 1.       ,\n",
       "       1.       , 2.0137527, 2.0137527, 2.0137527, 2.0137527, 2.0137527,\n",
       "       2.0137527, 1.       , 2.0137527, 1.       , 1.       , 1.       ,\n",
       "       2.0137527, 2.0137527, 1.       , 1.       , 2.0137527, 2.0137527,\n",
       "       2.0137527, 2.0137527, 1.       , 1.       , 1.       , 1.       ,\n",
       "       1.       , 1.       , 2.0137527, 2.0137527, 1.       , 1.       ,\n",
       "       1.       , 1.       , 2.0137527, 2.0137527, 1.       , 1.       ,\n",
       "       1.       , 2.0137527, 2.0137527, 2.0137527, 2.0137527, 2.0137527,\n",
       "       2.0137527, 2.0137527, 2.0137527, 1.       , 1.       , 1.       ,\n",
       "       1.       , 1.       , 1.       , 1.       , 1.       , 2.0137527,\n",
       "       1.       , 2.0137527, 2.0137527, 2.0137527, 2.0137527, 1.       ,\n",
       "       2.0137527, 2.0137527, 2.0137527, 1.       , 1.       , 2.0137527,\n",
       "       1.       , 2.0137527, 1.       , 1.       , 1.       , 2.0137527,\n",
       "       2.0137527, 2.0137527, 2.0137527, 2.0137527, 2.0137527, 2.0137527,\n",
       "       2.0137527, 1.       , 1.       , 1.       , 1.       , 2.0137527,\n",
       "       2.0137527, 1.       , 2.0137527, 1.       , 2.0137527, 2.0137527,\n",
       "       2.0137527, 2.0137527, 2.0137527, 2.0137527, 2.0137527, 2.0137527,\n",
       "       1.       , 1.       , 2.0137527, 2.0137527, 2.0137527, 2.0137527,\n",
       "       2.0137527, 2.0137527, 2.0137527, 2.0137527, 2.0137527, 2.0137527,\n",
       "       2.0137527, 1.       , 2.0137527, 2.0137527, 1.       , 2.0137527,\n",
       "       2.0137527, 1.       , 1.       , 1.       , 1.       , 2.0137527,\n",
       "       1.       , 2.0137527, 2.0137527, 1.       , 2.0137527, 1.       ,\n",
       "       1.       , 1.       , 1.       , 2.0137527, 1.       , 2.0137527,\n",
       "       2.0137527, 2.0137527, 2.0137527, 2.0137527, 1.       , 1.       ,\n",
       "       2.0137527, 1.       , 2.0137527, 2.0137527, 2.0137527, 1.       ,\n",
       "       2.0137527, 1.       , 1.       , 2.0137527, 2.0137527, 1.       ,\n",
       "       1.       , 1.       , 1.       , 2.0137527, 1.       , 2.0137527,\n",
       "       1.       , 1.       , 2.0137527, 2.0137527, 2.0137527, 2.0137527,\n",
       "       1.       , 1.       , 1.       , 2.0137527, 2.0137527, 2.0137527,\n",
       "       2.0137527, 1.       , 2.0137527, 1.       , 2.0137527, 1.       ,\n",
       "       1.       , 2.0137527, 1.       , 1.       , 1.       , 2.0137527,\n",
       "       2.0137527, 2.0137527, 2.0137527, 2.0137527, 2.0137527, 2.0137527,\n",
       "       2.0137527, 1.       , 2.0137527, 2.0137527, 2.0137527, 1.       ,\n",
       "       2.0137527, 1.       , 1.       , 2.0137527, 1.       , 2.0137527,\n",
       "       1.       , 1.       , 1.       , 1.       , 1.       , 2.0137527,\n",
       "       2.0137527, 2.0137527, 2.0137527, 1.       , 2.0137527, 2.0137527,\n",
       "       1.       , 1.       , 1.       , 2.0137527, 2.0137527, 1.       ,\n",
       "       2.0137527, 2.0137527, 2.0137527, 1.       , 2.0137527, 2.0137527,\n",
       "       2.0137527, 2.0137527, 1.       , 1.       , 2.0137527, 1.       ,\n",
       "       1.       , 2.0137527, 1.       , 2.0137527, 1.       , 1.       ,\n",
       "       1.       , 1.       , 2.0137527, 1.       , 1.       , 1.       ,\n",
       "       1.       , 1.       , 1.       , 1.       , 2.0137527, 1.       ,\n",
       "       1.       , 1.       , 2.0137527, 2.0137527, 2.0137527, 1.       ,\n",
       "       2.0137527, 1.       , 1.       , 1.       , 2.0137527, 1.       ,\n",
       "       1.       , 1.       , 2.0137527, 1.       , 1.       , 2.0137527,\n",
       "       1.       , 1.       , 1.       , 2.0137527, 1.       , 2.0137527,\n",
       "       2.0137527, 2.0137527, 2.0137527, 2.0137527, 1.       , 1.       ,\n",
       "       1.       , 2.0137527, 2.0137527, 2.0137527, 1.       , 2.0137527,\n",
       "       2.0137527, 2.0137527, 2.0137527, 1.       , 1.       , 2.0137527,\n",
       "       2.0137527, 2.0137527, 1.       , 2.0137527, 2.0137527, 2.0137527,\n",
       "       2.0137527, 1.       , 1.       , 1.       , 2.0137527, 1.       ,\n",
       "       1.       , 1.       , 1.       , 1.       , 2.0137527, 1.       ,\n",
       "       2.0137527, 1.       , 2.0137527, 1.       , 2.0137527, 2.0137527,\n",
       "       2.0137527, 2.0137527, 2.0137527, 1.       , 1.       , 2.0137527,\n",
       "       1.       , 2.0137527, 1.       , 1.       , 1.       , 1.       ,\n",
       "       1.       , 1.       , 1.       , 2.0137527, 2.0137527, 1.       ,\n",
       "       1.       , 2.0137527, 1.       , 1.       , 1.       , 2.0137527,\n",
       "       2.0137527, 2.0137527, 1.       , 1.       , 2.0137527, 2.0137527,\n",
       "       1.       , 2.0137527, 2.0137527, 2.0137527, 2.0137527, 2.0137527,\n",
       "       2.0137527, 1.       , 1.       , 2.0137527, 1.       , 1.       ,\n",
       "       2.0137527, 1.       , 1.       , 2.0137527, 1.       , 2.0137527,\n",
       "       1.       , 2.0137527, 1.       , 2.0137527, 2.0137527, 2.0137527,\n",
       "       2.0137527, 2.0137527, 2.0137527, 1.       , 2.0137527, 2.0137527,\n",
       "       2.0137527, 2.0137527, 1.       , 2.0137527, 2.0137527, 1.       ,\n",
       "       1.       , 2.0137527, 1.       , 2.0137527, 1.       , 2.0137527,\n",
       "       1.       , 1.       , 1.       , 1.       , 1.       , 2.0137527,\n",
       "       1.       , 2.0137527, 2.0137527, 2.0137527, 2.0137527, 1.       ,\n",
       "       1.       , 2.0137527, 1.       , 1.       , 2.0137527, 1.       ,\n",
       "       2.0137527, 1.       , 2.0137527, 2.0137527, 2.0137527, 1.       ,\n",
       "       2.0137527, 1.       , 2.0137527, 2.0137527, 1.       , 2.0137527,\n",
       "       1.       , 2.0137527, 1.       , 2.0137527, 2.0137527, 2.0137527,\n",
       "       2.0137527, 1.       , 2.0137527, 1.       , 1.       , 2.0137527,\n",
       "       2.0137527, 1.       , 2.0137527, 2.0137527, 1.       , 1.       ,\n",
       "       1.       , 2.0137527, 1.       , 2.0137527, 1.       , 1.       ,\n",
       "       1.       , 1.       , 2.0137527, 2.0137527, 1.       , 1.       ,\n",
       "       2.0137527, 2.0137527, 2.0137527, 1.       , 2.0137527, 2.0137527,\n",
       "       2.0137527, 2.0137527, 1.       , 2.0137527, 2.0137527, 2.0137527,\n",
       "       2.0137527, 2.0137527, 2.0137527, 1.       , 2.0137527, 1.       ,\n",
       "       2.0137527, 2.0137527, 1.       , 1.       , 2.0137527, 1.       ,\n",
       "       1.       , 1.       , 2.0137527, 1.       , 2.0137527, 2.0137527,\n",
       "       1.       , 2.0137527, 2.0137527, 1.       , 1.       , 2.0137527,\n",
       "       1.       , 1.       , 1.       , 2.0137527, 1.       , 2.0137527,\n",
       "       2.0137527, 1.       , 2.0137527, 2.0137527, 2.0137527, 2.0137527,\n",
       "       1.       , 1.       , 2.0137527, 1.       , 2.0137527, 1.       ,\n",
       "       1.       , 1.       , 2.0137527, 1.       , 1.       , 2.0137527,\n",
       "       1.       , 1.       , 2.0137527, 1.       , 1.       , 2.0137527,\n",
       "       2.0137527, 2.0137527, 1.       , 2.0137527, 2.0137527, 1.       ,\n",
       "       2.0137527, 2.0137527, 2.0137527, 1.       , 1.       , 1.       ,\n",
       "       1.       , 1.       , 1.       , 1.       , 1.       , 1.       ,\n",
       "       1.       , 2.0137527, 1.       , 2.0137527, 2.0137527, 1.       ,\n",
       "       1.       , 1.       , 1.       , 2.0137527, 1.       , 1.       ,\n",
       "       2.0137527, 1.       , 2.0137527, 2.0137527, 2.0137527, 1.       ,\n",
       "       2.0137527, 2.0137527, 1.       , 2.0137527, 2.0137527, 1.       ,\n",
       "       1.       , 1.       , 2.0137527, 1.       , 1.       , 2.0137527,\n",
       "       1.       , 2.0137527, 1.       , 2.0137527, 1.       , 2.0137527,\n",
       "       2.0137527, 2.0137527, 1.       , 2.0137527, 1.       , 2.0137527,\n",
       "       2.0137527, 1.       , 1.       , 2.0137527, 1.       , 2.0137527,\n",
       "       1.       , 1.       , 1.       , 1.       , 2.0137527, 1.       ,\n",
       "       2.0137527, 2.0137527, 2.0137527, 2.0137527, 2.0137527, 1.       ,\n",
       "       1.       , 2.0137527, 1.       , 1.       , 2.0137527, 2.0137527,\n",
       "       1.       , 1.       , 1.       , 1.       , 1.       , 1.       ,\n",
       "       1.       , 1.       , 2.0137527, 2.0137527, 1.       , 2.0137527,\n",
       "       2.0137527, 1.       , 1.       , 2.0137527, 2.0137527, 2.0137527,\n",
       "       2.0137527, 1.       , 2.0137527, 2.0137527, 1.       , 1.       ,\n",
       "       2.0137527, 2.0137527, 1.       , 1.       , 2.0137527, 1.       ,\n",
       "       1.       , 1.       , 2.0137527, 1.       , 1.       , 1.       ,\n",
       "       1.       , 1.       , 1.       , 2.0137527, 2.0137527, 1.       ,\n",
       "       2.0137527, 2.0137527, 2.0137527, 2.0137527, 1.       , 2.0137527,\n",
       "       1.       , 2.0137527, 1.       , 2.0137527, 1.       , 1.       ,\n",
       "       1.       , 2.0137527, 1.       , 2.0137527, 2.0137527, 1.       ,\n",
       "       2.0137527, 2.0137527, 2.0137527, 1.       , 2.0137527, 1.       ,\n",
       "       1.       , 2.0137527, 2.0137527, 2.0137527, 1.       , 2.0137527,\n",
       "       2.0137527, 1.       , 1.       , 2.0137527, 1.       , 2.0137527,\n",
       "       1.       , 2.0137527, 2.0137527, 1.       , 2.0137527, 1.       ,\n",
       "       2.0137527, 2.0137527, 2.0137527, 1.       , 1.       , 1.       ,\n",
       "       1.       , 1.       , 1.       , 1.       , 1.       , 2.0137527,\n",
       "       1.       , 1.       , 2.0137527, 1.       , 1.       , 2.0137527,\n",
       "       2.0137527, 2.0137527, 2.0137527, 1.       , 1.       , 2.0137527,\n",
       "       1.       , 2.0137527, 1.       , 1.       , 1.       , 1.       ,\n",
       "       2.0137527, 2.0137527, 1.       , 2.0137527, 2.0137527, 2.0137527,\n",
       "       2.0137527, 2.0137527, 2.0137527, 1.       , 2.0137527, 2.0137527,\n",
       "       1.       , 1.       , 2.0137527, 2.0137527, 1.       , 2.0137527,\n",
       "       1.       , 1.       , 1.       , 1.       , 1.       , 1.       ,\n",
       "       1.       , 1.       , 2.0137527, 2.0137527, 1.       , 2.0137527,\n",
       "       1.       , 1.       , 1.       , 1.       , 1.       , 1.       ,\n",
       "       2.0137527, 2.0137527, 2.0137527, 2.0137527, 1.       , 2.0137527,\n",
       "       1.       , 1.       , 1.       , 2.0137527, 1.       , 1.       ,\n",
       "       1.       , 1.       , 1.       , 1.       , 1.       , 1.       ,\n",
       "       2.0137527, 1.       , 1.       , 2.0137527, 2.0137527, 2.0137527,\n",
       "       2.0137527, 2.0137527, 1.       , 2.0137527, 2.0137527, 2.0137527,\n",
       "       2.0137527, 1.       , 1.       , 1.       , 2.0137527, 2.0137527,\n",
       "       1.       , 1.       , 1.       , 1.       , 1.       , 1.       ,\n",
       "       2.0137527, 1.       , 1.       , 1.       , 1.       , 1.       ,\n",
       "       1.       , 2.0137527, 2.0137527, 1.       , 1.       , 1.       ,\n",
       "       1.       , 1.       , 2.0137527, 1.       , 2.0137527, 1.       ,\n",
       "       2.0137527, 1.       , 2.0137527, 1.       , 2.0137527, 2.0137527,\n",
       "       1.       , 2.0137527, 2.0137527, 1.       , 2.0137527, 2.0137527,\n",
       "       1.       , 2.0137527, 2.0137527, 1.       , 2.0137527, 1.       ,\n",
       "       2.0137527, 2.0137527, 2.0137527, 2.0137527], dtype=float32)>"
      ]
     },
     "execution_count": 45,
     "metadata": {},
     "output_type": "execute_result"
    }
   ],
   "source": [
    "regression_pressure = generate_regression_pressure(farm_characteristics_data=farm_types)\n",
    "regression_pressure(parameters=0.7)"
   ]
  },
  {
   "cell_type": "code",
   "execution_count": 46,
   "id": "497aa203",
   "metadata": {
    "ExecuteTime": {
     "end_time": "2023-07-01T00:11:31.300554Z",
     "start_time": "2023-07-01T00:11:31.296560Z"
    }
   },
   "outputs": [],
   "source": [
    "def generate_pairwise_hazard_fn(farm_distance_matrix, farm_characteristics_data=None):\n",
    "    \"\"\"_summary_\n",
    "\n",
    "    Args:\n",
    "        farm_characteristics_data (_type_): features of farms, including a 1s column for regression\n",
    "        farm_locations_data (_type_): Northing-Easting coordinates of farms\n",
    "\n",
    "    Returns:\n",
    "        fn: fn which outputs a tensor of pairwise hazard rates \n",
    "    \"\"\"\n",
    "    spatial_kernel = generate_spatial_kernel(farm_distance_matrix)\n",
    "    regression_kernel = generate_regression_pressure(farm_characteristics_data)\n",
    "    \n",
    "    def compute_hazard(parameters):\n",
    "        # regression component - have a column of 1s in the data\n",
    "        # Fill in later\n",
    "\n",
    "        # spatial component - already exponentiated!\n",
    "        spatial = spatial_kernel(parameters[0])\n",
    "        \n",
    "        # regression component - already exponentiated!\n",
    "        regression = regression_kernel(parameters[1])\n",
    "        return tf.math.multiply(spatial,\n",
    "                                regression\n",
    "                               )\n",
    "\n",
    "    return compute_hazard"
   ]
  },
  {
   "cell_type": "code",
   "execution_count": 47,
   "id": "9de754b1",
   "metadata": {
    "ExecuteTime": {
     "end_time": "2023-07-01T00:11:31.319802Z",
     "start_time": "2023-07-01T00:11:31.302789Z"
    },
    "scrolled": false
   },
   "outputs": [
    {
     "data": {
      "text/plain": [
       "<tf.Tensor: shape=(1000,), dtype=float32, numpy=\n",
       "array([619.43756, 613.2016 , 502.18634, 478.77274, 526.73395, 663.11914,\n",
       "       522.4959 , 817.32495, 646.8234 , 491.78342, 761.1731 , 707.46094,\n",
       "       774.32184, 621.0154 , 774.30493, 329.7955 , 837.58307, 473.50876,\n",
       "       776.94745, 789.1935 , 341.71582, 473.94012, 798.83765, 564.94824,\n",
       "       779.30963, 677.85956, 659.8422 , 618.61707, 693.1407 , 453.7754 ,\n",
       "       586.5132 , 410.6225 , 377.8674 , 782.9976 , 751.70355, 540.4596 ,\n",
       "       720.36566, 535.42377, 767.8511 , 511.41415, 626.11786, 656.5018 ,\n",
       "       645.7009 , 624.41077, 641.1967 , 636.3826 , 391.46964, 754.0965 ,\n",
       "       621.36444, 813.47406, 635.9486 , 516.97754, 682.03516, 828.2966 ,\n",
       "       603.5759 , 410.64206, 380.418  , 675.2836 , 616.8308 , 728.78436,\n",
       "       667.17706, 792.7581 , 541.2004 , 490.4084 , 496.26776, 766.2086 ,\n",
       "       691.0686 , 789.134  , 752.2634 , 626.7334 , 732.9148 , 490.297  ,\n",
       "       523.8918 , 819.8834 , 830.3071 , 649.02014, 624.49335, 369.9115 ,\n",
       "       403.02478, 431.67038, 522.4403 , 662.3427 , 535.5419 , 508.20856,\n",
       "       686.69916, 467.32498, 327.71368, 651.6145 , 502.27142, 538.4711 ,\n",
       "       363.2805 , 672.6531 , 584.82056, 448.3289 , 537.8922 , 617.31226,\n",
       "       716.6705 , 613.8749 , 414.1691 , 729.2568 , 604.87146, 796.614  ,\n",
       "       609.72705, 554.9255 , 743.5688 , 557.2164 , 753.2728 , 746.0178 ,\n",
       "       536.5416 , 510.48972, 589.5338 , 565.089  , 330.13705, 566.81635,\n",
       "       477.79333, 475.1153 , 786.70966, 492.68124, 672.3194 , 495.82584,\n",
       "       790.5926 , 684.7128 , 415.8848 , 603.1455 , 593.3887 , 533.0144 ,\n",
       "       622.2646 , 506.54718, 518.8769 , 546.9571 , 548.53375, 574.4684 ,\n",
       "       493.50308, 738.59296, 694.99677, 494.66898, 391.05692, 823.1959 ,\n",
       "       739.01904, 703.4911 , 552.6168 , 747.72   , 739.1509 , 531.5785 ,\n",
       "       480.49527, 661.9202 , 836.79694, 337.8425 , 434.68277, 476.91208,\n",
       "       771.2427 , 712.2885 , 830.0768 , 590.5936 , 821.72595, 573.9183 ,\n",
       "       830.9478 , 463.6377 , 781.71643, 785.6673 , 623.6642 , 603.16595,\n",
       "       474.85464, 587.2065 , 821.56445, 615.2522 , 754.65265, 655.8077 ,\n",
       "       469.82944, 490.94806, 745.1666 , 667.35724, 482.16513, 828.06226,\n",
       "       548.285  , 835.98926, 546.82385, 629.7037 , 653.4545 , 780.11206,\n",
       "       815.257  , 697.0724 , 632.727  , 732.5002 , 566.27545, 751.59204,\n",
       "       749.3266 , 668.8278 , 599.68176, 525.43976, 517.6784 , 757.7895 ,\n",
       "       727.8496 , 820.5814 , 399.60794, 760.0112 , 687.2085 , 468.56177,\n",
       "       750.4716 , 731.85284, 672.6132 , 710.5947 , 547.97986, 727.105  ,\n",
       "       518.4683 , 811.47546, 524.0269 , 656.2711 , 461.91415, 773.1501 ,\n",
       "       570.503  , 718.8842 , 702.63086, 685.873  , 636.7674 , 598.4934 ,\n",
       "       830.6081 , 539.2523 , 604.25616, 667.21655, 475.687  , 473.2166 ,\n",
       "       535.9415 , 474.63205, 640.0031 , 658.9105 , 571.92615, 792.9929 ,\n",
       "       823.76324, 510.5041 , 745.9455 , 441.19565, 647.8252 , 525.04614,\n",
       "       548.448  , 759.808  , 560.101  , 624.582  , 507.88092, 587.8353 ,\n",
       "       667.56323, 549.7959 , 799.8633 , 742.58875, 636.63745, 712.1396 ,\n",
       "       783.6608 , 467.77457, 463.83273, 790.9074 , 509.44995, 511.31638,\n",
       "       536.8846 , 503.1136 , 436.35452, 570.17487, 620.05347, 667.45276,\n",
       "       749.8752 , 479.05804, 590.58905, 773.8276 , 755.7011 , 619.3551 ,\n",
       "       814.6059 , 495.73813, 386.74207, 628.3562 , 527.7928 , 621.1114 ,\n",
       "       386.6865 , 359.2346 , 498.09006, 436.74377, 533.81396, 491.95404,\n",
       "       397.49115, 622.4806 , 482.36557, 496.80566, 635.1196 , 538.5918 ,\n",
       "       580.7726 , 534.9885 , 406.5433 , 588.11237, 463.01297, 583.1477 ,\n",
       "       400.65002, 595.03625, 499.61374, 683.6015 , 361.70288, 643.828  ,\n",
       "       376.9084 , 517.56036, 479.16296, 506.6301 , 633.04895, 436.349  ,\n",
       "       714.33527, 590.6513 , 753.1621 , 680.5686 , 791.2668 , 441.85336,\n",
       "       701.7262 , 531.2079 , 580.955  , 685.53357, 633.7114 , 721.1792 ,\n",
       "       663.43616, 605.0423 , 512.65985, 606.98444, 697.3593 , 755.90247,\n",
       "       389.28336, 488.1139 , 778.78033, 818.9544 , 536.95435, 535.34216,\n",
       "       466.64474, 502.30692, 487.6156 , 419.97275, 771.6852 , 645.6444 ,\n",
       "       600.65405, 768.52356, 541.0143 , 720.2334 , 474.78812, 741.35333,\n",
       "       497.7367 , 835.9876 , 533.9501 , 762.0042 , 824.01575, 593.31024,\n",
       "       511.7918 , 551.3764 , 737.918  , 698.33044, 531.14465, 619.169  ,\n",
       "       480.64713, 498.4668 , 647.82556, 664.62335, 454.87875, 519.8782 ,\n",
       "       466.59454, 605.13055, 621.80646, 605.4744 , 461.11658, 608.3    ,\n",
       "       731.95703, 586.5578 , 523.104  , 444.95822, 652.9975 , 688.43317,\n",
       "       586.60297, 416.3611 , 506.06393, 614.73456, 742.9236 , 643.0525 ,\n",
       "       427.78156, 474.38876, 516.1293 , 728.832  , 608.8862 , 388.96194,\n",
       "       698.7525 , 595.9309 , 620.7696 , 804.22516, 555.48413, 745.81555,\n",
       "       496.7572 , 788.189  , 761.4652 , 368.6916 , 704.6731 , 498.7588 ,\n",
       "       424.97043, 659.02374, 500.3828 , 539.11285, 590.9673 , 812.76373,\n",
       "       761.32745, 728.0819 , 588.87537, 460.9955 , 490.81226, 669.4775 ,\n",
       "       352.66138, 503.61963, 540.85223, 418.87552, 612.1254 , 539.1182 ,\n",
       "       577.9538 , 513.5339 , 710.3072 , 524.2208 , 434.7245 , 632.7737 ,\n",
       "       643.95764, 614.7102 , 587.77264, 509.53384, 713.5243 , 512.2143 ,\n",
       "       496.61227, 698.8758 , 600.41547, 504.0725 , 596.5591 , 664.4849 ,\n",
       "       520.7764 , 659.4577 , 716.80914, 830.4806 , 763.75977, 510.61566,\n",
       "       747.93085, 730.7388 , 758.3466 , 690.3479 , 548.1778 , 670.5696 ,\n",
       "       667.8219 , 554.9865 , 555.77466, 493.9485 , 693.14136, 667.4418 ,\n",
       "       712.4934 , 661.33295, 655.25806, 703.1091 , 538.4774 , 595.47766,\n",
       "       495.60245, 618.8767 , 841.0889 , 523.9622 , 735.51056, 701.5372 ,\n",
       "       625.0582 , 537.37604, 727.3647 , 700.04425, 778.02057, 557.9107 ,\n",
       "       829.8509 , 805.97   , 817.3407 , 587.96686, 604.8954 , 730.3367 ,\n",
       "       510.33734, 604.7147 , 436.36862, 595.882  , 534.39856, 665.9116 ,\n",
       "       789.7505 , 800.88226, 517.5683 , 716.81775, 675.3206 , 507.98157,\n",
       "       824.482  , 839.67633, 510.78226, 697.9267 , 733.462  , 644.80695,\n",
       "       663.4039 , 722.5704 , 717.17255, 807.63   , 785.9801 , 517.68115,\n",
       "       533.3883 , 763.3551 , 440.04047, 503.6037 , 712.4901 , 580.09503,\n",
       "       475.16574, 806.9216 , 553.9258 , 510.76596, 832.87665, 538.24457,\n",
       "       526.0276 , 512.26575, 431.17212, 531.42035, 593.36456, 465.70288,\n",
       "       537.24255, 659.38794, 571.6956 , 676.08154, 664.078  , 407.42776,\n",
       "       558.6771 , 762.3335 , 532.10925, 522.2234 , 538.8782 , 671.53265,\n",
       "       653.69824, 426.133  , 419.0551 , 665.1521 , 606.9479 , 611.64624,\n",
       "       581.76294, 536.57806, 626.7425 , 782.28516, 658.2126 , 508.0524 ,\n",
       "       636.103  , 599.56757, 405.47968, 566.467  , 473.769  , 569.2751 ,\n",
       "       612.67633, 662.732  , 478.02548, 739.03235, 541.0814 , 706.4493 ,\n",
       "       450.13287, 753.38776, 513.21   , 829.34143, 756.1084 , 570.40826,\n",
       "       828.80524, 841.1533 , 820.29517, 557.1799 , 814.7142 , 469.32874,\n",
       "       739.86664, 778.3057 , 518.15784, 842.3899 , 693.79047, 790.0057 ,\n",
       "       618.4778 , 431.67575, 396.20084, 727.95044, 813.39465, 399.77805,\n",
       "       469.42822, 601.1132 , 623.56866, 613.18634, 738.4881 , 741.3175 ,\n",
       "       439.78128, 805.4794 , 644.9813 , 483.38065, 501.4654 , 443.66156,\n",
       "       595.66235, 765.7085 , 683.4122 , 649.4613 , 525.74744, 822.60657,\n",
       "       654.67523, 697.8954 , 657.30804, 706.75726, 639.1406 , 554.28937,\n",
       "       531.2099 , 732.5051 , 627.0838 , 580.7926 , 825.17834, 708.81165,\n",
       "       552.86145, 511.97272, 573.7314 , 567.8988 , 556.7958 , 431.3284 ,\n",
       "       458.3193 , 668.852  , 627.9395 , 491.38266, 747.0069 , 423.82022,\n",
       "       788.58923, 826.716  , 512.4188 , 638.5622 , 500.92987, 439.55765,\n",
       "       478.75452, 729.0251 , 740.0985 , 581.04987, 536.673  , 568.42755,\n",
       "       779.11206, 796.25977, 478.9484 , 496.72772, 671.42175, 702.41144,\n",
       "       495.72247, 641.22375, 510.95654, 490.11752, 710.75977, 579.9067 ,\n",
       "       811.5488 , 491.7764 , 556.06226, 771.5645 , 710.8467 , 688.5405 ,\n",
       "       482.72687, 436.53598, 552.3975 , 737.2938 , 426.86765, 425.12943,\n",
       "       390.51764, 528.8031 , 441.17902, 777.27625, 491.5197 , 802.1529 ,\n",
       "       475.94754, 586.0794 , 479.83057, 376.5365 , 516.45215, 511.93158,\n",
       "       601.89264, 669.8212 , 762.2962 , 565.0595 , 754.73175, 723.9804 ,\n",
       "       660.0353 , 609.2952 , 618.5562 , 656.92737, 359.08853, 598.8263 ,\n",
       "       700.95935, 493.71893, 446.36325, 619.2758 , 594.14557, 752.09485,\n",
       "       688.4905 , 461.14066, 615.3375 , 578.453  , 836.04205, 711.5793 ,\n",
       "       514.741  , 582.56946, 637.71936, 815.19037, 829.8268 , 466.21716,\n",
       "       527.02875, 542.7635 , 507.415  , 490.0069 , 349.01685, 624.8587 ,\n",
       "       493.5765 , 604.1833 , 446.7274 , 790.5136 , 618.1051 , 526.9334 ,\n",
       "       707.38043, 765.51636, 781.3096 , 358.42093, 383.13025, 473.15717,\n",
       "       581.5207 , 563.9502 , 540.68915, 511.7767 , 758.2475 , 641.4436 ,\n",
       "       436.05307, 467.18823, 789.2367 , 490.9735 , 501.95627, 764.8204 ,\n",
       "       410.87512, 406.732  , 790.37354, 673.632  , 734.8064 , 841.96466,\n",
       "       604.8173 , 665.62317, 757.5777 , 536.04126, 392.49567, 600.7003 ,\n",
       "       739.7409 , 708.4168 , 504.76865, 593.6316 , 578.0971 , 556.1502 ,\n",
       "       837.4817 , 585.06537, 704.39514, 590.4175 , 533.787  , 677.6925 ,\n",
       "       786.7793 , 474.0142 , 775.67444, 560.32446, 417.8865 , 833.56854,\n",
       "       690.82904, 710.5992 , 358.69495, 341.326  , 773.44293, 446.96213,\n",
       "       759.0369 , 573.8313 , 753.7862 , 571.84155, 763.2884 , 574.16516,\n",
       "       586.96796, 750.0471 , 482.0415 , 657.3591 , 677.2548 , 544.4046 ,\n",
       "       737.3134 , 785.3802 , 713.8215 , 533.798  , 359.69193, 781.49023,\n",
       "       538.5959 , 577.8913 , 396.1253 , 761.8502 , 797.2255 , 550.6744 ,\n",
       "       499.1341 , 524.7116 , 841.6662 , 601.4073 , 631.7615 , 764.27826,\n",
       "       723.7108 , 517.18805, 663.1261 , 479.1542 , 634.5361 , 378.10242,\n",
       "       580.02496, 760.2881 , 586.623  , 839.9491 , 575.98584, 734.1111 ,\n",
       "       576.3376 , 567.2124 , 819.7391 , 478.36133, 501.67233, 591.70197,\n",
       "       807.2769 , 584.6812 , 715.5648 , 492.92316, 821.22314, 636.8615 ,\n",
       "       527.55286, 775.7089 , 688.8046 , 682.0364 , 483.63025, 726.4473 ,\n",
       "       641.1474 , 821.8898 , 454.58344, 456.97836, 467.3612 , 548.1914 ,\n",
       "       487.11957, 687.48486, 758.4646 , 688.22363, 556.21027, 612.4775 ,\n",
       "       555.95264, 366.92435, 553.7473 , 804.7489 , 377.28363, 581.4161 ,\n",
       "       566.76337, 595.2462 , 626.95734, 676.6699 , 813.8164 , 575.87085,\n",
       "       835.03143, 518.86206, 525.30664, 528.24426, 314.1541 , 709.695  ,\n",
       "       626.80865, 737.325  , 774.9628 , 559.68243, 358.51047, 345.63568,\n",
       "       482.31012, 805.44666, 770.257  , 766.78577, 713.8083 , 651.48236,\n",
       "       551.9177 , 654.40326, 717.2918 , 681.183  , 600.9918 , 612.68616,\n",
       "       389.806  , 689.4703 , 519.55286, 522.9928 , 494.25186, 473.68585,\n",
       "       502.13593, 513.7722 , 618.91656, 573.5359 , 519.84406, 692.7325 ,\n",
       "       805.1913 , 378.5134 , 762.6215 , 627.1367 , 581.8389 , 599.37946,\n",
       "       833.9155 , 589.92615, 649.5425 , 556.8063 , 604.80536, 778.8568 ,\n",
       "       523.2037 , 666.80444, 520.2152 , 421.4307 , 611.0557 , 623.7709 ,\n",
       "       334.6723 , 587.7603 , 694.8131 , 708.9457 , 548.361  , 595.7663 ,\n",
       "       719.2715 , 342.1947 , 774.9926 , 729.5794 , 510.19305, 508.66168,\n",
       "       788.62445, 576.7508 , 345.41156, 730.83606, 758.3974 , 520.778  ,\n",
       "       332.7306 , 499.18378, 730.19055, 806.2838 , 369.40988, 528.79144,\n",
       "       655.9411 , 794.78656, 825.9243 , 764.2264 , 693.73   , 562.37   ,\n",
       "       794.25336, 658.27716, 820.40643, 483.534  , 531.33875, 682.7906 ,\n",
       "       724.3943 , 794.76996, 517.9627 , 809.05115, 459.42087, 415.29645,\n",
       "       419.3813 , 757.3696 , 573.38824, 663.12634, 609.2036 , 763.3234 ,\n",
       "       531.12714, 601.9834 , 652.5568 , 805.5045 , 640.09546, 564.3511 ,\n",
       "       500.22232, 835.4611 , 632.6742 , 474.68735, 463.8228 , 449.41913,\n",
       "       696.31055, 538.66925, 732.8225 , 524.228  , 527.90295, 709.8039 ,\n",
       "       478.8304 , 473.01688, 828.82056, 611.63385, 654.1317 , 805.3564 ,\n",
       "       815.18787, 622.4749 , 591.501  , 811.8843 , 406.6229 , 629.31683,\n",
       "       786.8657 , 390.6628 , 380.0428 , 536.3174 , 765.31195, 698.3231 ,\n",
       "       434.0887 , 597.1385 , 540.1361 , 680.48975, 732.1115 , 573.8505 ,\n",
       "       749.5173 , 519.96124, 670.79596, 630.5017 , 558.876  , 813.75525,\n",
       "       529.40576, 818.60785, 671.1237 , 813.97784, 828.1309 , 620.85504,\n",
       "       598.72253, 400.1615 , 816.0585 , 583.6434 ], dtype=float32)>"
      ]
     },
     "execution_count": 47,
     "metadata": {},
     "output_type": "execute_result"
    }
   ],
   "source": [
    "hazard_fn = generate_pairwise_hazard_fn(farm_distance_matrix=farm_distances, farm_characteristics_data=farm_types)\n",
    "tf.einsum('ij -> i', hazard_fn([500.0,0.7]))"
   ]
  },
  {
   "cell_type": "code",
   "execution_count": 48,
   "id": "6b9a2155",
   "metadata": {
    "ExecuteTime": {
     "end_time": "2023-07-01T00:11:31.325273Z",
     "start_time": "2023-07-01T00:11:31.321987Z"
    }
   },
   "outputs": [],
   "source": [
    "# make rate fn for simulation \n",
    "def make_rate_fn(parameters):\n",
    "    # keep data variables and parameters on the outside\n",
    "    def rate_fn(t, state):\n",
    "        # t and state change with each iteration of the Gillespie so they are\n",
    "        # a loop variable and thus inside the rate_fn\n",
    "        si_rate = tf.einsum('ij -> i', hazard_fn(parameters))\n",
    "        ir_rate = tf.broadcast_to([70.0], shape=si_rate.shape)\n",
    "        return tf.stack([si_rate, ir_rate], axis=0)  # [R x M]\n",
    "    return rate_fn"
   ]
  },
  {
   "cell_type": "code",
   "execution_count": 49,
   "id": "0b3e6375",
   "metadata": {
    "ExecuteTime": {
     "end_time": "2023-07-01T00:11:31.336970Z",
     "start_time": "2023-07-01T00:11:31.327636Z"
    }
   },
   "outputs": [
    {
     "data": {
      "text/plain": [
       "<tf.Tensor: shape=(2, 1000), dtype=float32, numpy=\n",
       "array([[417.18063, 415.5016 , 341.01025, ..., 278.43665, 555.557  ,\n",
       "        398.46707],\n",
       "       [ 70.     ,  70.     ,  70.     , ...,  70.     ,  70.     ,\n",
       "         70.     ]], dtype=float32)>"
      ]
     },
     "execution_count": 49,
     "metadata": {},
     "output_type": "execute_result"
    }
   ],
   "source": [
    "make_rate_fn([500.0, 0.07])(1,np.array([[9],\n",
    "                          [1],\n",
    "                          [0]], dtype=np.float32) )"
   ]
  },
  {
   "cell_type": "code",
   "execution_count": 50,
   "id": "73a79468",
   "metadata": {
    "ExecuteTime": {
     "end_time": "2023-07-01T00:11:31.342529Z",
     "start_time": "2023-07-01T00:11:31.339035Z"
    }
   },
   "outputs": [],
   "source": [
    "# Define variables to govern epidemic\n",
    "sir_graph = np.array([[-1, 0],\n",
    "                      [1, -1],\n",
    "                      [0, 1]], dtype=np.float32)\n",
    "\n",
    "\n",
    "initial_state = np.array([[900],\n",
    "                          [100],\n",
    "                          [0]], dtype=np.float32)"
   ]
  },
  {
   "cell_type": "code",
   "execution_count": 51,
   "id": "5b7b69c6",
   "metadata": {
    "ExecuteTime": {
     "end_time": "2023-07-01T00:11:31.353810Z",
     "start_time": "2023-07-01T00:11:31.345639Z"
    }
   },
   "outputs": [],
   "source": [
    "example_epidemic = epi_sim.ContinuousTimeStateTransitionModelSimulation(\n",
    "    incidence_matrix=sir_graph,\n",
    "    initial_state=initial_state,\n",
    "    transition_rate_fn=make_rate_fn([500,0.07])\n",
    ")"
   ]
  },
  {
   "cell_type": "code",
   "execution_count": 52,
   "id": "7e9aa83a",
   "metadata": {
    "ExecuteTime": {
     "end_time": "2023-07-01T00:12:17.763430Z",
     "start_time": "2023-07-01T00:11:31.355718Z"
    }
   },
   "outputs": [],
   "source": [
    "# simulate the epidemic\n",
    "epidemic1 = example_epidemic.simulate_continuous_time_state_transition_model()\n",
    "time_stamps, transition_types, individual = example_epidemic.simulate_continuous_time_state_transition_model()"
   ]
  },
  {
   "cell_type": "code",
   "execution_count": 53,
   "id": "06a5ceb0",
   "metadata": {
    "ExecuteTime": {
     "end_time": "2023-07-01T00:12:17.773105Z",
     "start_time": "2023-07-01T00:12:17.765627Z"
    }
   },
   "outputs": [
    {
     "data": {
      "text/plain": [
       "(<tf.Tensor: shape=(1900,), dtype=float32, numpy=\n",
       " array([6.4472101e-07, 3.2197609e-06, 3.4076393e-06, ..., 8.5582845e-02,\n",
       "        9.0240113e-02, 9.1715179e-02], dtype=float32)>,\n",
       " <tf.Tensor: shape=(1900,), dtype=int32, numpy=array([0, 0, 0, ..., 1, 1, 1], dtype=int32)>,\n",
       " <tf.Tensor: shape=(1900,), dtype=int32, numpy=array([158, 882, 237, ..., 813, 314, 121], dtype=int32)>)"
      ]
     },
     "execution_count": 53,
     "metadata": {},
     "output_type": "execute_result"
    }
   ],
   "source": [
    "time_stamps, transition_types, individual"
   ]
  },
  {
   "cell_type": "code",
   "execution_count": 54,
   "id": "6bc077cd",
   "metadata": {
    "ExecuteTime": {
     "end_time": "2023-07-01T00:12:18.501023Z",
     "start_time": "2023-07-01T00:12:17.775907Z"
    }
   },
   "outputs": [],
   "source": [
    "long_form_epi1 = epi_sim._compute_state(initial_state= epi_sim._expand_state(initial_state),\n",
    "                      event_list= epidemic1,\n",
    "                      incidence_matrix=sir_graph)"
   ]
  },
  {
   "cell_type": "code",
   "execution_count": 55,
   "id": "89f4eb18",
   "metadata": {
    "ExecuteTime": {
     "end_time": "2023-07-01T00:12:18.510232Z",
     "start_time": "2023-07-01T00:12:18.504035Z"
    }
   },
   "outputs": [
    {
     "data": {
      "text/plain": [
       "(<tf.Tensor: shape=(1901,), dtype=float32, numpy=\n",
       " array([0.0000000e+00, 1.9263273e-06, 4.4346216e-06, ..., 1.8149574e+01,\n",
       "        1.8245718e+01, 1.8342566e+01], dtype=float32)>,\n",
       " <tf.Tensor: shape=(1901, 3, 1000), dtype=float32, numpy=\n",
       " array([[[1., 1., 1., ..., 0., 0., 0.],\n",
       "         [0., 0., 0., ..., 1., 1., 1.],\n",
       "         [0., 0., 0., ..., 0., 0., 0.]],\n",
       " \n",
       "        [[1., 1., 1., ..., 0., 0., 0.],\n",
       "         [0., 0., 0., ..., 1., 1., 1.],\n",
       "         [0., 0., 0., ..., 0., 0., 0.]],\n",
       " \n",
       "        [[1., 1., 1., ..., 0., 0., 0.],\n",
       "         [0., 0., 0., ..., 1., 1., 1.],\n",
       "         [0., 0., 0., ..., 0., 0., 0.]],\n",
       " \n",
       "        ...,\n",
       " \n",
       "        [[0., 0., 0., ..., 0., 0., 0.],\n",
       "         [0., 0., 0., ..., 0., 0., 0.],\n",
       "         [1., 1., 1., ..., 1., 1., 1.]],\n",
       " \n",
       "        [[0., 0., 0., ..., 0., 0., 0.],\n",
       "         [0., 0., 0., ..., 0., 0., 0.],\n",
       "         [1., 1., 1., ..., 1., 1., 1.]],\n",
       " \n",
       "        [[0., 0., 0., ..., 0., 0., 0.],\n",
       "         [0., 0., 0., ..., 0., 0., 0.],\n",
       "         [1., 1., 1., ..., 1., 1., 1.]]], dtype=float32)>)"
      ]
     },
     "execution_count": 55,
     "metadata": {},
     "output_type": "execute_result"
    }
   ],
   "source": [
    "long_form_epi1"
   ]
  },
  {
   "cell_type": "code",
   "execution_count": 56,
   "id": "ba2813f5",
   "metadata": {
    "ExecuteTime": {
     "end_time": "2023-07-01T00:12:18.519254Z",
     "start_time": "2023-07-01T00:12:18.513125Z"
    }
   },
   "outputs": [],
   "source": [
    "summary = tf.concat([tf.expand_dims(long_form_epi1[0], axis=1, name='time'),\n",
    "                         tf.reduce_sum(long_form_epi1[1], axis=-1)],\n",
    "                        axis=-1,\n",
    "                        name=\"full_epidemic\")\n",
    "format_summary = pd.DataFrame(summary.numpy())\n",
    "\n",
    "new_names = dict(zip(format_summary.columns,\n",
    "                         ['time'] + ['S', 'I', 'R'])\n",
    "                     )\n",
    "\n",
    "format_summary = format_summary.rename(columns=new_names)"
   ]
  },
  {
   "cell_type": "code",
   "execution_count": 57,
   "id": "f5410906",
   "metadata": {
    "ExecuteTime": {
     "end_time": "2023-07-01T00:12:18.742238Z",
     "start_time": "2023-07-01T00:12:18.521131Z"
    }
   },
   "outputs": [
    {
     "data": {
      "text/plain": [
       "Text(0.5, 1.0, 'Simulated Epidemic')"
      ]
     },
     "execution_count": 57,
     "metadata": {},
     "output_type": "execute_result"
    },
    {
     "data": {
      "image/png": "[encoded data removed]",
      "text/plain": [
       "<Figure size 1500x1000 with 1 Axes>"
      ]
     },
     "metadata": {},
     "output_type": "display_data"
    }
   ],
   "source": [
    "format_summary.iloc[:, ].plot(x='time')\n",
    "plt.title('Simulated Epidemic')"
   ]
  },
  {
   "cell_type": "markdown",
   "id": "6f602be8",
   "metadata": {},
   "source": [
    "# Inference \n",
    "## Centred MCMC "
   ]
  },
  {
   "cell_type": "code",
   "execution_count": 58,
   "id": "28e911a4",
   "metadata": {
    "ExecuteTime": {
     "end_time": "2023-07-01T00:12:18.755135Z",
     "start_time": "2023-07-01T00:12:18.744550Z"
    }
   },
   "outputs": [],
   "source": [
    "@tf.function(jit_compile=True)\n",
    "def centred_MCMC(target_log_prob_fn, initial_parameter_values, iter=25):\n",
    "    '''\n",
    "    MCMC sampler for centred parameterization of a \n",
    "    partially observed epidemic. Data generated from \n",
    "    SIR model. \n",
    "    '''\n",
    "\n",
    "    dtype = np.float32\n",
    "    initial_parameter_values = tf.convert_to_tensor(initial_parameter_values,\n",
    "                                                    dtype=dtype)\n",
    "\n",
    "    # generate initial values for missing data\n",
    "    infection_times = removal_times - 5.0\n",
    "\n",
    "    def single_iteration(parameters, infection_times):\n",
    "        '''\n",
    "        Define a single iteration of the sampler. We first update the parameters,\n",
    "        followed by updating an infection time. \n",
    "        '''\n",
    "\n",
    "        # 1(a) Propose new parameter values from Q(.)\n",
    "        new_param = tfd.Normal(loc=parameters,\n",
    "                               scale=[0.02, 0.01, 0.001, 0.01]).sample()\n",
    "\n",
    "        # 1(b) Accept/reject\n",
    "        a1 = target_log_prob_fn(new_param, infection_times) - \\\n",
    "            target_log_prob_fn(parameters, infection_times)\n",
    "\n",
    "        # 1(c) Check\n",
    "        def parameter_true_fn():\n",
    "            return new_param, 1\n",
    "\n",
    "        def parameter_false_fn():\n",
    "            return parameters, 0\n",
    "\n",
    "        is_param_accept = tf.math.log(tfd.Uniform().sample()) < a1\n",
    "\n",
    "        parameters, result_param = tf.cond(is_param_accept,\n",
    "                                           parameter_true_fn,\n",
    "                                           parameter_false_fn)\n",
    "\n",
    "        # 2(a) Propose new infection time from Q_i(.)\n",
    "        # Part i - choose a person\n",
    "        individual_ID = tfd.Categorical(\n",
    "            logits=tf.zeros_like(removal_times)).sample()\n",
    "        # Part ii - propose new infection time\n",
    "        proposal = tfd.Exponential(rate=1.5)\n",
    "        new_infectious_period = proposal.sample()\n",
    "\n",
    "        current_infectious_periods = removal_times - infection_times\n",
    "        new_infectious_periods = tf.tensor_scatter_nd_update(\n",
    "            tensor=current_infectious_periods,\n",
    "            indices=[[individual_ID]],\n",
    "            updates=[new_infectious_period]\n",
    "        )\n",
    "        new_infection_times = removal_times - new_infectious_periods\n",
    "\n",
    "        # 2(b) Accept/reject\n",
    "        a2 = (\n",
    "            target_log_prob_fn(parameters, new_infection_times)\n",
    "            - target_log_prob_fn(parameters, infection_times)\n",
    "            + proposal.log_prob(\n",
    "                tf.gather(current_infectious_periods, individual_ID)\n",
    "            )\n",
    "            - proposal.log_prob(new_infectious_period)\n",
    "        )\n",
    "\n",
    "        # 2(c) Check\n",
    "        def infection_true_fn():\n",
    "            return new_infection_times, 1\n",
    "\n",
    "        def infection_false_fn():\n",
    "            return infection_times, 0\n",
    "\n",
    "        is_infection_accept = tf.math.log(tfd.Uniform().sample()) < a2\n",
    "\n",
    "        infection_times, result_inf = tf.cond(is_infection_accept,\n",
    "                                              infection_true_fn,\n",
    "                                              infection_false_fn)\n",
    "\n",
    "        return x\n",
    "\n",
    "    # Construct while loop here\n",
    "    parameter_samples = tf.TensorArray(\n",
    "        initial_parameter_values.dtype, size=iter)\n",
    "    infection_times_samples = tf.TensorArray(infection_times.dtype, size=iter)\n",
    "    results = tf.TensorArray(infection_times.dtype, size=iter)\n",
    "\n",
    "    def cond(i,\n",
    "             current_parameters,\n",
    "             current_infection_times,\n",
    "             parameter_accum,\n",
    "             infection_times_accum,\n",
    "             results_accum):\n",
    "        return i < iter\n",
    "\n",
    "    def body(i,\n",
    "             current_parameters,\n",
    "             current_infection_times,\n",
    "             parameter_accum,\n",
    "             infection_times_accum,\n",
    "             results_accum):\n",
    "\n",
    "        (next_parameters,\n",
    "         next_infection_times,\n",
    "         results) = single_iteration(parameters=current_parameters,\n",
    "                                     infection_times=current_infection_times)\n",
    "\n",
    "        parameter_accum = parameter_accum.write(i, next_parameters)\n",
    "        infection_times_accum = infection_times_accum.write(\n",
    "            i, next_infection_times)\n",
    "        results_accum = results_accum.write(i, results)\n",
    "\n",
    "        return (i+1,\n",
    "                next_parameters,\n",
    "                next_infection_times,\n",
    "                parameter_accum,\n",
    "                infection_times_accum,\n",
    "                results_accum)\n",
    "\n",
    "    (\n",
    "        _1,\n",
    "        _2,\n",
    "        _3,\n",
    "        parameter_samples,\n",
    "        infection_times_samples,\n",
    "        results) = tf.while_loop(cond=cond,\n",
    "                                 body=body,\n",
    "                                 loop_vars=(0,\n",
    "                                            initial_parameter_values,\n",
    "                                            infection_times,\n",
    "                                            parameter_samples,\n",
    "                                            infection_times_samples,\n",
    "                                            results)\n",
    "                                 )\n",
    "    return parameter_samples.stack(), infection_times_samples.stack(), results.stack()"
   ]
  },
  {
   "cell_type": "markdown",
   "id": "3d40fb50",
   "metadata": {
    "ExecuteTime": {
     "end_time": "2023-06-08T14:38:23.810447Z",
     "start_time": "2023-06-08T14:38:23.741401Z"
    }
   },
   "source": [
    "## Target log prob "
   ]
  },
  {
   "cell_type": "code",
   "execution_count": 103,
   "id": "eff3c3a5",
   "metadata": {
    "ExecuteTime": {
     "end_time": "2023-07-02T14:09:18.411347Z",
     "start_time": "2023-07-02T14:09:18.398900Z"
    }
   },
   "outputs": [],
   "source": [
    "formatted_data = pd.DataFrame({'time_stamp':time_stamps, 'event_type':transition_types, 'ind_id':individual})"
   ]
  },
  {
   "cell_type": "code",
   "execution_count": 104,
   "id": "461ccc7d",
   "metadata": {
    "ExecuteTime": {
     "end_time": "2023-07-02T14:09:18.427429Z",
     "start_time": "2023-07-02T14:09:18.413820Z"
    }
   },
   "outputs": [
    {
     "data": {
      "text/html": [
       "<div>\n",
       "<style scoped>\n",
       "    .dataframe tbody tr th:only-of-type {\n",
       "        vertical-align: middle;\n",
       "    }\n",
       "\n",
       "    .dataframe tbody tr th {\n",
       "        vertical-align: top;\n",
       "    }\n",
       "\n",
       "    .dataframe thead th {\n",
       "        text-align: right;\n",
       "    }\n",
       "</style>\n",
       "<table border=\"1\" class=\"dataframe\">\n",
       "  <thead>\n",
       "    <tr style=\"text-align: right;\">\n",
       "      <th></th>\n",
       "      <th>time_stamp</th>\n",
       "      <th>event_type</th>\n",
       "      <th>ind_id</th>\n",
       "    </tr>\n",
       "  </thead>\n",
       "  <tbody>\n",
       "    <tr>\n",
       "      <th>116</th>\n",
       "      <td>0.000318</td>\n",
       "      <td>0</td>\n",
       "      <td>0</td>\n",
       "    </tr>\n",
       "    <tr>\n",
       "      <th>1399</th>\n",
       "      <td>0.012822</td>\n",
       "      <td>1</td>\n",
       "      <td>0</td>\n",
       "    </tr>\n",
       "    <tr>\n",
       "      <th>877</th>\n",
       "      <td>0.004347</td>\n",
       "      <td>0</td>\n",
       "      <td>1</td>\n",
       "    </tr>\n",
       "    <tr>\n",
       "      <th>917</th>\n",
       "      <td>0.004611</td>\n",
       "      <td>1</td>\n",
       "      <td>1</td>\n",
       "    </tr>\n",
       "    <tr>\n",
       "      <th>1292</th>\n",
       "      <td>0.010269</td>\n",
       "      <td>1</td>\n",
       "      <td>2</td>\n",
       "    </tr>\n",
       "    <tr>\n",
       "      <th>...</th>\n",
       "      <td>...</td>\n",
       "      <td>...</td>\n",
       "      <td>...</td>\n",
       "    </tr>\n",
       "    <tr>\n",
       "      <th>1128</th>\n",
       "      <td>0.007504</td>\n",
       "      <td>1</td>\n",
       "      <td>995</td>\n",
       "    </tr>\n",
       "    <tr>\n",
       "      <th>1647</th>\n",
       "      <td>0.023291</td>\n",
       "      <td>1</td>\n",
       "      <td>996</td>\n",
       "    </tr>\n",
       "    <tr>\n",
       "      <th>1707</th>\n",
       "      <td>0.026945</td>\n",
       "      <td>1</td>\n",
       "      <td>997</td>\n",
       "    </tr>\n",
       "    <tr>\n",
       "      <th>1753</th>\n",
       "      <td>0.029887</td>\n",
       "      <td>1</td>\n",
       "      <td>998</td>\n",
       "    </tr>\n",
       "    <tr>\n",
       "      <th>451</th>\n",
       "      <td>0.001492</td>\n",
       "      <td>1</td>\n",
       "      <td>999</td>\n",
       "    </tr>\n",
       "  </tbody>\n",
       "</table>\n",
       "<p>1900 rows × 3 columns</p>\n",
       "</div>"
      ],
      "text/plain": [
       "      time_stamp  event_type  ind_id\n",
       "116     0.000318           0       0\n",
       "1399    0.012822           1       0\n",
       "877     0.004347           0       1\n",
       "917     0.004611           1       1\n",
       "1292    0.010269           1       2\n",
       "...          ...         ...     ...\n",
       "1128    0.007504           1     995\n",
       "1647    0.023291           1     996\n",
       "1707    0.026945           1     997\n",
       "1753    0.029887           1     998\n",
       "451     0.001492           1     999\n",
       "\n",
       "[1900 rows x 3 columns]"
      ]
     },
     "execution_count": 104,
     "metadata": {},
     "output_type": "execute_result"
    }
   ],
   "source": [
    "formatted_data.sort_values('ind_id')"
   ]
  },
  {
   "cell_type": "code",
   "execution_count": 112,
   "id": "04d31d49",
   "metadata": {
    "ExecuteTime": {
     "end_time": "2023-07-02T14:14:22.970331Z",
     "start_time": "2023-07-02T14:14:22.955617Z"
    }
   },
   "outputs": [
    {
     "name": "stderr",
     "output_type": "stream",
     "text": [
      "/var/folders/_q/07k1y14x087brt3tmd2bs1740000gn/T/ipykernel_96783/1499167911.py:1: FutureWarning: This dataframe has a column name that matches the 'value_name' column name of the resulting Dataframe. In the future this will raise an error, please set the 'value_name' parameter of DataFrame.melt to a unique name.\n",
      "  event_time_data = formatted_data.melt(id_vars=['ind_id', 'event_type'],\n"
     ]
    }
   ],
   "source": [
    "event_time_data = formatted_data.melt(id_vars=['ind_id', 'event_type'],\n",
    "                                      value_vars=['time_stamp'],\n",
    "                                      value_name='time_stamp').sort_values('ind_id').pivot(index='ind_id',\n",
    "                                                                                           columns='event_type',\n",
    "                                                                                           values='time_stamp').fillna(0.0)"
   ]
  },
  {
   "cell_type": "code",
   "execution_count": 119,
   "id": "d17ff325",
   "metadata": {
    "ExecuteTime": {
     "end_time": "2023-07-03T01:20:23.410115Z",
     "start_time": "2023-07-03T01:20:23.254398Z"
    }
   },
   "outputs": [
    {
     "data": {
      "text/html": [
       "<div>\n",
       "<style scoped>\n",
       "    .dataframe tbody tr th:only-of-type {\n",
       "        vertical-align: middle;\n",
       "    }\n",
       "\n",
       "    .dataframe tbody tr th {\n",
       "        vertical-align: top;\n",
       "    }\n",
       "\n",
       "    .dataframe thead th {\n",
       "        text-align: right;\n",
       "    }\n",
       "</style>\n",
       "<table border=\"1\" class=\"dataframe\">\n",
       "  <thead>\n",
       "    <tr style=\"text-align: right;\">\n",
       "      <th>event_type</th>\n",
       "      <th>0</th>\n",
       "      <th>1</th>\n",
       "    </tr>\n",
       "    <tr>\n",
       "      <th>ind_id</th>\n",
       "      <th></th>\n",
       "      <th></th>\n",
       "    </tr>\n",
       "  </thead>\n",
       "  <tbody>\n",
       "    <tr>\n",
       "      <th>0</th>\n",
       "      <td>0.000318</td>\n",
       "      <td>0.012822</td>\n",
       "    </tr>\n",
       "    <tr>\n",
       "      <th>1</th>\n",
       "      <td>0.004347</td>\n",
       "      <td>0.004611</td>\n",
       "    </tr>\n",
       "    <tr>\n",
       "      <th>2</th>\n",
       "      <td>0.001950</td>\n",
       "      <td>0.010269</td>\n",
       "    </tr>\n",
       "    <tr>\n",
       "      <th>3</th>\n",
       "      <td>0.004626</td>\n",
       "      <td>0.036492</td>\n",
       "    </tr>\n",
       "    <tr>\n",
       "      <th>4</th>\n",
       "      <td>0.000548</td>\n",
       "      <td>0.002883</td>\n",
       "    </tr>\n",
       "    <tr>\n",
       "      <th>...</th>\n",
       "      <td>...</td>\n",
       "      <td>...</td>\n",
       "    </tr>\n",
       "    <tr>\n",
       "      <th>995</th>\n",
       "      <td>0.000000</td>\n",
       "      <td>0.007504</td>\n",
       "    </tr>\n",
       "    <tr>\n",
       "      <th>996</th>\n",
       "      <td>0.000000</td>\n",
       "      <td>0.023291</td>\n",
       "    </tr>\n",
       "    <tr>\n",
       "      <th>997</th>\n",
       "      <td>0.000000</td>\n",
       "      <td>0.026945</td>\n",
       "    </tr>\n",
       "    <tr>\n",
       "      <th>998</th>\n",
       "      <td>0.000000</td>\n",
       "      <td>0.029887</td>\n",
       "    </tr>\n",
       "    <tr>\n",
       "      <th>999</th>\n",
       "      <td>0.000000</td>\n",
       "      <td>0.001492</td>\n",
       "    </tr>\n",
       "  </tbody>\n",
       "</table>\n",
       "<p>1000 rows × 2 columns</p>\n",
       "</div>"
      ],
      "text/plain": [
       "event_type         0         1\n",
       "ind_id                        \n",
       "0           0.000318  0.012822\n",
       "1           0.004347  0.004611\n",
       "2           0.001950  0.010269\n",
       "3           0.004626  0.036492\n",
       "4           0.000548  0.002883\n",
       "...              ...       ...\n",
       "995         0.000000  0.007504\n",
       "996         0.000000  0.023291\n",
       "997         0.000000  0.026945\n",
       "998         0.000000  0.029887\n",
       "999         0.000000  0.001492\n",
       "\n",
       "[1000 rows x 2 columns]"
      ]
     },
     "execution_count": 119,
     "metadata": {},
     "output_type": "execute_result"
    }
   ],
   "source": [
    "event_time_data"
   ]
  },
  {
   "cell_type": "code",
   "execution_count": 126,
   "id": "142b7c84",
   "metadata": {
    "ExecuteTime": {
     "end_time": "2023-07-03T01:31:53.624961Z",
     "start_time": "2023-07-03T01:31:53.617495Z"
    }
   },
   "outputs": [
    {
     "data": {
      "text/plain": [
       "array([[6.44721013e-07, 1.58000000e+02, 0.00000000e+00],\n",
       "       [3.21976086e-06, 8.82000000e+02, 0.00000000e+00],\n",
       "       [3.40763927e-06, 2.37000000e+02, 0.00000000e+00],\n",
       "       ...,\n",
       "       [8.55828449e-02, 8.13000000e+02, 1.00000000e+00],\n",
       "       [9.02401134e-02, 3.14000000e+02, 1.00000000e+00],\n",
       "       [9.17151794e-02, 1.21000000e+02, 1.00000000e+00]])"
      ]
     },
     "execution_count": 126,
     "metadata": {},
     "output_type": "execute_result"
    }
   ],
   "source": [
    "np.column_stack((time_stamps, individual,transition_types))"
   ]
  },
  {
   "cell_type": "code",
   "execution_count": 147,
   "id": "85602e1e",
   "metadata": {
    "ExecuteTime": {
     "end_time": "2023-07-03T04:25:52.156592Z",
     "start_time": "2023-07-03T04:25:52.147232Z"
    }
   },
   "outputs": [
    {
     "data": {
      "text/plain": [
       "<tf.Tensor: shape=(1000,), dtype=int32, numpy=\n",
       "array([951, 904, 913, 983, 965, 150, 971, 415, 969, 933, 696, 985, 766,\n",
       "       923, 248, 921, 939, 970, 291, 943, 912, 162, 273, 728,  89, 451,\n",
       "       375, 914, 324, 770, 317, 608, 271, 838, 796, 999, 725, 956, 142,\n",
       "       146, 752, 459, 510, 795, 616, 964, 129, 247, 437, 376, 410, 442,\n",
       "       498,  98, 645, 329, 940, 444, 188, 905, 395, 584, 267,  58, 386,\n",
       "       388, 435, 315, 254, 431, 581, 177,  16, 671, 535, 335, 858, 190,\n",
       "       596, 391, 726, 731, 387, 424, 926, 137, 698,  75,   4, 915, 554,\n",
       "       842, 394, 533, 181, 290, 657,  64, 135, 502, 360, 764, 769, 369,\n",
       "       326, 955, 238, 652, 690, 161, 642, 762, 610, 230, 734, 844, 344,\n",
       "       741, 204, 896, 748,  25, 792, 270, 637, 361, 508, 234, 486, 823,\n",
       "       938, 347, 257,  65, 473, 968, 664, 628,  73, 773, 860, 911, 292,\n",
       "       525, 282, 963, 219, 460, 556, 952, 182, 949, 491, 744, 713,  71,\n",
       "       778, 910, 758, 544, 592,  35, 607, 759, 371, 163, 559, 520, 684,\n",
       "       703, 126, 881, 159, 385, 149, 195,  18,   1, 986, 152, 475, 816,\n",
       "       327, 862, 425, 167, 102, 960, 928, 530, 988, 888, 887, 869, 973,\n",
       "        96, 452, 201, 243, 453, 785, 465,  50, 763, 241, 843, 662, 418,\n",
       "       144, 786, 774,  33,  92, 450, 400, 316, 466, 180,  32,  56, 536,\n",
       "       825, 366, 655, 814, 695, 727, 775, 428, 331, 564, 469, 540, 430,\n",
       "       454,  14, 605, 548, 320, 583, 909, 175, 990, 164, 733,  26, 828,\n",
       "       806, 626, 902, 893, 629, 300, 594, 476, 598,  68, 528, 798, 106,\n",
       "       932, 635, 506, 967, 840, 673, 199, 954, 589, 228,  57, 613, 817,\n",
       "       918, 467,  51, 134, 717, 691, 237, 138, 572, 612, 570, 346, 145,\n",
       "       936, 663, 256,  61, 621, 995, 357, 362, 111, 509, 854, 950,  95,\n",
       "        24,  45, 737, 249, 192, 675, 980, 477, 676,  42, 265, 804, 259,\n",
       "       665, 471, 489, 194, 743, 864, 197, 851, 715, 784, 447, 380, 767,\n",
       "        93, 179, 866, 549, 373,  28, 958, 343, 552, 165, 433, 365, 340,\n",
       "       631, 875, 679, 269, 739, 245,  38, 595, 934, 501, 325, 768,  69,\n",
       "       176, 649,  19, 275, 449, 286, 987, 694, 588, 685,  79, 322, 422,\n",
       "        11, 318, 402, 351, 824, 225, 260, 503, 614, 531, 630, 962, 930,\n",
       "       791, 667, 892, 590, 974, 735,  97, 901, 656,  63, 543, 187, 158,\n",
       "       790,  83, 863, 492, 606, 480, 891, 139, 982, 634, 712, 579, 719,\n",
       "       756, 517, 426, 261, 229, 855, 841, 871, 815,   2, 513, 890, 328,\n",
       "       532, 651, 611, 898, 481, 446, 266, 432, 339, 350, 441, 416, 434,\n",
       "        52,  54, 127, 157, 561, 107, 253, 591, 771, 456, 276, 721, 232,\n",
       "       117, 569,  20,  78,  88, 647, 550, 154, 602, 802, 666, 659, 738,\n",
       "       499, 218,  37, 382, 206, 296, 646, 894, 524, 124,   5, 603, 336,\n",
       "       604, 445, 312, 423, 472, 258, 574, 578, 576, 529, 383, 211, 122,\n",
       "       640, 609, 563, 101, 746, 776,  66, 793, 363, 993, 660, 845, 648,\n",
       "        47, 837, 493, 429,  85, 957, 573, 600, 687, 439, 221, 223,   0,\n",
       "        59, 636, 372, 832, 582, 427, 669, 119,  34, 313, 207, 448,  36,\n",
       "       309, 100, 821, 878, 178, 555,  53, 185, 682, 849, 747, 288, 396,\n",
       "       113, 379, 304, 562, 348, 907, 692, 263, 390, 857, 772, 757, 720,\n",
       "       485, 397, 301, 215, 897, 298, 978, 761, 409, 944, 155, 716, 585,\n",
       "       166,  90, 681, 542, 133, 526, 850, 848, 689, 236, 537, 959, 123,\n",
       "        60, 924, 906, 992, 213, 332, 991, 670,  62, 305, 700, 393, 217,\n",
       "       672, 310, 281, 618, 184, 323,  86, 411, 496,  31, 120, 284, 984,\n",
       "       169, 364, 953, 406, 751, 438, 470, 468, 781, 220, 214, 942,  99,\n",
       "       765, 779, 464, 847, 885, 723, 255, 227,  23, 834, 895, 330, 231,\n",
       "       879, 880, 788, 877, 977, 108, 760, 780, 381, 839, 235, 805, 287,\n",
       "       730, 368, 782, 353, 378, 889, 370, 289, 625, 352, 112, 946, 961,\n",
       "       118, 511, 872, 874, 870, 455, 104, 507, 420, 295, 945, 519, 354,\n",
       "       749, 615, 833, 989, 553, 419, 497,  80, 546,  87, 925, 377, 186,\n",
       "       623, 624, 512, 208, 140, 705, 414, 830, 233, 627, 803, 239, 706,\n",
       "        48, 644, 131, 994, 109,  41,  40, 168, 338, 948, 883, 643, 677,\n",
       "       686, 170, 861, 722, 311, 729, 873, 835, 859, 283,  15, 224, 523,\n",
       "       226, 174,  84, 650, 680,  55, 116, 147, 653, 392, 384, 800, 620,\n",
       "       593, 565, 356, 557, 527,  21,  91, 398, 307, 246,   8, 280, 702,\n",
       "       272, 404, 935, 941, 558, 285, 202, 996, 141, 151, 421, 242, 367,\n",
       "       515, 189, 302, 359, 597,  77, 505, 252, 216, 724, 575, 488, 586,\n",
       "        30, 205, 457, 125, 820, 711, 171, 483, 658, 203, 294, 547, 306,\n",
       "       132, 668, 732, 674, 500,  46, 587, 299, 389, 714, 708, 538, 929,\n",
       "       153, 319, 440, 886, 136, 632, 274, 787,  74, 641, 308, 115, 264,\n",
       "       903, 997, 160, 337, 443, 458, 707, 868, 210, 495,  10, 349,  49,\n",
       "       504, 413, 979, 128, 688, 560, 303, 262,  76, 297, 865, 633, 718,\n",
       "        13, 755, 742, 750,  12, 876, 580, 617, 931, 899, 853, 436, 334,\n",
       "       704, 417,  70, 867, 852, 408, 130, 143, 998, 412, 156, 794, 183,\n",
       "       808, 908, 789,  39, 333,  17, 831,  67, 919, 745, 619, 981, 105,\n",
       "       403, 173, 809,  22, 818, 829, 566,  82, 972,  27, 541, 797, 198,\n",
       "       810, 407, 399, 191, 661, 478, 976, 103, 639, 110, 474, 293, 654,\n",
       "       783, 567, 577, 836,  72, 321, 846, 916, 947, 490, 922,  44, 801,\n",
       "       487, 462, 638,   7, 568,   3, 917, 740, 358, 545, 209, 521, 819,\n",
       "        94, 244, 240, 250, 856, 683, 277, 697, 539, 212, 518, 693, 251,\n",
       "       882, 599, 193, 494, 279,   6, 148, 753, 927, 701, 278, 342, 355,\n",
       "       827, 268, 516, 484, 345, 920, 900, 736, 807,  81, 172, 799, 826,\n",
       "        29, 405, 114, 966, 534, 514, 200, 699, 551, 822, 374, 812, 777,\n",
       "       522, 975,  43, 622, 222,   9, 479, 463, 401, 461, 678, 710, 937,\n",
       "       709, 196, 811, 884, 341, 601, 754, 571, 482, 813, 314, 121],\n",
       "      dtype=int32)>"
      ]
     },
     "execution_count": 147,
     "metadata": {},
     "output_type": "execute_result"
    }
   ],
   "source": [
    "tf.gather(individual, np.argwhere(transition_types == 1).ravel())"
   ]
  },
  {
   "cell_type": "code",
   "execution_count": 156,
   "id": "53996362",
   "metadata": {
    "ExecuteTime": {
     "end_time": "2023-07-03T04:33:03.298871Z",
     "start_time": "2023-07-03T04:33:03.291688Z"
    }
   },
   "outputs": [],
   "source": [
    "simulated_removal_times = tf.gather(\n",
    "    time_stamps, np.argwhere(transition_types == 1).ravel())"
   ]
  },
  {
   "cell_type": "code",
   "execution_count": 157,
   "id": "63a7d88f",
   "metadata": {
    "ExecuteTime": {
     "end_time": "2023-07-03T04:33:12.743758Z",
     "start_time": "2023-07-03T04:33:12.737968Z"
    }
   },
   "outputs": [],
   "source": [
    "simulated_infection_times = tf.pad(tf.gather(time_stamps, np.argwhere(transition_types == 0).ravel()),\n",
    "                                   paddings=tf.constant([[0, 100]]))"
   ]
  },
  {
   "cell_type": "code",
   "execution_count": 161,
   "id": "ec16c84a",
   "metadata": {
    "ExecuteTime": {
     "end_time": "2023-07-03T04:35:26.094269Z",
     "start_time": "2023-07-03T04:35:26.082183Z"
    }
   },
   "outputs": [
    {
     "data": {
      "text/plain": [
       "<tf.Tensor: shape=(1000, 1000), dtype=float32, numpy=\n",
       "array([[0., 0., 0., ..., 1., 1., 1.],\n",
       "       [1., 0., 0., ..., 1., 1., 1.],\n",
       "       [1., 1., 0., ..., 1., 1., 1.],\n",
       "       ...,\n",
       "       [0., 0., 0., ..., 0., 0., 0.],\n",
       "       [0., 0., 0., ..., 0., 0., 0.],\n",
       "       [0., 0., 0., ..., 0., 0., 0.]], dtype=float32)>"
      ]
     },
     "execution_count": 161,
     "metadata": {},
     "output_type": "execute_result"
    }
   ],
   "source": [
    "generate_waifw(infection_times=simulated_infection_times,\n",
    "               removal_times=simulated_removal_times)"
   ]
  },
  {
   "cell_type": "code",
   "execution_count": 163,
   "id": "4058407d",
   "metadata": {
    "ExecuteTime": {
     "end_time": "2023-07-03T04:35:48.067899Z",
     "start_time": "2023-07-03T04:35:48.055905Z"
    }
   },
   "outputs": [
    {
     "data": {
      "text/plain": [
       "<tf.Tensor: shape=(1000, 1000), dtype=float32, numpy=\n",
       "array([[0.0000000e+00, 0.0000000e+00, 0.0000000e+00, ..., 6.4472101e-07,\n",
       "        6.4472101e-07, 6.4472101e-07],\n",
       "       [2.5750398e-06, 0.0000000e+00, 0.0000000e+00, ..., 3.2197609e-06,\n",
       "        3.2197609e-06, 3.2197609e-06],\n",
       "       [2.7629183e-06, 1.8787841e-07, 0.0000000e+00, ..., 3.4076393e-06,\n",
       "        3.4076393e-06, 3.4076393e-06],\n",
       "       ...,\n",
       "       [0.0000000e+00, 0.0000000e+00, 0.0000000e+00, ..., 0.0000000e+00,\n",
       "        0.0000000e+00, 0.0000000e+00],\n",
       "       [0.0000000e+00, 0.0000000e+00, 0.0000000e+00, ..., 0.0000000e+00,\n",
       "        0.0000000e+00, 0.0000000e+00],\n",
       "       [0.0000000e+00, 0.0000000e+00, 0.0000000e+00, ..., 0.0000000e+00,\n",
       "        0.0000000e+00, 0.0000000e+00]], dtype=float32)>"
      ]
     },
     "execution_count": 163,
     "metadata": {},
     "output_type": "execute_result"
    }
   ],
   "source": [
    "generate_exposure(infection_times=simulated_infection_times,\n",
    "                  removal_times=simulated_removal_times)"
   ]
  },
  {
   "cell_type": "code",
   "execution_count": 182,
   "id": "8e72c9c4",
   "metadata": {
    "ExecuteTime": {
     "end_time": "2023-07-03T04:42:42.646189Z",
     "start_time": "2023-07-03T04:42:42.620640Z"
    }
   },
   "outputs": [],
   "source": [
    "simualted_exposure_mat = tf.matmul(a=generate_waifw(infection_times=simulated_infection_times, removal_times=simulated_removal_times),\n",
    "          b=generate_exposure(infection_times=simulated_infection_times, removal_times=simulated_removal_times))"
   ]
  },
  {
   "cell_type": "code",
   "execution_count": 189,
   "id": "8d2b0d97",
   "metadata": {
    "ExecuteTime": {
     "end_time": "2023-07-03T04:46:52.215279Z",
     "start_time": "2023-07-03T04:46:52.211781Z"
    }
   },
   "outputs": [],
   "source": [
    "def drop_initial_infections(infection_times):\n",
    "    return np.argwhere(infection_times != 0.0).ravel()"
   ]
  },
  {
   "cell_type": "code",
   "execution_count": 188,
   "id": "70029d80",
   "metadata": {
    "ExecuteTime": {
     "end_time": "2023-07-03T04:46:45.258650Z",
     "start_time": "2023-07-03T04:46:45.250693Z"
    }
   },
   "outputs": [
    {
     "data": {
      "text/plain": [
       "array([  0,   1,   2,   3,   4,   5,   6,   7,   8,   9,  10,  11,  12,\n",
       "        13,  14,  15,  16,  17,  18,  19,  20,  21,  22,  23,  24,  25,\n",
       "        26,  27,  28,  29,  30,  31,  32,  33,  34,  35,  36,  37,  38,\n",
       "        39,  40,  41,  42,  43,  44,  45,  46,  47,  48,  49,  50,  51,\n",
       "        52,  53,  54,  55,  56,  57,  58,  59,  60,  61,  62,  63,  64,\n",
       "        65,  66,  67,  68,  69,  70,  71,  72,  73,  74,  75,  76,  77,\n",
       "        78,  79,  80,  81,  82,  83,  84,  85,  86,  87,  88,  89,  90,\n",
       "        91,  92,  93,  94,  95,  96,  97,  98,  99, 100, 101, 102, 103,\n",
       "       104, 105, 106, 107, 108, 109, 110, 111, 112, 113, 114, 115, 116,\n",
       "       117, 118, 119, 120, 121, 122, 123, 124, 125, 126, 127, 128, 129,\n",
       "       130, 131, 132, 133, 134, 135, 136, 137, 138, 139, 140, 141, 142,\n",
       "       143, 144, 145, 146, 147, 148, 149, 150, 151, 152, 153, 154, 155,\n",
       "       156, 157, 158, 159, 160, 161, 162, 163, 164, 165, 166, 167, 168,\n",
       "       169, 170, 171, 172, 173, 174, 175, 176, 177, 178, 179, 180, 181,\n",
       "       182, 183, 184, 185, 186, 187, 188, 189, 190, 191, 192, 193, 194,\n",
       "       195, 196, 197, 198, 199, 200, 201, 202, 203, 204, 205, 206, 207,\n",
       "       208, 209, 210, 211, 212, 213, 214, 215, 216, 217, 218, 219, 220,\n",
       "       221, 222, 223, 224, 225, 226, 227, 228, 229, 230, 231, 232, 233,\n",
       "       234, 235, 236, 237, 238, 239, 240, 241, 242, 243, 244, 245, 246,\n",
       "       247, 248, 249, 250, 251, 252, 253, 254, 255, 256, 257, 258, 259,\n",
       "       260, 261, 262, 263, 264, 265, 266, 267, 268, 269, 270, 271, 272,\n",
       "       273, 274, 275, 276, 277, 278, 279, 280, 281, 282, 283, 284, 285,\n",
       "       286, 287, 288, 289, 290, 291, 292, 293, 294, 295, 296, 297, 298,\n",
       "       299, 300, 301, 302, 303, 304, 305, 306, 307, 308, 309, 310, 311,\n",
       "       312, 313, 314, 315, 316, 317, 318, 319, 320, 321, 322, 323, 324,\n",
       "       325, 326, 327, 328, 329, 330, 331, 332, 333, 334, 335, 336, 337,\n",
       "       338, 339, 340, 341, 342, 343, 344, 345, 346, 347, 348, 349, 350,\n",
       "       351, 352, 353, 354, 355, 356, 357, 358, 359, 360, 361, 362, 363,\n",
       "       364, 365, 366, 367, 368, 369, 370, 371, 372, 373, 374, 375, 376,\n",
       "       377, 378, 379, 380, 381, 382, 383, 384, 385, 386, 387, 388, 389,\n",
       "       390, 391, 392, 393, 394, 395, 396, 397, 398, 399, 400, 401, 402,\n",
       "       403, 404, 405, 406, 407, 408, 409, 410, 411, 412, 413, 414, 415,\n",
       "       416, 417, 418, 419, 420, 421, 422, 423, 424, 425, 426, 427, 428,\n",
       "       429, 430, 431, 432, 433, 434, 435, 436, 437, 438, 439, 440, 441,\n",
       "       442, 443, 444, 445, 446, 447, 448, 449, 450, 451, 452, 453, 454,\n",
       "       455, 456, 457, 458, 459, 460, 461, 462, 463, 464, 465, 466, 467,\n",
       "       468, 469, 470, 471, 472, 473, 474, 475, 476, 477, 478, 479, 480,\n",
       "       481, 482, 483, 484, 485, 486, 487, 488, 489, 490, 491, 492, 493,\n",
       "       494, 495, 496, 497, 498, 499, 500, 501, 502, 503, 504, 505, 506,\n",
       "       507, 508, 509, 510, 511, 512, 513, 514, 515, 516, 517, 518, 519,\n",
       "       520, 521, 522, 523, 524, 525, 526, 527, 528, 529, 530, 531, 532,\n",
       "       533, 534, 535, 536, 537, 538, 539, 540, 541, 542, 543, 544, 545,\n",
       "       546, 547, 548, 549, 550, 551, 552, 553, 554, 555, 556, 557, 558,\n",
       "       559, 560, 561, 562, 563, 564, 565, 566, 567, 568, 569, 570, 571,\n",
       "       572, 573, 574, 575, 576, 577, 578, 579, 580, 581, 582, 583, 584,\n",
       "       585, 586, 587, 588, 589, 590, 591, 592, 593, 594, 595, 596, 597,\n",
       "       598, 599, 600, 601, 602, 603, 604, 605, 606, 607, 608, 609, 610,\n",
       "       611, 612, 613, 614, 615, 616, 617, 618, 619, 620, 621, 622, 623,\n",
       "       624, 625, 626, 627, 628, 629, 630, 631, 632, 633, 634, 635, 636,\n",
       "       637, 638, 639, 640, 641, 642, 643, 644, 645, 646, 647, 648, 649,\n",
       "       650, 651, 652, 653, 654, 655, 656, 657, 658, 659, 660, 661, 662,\n",
       "       663, 664, 665, 666, 667, 668, 669, 670, 671, 672, 673, 674, 675,\n",
       "       676, 677, 678, 679, 680, 681, 682, 683, 684, 685, 686, 687, 688,\n",
       "       689, 690, 691, 692, 693, 694, 695, 696, 697, 698, 699, 700, 701,\n",
       "       702, 703, 704, 705, 706, 707, 708, 709, 710, 711, 712, 713, 714,\n",
       "       715, 716, 717, 718, 719, 720, 721, 722, 723, 724, 725, 726, 727,\n",
       "       728, 729, 730, 731, 732, 733, 734, 735, 736, 737, 738, 739, 740,\n",
       "       741, 742, 743, 744, 745, 746, 747, 748, 749, 750, 751, 752, 753,\n",
       "       754, 755, 756, 757, 758, 759, 760, 761, 762, 763, 764, 765, 766,\n",
       "       767, 768, 769, 770, 771, 772, 773, 774, 775, 776, 777, 778, 779,\n",
       "       780, 781, 782, 783, 784, 785, 786, 787, 788, 789, 790, 791, 792,\n",
       "       793, 794, 795, 796, 797, 798, 799, 800, 801, 802, 803, 804, 805,\n",
       "       806, 807, 808, 809, 810, 811, 812, 813, 814, 815, 816, 817, 818,\n",
       "       819, 820, 821, 822, 823, 824, 825, 826, 827, 828, 829, 830, 831,\n",
       "       832, 833, 834, 835, 836, 837, 838, 839, 840, 841, 842, 843, 844,\n",
       "       845, 846, 847, 848, 849, 850, 851, 852, 853, 854, 855, 856, 857,\n",
       "       858, 859, 860, 861, 862, 863, 864, 865, 866, 867, 868, 869, 870,\n",
       "       871, 872, 873, 874, 875, 876, 877, 878, 879, 880, 881, 882, 883,\n",
       "       884, 885, 886, 887, 888, 889, 890, 891, 892, 893, 894, 895, 896,\n",
       "       897, 898, 899])"
      ]
     },
     "execution_count": 188,
     "metadata": {},
     "output_type": "execute_result"
    }
   ],
   "source": [
    "drop_initial_infections(infection_times=simulated_infection_times)"
   ]
  },
  {
   "cell_type": "code",
   "execution_count": 192,
   "id": "bf342010",
   "metadata": {
    "ExecuteTime": {
     "end_time": "2023-07-03T04:48:09.761185Z",
     "start_time": "2023-07-03T04:48:09.748303Z"
    }
   },
   "outputs": [
    {
     "data": {
      "text/plain": [
       "<tf.Tensor: shape=(900,), dtype=float32, numpy=\n",
       "array([0.00000000e+00, 6.44721731e-05, 3.89023568e-04, 7.32737535e-04,\n",
       "       1.38302729e-03, 2.08590017e-03, 2.99305026e-03, 4.00150986e-03,\n",
       "       5.03212959e-03, 6.18722010e-03, 7.65398331e-03, 9.25673917e-03,\n",
       "       1.08781736e-02, 1.34216128e-02, 1.61374547e-02, 1.89179108e-02,\n",
       "       2.17974726e-02, 2.47771684e-02, 2.78790146e-02, 3.10554411e-02,\n",
       "       3.44401672e-02, 3.78508233e-02, 4.22035865e-02, 4.66175154e-02,\n",
       "       5.10330684e-02, 5.54886349e-02, 5.99591769e-02, 6.43914789e-02,\n",
       "       6.96411878e-02, 7.52141774e-02, 8.09686333e-02, 8.81301165e-02,\n",
       "       9.53261405e-02, 1.02558888e-01, 1.10446170e-01, 1.18607022e-01,\n",
       "       1.27035886e-01, 1.35469526e-01, 1.44497469e-01, 1.57813847e-01,\n",
       "       1.71293437e-01, 1.84790313e-01, 1.98917016e-01, 2.13088363e-01,\n",
       "       2.27317676e-01, 2.42636353e-01, 2.58073688e-01, 2.73969591e-01,\n",
       "       2.90504456e-01, 3.07450473e-01, 3.24222624e-01, 3.41541678e-01,\n",
       "       3.58924866e-01, 3.76322538e-01, 3.93781334e-01, 4.11341429e-01,\n",
       "       4.28968370e-01, 4.47100192e-01, 4.66632873e-01, 4.86308455e-01,\n",
       "       5.06802499e-01, 5.27342200e-01, 5.48150241e-01, 5.70164263e-01,\n",
       "       5.93050838e-01, 6.16462529e-01, 6.40448391e-01, 6.64821982e-01,\n",
       "       6.90313458e-01, 7.16164827e-01, 7.42621958e-01, 7.69951582e-01,\n",
       "       7.97331393e-01, 8.24828446e-01, 8.52997720e-01, 8.81829143e-01,\n",
       "       9.11405861e-01, 9.41145301e-01, 9.71025646e-01, 1.00126994e+00,\n",
       "       1.03167689e+00, 1.06306195e+00, 1.09478867e+00, 1.12729657e+00,\n",
       "       1.15989459e+00, 1.19272554e+00, 1.22612298e+00, 1.25960636e+00,\n",
       "       1.29339123e+00, 1.32815349e+00, 1.36502159e+00, 1.40268087e+00,\n",
       "       1.44053042e+00, 1.47887158e+00, 1.52028799e+00, 1.56190360e+00,\n",
       "       1.60396671e+00, 1.64603090e+00, 1.68874907e+00, 1.73246324e+00,\n",
       "       1.77647901e+00, 1.82064712e+00, 1.86574590e+00, 1.91115415e+00,\n",
       "       1.95661283e+00, 2.00339389e+00, 2.05125713e+00, 2.09942842e+00,\n",
       "       2.14820290e+00, 2.19819593e+00, 2.24823833e+00, 2.29830718e+00,\n",
       "       2.34840751e+00, 2.39944935e+00, 2.45076609e+00, 2.50118780e+00,\n",
       "       2.55320001e+00, 2.60584140e+00, 2.65871978e+00, 2.71217203e+00,\n",
       "       2.76677370e+00, 2.82147408e+00, 2.87639046e+00, 2.93333244e+00,\n",
       "       2.99063110e+00, 3.04818296e+00, 3.10590482e+00, 3.16408420e+00,\n",
       "       3.22248220e+00, 3.28127122e+00, 3.34011436e+00, 3.39913893e+00,\n",
       "       3.45837474e+00, 3.51784301e+00, 3.57857466e+00, 3.64390087e+00,\n",
       "       3.71002984e+00, 3.77700186e+00, 3.84404421e+00, 3.91130066e+00,\n",
       "       3.97879386e+00, 4.04709339e+00, 4.11561441e+00, 4.18530321e+00,\n",
       "       4.25540400e+00, 4.32588100e+00, 4.39706087e+00, 4.46934319e+00,\n",
       "       4.54255295e+00, 4.61630869e+00, 4.69052601e+00, 4.76694202e+00,\n",
       "       4.84484863e+00, 4.92289925e+00, 5.00222874e+00, 5.08344698e+00,\n",
       "       5.16495752e+00, 5.24740982e+00, 5.32992077e+00, 5.41451359e+00,\n",
       "       5.49989843e+00, 5.58546352e+00, 5.67181063e+00, 5.75861883e+00,\n",
       "       5.84556770e+00, 5.93254375e+00, 6.01961803e+00, 6.10710049e+00,\n",
       "       6.19696712e+00, 6.28864336e+00, 6.38156271e+00, 6.47481108e+00,\n",
       "       6.56968641e+00, 6.66477346e+00, 6.76011276e+00, 6.85590410e+00,\n",
       "       6.95189667e+00, 7.04811716e+00, 7.14467096e+00, 7.24253225e+00,\n",
       "       7.34361553e+00, 7.44555902e+00, 7.54840899e+00, 7.65259218e+00,\n",
       "       7.75691414e+00, 7.86201334e+00, 7.96811771e+00, 8.07437420e+00,\n",
       "       8.18145847e+00, 8.28886986e+00, 8.39722347e+00, 8.50600243e+00,\n",
       "       8.61630917e+00, 8.72855854e+00, 8.84192085e+00, 8.95564270e+00,\n",
       "       9.07166481e+00, 9.19060612e+00, 9.30965137e+00, 9.42957401e+00,\n",
       "       9.54979324e+00, 9.67230320e+00, 9.79435635e+00, 9.92118359e+00,\n",
       "       1.00496140e+01, 1.01786728e+01, 1.03083906e+01, 1.04383316e+01,\n",
       "       1.05706825e+01, 1.07036066e+01, 1.08373919e+01, 1.09712667e+01,\n",
       "       1.11074286e+01, 1.12443228e+01, 1.13819160e+01, 1.15195398e+01,\n",
       "       1.16590004e+01, 1.17988453e+01, 1.19397221e+01, 1.20814209e+01,\n",
       "       1.22234526e+01, 1.23656206e+01, 1.25082083e+01, 1.26505642e+01,\n",
       "       1.27960186e+01, 1.29416580e+01, 1.30875750e+01, 1.32374992e+01,\n",
       "       1.33875608e+01, 1.35379181e+01, 1.36901102e+01, 1.38432703e+01,\n",
       "       1.39971352e+01, 1.41540060e+01, 1.43112154e+01, 1.44706125e+01,\n",
       "       1.46302061e+01, 1.47904625e+01, 1.49529018e+01, 1.51154118e+01,\n",
       "       1.52782269e+01, 1.54416113e+01, 1.56051188e+01, 1.57728500e+01,\n",
       "       1.59405890e+01, 1.61083984e+01, 1.62770424e+01, 1.64462967e+01,\n",
       "       1.66139259e+01, 1.67866001e+01, 1.69604912e+01, 1.71369820e+01,\n",
       "       1.73115406e+01, 1.74947739e+01, 1.76788712e+01, 1.78642845e+01,\n",
       "       1.80514774e+01, 1.82387924e+01, 1.84263859e+01, 1.86159344e+01,\n",
       "       1.88059292e+01, 1.89976425e+01, 1.91900158e+01, 1.93838100e+01,\n",
       "       1.95794010e+01, 1.97752018e+01, 1.99715977e+01, 2.01729431e+01,\n",
       "       2.03750553e+01, 2.05814934e+01, 2.07882271e+01, 2.09951897e+01,\n",
       "       2.12023621e+01, 2.14121647e+01, 2.16233940e+01, 2.18353329e+01,\n",
       "       2.20475006e+01, 2.22605877e+01, 2.24746284e+01, 2.26893768e+01,\n",
       "       2.29041500e+01, 2.31196289e+01, 2.33357716e+01, 2.35536976e+01,\n",
       "       2.37717438e+01, 2.39901485e+01, 2.42117100e+01, 2.44310265e+01,\n",
       "       2.46531639e+01, 2.48754654e+01, 2.50979557e+01, 2.53206177e+01,\n",
       "       2.55466022e+01, 2.57729549e+01, 2.60021954e+01, 2.62332039e+01,\n",
       "       2.64615364e+01, 2.66938629e+01, 2.69266987e+01, 2.71599102e+01,\n",
       "       2.73968391e+01, 2.76352386e+01, 2.78739338e+01, 2.81134739e+01,\n",
       "       2.83545589e+01, 2.85931110e+01, 2.88361568e+01, 2.90792618e+01,\n",
       "       2.93229008e+01, 2.95696487e+01, 2.98165207e+01, 3.00739231e+01,\n",
       "       3.03332577e+01, 3.05937748e+01, 3.08553886e+01, 3.11196671e+01,\n",
       "       3.13810730e+01, 3.16506500e+01, 3.19211521e+01, 3.21919250e+01,\n",
       "       3.24629250e+01, 3.27380600e+01, 3.30152931e+01, 3.32938805e+01,\n",
       "       3.35727921e+01, 3.38523941e+01, 3.41301537e+01, 3.44162331e+01,\n",
       "       3.47012520e+01, 3.49932404e+01, 3.52886124e+01, 3.55842400e+01,\n",
       "       3.58803673e+01, 3.61777306e+01, 3.64751053e+01, 3.67748413e+01,\n",
       "       3.70754471e+01, 3.73841362e+01, 3.76946487e+01, 3.80060425e+01,\n",
       "       3.83181038e+01, 3.86336517e+01, 3.89505653e+01, 3.92668953e+01,\n",
       "       3.95914993e+01, 3.99234428e+01, 4.02583733e+01, 4.05934525e+01,\n",
       "       4.09313927e+01, 4.12702293e+01, 4.16092415e+01, 4.19486275e+01,\n",
       "       4.22882462e+01, 4.26280403e+01, 4.29684334e+01, 4.33113937e+01,\n",
       "       4.36549759e+01, 4.39993210e+01, 4.43429375e+01, 4.47011604e+01,\n",
       "       4.50596771e+01, 4.54186211e+01, 4.57781906e+01, 4.61406593e+01,\n",
       "       4.64990883e+01, 4.68634720e+01, 4.72282372e+01, 4.75974388e+01,\n",
       "       4.79696579e+01, 4.83451309e+01, 4.87210960e+01, 4.90984879e+01,\n",
       "       4.94780998e+01, 4.98585472e+01, 5.02395439e+01, 5.06206055e+01,\n",
       "       5.10031395e+01, 5.13909760e+01, 5.17793579e+01, 5.21690025e+01,\n",
       "       5.25599136e+01, 5.29521904e+01, 5.33456383e+01, 5.37396164e+01,\n",
       "       5.41294022e+01, 5.45250702e+01, 5.49210548e+01, 5.53176498e+01,\n",
       "       5.57173843e+01, 5.61123886e+01, 5.65096283e+01, 5.69093323e+01,\n",
       "       5.73162956e+01, 5.77271347e+01, 5.81390724e+01, 5.85523453e+01,\n",
       "       5.89686508e+01, 5.93906631e+01, 5.98146172e+01, 6.02447090e+01,\n",
       "       6.06756706e+01, 6.11083984e+01, 6.15419121e+01, 6.19760056e+01,\n",
       "       6.24106026e+01, 6.28484344e+01, 6.32864647e+01, 6.37194901e+01,\n",
       "       6.41571884e+01, 6.46104889e+01, 6.50617981e+01, 6.55139389e+01,\n",
       "       6.59776917e+01, 6.64414825e+01, 6.69069824e+01, 6.73765335e+01,\n",
       "       6.78298111e+01, 6.83067856e+01, 6.87858047e+01, 6.92572403e+01,\n",
       "       6.97400818e+01, 7.02243805e+01, 7.07145462e+01, 7.12057571e+01,\n",
       "       7.16978989e+01, 7.21898651e+01, 7.26829987e+01, 7.31670914e+01,\n",
       "       7.36642914e+01, 7.41229630e+01, 7.46266861e+01, 7.51165237e+01,\n",
       "       7.56214447e+01, 7.61265259e+01, 7.66330338e+01, 7.71421814e+01,\n",
       "       7.76519928e+01, 7.81645203e+01, 7.86835709e+01, 7.92027054e+01,\n",
       "       7.97236938e+01, 8.02450104e+01, 8.07665024e+01, 8.12884369e+01,\n",
       "       8.18103180e+01, 8.23337173e+01, 8.28591919e+01, 8.33883209e+01,\n",
       "       8.39177094e+01, 8.44487762e+01, 8.49514771e+01, 8.54895172e+01,\n",
       "       8.60289459e+01, 8.65690384e+01, 8.70946121e+01, 8.76376724e+01,\n",
       "       8.81848526e+01, 8.87368317e+01, 8.92733688e+01, 8.98278198e+01,\n",
       "       9.03831635e+01, 9.09441223e+01, 9.14781189e+01, 9.20559082e+01,\n",
       "       9.26383133e+01, 9.32245331e+01, 9.38120193e+01, 9.43999634e+01,\n",
       "       9.49880219e+01, 9.55764847e+01, 9.61657867e+01, 9.67550201e+01,\n",
       "       9.73324738e+01, 9.78958740e+01, 9.85066833e+01, 9.91013565e+01,\n",
       "       9.97134781e+01, 1.00336830e+02, 1.00967361e+02, 1.01603340e+02,\n",
       "       1.02241241e+02, 1.02883499e+02, 1.03525970e+02, 1.04173096e+02,\n",
       "       1.04826675e+02, 1.05471405e+02, 1.06126862e+02, 1.06801529e+02,\n",
       "       1.07465279e+02, 1.08157494e+02, 1.08853050e+02, 1.09550560e+02,\n",
       "       1.10234123e+02, 1.10945351e+02, 1.11657104e+02, 1.12370041e+02,\n",
       "       1.13086418e+02, 1.13784630e+02, 1.14507706e+02, 1.15232689e+02,\n",
       "       1.15958138e+02, 1.16679619e+02, 1.17428848e+02, 1.18163795e+02,\n",
       "       1.18922707e+02, 1.19683784e+02, 1.20446182e+02, 1.21187866e+02,\n",
       "       1.21954399e+02, 1.22722534e+02, 1.23495026e+02, 1.24269356e+02,\n",
       "       1.25043808e+02, 1.25819389e+02, 1.26596931e+02, 1.27379448e+02,\n",
       "       1.28166855e+02, 1.28933990e+02, 1.29726486e+02, 1.30519073e+02,\n",
       "       1.31317261e+02, 1.32122635e+02, 1.32938904e+02, 1.33764481e+02,\n",
       "       1.34591858e+02, 1.35424026e+02, 1.36268265e+02, 1.37111649e+02,\n",
       "       1.37955551e+02, 1.38803207e+02, 1.39630066e+02, 1.40483109e+02,\n",
       "       1.41336960e+02, 1.42191299e+02, 1.43047455e+02, 1.43904205e+02,\n",
       "       1.44779251e+02, 1.45662918e+02, 1.46552917e+02, 1.47443085e+02,\n",
       "       1.48336227e+02, 1.49231628e+02, 1.50127930e+02, 1.51027115e+02,\n",
       "       1.51934418e+02, 1.52820221e+02, 1.53729599e+02, 1.54617508e+02,\n",
       "       1.55532501e+02, 1.56450638e+02, 1.57369003e+02, 1.58265839e+02,\n",
       "       1.59194397e+02, 1.60052979e+02, 1.60992615e+02, 1.61932327e+02,\n",
       "       1.62858124e+02, 1.63817978e+02, 1.64780197e+02, 1.65718628e+02,\n",
       "       1.66687134e+02, 1.67656464e+02, 1.68630569e+02, 1.69579178e+02,\n",
       "       1.70566681e+02, 1.71554184e+02, 1.72552368e+02, 1.73556717e+02,\n",
       "       1.74564774e+02, 1.75522293e+02, 1.76545685e+02, 1.77575317e+02,\n",
       "       1.78607452e+02, 1.79582138e+02, 1.80620407e+02, 1.81672073e+02,\n",
       "       1.82733154e+02, 1.83794510e+02, 1.84860870e+02, 1.85929535e+02,\n",
       "       1.86998657e+02, 1.88074661e+02, 1.89149841e+02, 1.90228439e+02,\n",
       "       1.91278336e+02, 1.92363617e+02, 1.93456528e+02, 1.94556656e+02,\n",
       "       1.95568893e+02, 1.96691406e+02, 1.97790451e+02, 1.98937927e+02,\n",
       "       2.00093384e+02, 2.01218597e+02, 2.02344604e+02, 2.03478348e+02,\n",
       "       2.04645752e+02, 2.05817795e+02, 2.06992874e+02, 2.08169052e+02,\n",
       "       2.09351166e+02, 2.10501724e+02, 2.11691925e+02, 2.12881607e+02,\n",
       "       2.13980057e+02, 2.15151764e+02, 2.16366684e+02, 2.17582458e+02,\n",
       "       2.18800034e+02, 2.20024292e+02, 2.21254044e+02, 2.22484344e+02,\n",
       "       2.23715515e+02, 2.24954376e+02, 2.26198471e+02, 2.27447311e+02,\n",
       "       2.28699356e+02, 2.29919052e+02, 2.31156738e+02, 2.32465332e+02,\n",
       "       2.33775543e+02, 2.35011963e+02, 2.36321060e+02, 2.37600891e+02,\n",
       "       2.38930603e+02, 2.40312897e+02, 2.41695312e+02, 2.43039017e+02,\n",
       "       2.44434784e+02, 2.45835632e+02, 2.47149078e+02, 2.48558975e+02,\n",
       "       2.49968307e+02, 2.51379456e+02, 2.52803711e+02, 2.54187103e+02,\n",
       "       2.55584122e+02, 2.56987213e+02, 2.58481354e+02, 2.59933807e+02,\n",
       "       2.61394867e+02, 2.62909546e+02, 2.64426971e+02, 2.65950195e+02,\n",
       "       2.67431976e+02, 2.68963898e+02, 2.70499054e+02, 2.72036682e+02,\n",
       "       2.73575653e+02, 2.75021851e+02, 2.76533722e+02, 2.78058411e+02,\n",
       "       2.79588074e+02, 2.81172119e+02, 2.82758759e+02, 2.84346802e+02,\n",
       "       2.85935089e+02, 2.87429199e+02, 2.88933014e+02, 2.90547028e+02,\n",
       "       2.92115356e+02, 2.93749146e+02, 2.95331329e+02, 2.96968964e+02,\n",
       "       2.98608521e+02, 3.00247406e+02, 3.01890167e+02, 3.03534424e+02,\n",
       "       3.05129700e+02, 3.06736328e+02, 3.08413300e+02, 3.10100098e+02,\n",
       "       3.11793915e+02, 3.13436554e+02, 3.15141754e+02, 3.16861084e+02,\n",
       "       3.18474701e+02, 3.20255676e+02, 3.22040100e+02, 3.23828644e+02,\n",
       "       3.25576447e+02, 3.27270966e+02, 3.28978821e+02, 3.30757568e+02,\n",
       "       3.32605347e+02, 3.34452850e+02, 3.36306580e+02, 3.38165344e+02,\n",
       "       3.39967621e+02, 3.41683929e+02, 3.43598083e+02, 3.45453400e+02,\n",
       "       3.47249237e+02, 3.49106934e+02, 3.51045654e+02, 3.52801056e+02,\n",
       "       3.54782043e+02, 3.56768280e+02, 3.58770386e+02, 3.60369598e+02,\n",
       "       3.62403503e+02, 3.64368408e+02, 3.66420837e+02, 3.68474335e+02,\n",
       "       3.70526001e+02, 3.72513763e+02, 3.74576019e+02, 3.76569733e+02,\n",
       "       3.78643585e+02, 3.80720734e+02, 3.82799072e+02, 3.84814240e+02,\n",
       "       3.86852325e+02, 3.88965302e+02, 3.91096100e+02, 3.93076508e+02,\n",
       "       3.95138947e+02, 3.96711090e+02, 3.98918671e+02, 4.01130188e+02,\n",
       "       4.03254608e+02, 4.05383423e+02, 4.07445374e+02, 4.09693542e+02,\n",
       "       4.11947601e+02, 4.14202728e+02, 4.16465454e+02, 4.18731842e+02,\n",
       "       4.20998535e+02, 4.23008270e+02, 4.25129120e+02, 4.27436188e+02,\n",
       "       4.29746918e+02, 4.31970795e+02, 4.34212524e+02, 4.36365051e+02,\n",
       "       4.38711151e+02, 4.40869049e+02, 4.43225769e+02, 4.45490112e+02,\n",
       "       4.47574677e+02, 4.49761566e+02, 4.51846802e+02, 4.54278656e+02,\n",
       "       4.56610596e+02, 4.59054138e+02, 4.61403229e+02, 4.63766357e+02,\n",
       "       4.66157562e+02, 4.68697174e+02, 4.71237762e+02, 4.73780273e+02,\n",
       "       4.76229065e+02, 4.78686310e+02, 4.81277130e+02, 4.83205841e+02,\n",
       "       4.85495239e+02, 4.87942719e+02, 4.90274933e+02, 4.92868622e+02,\n",
       "       4.95475494e+02, 4.98218689e+02, 5.00990997e+02, 5.03512756e+02,\n",
       "       5.06300903e+02, 5.08962982e+02, 5.11640900e+02, 5.14325928e+02,\n",
       "       5.17153259e+02, 5.19866699e+02, 5.22326660e+02, 5.25227295e+02,\n",
       "       5.27991943e+02, 5.30484192e+02, 5.33431458e+02, 5.36390198e+02,\n",
       "       5.39354553e+02, 5.42343872e+02, 5.45197571e+02, 5.48196472e+02,\n",
       "       5.51199097e+02, 5.54211365e+02, 5.55918457e+02, 5.59016235e+02,\n",
       "       5.62119751e+02, 5.65073425e+02, 5.68205322e+02, 5.71335754e+02,\n",
       "       5.74167847e+02, 5.77024902e+02, 5.80221741e+02, 5.83423279e+02,\n",
       "       5.86647827e+02, 5.89073364e+02, 5.92182617e+02, 5.95469604e+02,\n",
       "       5.98444031e+02, 6.01750061e+02, 6.05063232e+02, 6.08046387e+02,\n",
       "       6.11378601e+02, 6.14551147e+02, 6.16882812e+02, 6.20115234e+02,\n",
       "       6.23552734e+02, 6.26995483e+02, 6.30441345e+02, 6.33708191e+02,\n",
       "       6.37171753e+02, 6.40447571e+02, 6.43757263e+02, 6.47268921e+02,\n",
       "       6.50604187e+02, 6.53769409e+02, 6.57322876e+02, 6.60899353e+02,\n",
       "       6.64313599e+02, 6.67926697e+02, 6.70981995e+02, 6.73858459e+02,\n",
       "       6.77376343e+02, 6.80892456e+02, 6.84630920e+02, 6.88388794e+02,\n",
       "       6.91735901e+02, 6.95122375e+02, 6.98949036e+02, 7.02372986e+02,\n",
       "       7.05800537e+02, 7.09479553e+02, 7.12762939e+02, 7.16291382e+02,\n",
       "       7.19643250e+02, 7.23277710e+02, 7.26971619e+02, 7.31114929e+02,\n",
       "       7.34604187e+02, 7.37739868e+02, 7.41804443e+02, 7.45880249e+02,\n",
       "       7.48775879e+02, 7.52932800e+02, 7.56860168e+02, 7.58440430e+02,\n",
       "       7.62944580e+02, 7.67460205e+02, 7.70883972e+02, 7.74886658e+02,\n",
       "       7.79186890e+02, 7.83215149e+02, 7.87828125e+02, 7.92435425e+02,\n",
       "       7.97084290e+02, 8.01439148e+02, 8.04920898e+02, 8.08434021e+02,\n",
       "       8.12320923e+02, 8.15572021e+02, 8.19117065e+02, 8.23728516e+02,\n",
       "       8.28697449e+02, 8.33667664e+02, 8.38646240e+02, 8.43302612e+02,\n",
       "       8.47300659e+02, 8.49919128e+02, 8.53978882e+02, 8.57335083e+02,\n",
       "       8.59906372e+02, 8.64054443e+02, 8.66626770e+02, 8.71680359e+02,\n",
       "       8.75130798e+02, 8.79089111e+02, 8.84335205e+02, 8.90000977e+02,\n",
       "       8.95668152e+02, 9.01345398e+02, 9.06607544e+02, 9.07121399e+02,\n",
       "       9.09310791e+02, 9.10460083e+02, 9.16094910e+02, 9.13513245e+02,\n",
       "       9.09511719e+02, 9.14955933e+02, 9.14366150e+02, 9.14601013e+02,\n",
       "       9.20096191e+02, 9.22139954e+02, 9.27839905e+02, 9.34277405e+02,\n",
       "       9.39958862e+02, 9.35573914e+02, 9.31390381e+02, 9.18407898e+02,\n",
       "       9.10628784e+02, 9.03949402e+02, 6.59196167e+02, 6.12481628e+02],\n",
       "      dtype=float32)>"
      ]
     },
     "execution_count": 192,
     "metadata": {},
     "output_type": "execute_result"
    }
   ],
   "source": [
    "tf.einsum('ij -> i', tf.gather(simualted_exposure_mat,\n",
    "          indices=drop_initial_infections(infection_times=simulated_infection_times)))"
   ]
  },
  {
   "cell_type": "code",
   "execution_count": null,
   "id": "2f6ec2fa",
   "metadata": {
    "ExecuteTime": {
     "end_time": "2023-07-03T04:50:50.891387Z",
     "start_time": "2023-07-03T04:50:50.861514Z"
    }
   },
   "outputs": [],
   "source": []
  }
 ],
 "metadata": {
  "kernelspec": {
   "display_name": "Python 3 (ipykernel)",
   "language": "python",
   "name": "python3"
  },
  "language_info": {
   "codemirror_mode": {
    "name": "ipython",
    "version": 3
   },
   "file_extension": ".py",
   "mimetype": "text/x-python",
   "name": "python",
   "nbconvert_exporter": "python",
   "pygments_lexer": "ipython3",
   "version": "3.9.13"
  },
  "toc": {
   "base_numbering": 1,
   "nav_menu": {},
   "number_sections": true,
   "sideBar": true,
   "skip_h1_title": false,
   "title_cell": "Table of Contents",
   "title_sidebar": "Contents",
   "toc_cell": false,
   "toc_position": {
    "height": "calc(100% - 180px)",
    "left": "10px",
    "top": "150px",
    "width": "246px"
   },
   "toc_section_display": true,
   "toc_window_display": true
  },
  "varInspector": {
   "cols": {
    "lenName": 16,
    "lenType": 16,
    "lenVar": 40
   },
   "kernels_config": {
    "python": {
     "delete_cmd_postfix": "",
     "delete_cmd_prefix": "del ",
     "library": "var_list.py",
     "varRefreshCmd": "print(var_dic_list())"
    },
    "r": {
     "delete_cmd_postfix": ") ",
     "delete_cmd_prefix": "rm(",
     "library": "var_list.r",
     "varRefreshCmd": "cat(var_dic_list()) "
    }
   },
   "position": {
    "height": "420px",
    "left": "2190px",
    "right": "20px",
    "top": "120px",
    "width": "350px"
   },
   "types_to_exclude": [
    "module",
    "function",
    "builtin_function_or_method",
    "instance",
    "_Feature"
   ],
   "window_display": true
  }
 },
 "nbformat": 4,
 "nbformat_minor": 5
}
