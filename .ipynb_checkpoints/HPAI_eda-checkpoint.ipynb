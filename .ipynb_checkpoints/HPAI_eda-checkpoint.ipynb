{
 "cells": [
  {
   "cell_type": "code",
   "execution_count": 1,
   "id": "14f9d6bd",
   "metadata": {
    "ExecuteTime": {
     "end_time": "2023-11-17T16:00:29.760351Z",
     "start_time": "2023-11-17T15:59:57.363049Z"
    }
   },
   "outputs": [],
   "source": [
    "import pandas as pd \n",
    "import numpy as np \n",
    "import matplotlib.pyplot as plt \n",
    "import tensorflow as tf \n",
    "import tensorflow_probability as tfp \n",
    "import seaborn as sns \n",
    "import geopandas \n",
    "import datetime\n",
    "import scipy as sp"
   ]
  },
  {
   "cell_type": "code",
   "execution_count": 2,
   "id": "89723284",
   "metadata": {
    "ExecuteTime": {
     "end_time": "2023-11-17T16:00:29.769422Z",
     "start_time": "2023-11-17T16:00:29.764817Z"
    }
   },
   "outputs": [],
   "source": [
    "sns.set_theme()"
   ]
  },
  {
   "cell_type": "code",
   "execution_count": 3,
   "id": "c360d209",
   "metadata": {
    "ExecuteTime": {
     "end_time": "2023-11-17T16:00:29.776135Z",
     "start_time": "2023-11-17T16:00:29.772061Z"
    }
   },
   "outputs": [],
   "source": [
    "plt.rcParams[\"figure.figsize\"] = (15, 10)"
   ]
  },
  {
   "cell_type": "code",
   "execution_count": 4,
   "id": "d3cf8a07",
   "metadata": {
    "ExecuteTime": {
     "end_time": "2023-11-17T16:00:45.819019Z",
     "start_time": "2023-11-17T16:00:29.781287Z"
    }
   },
   "outputs": [],
   "source": [
    "hpai_main = pd.read_csv('data_files/combinedDataset20221130 _1_.csv')\n",
    "hpai_wild = pd.read_csv('data_files/wildBirdData20221130 _1_.csv')\n",
    "hpai_poultry = pd.read_excel('data_files/GBPR Poultry Premises Extract 01Dec22 _1_.xlsx')"
   ]
  },
  {
   "cell_type": "markdown",
   "id": "4e368d43",
   "metadata": {},
   "source": [
    "## Preview the data"
   ]
  },
  {
   "cell_type": "code",
   "execution_count": 5,
   "id": "d7d16c73",
   "metadata": {
    "ExecuteTime": {
     "end_time": "2023-11-17T16:00:45.870771Z",
     "start_time": "2023-11-17T16:00:45.822609Z"
    }
   },
   "outputs": [
    {
     "data": {
      "text/html": [
       "<div>\n",
       "<style scoped>\n",
       "    .dataframe tbody tr th:only-of-type {\n",
       "        vertical-align: middle;\n",
       "    }\n",
       "\n",
       "    .dataframe tbody tr th {\n",
       "        vertical-align: top;\n",
       "    }\n",
       "\n",
       "    .dataframe thead th {\n",
       "        text-align: right;\n",
       "    }\n",
       "</style>\n",
       "<table border=\"1\" class=\"dataframe\">\n",
       "  <thead>\n",
       "    <tr style=\"text-align: right;\">\n",
       "      <th></th>\n",
       "      <th>dprNumber</th>\n",
       "      <th>aivNumber</th>\n",
       "      <th>reportDate</th>\n",
       "      <th>Status</th>\n",
       "      <th>NDI1Type</th>\n",
       "      <th>Resolution</th>\n",
       "      <th>Stock Details</th>\n",
       "      <th>CPH</th>\n",
       "      <th>Country</th>\n",
       "      <th>dprID</th>\n",
       "      <th>...</th>\n",
       "      <th>PZ/SZ presence</th>\n",
       "      <th>Lat</th>\n",
       "      <th>Long</th>\n",
       "      <th>Genomics</th>\n",
       "      <th>cullStart</th>\n",
       "      <th>cullEnd</th>\n",
       "      <th>dispComplete</th>\n",
       "      <th>cdEffective</th>\n",
       "      <th>County</th>\n",
       "      <th>premisesType</th>\n",
       "    </tr>\n",
       "  </thead>\n",
       "  <tbody>\n",
       "    <tr>\n",
       "      <th>0</th>\n",
       "      <td>DPR 2022/389</td>\n",
       "      <td>NaN</td>\n",
       "      <td>28/11/2022</td>\n",
       "      <td>Pending</td>\n",
       "      <td>Report case- Clinical</td>\n",
       "      <td>NaN</td>\n",
       "      <td>80,000</td>\n",
       "      <td>38/270/6002</td>\n",
       "      <td>England</td>\n",
       "      <td>2022 389</td>\n",
       "      <td>...</td>\n",
       "      <td>NaN</td>\n",
       "      <td>NaN</td>\n",
       "      <td>NaN</td>\n",
       "      <td>NaN</td>\n",
       "      <td>NaN</td>\n",
       "      <td>NaN</td>\n",
       "      <td>NaN</td>\n",
       "      <td>NaN</td>\n",
       "      <td>Suffolk</td>\n",
       "      <td>Ducks</td>\n",
       "    </tr>\n",
       "    <tr>\n",
       "      <th>1</th>\n",
       "      <td>DPR 2022/388</td>\n",
       "      <td>NaN</td>\n",
       "      <td>28/11/2022</td>\n",
       "      <td>Pending</td>\n",
       "      <td>Report case- Clinical</td>\n",
       "      <td>NaN</td>\n",
       "      <td>3342</td>\n",
       "      <td>06/369/0014</td>\n",
       "      <td>England</td>\n",
       "      <td>2022 388</td>\n",
       "      <td>...</td>\n",
       "      <td>NaN</td>\n",
       "      <td>NaN</td>\n",
       "      <td>NaN</td>\n",
       "      <td>NaN</td>\n",
       "      <td>NaN</td>\n",
       "      <td>NaN</td>\n",
       "      <td>NaN</td>\n",
       "      <td>NaN</td>\n",
       "      <td>Cheshire West and Chester</td>\n",
       "      <td>Turkeys</td>\n",
       "    </tr>\n",
       "    <tr>\n",
       "      <th>2</th>\n",
       "      <td>DPR 2022/387</td>\n",
       "      <td>NaN</td>\n",
       "      <td>26/11/2022</td>\n",
       "      <td>Pending</td>\n",
       "      <td>Samples taken for laboratory testing</td>\n",
       "      <td>NaN</td>\n",
       "      <td>Approx 400 chickens, 78\\r\\r\\ngeese, 18 turkeys...</td>\n",
       "      <td>28/461/0002</td>\n",
       "      <td>England</td>\n",
       "      <td>2022 387</td>\n",
       "      <td>...</td>\n",
       "      <td>NaN</td>\n",
       "      <td>NaN</td>\n",
       "      <td>NaN</td>\n",
       "      <td>NaN</td>\n",
       "      <td>30/11/2022</td>\n",
       "      <td>30/11/2022</td>\n",
       "      <td>NaN</td>\n",
       "      <td>01/12/2022</td>\n",
       "      <td>Norfolk</td>\n",
       "      <td>Chickens</td>\n",
       "    </tr>\n",
       "    <tr>\n",
       "      <th>3</th>\n",
       "      <td>DPR 2022/386</td>\n",
       "      <td>AIV 2022/218</td>\n",
       "      <td>26/11/2022</td>\n",
       "      <td>Confirmed</td>\n",
       "      <td>Interim Results - POSITIVE</td>\n",
       "      <td>Confirmed on Lab</td>\n",
       "      <td>32000</td>\n",
       "      <td>70/224/0125</td>\n",
       "      <td>Scotland</td>\n",
       "      <td>2022 386</td>\n",
       "      <td>...</td>\n",
       "      <td>NaN</td>\n",
       "      <td>57.568064</td>\n",
       "      <td>-2.493343</td>\n",
       "      <td>NaN</td>\n",
       "      <td>29/11/2022</td>\n",
       "      <td>NaN</td>\n",
       "      <td>NaN</td>\n",
       "      <td>NaN</td>\n",
       "      <td>Aberdeenshire</td>\n",
       "      <td>Chickens</td>\n",
       "    </tr>\n",
       "    <tr>\n",
       "      <th>4</th>\n",
       "      <td>DPR 2022/385</td>\n",
       "      <td>NaN</td>\n",
       "      <td>25/11/2022</td>\n",
       "      <td>Not Confirmed</td>\n",
       "      <td>Final Report</td>\n",
       "      <td>Negated on Clinical</td>\n",
       "      <td>4</td>\n",
       "      <td>NaN</td>\n",
       "      <td>Wales</td>\n",
       "      <td>2022 385</td>\n",
       "      <td>...</td>\n",
       "      <td>NaN</td>\n",
       "      <td>NaN</td>\n",
       "      <td>NaN</td>\n",
       "      <td>NaN</td>\n",
       "      <td>NaN</td>\n",
       "      <td>NaN</td>\n",
       "      <td>NaN</td>\n",
       "      <td>NaN</td>\n",
       "      <td>Caerphilly</td>\n",
       "      <td>Chickens</td>\n",
       "    </tr>\n",
       "  </tbody>\n",
       "</table>\n",
       "<p>5 rows × 32 columns</p>\n",
       "</div>"
      ],
      "text/plain": [
       "      dprNumber     aivNumber  reportDate         Status  \\\n",
       "0  DPR 2022/389           NaN  28/11/2022        Pending   \n",
       "1  DPR 2022/388           NaN  28/11/2022        Pending   \n",
       "2  DPR 2022/387           NaN  26/11/2022        Pending   \n",
       "3  DPR 2022/386  AIV 2022/218  26/11/2022      Confirmed   \n",
       "4  DPR 2022/385           NaN  25/11/2022  Not Confirmed   \n",
       "\n",
       "                               NDI1Type           Resolution  \\\n",
       "0                 Report case- Clinical                  NaN   \n",
       "1                 Report case- Clinical                  NaN   \n",
       "2  Samples taken for laboratory testing                  NaN   \n",
       "3            Interim Results - POSITIVE     Confirmed on Lab   \n",
       "4                          Final Report  Negated on Clinical   \n",
       "\n",
       "                                       Stock Details          CPH   Country  \\\n",
       "0                                             80,000  38/270/6002   England   \n",
       "1                                               3342  06/369/0014   England   \n",
       "2  Approx 400 chickens, 78\\r\\r\\ngeese, 18 turkeys...  28/461/0002   England   \n",
       "3                                              32000  70/224/0125  Scotland   \n",
       "4                                                  4          NaN     Wales   \n",
       "\n",
       "      dprID  ... PZ/SZ presence        Lat      Long Genomics   cullStart  \\\n",
       "0  2022 389  ...            NaN        NaN       NaN      NaN         NaN   \n",
       "1  2022 388  ...            NaN        NaN       NaN      NaN         NaN   \n",
       "2  2022 387  ...            NaN        NaN       NaN      NaN  30/11/2022   \n",
       "3  2022 386  ...            NaN  57.568064 -2.493343      NaN  29/11/2022   \n",
       "4  2022 385  ...            NaN        NaN       NaN      NaN         NaN   \n",
       "\n",
       "      cullEnd dispComplete cdEffective                     County premisesType  \n",
       "0         NaN          NaN         NaN                    Suffolk        Ducks  \n",
       "1         NaN          NaN         NaN  Cheshire West and Chester      Turkeys  \n",
       "2  30/11/2022          NaN  01/12/2022                    Norfolk     Chickens  \n",
       "3         NaN          NaN         NaN              Aberdeenshire     Chickens  \n",
       "4         NaN          NaN         NaN                 Caerphilly     Chickens  \n",
       "\n",
       "[5 rows x 32 columns]"
      ]
     },
     "execution_count": 5,
     "metadata": {},
     "output_type": "execute_result"
    }
   ],
   "source": [
    "hpai_main.head(5)"
   ]
  },
  {
   "cell_type": "code",
   "execution_count": 6,
   "id": "27460ab3",
   "metadata": {
    "ExecuteTime": {
     "end_time": "2023-11-17T16:00:45.892739Z",
     "start_time": "2023-11-17T16:00:45.874366Z"
    }
   },
   "outputs": [
    {
     "name": "stdout",
     "output_type": "stream",
     "text": [
      "<class 'pandas.core.frame.DataFrame'>\n",
      "RangeIndex: 540 entries, 0 to 539\n",
      "Data columns (total 32 columns):\n",
      " #   Column          Non-Null Count  Dtype  \n",
      "---  ------          --------------  -----  \n",
      " 0   dprNumber       504 non-null    object \n",
      " 1   aivNumber       324 non-null    object \n",
      " 2   reportDate      540 non-null    object \n",
      " 3   Status          504 non-null    object \n",
      " 4   NDI1Type        504 non-null    object \n",
      " 5   Resolution      495 non-null    object \n",
      " 6   Stock Details   499 non-null    object \n",
      " 7   CPH             369 non-null    object \n",
      " 8   Country         503 non-null    object \n",
      " 9   dprID           504 non-null    object \n",
      " 10  aivID           324 non-null    object \n",
      " 11  ipNumber        134 non-null    float64\n",
      " 12  region          191 non-null    object \n",
      " 13  approxNumBirds  190 non-null    object \n",
      " 14  Year            324 non-null    float64\n",
      " 15  Season          324 non-null    float64\n",
      " 16  Subtype         249 non-null    object \n",
      " 17  infDate         320 non-null    object \n",
      " 18  confDate        324 non-null    object \n",
      " 19  speciesPresent  323 non-null    object \n",
      " 20  businessType    324 non-null    object \n",
      " 21  Sector          255 non-null    object \n",
      " 22  PZ/SZ presence  0 non-null      float64\n",
      " 23  Lat             324 non-null    float64\n",
      " 24  Long            324 non-null    float64\n",
      " 25  Genomics        235 non-null    object \n",
      " 26  cullStart       181 non-null    object \n",
      " 27  cullEnd         110 non-null    object \n",
      " 28  dispComplete    45 non-null     object \n",
      " 29  cdEffective     74 non-null     object \n",
      " 30  County          540 non-null    object \n",
      " 31  premisesType    525 non-null    object \n",
      "dtypes: float64(6), object(26)\n",
      "memory usage: 135.1+ KB\n"
     ]
    }
   ],
   "source": [
    "hpai_main.info()"
   ]
  },
  {
   "cell_type": "markdown",
   "id": "7efee44d",
   "metadata": {},
   "source": [
    "Comments: \n",
    "- unique ID for each farm\n",
    "- dates (resolution is daily) \n",
    "    - format is DD/MM/YYYY\n",
    "    - reported date for initial infection? \n",
    "    - culling dates for end of infectious period (can be longer than 1 day - should factor into the model, decay term? ) \n",
    "    - clarify: infDate, confDate, reportDate\n",
    "- herd details (types of birds present - cat var in model to tell difference in susceptibility) \n",
    "- herd size\n",
    "- spatial component (have geolocation and regional area - can impute from geolocation if need be)"
   ]
  },
  {
   "cell_type": "code",
   "execution_count": 7,
   "id": "d581b23d",
   "metadata": {
    "ExecuteTime": {
     "end_time": "2023-11-17T16:00:45.917197Z",
     "start_time": "2023-11-17T16:00:45.897218Z"
    }
   },
   "outputs": [
    {
     "data": {
      "text/html": [
       "<div>\n",
       "<style scoped>\n",
       "    .dataframe tbody tr th:only-of-type {\n",
       "        vertical-align: middle;\n",
       "    }\n",
       "\n",
       "    .dataframe tbody tr th {\n",
       "        vertical-align: top;\n",
       "    }\n",
       "\n",
       "    .dataframe thead th {\n",
       "        text-align: right;\n",
       "    }\n",
       "</style>\n",
       "<table border=\"1\" class=\"dataframe\">\n",
       "  <thead>\n",
       "    <tr style=\"text-align: right;\">\n",
       "      <th></th>\n",
       "      <th>Location Id</th>\n",
       "      <th>AHO</th>\n",
       "      <th>Created Datetime</th>\n",
       "      <th>Updated Datetime</th>\n",
       "      <th>Easting</th>\n",
       "      <th>Northing</th>\n",
       "      <th>OS Map Reference</th>\n",
       "    </tr>\n",
       "  </thead>\n",
       "  <tbody>\n",
       "    <tr>\n",
       "      <th>0</th>\n",
       "      <td>L1000007</td>\n",
       "      <td>APHA Leicester</td>\n",
       "      <td>2008-07-15</td>\n",
       "      <td>2013-08-22 09:58:00</td>\n",
       "      <td>458300.0</td>\n",
       "      <td>263000.0</td>\n",
       "      <td>SP5830063000</td>\n",
       "    </tr>\n",
       "    <tr>\n",
       "      <th>1</th>\n",
       "      <td>L1000018</td>\n",
       "      <td>APHA Worcester</td>\n",
       "      <td>2008-07-18</td>\n",
       "      <td>2019-01-24 01:16:00</td>\n",
       "      <td>427801.0</td>\n",
       "      <td>282900.0</td>\n",
       "      <td>SP2780182900</td>\n",
       "    </tr>\n",
       "    <tr>\n",
       "      <th>2</th>\n",
       "      <td>L1000019</td>\n",
       "      <td>APHA Leicester</td>\n",
       "      <td>2008-07-18</td>\n",
       "      <td>2019-01-02 02:40:00</td>\n",
       "      <td>487900.0</td>\n",
       "      <td>269200.0</td>\n",
       "      <td>SP8790069200</td>\n",
       "    </tr>\n",
       "    <tr>\n",
       "      <th>3</th>\n",
       "      <td>L1000036</td>\n",
       "      <td>APHA Worcester</td>\n",
       "      <td>2008-07-24</td>\n",
       "      <td>2011-05-20 03:23:00</td>\n",
       "      <td>423200.0</td>\n",
       "      <td>292900.0</td>\n",
       "      <td>SP2320092900</td>\n",
       "    </tr>\n",
       "    <tr>\n",
       "      <th>4</th>\n",
       "      <td>L1000080</td>\n",
       "      <td>APHA Worcester</td>\n",
       "      <td>2008-08-06</td>\n",
       "      <td>2019-01-25 04:12:00</td>\n",
       "      <td>407851.0</td>\n",
       "      <td>301448.0</td>\n",
       "      <td>SK0785101448</td>\n",
       "    </tr>\n",
       "  </tbody>\n",
       "</table>\n",
       "</div>"
      ],
      "text/plain": [
       "  Location Id             AHO Created Datetime    Updated Datetime   Easting  \\\n",
       "0    L1000007  APHA Leicester       2008-07-15 2013-08-22 09:58:00  458300.0   \n",
       "1    L1000018  APHA Worcester       2008-07-18 2019-01-24 01:16:00  427801.0   \n",
       "2    L1000019  APHA Leicester       2008-07-18 2019-01-02 02:40:00  487900.0   \n",
       "3    L1000036  APHA Worcester       2008-07-24 2011-05-20 03:23:00  423200.0   \n",
       "4    L1000080  APHA Worcester       2008-08-06 2019-01-25 04:12:00  407851.0   \n",
       "\n",
       "   Northing OS Map Reference  \n",
       "0  263000.0     SP5830063000  \n",
       "1  282900.0     SP2780182900  \n",
       "2  269200.0     SP8790069200  \n",
       "3  292900.0     SP2320092900  \n",
       "4  301448.0     SK0785101448  "
      ]
     },
     "execution_count": 7,
     "metadata": {},
     "output_type": "execute_result"
    }
   ],
   "source": [
    "hpai_poultry.head()"
   ]
  },
  {
   "cell_type": "code",
   "execution_count": 8,
   "id": "7d157ec1",
   "metadata": {
    "ExecuteTime": {
     "end_time": "2023-11-17T16:00:45.978700Z",
     "start_time": "2023-11-17T16:00:45.921293Z"
    }
   },
   "outputs": [
    {
     "name": "stdout",
     "output_type": "stream",
     "text": [
      "<class 'pandas.core.frame.DataFrame'>\n",
      "RangeIndex: 58119 entries, 0 to 58118\n",
      "Data columns (total 7 columns):\n",
      " #   Column            Non-Null Count  Dtype         \n",
      "---  ------            --------------  -----         \n",
      " 0   Location Id       58119 non-null  object        \n",
      " 1   AHO               57743 non-null  object        \n",
      " 2   Created Datetime  58119 non-null  datetime64[ns]\n",
      " 3   Updated Datetime  58119 non-null  datetime64[ns]\n",
      " 4   Easting           58118 non-null  float64       \n",
      " 5   Northing          58118 non-null  float64       \n",
      " 6   OS Map Reference  58118 non-null  object        \n",
      "dtypes: datetime64[ns](2), float64(2), object(3)\n",
      "memory usage: 3.1+ MB\n"
     ]
    }
   ],
   "source": [
    "hpai_poultry.info()"
   ]
  },
  {
   "cell_type": "markdown",
   "id": "9b305aea",
   "metadata": {},
   "source": [
    "Comments: \n",
    "\n",
    "- spatial data for farms \n",
    "- long/lat coordinates for mapping"
   ]
  },
  {
   "cell_type": "code",
   "execution_count": 9,
   "id": "53e44545",
   "metadata": {
    "ExecuteTime": {
     "end_time": "2023-11-17T16:00:46.017093Z",
     "start_time": "2023-11-17T16:00:45.983324Z"
    }
   },
   "outputs": [
    {
     "data": {
      "text/html": [
       "<div>\n",
       "<style scoped>\n",
       "    .dataframe tbody tr th:only-of-type {\n",
       "        vertical-align: middle;\n",
       "    }\n",
       "\n",
       "    .dataframe tbody tr th {\n",
       "        vertical-align: top;\n",
       "    }\n",
       "\n",
       "    .dataframe thead th {\n",
       "        text-align: right;\n",
       "    }\n",
       "</style>\n",
       "<table border=\"1\" class=\"dataframe\">\n",
       "  <thead>\n",
       "    <tr style=\"text-align: right;\">\n",
       "      <th></th>\n",
       "      <th>Bird ID</th>\n",
       "      <th>Lab ID</th>\n",
       "      <th>Species Name</th>\n",
       "      <th>Final Result</th>\n",
       "      <th>Virus Isolated</th>\n",
       "      <th>Date Received</th>\n",
       "      <th>COUNTY</th>\n",
       "      <th>COUNTRY</th>\n",
       "      <th>speciesName</th>\n",
       "      <th>birdFamily</th>\n",
       "      <th>...</th>\n",
       "      <th>Date PHE informed</th>\n",
       "      <th>High Path</th>\n",
       "      <th>Postcode</th>\n",
       "      <th>Comment</th>\n",
       "      <th>date</th>\n",
       "      <th>easting</th>\n",
       "      <th>northing</th>\n",
       "      <th>latitude</th>\n",
       "      <th>longitude</th>\n",
       "      <th>osGridRef</th>\n",
       "    </tr>\n",
       "  </thead>\n",
       "  <tbody>\n",
       "    <tr>\n",
       "      <th>0</th>\n",
       "      <td>AVA-21-050799</td>\n",
       "      <td>AV001973-21</td>\n",
       "      <td>TUFTED_DUCK</td>\n",
       "      <td>Negative</td>\n",
       "      <td>NaN</td>\n",
       "      <td>2021-10-05T00:00:00Z</td>\n",
       "      <td>GREATER LONDON</td>\n",
       "      <td>ENGLAND</td>\n",
       "      <td>TUFTED_DUCK</td>\n",
       "      <td>ducks/geese/swans</td>\n",
       "      <td>...</td>\n",
       "      <td>NaN</td>\n",
       "      <td>NaN</td>\n",
       "      <td>NaN</td>\n",
       "      <td>NaN</td>\n",
       "      <td>NaN</td>\n",
       "      <td>NaN</td>\n",
       "      <td>NaN</td>\n",
       "      <td>NaN</td>\n",
       "      <td>NaN</td>\n",
       "      <td>NaN</td>\n",
       "    </tr>\n",
       "    <tr>\n",
       "      <th>1</th>\n",
       "      <td>AVA-21-050998</td>\n",
       "      <td>AV001979-21</td>\n",
       "      <td>BLACK-HEADED_GULL</td>\n",
       "      <td>Negative</td>\n",
       "      <td>NaN</td>\n",
       "      <td>2021-10-06T00:00:00Z</td>\n",
       "      <td>TYNE &amp; WEAR</td>\n",
       "      <td>ENGLAND</td>\n",
       "      <td>BLACK-HEADED_GULL</td>\n",
       "      <td>gulls/terns</td>\n",
       "      <td>...</td>\n",
       "      <td>NaN</td>\n",
       "      <td>NaN</td>\n",
       "      <td>NaN</td>\n",
       "      <td>NaN</td>\n",
       "      <td>NaN</td>\n",
       "      <td>NaN</td>\n",
       "      <td>NaN</td>\n",
       "      <td>NaN</td>\n",
       "      <td>NaN</td>\n",
       "      <td>NaN</td>\n",
       "    </tr>\n",
       "    <tr>\n",
       "      <th>2</th>\n",
       "      <td>AVA-21-051051</td>\n",
       "      <td>AV001985-21</td>\n",
       "      <td>UNSPECIFIED_BIRD</td>\n",
       "      <td>Negative</td>\n",
       "      <td>NaN</td>\n",
       "      <td>2021-10-07T00:00:00Z</td>\n",
       "      <td>ABERDEENSHIRE</td>\n",
       "      <td>SCOTLAND</td>\n",
       "      <td>UNSPECIFIED_BIRD</td>\n",
       "      <td>unspecified</td>\n",
       "      <td>...</td>\n",
       "      <td>NaN</td>\n",
       "      <td>NaN</td>\n",
       "      <td>NaN</td>\n",
       "      <td>NaN</td>\n",
       "      <td>NaN</td>\n",
       "      <td>NaN</td>\n",
       "      <td>NaN</td>\n",
       "      <td>NaN</td>\n",
       "      <td>NaN</td>\n",
       "      <td>NaN</td>\n",
       "    </tr>\n",
       "    <tr>\n",
       "      <th>3</th>\n",
       "      <td>AVA-21-051052</td>\n",
       "      <td>AV001985-21</td>\n",
       "      <td>UNSPECIFIED_BIRD</td>\n",
       "      <td>Negative</td>\n",
       "      <td>NaN</td>\n",
       "      <td>2021-10-07T00:00:00Z</td>\n",
       "      <td>ABERDEENSHIRE</td>\n",
       "      <td>SCOTLAND</td>\n",
       "      <td>UNSPECIFIED_BIRD</td>\n",
       "      <td>unspecified</td>\n",
       "      <td>...</td>\n",
       "      <td>NaN</td>\n",
       "      <td>NaN</td>\n",
       "      <td>NaN</td>\n",
       "      <td>NaN</td>\n",
       "      <td>NaN</td>\n",
       "      <td>NaN</td>\n",
       "      <td>NaN</td>\n",
       "      <td>NaN</td>\n",
       "      <td>NaN</td>\n",
       "      <td>NaN</td>\n",
       "    </tr>\n",
       "    <tr>\n",
       "      <th>4</th>\n",
       "      <td>AVA-21-051053</td>\n",
       "      <td>AV001985-21</td>\n",
       "      <td>UNSPECIFIED_BIRD</td>\n",
       "      <td>Negative</td>\n",
       "      <td>NaN</td>\n",
       "      <td>2021-10-07T00:00:00Z</td>\n",
       "      <td>ABERDEENSHIRE</td>\n",
       "      <td>SCOTLAND</td>\n",
       "      <td>UNSPECIFIED_BIRD</td>\n",
       "      <td>unspecified</td>\n",
       "      <td>...</td>\n",
       "      <td>NaN</td>\n",
       "      <td>NaN</td>\n",
       "      <td>NaN</td>\n",
       "      <td>NaN</td>\n",
       "      <td>NaN</td>\n",
       "      <td>NaN</td>\n",
       "      <td>NaN</td>\n",
       "      <td>NaN</td>\n",
       "      <td>NaN</td>\n",
       "      <td>NaN</td>\n",
       "    </tr>\n",
       "  </tbody>\n",
       "</table>\n",
       "<p>5 rows × 33 columns</p>\n",
       "</div>"
      ],
      "text/plain": [
       "         Bird ID       Lab ID       Species Name Final Result Virus Isolated  \\\n",
       "0  AVA-21-050799  AV001973-21        TUFTED_DUCK     Negative            NaN   \n",
       "1  AVA-21-050998  AV001979-21  BLACK-HEADED_GULL     Negative            NaN   \n",
       "2  AVA-21-051051  AV001985-21   UNSPECIFIED_BIRD     Negative            NaN   \n",
       "3  AVA-21-051052  AV001985-21   UNSPECIFIED_BIRD     Negative            NaN   \n",
       "4  AVA-21-051053  AV001985-21   UNSPECIFIED_BIRD     Negative            NaN   \n",
       "\n",
       "          Date Received          COUNTY   COUNTRY        speciesName  \\\n",
       "0  2021-10-05T00:00:00Z  GREATER LONDON   ENGLAND        TUFTED_DUCK   \n",
       "1  2021-10-06T00:00:00Z     TYNE & WEAR   ENGLAND  BLACK-HEADED_GULL   \n",
       "2  2021-10-07T00:00:00Z   ABERDEENSHIRE  SCOTLAND   UNSPECIFIED_BIRD   \n",
       "3  2021-10-07T00:00:00Z   ABERDEENSHIRE  SCOTLAND   UNSPECIFIED_BIRD   \n",
       "4  2021-10-07T00:00:00Z   ABERDEENSHIRE  SCOTLAND   UNSPECIFIED_BIRD   \n",
       "\n",
       "          birdFamily  ... Date PHE informed High Path  Postcode  Comment date  \\\n",
       "0  ducks/geese/swans  ...               NaN       NaN       NaN      NaN  NaN   \n",
       "1        gulls/terns  ...               NaN       NaN       NaN      NaN  NaN   \n",
       "2        unspecified  ...               NaN       NaN       NaN      NaN  NaN   \n",
       "3        unspecified  ...               NaN       NaN       NaN      NaN  NaN   \n",
       "4        unspecified  ...               NaN       NaN       NaN      NaN  NaN   \n",
       "\n",
       "  easting northing latitude longitude osGridRef  \n",
       "0     NaN      NaN      NaN       NaN       NaN  \n",
       "1     NaN      NaN      NaN       NaN       NaN  \n",
       "2     NaN      NaN      NaN       NaN       NaN  \n",
       "3     NaN      NaN      NaN       NaN       NaN  \n",
       "4     NaN      NaN      NaN       NaN       NaN  \n",
       "\n",
       "[5 rows x 33 columns]"
      ]
     },
     "execution_count": 9,
     "metadata": {},
     "output_type": "execute_result"
    }
   ],
   "source": [
    "hpai_wild.head()"
   ]
  },
  {
   "cell_type": "code",
   "execution_count": 10,
   "id": "821f47d7",
   "metadata": {
    "ExecuteTime": {
     "end_time": "2023-11-17T16:00:46.094708Z",
     "start_time": "2023-11-17T16:00:46.027948Z"
    }
   },
   "outputs": [
    {
     "name": "stdout",
     "output_type": "stream",
     "text": [
      "<class 'pandas.core.frame.DataFrame'>\n",
      "RangeIndex: 7356 entries, 0 to 7355\n",
      "Data columns (total 33 columns):\n",
      " #   Column                 Non-Null Count  Dtype  \n",
      "---  ------                 --------------  -----  \n",
      " 0   Bird ID                5273 non-null   object \n",
      " 1   Lab ID                 7247 non-null   object \n",
      " 2   Species Name           5273 non-null   object \n",
      " 3   Final Result           5273 non-null   object \n",
      " 4   Virus Isolated         4650 non-null   object \n",
      " 5   Date Received          5273 non-null   object \n",
      " 6   COUNTY                 4306 non-null   object \n",
      " 7   COUNTRY                4306 non-null   object \n",
      " 8   speciesName            7356 non-null   object \n",
      " 9   birdFamily             7341 non-null   object \n",
      " 10  Order                  7341 non-null   object \n",
      " 11  originalReportedOSRef  4941 non-null   object \n",
      " 12  originalOSEasting      4718 non-null   float64\n",
      " 13  originalOSNorthing     4719 non-null   float64\n",
      " 14  Case Ref Number        2934 non-null   object \n",
      " 15  Index Bird             2934 non-null   object \n",
      " 16  Case Ref Name          2934 non-null   object \n",
      " 17  Town                   2934 non-null   object \n",
      " 18  District               2930 non-null   object \n",
      " 19  County                 2934 non-null   object \n",
      " 20  Country                2934 non-null   object \n",
      " 21  Species                2934 non-null   object \n",
      " 22  Test date              2934 non-null   object \n",
      " 23  Date PHE informed      13 non-null     object \n",
      " 24  High Path              2770 non-null   object \n",
      " 25  Postcode               2919 non-null   object \n",
      " 26  Comment                6 non-null      object \n",
      " 27  date                   2899 non-null   object \n",
      " 28  easting                2927 non-null   float64\n",
      " 29  northing               2927 non-null   float64\n",
      " 30  latitude               2927 non-null   float64\n",
      " 31  longitude              2927 non-null   float64\n",
      " 32  osGridRef              2928 non-null   object \n",
      "dtypes: float64(6), object(27)\n",
      "memory usage: 1.9+ MB\n"
     ]
    }
   ],
   "source": [
    "hpai_wild.info()"
   ]
  },
  {
   "cell_type": "code",
   "execution_count": 11,
   "id": "9e0ddd5c",
   "metadata": {
    "ExecuteTime": {
     "end_time": "2023-11-17T16:00:46.120202Z",
     "start_time": "2023-11-17T16:00:46.099157Z"
    }
   },
   "outputs": [
    {
     "data": {
      "text/html": [
       "<div>\n",
       "<style scoped>\n",
       "    .dataframe tbody tr th:only-of-type {\n",
       "        vertical-align: middle;\n",
       "    }\n",
       "\n",
       "    .dataframe tbody tr th {\n",
       "        vertical-align: top;\n",
       "    }\n",
       "\n",
       "    .dataframe thead th {\n",
       "        text-align: right;\n",
       "    }\n",
       "</style>\n",
       "<table border=\"1\" class=\"dataframe\">\n",
       "  <thead>\n",
       "    <tr style=\"text-align: right;\">\n",
       "      <th></th>\n",
       "      <th>Date Received</th>\n",
       "    </tr>\n",
       "  </thead>\n",
       "  <tbody>\n",
       "    <tr>\n",
       "      <th>0</th>\n",
       "      <td>2021-10-05T00:00:00Z</td>\n",
       "    </tr>\n",
       "    <tr>\n",
       "      <th>1</th>\n",
       "      <td>2021-10-06T00:00:00Z</td>\n",
       "    </tr>\n",
       "    <tr>\n",
       "      <th>2</th>\n",
       "      <td>2021-10-07T00:00:00Z</td>\n",
       "    </tr>\n",
       "    <tr>\n",
       "      <th>3</th>\n",
       "      <td>2021-10-07T00:00:00Z</td>\n",
       "    </tr>\n",
       "    <tr>\n",
       "      <th>4</th>\n",
       "      <td>2021-10-07T00:00:00Z</td>\n",
       "    </tr>\n",
       "    <tr>\n",
       "      <th>...</th>\n",
       "      <td>...</td>\n",
       "    </tr>\n",
       "    <tr>\n",
       "      <th>5268</th>\n",
       "      <td>2022-11-28T00:00:00Z</td>\n",
       "    </tr>\n",
       "    <tr>\n",
       "      <th>5269</th>\n",
       "      <td>2022-11-28T00:00:00Z</td>\n",
       "    </tr>\n",
       "    <tr>\n",
       "      <th>5270</th>\n",
       "      <td>2022-11-28T00:00:00Z</td>\n",
       "    </tr>\n",
       "    <tr>\n",
       "      <th>5271</th>\n",
       "      <td>2022-11-25T00:00:00Z</td>\n",
       "    </tr>\n",
       "    <tr>\n",
       "      <th>5272</th>\n",
       "      <td>2022-11-25T00:00:00Z</td>\n",
       "    </tr>\n",
       "  </tbody>\n",
       "</table>\n",
       "<p>5273 rows × 1 columns</p>\n",
       "</div>"
      ],
      "text/plain": [
       "             Date Received\n",
       "0     2021-10-05T00:00:00Z\n",
       "1     2021-10-06T00:00:00Z\n",
       "2     2021-10-07T00:00:00Z\n",
       "3     2021-10-07T00:00:00Z\n",
       "4     2021-10-07T00:00:00Z\n",
       "...                    ...\n",
       "5268  2022-11-28T00:00:00Z\n",
       "5269  2022-11-28T00:00:00Z\n",
       "5270  2022-11-28T00:00:00Z\n",
       "5271  2022-11-25T00:00:00Z\n",
       "5272  2022-11-25T00:00:00Z\n",
       "\n",
       "[5273 rows x 1 columns]"
      ]
     },
     "execution_count": 11,
     "metadata": {},
     "output_type": "execute_result"
    }
   ],
   "source": [
    "hpai_wild[['Date Received']].dropna()"
   ]
  },
  {
   "cell_type": "markdown",
   "id": "31d678c1",
   "metadata": {},
   "source": [
    "Comments: \n",
    "\n",
    "- dead wild bird reports w/ accompanying HPAI test result \n",
    "- long/lat location of carcass \n",
    "- species of wild bird (are some species more likely to be the cause?)"
   ]
  },
  {
   "cell_type": "markdown",
   "id": "43c78105",
   "metadata": {},
   "source": [
    "# EDA and Data Cleaning"
   ]
  },
  {
   "cell_type": "markdown",
   "id": "a156000a",
   "metadata": {},
   "source": [
    "## Time filtering"
   ]
  },
  {
   "cell_type": "code",
   "execution_count": 12,
   "id": "93af672b",
   "metadata": {
    "ExecuteTime": {
     "end_time": "2023-11-17T16:00:46.636855Z",
     "start_time": "2023-11-17T16:00:46.124225Z"
    }
   },
   "outputs": [
    {
     "data": {
      "text/html": [
       "<div>\n",
       "<style scoped>\n",
       "    .dataframe tbody tr th:only-of-type {\n",
       "        vertical-align: middle;\n",
       "    }\n",
       "\n",
       "    .dataframe tbody tr th {\n",
       "        vertical-align: top;\n",
       "    }\n",
       "\n",
       "    .dataframe thead th {\n",
       "        text-align: right;\n",
       "    }\n",
       "</style>\n",
       "<table border=\"1\" class=\"dataframe\">\n",
       "  <thead>\n",
       "    <tr style=\"text-align: right;\">\n",
       "      <th></th>\n",
       "      <th>reportDate</th>\n",
       "      <th>infDate</th>\n",
       "      <th>confDate</th>\n",
       "      <th>cullStart</th>\n",
       "      <th>cullEnd</th>\n",
       "    </tr>\n",
       "  </thead>\n",
       "  <tbody>\n",
       "    <tr>\n",
       "      <th>535</th>\n",
       "      <td>2021-01-26</td>\n",
       "      <td>2021-01-18</td>\n",
       "      <td>2021-01-27</td>\n",
       "      <td>NaT</td>\n",
       "      <td>NaT</td>\n",
       "    </tr>\n",
       "    <tr>\n",
       "      <th>536</th>\n",
       "      <td>2021-02-05</td>\n",
       "      <td>2021-01-30</td>\n",
       "      <td>2021-02-06</td>\n",
       "      <td>NaT</td>\n",
       "      <td>NaT</td>\n",
       "    </tr>\n",
       "    <tr>\n",
       "      <th>537</th>\n",
       "      <td>2021-02-10</td>\n",
       "      <td>2020-02-03</td>\n",
       "      <td>2021-02-11</td>\n",
       "      <td>NaT</td>\n",
       "      <td>NaT</td>\n",
       "    </tr>\n",
       "    <tr>\n",
       "      <th>538</th>\n",
       "      <td>2021-03-26</td>\n",
       "      <td>2021-03-18</td>\n",
       "      <td>2021-03-27</td>\n",
       "      <td>NaT</td>\n",
       "      <td>NaT</td>\n",
       "    </tr>\n",
       "    <tr>\n",
       "      <th>539</th>\n",
       "      <td>2021-03-30</td>\n",
       "      <td>2021-03-21</td>\n",
       "      <td>2021-04-01</td>\n",
       "      <td>NaT</td>\n",
       "      <td>NaT</td>\n",
       "    </tr>\n",
       "  </tbody>\n",
       "</table>\n",
       "</div>"
      ],
      "text/plain": [
       "    reportDate    infDate   confDate cullStart cullEnd\n",
       "535 2021-01-26 2021-01-18 2021-01-27       NaT     NaT\n",
       "536 2021-02-05 2021-01-30 2021-02-06       NaT     NaT\n",
       "537 2021-02-10 2020-02-03 2021-02-11       NaT     NaT\n",
       "538 2021-03-26 2021-03-18 2021-03-27       NaT     NaT\n",
       "539 2021-03-30 2021-03-21 2021-04-01       NaT     NaT"
      ]
     },
     "execution_count": 12,
     "metadata": {},
     "output_type": "execute_result"
    }
   ],
   "source": [
    "# Time variables for hpai_main:\n",
    "# reportDate\n",
    "# infDate\n",
    "# confDate\n",
    "# cullStart\n",
    "# cullEnd\n",
    "\n",
    "hpai_main_dates = hpai_main[['reportDate', 'infDate',\n",
    "                                                                                      'confDate', 'cullStart', 'cullEnd']].apply(lambda x: pd.to_datetime(x, format='%d/%m/%Y'), axis=1)\n",
    "hpai_main_dates[['reportDate', 'infDate', 'confDate', 'cullStart', 'cullEnd']].tail()"
   ]
  },
  {
   "cell_type": "code",
   "execution_count": 13,
   "id": "35c7ac27",
   "metadata": {
    "ExecuteTime": {
     "end_time": "2023-11-17T16:00:46.664911Z",
     "start_time": "2023-11-17T16:00:46.641887Z"
    }
   },
   "outputs": [],
   "source": [
    "hpai_main_dates[['reportDate', 'infDate', 'confDate', 'cullStart', 'cullEnd']] = hpai_main_dates[['reportDate', 'infDate', 'confDate', 'cullStart', 'cullEnd']].apply(lambda x: pd.to_datetime(x, format='%d/%m/%Y'))"
   ]
  },
  {
   "cell_type": "code",
   "execution_count": 14,
   "id": "29bf80a8",
   "metadata": {
    "ExecuteTime": {
     "end_time": "2023-11-17T16:00:47.253897Z",
     "start_time": "2023-11-17T16:00:46.668500Z"
    }
   },
   "outputs": [
    {
     "data": {
      "text/plain": [
       "<AxesSubplot:xlabel='reportDate', ylabel='Count'>"
      ]
     },
     "execution_count": 14,
     "metadata": {},
     "output_type": "execute_result"
    },
    {
     "data": {
      "image/png": "[encoded data removed]",
      "text/plain": [
       "<Figure size 1500x1000 with 1 Axes>"
      ]
     },
     "metadata": {},
     "output_type": "display_data"
    }
   ],
   "source": [
    "sns.histplot(data = hpai_main_dates, x = 'reportDate')"
   ]
  },
  {
   "cell_type": "code",
   "execution_count": 15,
   "id": "c46a51be",
   "metadata": {
    "ExecuteTime": {
     "end_time": "2023-11-17T16:00:47.274036Z",
     "start_time": "2023-11-17T16:00:47.262400Z"
    }
   },
   "outputs": [],
   "source": [
    "# most cases are in 2020 onwards so we filter out the 2017 wave \n",
    "hpai_main_dates = hpai_main_dates[hpai_main_dates.reportDate >= datetime.datetime(2020,1, 1, 0,0,0)]"
   ]
  },
  {
   "cell_type": "code",
   "execution_count": 79,
   "id": "7a64436f",
   "metadata": {
    "ExecuteTime": {
     "end_time": "2023-11-17T16:07:17.345148Z",
     "start_time": "2023-11-17T16:07:16.845199Z"
    }
   },
   "outputs": [
    {
     "data": {
      "text/plain": [
       "<AxesSubplot:xlabel='reportDate', ylabel='Count'>"
      ]
     },
     "execution_count": 79,
     "metadata": {},
     "output_type": "execute_result"
    },
    {
     "data": {
      "image/png": "[encoded data removed]",
      "text/plain": [
       "<Figure size 1500x1000 with 1 Axes>"
      ]
     },
     "metadata": {},
     "output_type": "display_data"
    }
   ],
   "source": [
    "sns.histplot(data = hpai_main_dates, x = 'reportDate', \n",
    "            bins = 36, cumulative=False)"
   ]
  },
  {
   "cell_type": "code",
   "execution_count": 16,
   "id": "5ed69c0a",
   "metadata": {
    "ExecuteTime": {
     "end_time": "2023-11-17T16:00:56.733933Z",
     "start_time": "2023-11-17T16:00:47.279054Z"
    }
   },
   "outputs": [],
   "source": [
    "# Time variables for hpai_wild:\n",
    "# Date Received\n",
    "# Test date\n",
    "# Date PHE informed\n",
    "\n",
    "hpai_wild[['Date Received', 'Test date', 'Date PHE informed']] = hpai_wild[['Date Received', 'Test date', 'Date PHE informed']].apply(\n",
    "    lambda x: pd.to_datetime(x, infer_datetime_format=True), axis=1)"
   ]
  },
  {
   "cell_type": "markdown",
   "id": "ae2e6709",
   "metadata": {},
   "source": [
    "## Geopandas attempts"
   ]
  },
  {
   "cell_type": "code",
   "execution_count": 17,
   "id": "74192076",
   "metadata": {
    "ExecuteTime": {
     "end_time": "2023-11-17T16:00:57.514538Z",
     "start_time": "2023-11-17T16:00:56.740997Z"
    }
   },
   "outputs": [
    {
     "data": {
      "text/plain": [
       "<AxesSubplot:xlabel='Long', ylabel='Lat'>"
      ]
     },
     "execution_count": 17,
     "metadata": {},
     "output_type": "execute_result"
    },
    {
     "data": {
      "image/png": "[encoded data removed]",
      "text/plain": [
       "<Figure size 1500x1000 with 1 Axes>"
      ]
     },
     "metadata": {},
     "output_type": "display_data"
    }
   ],
   "source": [
    "sns.scatterplot(data=hpai_main, x = 'Long', y = 'Lat', style = 'region', hue='premisesType')"
   ]
  },
  {
   "cell_type": "code",
   "execution_count": 18,
   "id": "6507e735",
   "metadata": {
    "ExecuteTime": {
     "end_time": "2023-11-17T16:00:57.976385Z",
     "start_time": "2023-11-17T16:00:57.517712Z"
    }
   },
   "outputs": [
    {
     "data": {
      "text/plain": [
       "<AxesSubplot:xlabel='easting', ylabel='northing'>"
      ]
     },
     "execution_count": 18,
     "metadata": {},
     "output_type": "execute_result"
    },
    {
     "data": {
      "image/png": "[encoded data removed]",
      "text/plain": [
       "<Figure size 1500x1000 with 1 Axes>"
      ]
     },
     "metadata": {},
     "output_type": "display_data"
    }
   ],
   "source": [
    "sns.scatterplot(data=hpai_wild, x = 'easting', y = 'northing', hue='Final Result')"
   ]
  },
  {
   "cell_type": "code",
   "execution_count": 19,
   "id": "69fc0d90",
   "metadata": {
    "ExecuteTime": {
     "end_time": "2023-11-17T16:00:58.011840Z",
     "start_time": "2023-11-17T16:00:57.981253Z"
    }
   },
   "outputs": [],
   "source": [
    "geo_hpai_main = geopandas.GeoDataFrame(\n",
    "    hpai_main, geometry=geopandas.points_from_xy(hpai_main.Long, hpai_main.Lat))"
   ]
  },
  {
   "cell_type": "code",
   "execution_count": 20,
   "id": "046826cb",
   "metadata": {
    "ExecuteTime": {
     "end_time": "2023-11-17T16:00:58.315242Z",
     "start_time": "2023-11-17T16:00:58.015465Z"
    }
   },
   "outputs": [],
   "source": [
    "geo_hpai_wild = geopandas.GeoDataFrame(\n",
    "    hpai_wild, geometry=geopandas.points_from_xy(hpai_wild.longitude, hpai_wild.latitude))"
   ]
  },
  {
   "cell_type": "code",
   "execution_count": 21,
   "id": "21a3ff25",
   "metadata": {
    "ExecuteTime": {
     "end_time": "2023-11-17T16:01:02.574488Z",
     "start_time": "2023-11-17T16:00:58.317765Z"
    },
    "scrolled": false
   },
   "outputs": [
    {
     "data": {
      "image/png": "[encoded data removed]",
      "text/plain": [
       "<Figure size 1500x1000 with 1 Axes>"
      ]
     },
     "metadata": {},
     "output_type": "display_data"
    }
   ],
   "source": [
    "world = geopandas.read_file(geopandas.datasets.get_path('naturalearth_lowres'))\n",
    "\n",
    "\n",
    "# restrict to UK.\n",
    "ax = world[world.name == 'United Kingdom'].plot(\n",
    "    color='white', edgecolor='black')\n",
    "\n",
    "# plot our ``GeoDataFrame``.\n",
    "geo_hpai_wild[geo_hpai_wild['Final Result'] == 'Positive'].plot(\n",
    "    ax=ax, color='red', alpha=0.5, label='Wild bird Infected',  marker='x')\n",
    "geo_hpai_wild[geo_hpai_wild['Final Result'] != 'Positive'].plot(\n",
    "    ax=ax, color='green', alpha=0.3, label='Wild bird *Not* Infected',  marker='.')\n",
    "geo_hpai_main.plot(ax=ax, color='blue', marker='s',\n",
    "                   label='Poultry Farms', alpha=0.5)\n",
    "\n",
    "plt.title('Wild bird deaths in relation to Poultry Farms in the UK')\n",
    "plt.xlabel('Longitude')\n",
    "plt.ylabel('Latitude')\n",
    "plt.legend(loc=\"upper left\")\n",
    "plt.show()"
   ]
  },
  {
   "cell_type": "markdown",
   "id": "da346ee6",
   "metadata": {},
   "source": [
    "# Extracting modeling data \n",
    "\n",
    "Proposed model: SEINR "
   ]
  },
  {
   "cell_type": "code",
   "execution_count": 22,
   "id": "857f414b",
   "metadata": {
    "ExecuteTime": {
     "end_time": "2023-11-17T16:01:02.840133Z",
     "start_time": "2023-11-17T16:01:02.577224Z"
    }
   },
   "outputs": [],
   "source": [
    "# spatial data - farm level\n",
    "hpai_poultry[['Location Id', 'Easting', 'Northing']].to_csv('data_files/farm_locations.csv')"
   ]
  },
  {
   "cell_type": "code",
   "execution_count": 23,
   "id": "d37bb465",
   "metadata": {
    "ExecuteTime": {
     "end_time": "2023-11-17T16:01:02.861407Z",
     "start_time": "2023-11-17T16:01:02.842441Z"
    }
   },
   "outputs": [],
   "source": [
    "# time data - case level (will not have every farm infected)\n",
    "hpai_main_dates.to_csv('data_files/hpai_temporal_data.csv')"
   ]
  },
  {
   "cell_type": "code",
   "execution_count": 24,
   "id": "9d662a26",
   "metadata": {
    "ExecuteTime": {
     "end_time": "2023-11-17T16:01:02.880240Z",
     "start_time": "2023-11-17T16:01:02.864021Z"
    }
   },
   "outputs": [
    {
     "data": {
      "text/html": [
       "<div>\n",
       "<style scoped>\n",
       "    .dataframe tbody tr th:only-of-type {\n",
       "        vertical-align: middle;\n",
       "    }\n",
       "\n",
       "    .dataframe tbody tr th {\n",
       "        vertical-align: top;\n",
       "    }\n",
       "\n",
       "    .dataframe thead th {\n",
       "        text-align: right;\n",
       "    }\n",
       "</style>\n",
       "<table border=\"1\" class=\"dataframe\">\n",
       "  <thead>\n",
       "    <tr style=\"text-align: right;\">\n",
       "      <th></th>\n",
       "      <th>approxNumBirds</th>\n",
       "      <th>Season</th>\n",
       "      <th>speciesPresent</th>\n",
       "      <th>businessType</th>\n",
       "      <th>premisesType</th>\n",
       "    </tr>\n",
       "  </thead>\n",
       "  <tbody>\n",
       "    <tr>\n",
       "      <th>0</th>\n",
       "      <td>80000</td>\n",
       "      <td>NaN</td>\n",
       "      <td>NaN</td>\n",
       "      <td>NaN</td>\n",
       "      <td>Ducks</td>\n",
       "    </tr>\n",
       "    <tr>\n",
       "      <th>1</th>\n",
       "      <td>3342</td>\n",
       "      <td>NaN</td>\n",
       "      <td>NaN</td>\n",
       "      <td>NaN</td>\n",
       "      <td>Turkeys</td>\n",
       "    </tr>\n",
       "    <tr>\n",
       "      <th>2</th>\n",
       "      <td>400</td>\n",
       "      <td>NaN</td>\n",
       "      <td>NaN</td>\n",
       "      <td>NaN</td>\n",
       "      <td>Chickens</td>\n",
       "    </tr>\n",
       "    <tr>\n",
       "      <th>3</th>\n",
       "      <td>32000</td>\n",
       "      <td>2022.0</td>\n",
       "      <td>Chickens</td>\n",
       "      <td>Commercial</td>\n",
       "      <td>Chickens</td>\n",
       "    </tr>\n",
       "    <tr>\n",
       "      <th>4</th>\n",
       "      <td>4</td>\n",
       "      <td>NaN</td>\n",
       "      <td>NaN</td>\n",
       "      <td>NaN</td>\n",
       "      <td>Chickens</td>\n",
       "    </tr>\n",
       "    <tr>\n",
       "      <th>...</th>\n",
       "      <td>...</td>\n",
       "      <td>...</td>\n",
       "      <td>...</td>\n",
       "      <td>...</td>\n",
       "      <td>...</td>\n",
       "    </tr>\n",
       "    <tr>\n",
       "      <th>535</th>\n",
       "      <td>NaN</td>\n",
       "      <td>2020.0</td>\n",
       "      <td>Game Birds</td>\n",
       "      <td>Commercial</td>\n",
       "      <td>Game Birds</td>\n",
       "    </tr>\n",
       "    <tr>\n",
       "      <th>536</th>\n",
       "      <td>NaN</td>\n",
       "      <td>2020.0</td>\n",
       "      <td>Chickens</td>\n",
       "      <td>Commercial</td>\n",
       "      <td>Chickens</td>\n",
       "    </tr>\n",
       "    <tr>\n",
       "      <th>537</th>\n",
       "      <td>NaN</td>\n",
       "      <td>2020.0</td>\n",
       "      <td>Game Birds</td>\n",
       "      <td>Commercial</td>\n",
       "      <td>Game Birds</td>\n",
       "    </tr>\n",
       "    <tr>\n",
       "      <th>538</th>\n",
       "      <td>NaN</td>\n",
       "      <td>2020.0</td>\n",
       "      <td>Chickens</td>\n",
       "      <td>Commercial</td>\n",
       "      <td>Chickens</td>\n",
       "    </tr>\n",
       "    <tr>\n",
       "      <th>539</th>\n",
       "      <td>NaN</td>\n",
       "      <td>2020.0</td>\n",
       "      <td>Falcons</td>\n",
       "      <td>Captive Birds</td>\n",
       "      <td>Falcons</td>\n",
       "    </tr>\n",
       "  </tbody>\n",
       "</table>\n",
       "<p>540 rows × 5 columns</p>\n",
       "</div>"
      ],
      "text/plain": [
       "    approxNumBirds  Season speciesPresent   businessType premisesType\n",
       "0            80000     NaN            NaN            NaN        Ducks\n",
       "1             3342     NaN            NaN            NaN      Turkeys\n",
       "2              400     NaN            NaN            NaN     Chickens\n",
       "3            32000  2022.0       Chickens     Commercial     Chickens\n",
       "4                4     NaN            NaN            NaN     Chickens\n",
       "..             ...     ...            ...            ...          ...\n",
       "535            NaN  2020.0     Game Birds     Commercial   Game Birds\n",
       "536            NaN  2020.0       Chickens     Commercial     Chickens\n",
       "537            NaN  2020.0     Game Birds     Commercial   Game Birds\n",
       "538            NaN  2020.0       Chickens     Commercial     Chickens\n",
       "539            NaN  2020.0        Falcons  Captive Birds      Falcons\n",
       "\n",
       "[540 rows x 5 columns]"
      ]
     },
     "execution_count": 24,
     "metadata": {},
     "output_type": "execute_result"
    }
   ],
   "source": [
    "# farm characteristics - from the hpai_main dataset so they align with the hpai_main_dates\n",
    "# characteristics available for every infected/case but not for every farm (i.e. occults)! Harder to simulate\n",
    "hpai_main[['approxNumBirds', 'Season', 'speciesPresent', 'businessType', 'premisesType']]\n",
    "\n",
    "# any derivative data sets from the main file can be matched by index, o/w need to match by location? "
   ]
  },
  {
   "cell_type": "code",
   "execution_count": 25,
   "id": "4fac9a56",
   "metadata": {
    "ExecuteTime": {
     "end_time": "2023-11-17T16:01:02.896624Z",
     "start_time": "2023-11-17T16:01:02.882918Z"
    }
   },
   "outputs": [
    {
     "name": "stdout",
     "output_type": "stream",
     "text": [
      "<class 'pandas.core.frame.DataFrame'>\n",
      "RangeIndex: 540 entries, 0 to 539\n",
      "Data columns (total 33 columns):\n",
      " #   Column          Non-Null Count  Dtype   \n",
      "---  ------          --------------  -----   \n",
      " 0   dprNumber       504 non-null    object  \n",
      " 1   aivNumber       324 non-null    object  \n",
      " 2   reportDate      540 non-null    object  \n",
      " 3   Status          504 non-null    object  \n",
      " 4   NDI1Type        504 non-null    object  \n",
      " 5   Resolution      495 non-null    object  \n",
      " 6   Stock Details   499 non-null    object  \n",
      " 7   CPH             369 non-null    object  \n",
      " 8   Country         503 non-null    object  \n",
      " 9   dprID           504 non-null    object  \n",
      " 10  aivID           324 non-null    object  \n",
      " 11  ipNumber        134 non-null    float64 \n",
      " 12  region          191 non-null    object  \n",
      " 13  approxNumBirds  190 non-null    object  \n",
      " 14  Year            324 non-null    float64 \n",
      " 15  Season          324 non-null    float64 \n",
      " 16  Subtype         249 non-null    object  \n",
      " 17  infDate         320 non-null    object  \n",
      " 18  confDate        324 non-null    object  \n",
      " 19  speciesPresent  323 non-null    object  \n",
      " 20  businessType    324 non-null    object  \n",
      " 21  Sector          255 non-null    object  \n",
      " 22  PZ/SZ presence  0 non-null      float64 \n",
      " 23  Lat             324 non-null    float64 \n",
      " 24  Long            324 non-null    float64 \n",
      " 25  Genomics        235 non-null    object  \n",
      " 26  cullStart       181 non-null    object  \n",
      " 27  cullEnd         110 non-null    object  \n",
      " 28  dispComplete    45 non-null     object  \n",
      " 29  cdEffective     74 non-null     object  \n",
      " 30  County          540 non-null    object  \n",
      " 31  premisesType    525 non-null    object  \n",
      " 32  geometry        540 non-null    geometry\n",
      "dtypes: float64(6), geometry(1), object(26)\n",
      "memory usage: 139.3+ KB\n"
     ]
    }
   ],
   "source": [
    "hpai_main.info()"
   ]
  },
  {
   "cell_type": "markdown",
   "id": "0fafc76e",
   "metadata": {},
   "source": [
    "# Simulate data"
   ]
  },
  {
   "cell_type": "code",
   "execution_count": 26,
   "id": "5393a75e",
   "metadata": {
    "ExecuteTime": {
     "end_time": "2023-11-17T16:01:02.904127Z",
     "start_time": "2023-11-17T16:01:02.900588Z"
    }
   },
   "outputs": [],
   "source": [
    "import sys \n",
    "\n",
    "sys.path.append('/Users/alinmorariu/Documents/Github/ContinuousTimeIndividualLevelEpidemicModels')"
   ]
  },
  {
   "cell_type": "code",
   "execution_count": 27,
   "id": "0f2082be",
   "metadata": {
    "ExecuteTime": {
     "end_time": "2023-11-17T16:01:03.099233Z",
     "start_time": "2023-11-17T16:01:02.908640Z"
    }
   },
   "outputs": [
    {
     "name": "stderr",
     "output_type": "stream",
     "text": [
      "2023-11-17 16:01:02.918802: I tensorflow/core/platform/cpu_feature_guard.cc:151] This TensorFlow binary is optimized with oneAPI Deep Neural Network Library (oneDNN) to use the following CPU instructions in performance-critical operations:  AVX2 FMA\n",
      "To enable them in other operations, rebuild TensorFlow with the appropriate compiler flags.\n"
     ]
    }
   ],
   "source": [
    "import ContinousTimeStateTransitionModel as epi_sim"
   ]
  },
  {
   "cell_type": "markdown",
   "id": "d1f06071",
   "metadata": {},
   "source": [
    "## Fake data "
   ]
  },
  {
   "cell_type": "code",
   "execution_count": 28,
   "id": "e95b0eeb",
   "metadata": {
    "ExecuteTime": {
     "end_time": "2023-11-17T16:01:03.122195Z",
     "start_time": "2023-11-17T16:01:03.112027Z"
    }
   },
   "outputs": [
    {
     "data": {
      "text/html": [
       "<div>\n",
       "<style scoped>\n",
       "    .dataframe tbody tr th:only-of-type {\n",
       "        vertical-align: middle;\n",
       "    }\n",
       "\n",
       "    .dataframe tbody tr th {\n",
       "        vertical-align: top;\n",
       "    }\n",
       "\n",
       "    .dataframe thead th {\n",
       "        text-align: right;\n",
       "    }\n",
       "</style>\n",
       "<table border=\"1\" class=\"dataframe\">\n",
       "  <thead>\n",
       "    <tr style=\"text-align: right;\">\n",
       "      <th></th>\n",
       "      <th>Long</th>\n",
       "      <th>Lat</th>\n",
       "    </tr>\n",
       "  </thead>\n",
       "  <tbody>\n",
       "    <tr>\n",
       "      <th>0</th>\n",
       "      <td>489.152364</td>\n",
       "      <td>99.924608</td>\n",
       "    </tr>\n",
       "    <tr>\n",
       "      <th>1</th>\n",
       "      <td>744.422926</td>\n",
       "      <td>164.224133</td>\n",
       "    </tr>\n",
       "    <tr>\n",
       "      <th>2</th>\n",
       "      <td>29.352368</td>\n",
       "      <td>350.934199</td>\n",
       "    </tr>\n",
       "    <tr>\n",
       "      <th>3</th>\n",
       "      <td>247.268800</td>\n",
       "      <td>952.144133</td>\n",
       "    </tr>\n",
       "    <tr>\n",
       "      <th>4</th>\n",
       "      <td>948.006707</td>\n",
       "      <td>304.171672</td>\n",
       "    </tr>\n",
       "  </tbody>\n",
       "</table>\n",
       "</div>"
      ],
      "text/plain": [
       "         Long         Lat\n",
       "0  489.152364   99.924608\n",
       "1  744.422926  164.224133\n",
       "2   29.352368  350.934199\n",
       "3  247.268800  952.144133\n",
       "4  948.006707  304.171672"
      ]
     },
     "execution_count": 28,
     "metadata": {},
     "output_type": "execute_result"
    }
   ],
   "source": [
    "# location data\n",
    "num_farms = 1000\n",
    "np.random.seed(1356315)\n",
    "location_data = np.random.uniform(low = 0.0, high = 1000.0, size = (num_farms,2))\n",
    "location_data = pd.DataFrame(location_data, columns= ('Long', 'Lat'))\n",
    "location_data.head()"
   ]
  },
  {
   "cell_type": "code",
   "execution_count": 29,
   "id": "de04a885",
   "metadata": {
    "ExecuteTime": {
     "end_time": "2023-11-17T16:01:03.405144Z",
     "start_time": "2023-11-17T16:01:03.124917Z"
    }
   },
   "outputs": [
    {
     "data": {
      "text/plain": [
       "<AxesSubplot:xlabel='Long', ylabel='Lat'>"
      ]
     },
     "execution_count": 29,
     "metadata": {},
     "output_type": "execute_result"
    },
    {
     "data": {
      "image/png": "[encoded data removed]",
      "text/plain": [
       "<Figure size 1500x1000 with 1 Axes>"
      ]
     },
     "metadata": {},
     "output_type": "display_data"
    }
   ],
   "source": [
    "sns.scatterplot(data=location_data, x='Long', y='Lat')"
   ]
  },
  {
   "cell_type": "code",
   "execution_count": 30,
   "id": "7aa5a743",
   "metadata": {
    "ExecuteTime": {
     "end_time": "2023-11-17T16:01:03.411917Z",
     "start_time": "2023-11-17T16:01:03.408332Z"
    }
   },
   "outputs": [],
   "source": [
    "# farm type data \n",
    "farm_types = ['chicken', 'other']\n",
    "np.random.seed(1356315)\n"
   ]
  },
  {
   "cell_type": "code",
   "execution_count": 31,
   "id": "f0df77c4",
   "metadata": {
    "ExecuteTime": {
     "end_time": "2023-11-17T16:01:03.420371Z",
     "start_time": "2023-11-17T16:01:03.414990Z"
    }
   },
   "outputs": [],
   "source": [
    "# Create hazard fn \n",
    "DTYPE = tf.float32\n",
    "def pairwise_distance(farm_locations_data):\n",
    "    \"\"\"Compute pairwise distance matrix between farms\n",
    "\n",
    "    Args:\n",
    "        farm_locations_data (DataFrame): Lat-Long coordinates of farms\n",
    "\n",
    "    Returns:\n",
    "        tensor: tensor of Eucli dean distances between entities\n",
    "                Dim = len(farm_location_data)\n",
    "    \"\"\"\n",
    "    return tf.convert_to_tensor(\n",
    "        sp.spatial.distance.squareform(\n",
    "            sp.spatial.distance.pdist(farm_locations_data)\n",
    "        ),\n",
    "        dtype=DTYPE\n",
    "    )"
   ]
  },
  {
   "cell_type": "code",
   "execution_count": 32,
   "id": "536cd4fd",
   "metadata": {
    "ExecuteTime": {
     "end_time": "2023-11-17T16:01:03.435506Z",
     "start_time": "2023-11-17T16:01:03.423340Z"
    }
   },
   "outputs": [
    {
     "data": {
      "text/plain": [
       "<tf.Tensor: shape=(1000, 1000), dtype=float32, numpy=\n",
       "array([[   0.     ,  263.24417,  523.8529 , ...,  919.12366,  263.98505,\n",
       "         575.8765 ],\n",
       "       [ 263.24417,    0.     ,  739.0444 , ..., 1008.3365 ,  287.13318,\n",
       "         745.43414],\n",
       "       [ 523.8529 ,  739.0444 ,    0.     , ...,  574.65814,  505.1158 ,\n",
       "         166.37543],\n",
       "       ...,\n",
       "       [ 919.12366, 1008.3365 ,  574.65814, ...,    0.     ,  723.28735,\n",
       "         414.94156],\n",
       "       [ 263.98505,  287.13318,  505.1158 , ...,  723.28735,    0.     ,\n",
       "         474.97015],\n",
       "       [ 575.8765 ,  745.43414,  166.37543, ...,  414.94156,  474.97015,\n",
       "           0.     ]], dtype=float32)>"
      ]
     },
     "execution_count": 32,
     "metadata": {},
     "output_type": "execute_result"
    }
   ],
   "source": [
    "# eg. spatial distance\n",
    "pairwise_distance(farm_locations_data= location_data)"
   ]
  },
  {
   "cell_type": "code",
   "execution_count": 33,
   "id": "e11bdf2b",
   "metadata": {
    "ExecuteTime": {
     "end_time": "2023-11-17T16:01:03.464319Z",
     "start_time": "2023-11-17T16:01:03.438446Z"
    }
   },
   "outputs": [
    {
     "data": {
      "text/plain": [
       "array(['2023-01-16', '2023-01-25', '2023-01-20', '2023-01-19',\n",
       "       '2023-01-20', '2023-01-18', '2023-01-18', '2023-01-23',\n",
       "       '2023-01-15', '2023-01-07', '2023-01-16', '2023-01-10',\n",
       "       '2023-01-18', '2023-01-15', '2023-01-14', '2023-01-23',\n",
       "       '2023-01-17', '2023-01-18', '2023-01-10', '2023-01-19',\n",
       "       '2023-01-25', '2023-01-09', '2023-01-14', '2023-01-15',\n",
       "       '2023-01-10', '2023-01-20', '2023-01-11', '2023-01-25',\n",
       "       '2023-01-08', '2023-01-18', '2023-01-14', '2023-01-26',\n",
       "       '2023-01-14', '2023-01-08', '2023-01-18', '2023-01-25',\n",
       "       '2023-01-08', '2023-01-12', '2023-01-09', '2023-01-24',\n",
       "       '2023-01-24', '2023-01-19', '2023-01-12', '2023-01-22',\n",
       "       '2023-01-25', '2023-01-22', '2023-01-15', '2023-01-15',\n",
       "       '2023-01-09', '2023-01-20', '2023-01-20', '2023-01-18',\n",
       "       '2023-01-09', '2023-01-26', '2023-01-24', '2023-01-11',\n",
       "       '2023-01-08', '2023-01-14', '2023-01-23', '2023-01-24',\n",
       "       '2023-01-17', '2023-01-19', '2023-01-12', '2023-01-26',\n",
       "       '2023-01-20', '2023-01-18', '2023-01-23', '2023-01-09',\n",
       "       '2023-01-22', '2023-01-15', '2023-01-21', '2023-01-24',\n",
       "       '2023-01-21', '2023-01-26', '2023-01-26', '2023-01-10',\n",
       "       '2023-01-10', '2023-01-25', '2023-01-09', '2023-01-22',\n",
       "       '2023-01-22', '2023-01-21', '2023-01-25', '2023-01-15',\n",
       "       '2023-01-09', '2023-01-17', '2023-01-16', '2023-01-20',\n",
       "       '2023-01-11', '2023-01-21', '2023-01-15', '2023-01-12',\n",
       "       '2023-01-12', '2023-01-23', '2023-01-18', '2023-01-10',\n",
       "       '2023-01-10', '2023-01-23', '2023-01-09', '2023-01-25',\n",
       "       '2023-01-26', '2023-01-16', '2023-01-16', '2023-01-15',\n",
       "       '2023-01-10', '2023-01-19', '2023-01-13', '2023-01-23',\n",
       "       '2023-01-14', '2023-01-24', '2023-01-07', '2023-01-17',\n",
       "       '2023-01-21', '2023-01-21', '2023-01-21', '2023-01-26',\n",
       "       '2023-01-17', '2023-01-23', '2023-01-19', '2023-01-15',\n",
       "       '2023-01-10', '2023-01-19', '2023-01-18', '2023-01-18',\n",
       "       '2023-01-18', '2023-01-16', '2023-01-10', '2023-01-11',\n",
       "       '2023-01-13', '2023-01-21', '2023-01-11', '2023-01-17',\n",
       "       '2023-01-15', '2023-01-19', '2023-01-16', '2023-01-14',\n",
       "       '2023-01-17', '2023-01-20', '2023-01-14', '2023-01-25',\n",
       "       '2023-01-09', '2023-01-24', '2023-01-17', '2023-01-14',\n",
       "       '2023-01-18', '2023-01-16', '2023-01-14', '2023-01-12',\n",
       "       '2023-01-18', '2023-01-23', '2023-01-18', '2023-01-08',\n",
       "       '2023-01-23', '2023-01-08', '2023-01-08', '2023-01-26',\n",
       "       '2023-01-18', '2023-01-07', '2023-01-07', '2023-01-20',\n",
       "       '2023-01-22', '2023-01-14', '2023-01-10', '2023-01-20',\n",
       "       '2023-01-20', '2023-01-20', '2023-01-08', '2023-01-23',\n",
       "       '2023-01-24', '2023-01-12', '2023-01-25', '2023-01-13',\n",
       "       '2023-01-14', '2023-01-23', '2023-01-16', '2023-01-23',\n",
       "       '2023-01-19', '2023-01-23', '2023-01-17', '2023-01-20',\n",
       "       '2023-01-08', '2023-01-16', '2023-01-24', '2023-01-10',\n",
       "       '2023-01-19', '2023-01-13', '2023-01-10', '2023-01-14',\n",
       "       '2023-01-24', '2023-01-09', '2023-01-14', '2023-01-25',\n",
       "       '2023-01-07', '2023-01-18', '2023-01-07', '2023-01-08',\n",
       "       '2023-01-17', '2023-01-19', '2023-01-26', '2023-01-10',\n",
       "       '2023-01-16', '2023-01-17', '2023-01-09', '2023-01-09',\n",
       "       '2023-01-12', '2023-01-24', '2023-01-18', '2023-01-12',\n",
       "       '2023-01-18', '2023-01-07', '2023-01-26', '2023-01-21',\n",
       "       '2023-01-23', '2023-01-22', '2023-01-14', '2023-01-22',\n",
       "       '2023-01-10', '2023-01-12', '2023-01-18', '2023-01-24',\n",
       "       '2023-01-18', '2023-01-07', '2023-01-07', '2023-01-26',\n",
       "       '2023-01-21', '2023-01-13', '2023-01-17', '2023-01-12',\n",
       "       '2023-01-16', '2023-01-10', '2023-01-24', '2023-01-11',\n",
       "       '2023-01-20', '2023-01-24', '2023-01-11', '2023-01-15',\n",
       "       '2023-01-26', '2023-01-17', '2023-01-10', '2023-01-16',\n",
       "       '2023-01-19', '2023-01-09', '2023-01-13', '2023-01-24',\n",
       "       '2023-01-26', '2023-01-07', '2023-01-15', '2023-01-23',\n",
       "       '2023-01-13', '2023-01-13', '2023-01-18', '2023-01-11',\n",
       "       '2023-01-23', '2023-01-24', '2023-01-21', '2023-01-18',\n",
       "       '2023-01-19', '2023-01-23', '2023-01-24', '2023-01-07',\n",
       "       '2023-01-09', '2023-01-18', '2023-01-17', '2023-01-17',\n",
       "       '2023-01-21', '2023-01-22', '2023-01-22', '2023-01-24',\n",
       "       '2023-01-22', '2023-01-15', '2023-01-17', '2023-01-08',\n",
       "       '2023-01-08', '2023-01-22', '2023-01-16', '2023-01-23',\n",
       "       '2023-01-12', '2023-01-08', '2023-01-12', '2023-01-23',\n",
       "       '2023-01-18', '2023-01-18', '2023-01-21', '2023-01-11',\n",
       "       '2023-01-26', '2023-01-13', '2023-01-19', '2023-01-09',\n",
       "       '2023-01-18', '2023-01-11', '2023-01-17', '2023-01-18',\n",
       "       '2023-01-24', '2023-01-26', '2023-01-07', '2023-01-15',\n",
       "       '2023-01-07', '2023-01-13', '2023-01-09', '2023-01-09',\n",
       "       '2023-01-11', '2023-01-11', '2023-01-13', '2023-01-24',\n",
       "       '2023-01-21', '2023-01-13', '2023-01-12', '2023-01-10',\n",
       "       '2023-01-09', '2023-01-24', '2023-01-24', '2023-01-12',\n",
       "       '2023-01-22', '2023-01-16', '2023-01-24', '2023-01-19',\n",
       "       '2023-01-15', '2023-01-09', '2023-01-11', '2023-01-08',\n",
       "       '2023-01-11', '2023-01-16', '2023-01-24', '2023-01-14',\n",
       "       '2023-01-24', '2023-01-24', '2023-01-16', '2023-01-20',\n",
       "       '2023-01-18', '2023-01-25', '2023-01-26', '2023-01-11',\n",
       "       '2023-01-13', '2023-01-15', '2023-01-19', '2023-01-10',\n",
       "       '2023-01-25', '2023-01-21', '2023-01-14', '2023-01-23',\n",
       "       '2023-01-18', '2023-01-16', '2023-01-08', '2023-01-24',\n",
       "       '2023-01-13', '2023-01-22', '2023-01-11', '2023-01-26',\n",
       "       '2023-01-17', '2023-01-18', '2023-01-21', '2023-01-24',\n",
       "       '2023-01-14', '2023-01-16', '2023-01-24', '2023-01-14',\n",
       "       '2023-01-13', '2023-01-13', '2023-01-10', '2023-01-17',\n",
       "       '2023-01-10', '2023-01-12', '2023-01-22', '2023-01-09',\n",
       "       '2023-01-09', '2023-01-22', '2023-01-26', '2023-01-16',\n",
       "       '2023-01-21', '2023-01-09', '2023-01-21', '2023-01-11',\n",
       "       '2023-01-07', '2023-01-25', '2023-01-14', '2023-01-09',\n",
       "       '2023-01-25', '2023-01-24', '2023-01-26', '2023-01-26',\n",
       "       '2023-01-22', '2023-01-18', '2023-01-11', '2023-01-10',\n",
       "       '2023-01-22', '2023-01-10', '2023-01-22', '2023-01-16',\n",
       "       '2023-01-10', '2023-01-19', '2023-01-22', '2023-01-15',\n",
       "       '2023-01-21', '2023-01-25', '2023-01-19', '2023-01-18',\n",
       "       '2023-01-19', '2023-01-12', '2023-01-19', '2023-01-14',\n",
       "       '2023-01-07', '2023-01-10', '2023-01-15', '2023-01-25',\n",
       "       '2023-01-12', '2023-01-10', '2023-01-13', '2023-01-23',\n",
       "       '2023-01-10', '2023-01-25', '2023-01-25', '2023-01-24',\n",
       "       '2023-01-19', '2023-01-13', '2023-01-17', '2023-01-09',\n",
       "       '2023-01-07', '2023-01-26', '2023-01-07', '2023-01-12',\n",
       "       '2023-01-26', '2023-01-19', '2023-01-24', '2023-01-26',\n",
       "       '2023-01-21', '2023-01-19', '2023-01-15', '2023-01-11',\n",
       "       '2023-01-25', '2023-01-18', '2023-01-07', '2023-01-20',\n",
       "       '2023-01-17', '2023-01-17', '2023-01-21', '2023-01-23',\n",
       "       '2023-01-07', '2023-01-14', '2023-01-22', '2023-01-22',\n",
       "       '2023-01-08', '2023-01-10', '2023-01-07', '2023-01-22',\n",
       "       '2023-01-26', '2023-01-17', '2023-01-17', '2023-01-18',\n",
       "       '2023-01-21', '2023-01-26', '2023-01-11', '2023-01-18',\n",
       "       '2023-01-14', '2023-01-21', '2023-01-08', '2023-01-20',\n",
       "       '2023-01-17', '2023-01-24', '2023-01-26', '2023-01-21',\n",
       "       '2023-01-21', '2023-01-08', '2023-01-17', '2023-01-24',\n",
       "       '2023-01-10', '2023-01-24', '2023-01-08', '2023-01-21',\n",
       "       '2023-01-25', '2023-01-08', '2023-01-07', '2023-01-15',\n",
       "       '2023-01-17', '2023-01-11', '2023-01-07', '2023-01-25',\n",
       "       '2023-01-13', '2023-01-22', '2023-01-14', '2023-01-17',\n",
       "       '2023-01-15', '2023-01-16', '2023-01-24', '2023-01-11',\n",
       "       '2023-01-18', '2023-01-12', '2023-01-13', '2023-01-11',\n",
       "       '2023-01-23', '2023-01-21', '2023-01-23', '2023-01-07',\n",
       "       '2023-01-11', '2023-01-23', '2023-01-19', '2023-01-20',\n",
       "       '2023-01-14', '2023-01-22', '2023-01-10', '2023-01-08',\n",
       "       '2023-01-12', '2023-01-25', '2023-01-10', '2023-01-15',\n",
       "       '2023-01-15', '2023-01-25', '2023-01-24', '2023-01-11',\n",
       "       '2023-01-12', '2023-01-20', '2023-01-24', '2023-01-17',\n",
       "       '2023-01-09', '2023-01-17', '2023-01-16', '2023-01-19',\n",
       "       '2023-01-12', '2023-01-24', '2023-01-21', '2023-01-16',\n",
       "       '2023-01-18', '2023-01-21', '2023-01-23', '2023-01-25',\n",
       "       '2023-01-07', '2023-01-10', '2023-01-13', '2023-01-08',\n",
       "       '2023-01-10', '2023-01-12', '2023-01-25', '2023-01-26',\n",
       "       '2023-01-10', '2023-01-23', '2023-01-11', '2023-01-09',\n",
       "       '2023-01-20', '2023-01-19', '2023-01-14', '2023-01-24',\n",
       "       '2023-01-10', '2023-01-26', '2023-01-19', '2023-01-12',\n",
       "       '2023-01-15', '2023-01-12', '2023-01-18', '2023-01-14',\n",
       "       '2023-01-25', '2023-01-21', '2023-01-15', '2023-01-11',\n",
       "       '2023-01-25', '2023-01-15', '2023-01-22', '2023-01-10',\n",
       "       '2023-01-19', '2023-01-23', '2023-01-23', '2023-01-15',\n",
       "       '2023-01-24', '2023-01-20', '2023-01-26', '2023-01-15',\n",
       "       '2023-01-19', '2023-01-23', '2023-01-07', '2023-01-23',\n",
       "       '2023-01-09', '2023-01-13', '2023-01-21', '2023-01-16',\n",
       "       '2023-01-20', '2023-01-26', '2023-01-22', '2023-01-19',\n",
       "       '2023-01-14', '2023-01-10', '2023-01-19', '2023-01-09',\n",
       "       '2023-01-16', '2023-01-09', '2023-01-17', '2023-01-09',\n",
       "       '2023-01-22', '2023-01-15', '2023-01-15', '2023-01-15',\n",
       "       '2023-01-22', '2023-01-07', '2023-01-09', '2023-01-25',\n",
       "       '2023-01-22', '2023-01-09', '2023-01-18', '2023-01-26',\n",
       "       '2023-01-19', '2023-01-24', '2023-01-09', '2023-01-10',\n",
       "       '2023-01-10', '2023-01-21', '2023-01-10', '2023-01-10',\n",
       "       '2023-01-18', '2023-01-11', '2023-01-18', '2023-01-17',\n",
       "       '2023-01-13', '2023-01-10', '2023-01-14', '2023-01-08',\n",
       "       '2023-01-18', '2023-01-20', '2023-01-12', '2023-01-18',\n",
       "       '2023-01-15', '2023-01-15', '2023-01-07', '2023-01-07',\n",
       "       '2023-01-19', '2023-01-25', '2023-01-07', '2023-01-12',\n",
       "       '2023-01-24', '2023-01-07', '2023-01-21', '2023-01-19',\n",
       "       '2023-01-15', '2023-01-15', '2023-01-08', '2023-01-10',\n",
       "       '2023-01-21', '2023-01-26', '2023-01-09', '2023-01-13',\n",
       "       '2023-01-25', '2023-01-16', '2023-01-21', '2023-01-20',\n",
       "       '2023-01-16', '2023-01-13', '2023-01-26', '2023-01-07',\n",
       "       '2023-01-10', '2023-01-17', '2023-01-09', '2023-01-13',\n",
       "       '2023-01-23', '2023-01-26', '2023-01-09', '2023-01-08',\n",
       "       '2023-01-25', '2023-01-25', '2023-01-22', '2023-01-09',\n",
       "       '2023-01-17', '2023-01-17', '2023-01-17', '2023-01-11',\n",
       "       '2023-01-16', '2023-01-12', '2023-01-26', '2023-01-25',\n",
       "       '2023-01-18', '2023-01-22', '2023-01-20', '2023-01-11',\n",
       "       '2023-01-25', '2023-01-15', '2023-01-26', '2023-01-20',\n",
       "       '2023-01-16', '2023-01-18', '2023-01-21', '2023-01-17',\n",
       "       '2023-01-08', '2023-01-16', '2023-01-09', '2023-01-24',\n",
       "       '2023-01-15', '2023-01-12', '2023-01-19', '2023-01-23',\n",
       "       '2023-01-20', '2023-01-26', '2023-01-15', '2023-01-08',\n",
       "       '2023-01-11', '2023-01-12', '2023-01-18', '2023-01-10',\n",
       "       '2023-01-24', '2023-01-18', '2023-01-19', '2023-01-10',\n",
       "       '2023-01-16', '2023-01-17', '2023-01-12', '2023-01-24',\n",
       "       '2023-01-22', '2023-01-07', '2023-01-10', '2023-01-08',\n",
       "       '2023-01-09', '2023-01-14', '2023-01-10', '2023-01-20',\n",
       "       '2023-01-22', '2023-01-09', '2023-01-09', '2023-01-21',\n",
       "       '2023-01-23', '2023-01-26', '2023-01-26', '2023-01-14',\n",
       "       '2023-01-09', '2023-01-21', '2023-01-08', '2023-01-24',\n",
       "       '2023-01-20', '2023-01-07', '2023-01-16', '2023-01-09',\n",
       "       '2023-01-16', '2023-01-23', '2023-01-16', '2023-01-20',\n",
       "       '2023-01-12', '2023-01-10', '2023-01-12', '2023-01-17',\n",
       "       '2023-01-17', '2023-01-26', '2023-01-16', '2023-01-19',\n",
       "       '2023-01-07', '2023-01-11', '2023-01-10', '2023-01-22',\n",
       "       '2023-01-10', '2023-01-12', '2023-01-16', '2023-01-25',\n",
       "       '2023-01-16', '2023-01-26', '2023-01-24', '2023-01-17',\n",
       "       '2023-01-17', '2023-01-08', '2023-01-08', '2023-01-26',\n",
       "       '2023-01-13', '2023-01-19', '2023-01-25', '2023-01-22',\n",
       "       '2023-01-19', '2023-01-13', '2023-01-16', '2023-01-18',\n",
       "       '2023-01-24', '2023-01-11', '2023-01-17', '2023-01-09',\n",
       "       '2023-01-10', '2023-01-08', '2023-01-21', '2023-01-24',\n",
       "       '2023-01-11', '2023-01-11', '2023-01-07', '2023-01-13',\n",
       "       '2023-01-18', '2023-01-18', '2023-01-21', '2023-01-24',\n",
       "       '2023-01-15', '2023-01-18', '2023-01-24', '2023-01-13',\n",
       "       '2023-01-26', '2023-01-23', '2023-01-12', '2023-01-23',\n",
       "       '2023-01-10', '2023-01-18', '2023-01-14', '2023-01-20',\n",
       "       '2023-01-18', '2023-01-24', '2023-01-14', '2023-01-16',\n",
       "       '2023-01-21', '2023-01-19', '2023-01-16', '2023-01-22',\n",
       "       '2023-01-11', '2023-01-13', '2023-01-09', '2023-01-09',\n",
       "       '2023-01-17', '2023-01-14', '2023-01-09', '2023-01-18',\n",
       "       '2023-01-10', '2023-01-18', '2023-01-26', '2023-01-21',\n",
       "       '2023-01-20', '2023-01-20', '2023-01-10', '2023-01-12',\n",
       "       '2023-01-16', '2023-01-21', '2023-01-13', '2023-01-12',\n",
       "       '2023-01-07', '2023-01-17', '2023-01-15', '2023-01-21',\n",
       "       '2023-01-09', '2023-01-26', '2023-01-14', '2023-01-12',\n",
       "       '2023-01-26', '2023-01-12', '2023-01-07', '2023-01-24',\n",
       "       '2023-01-24', '2023-01-21', '2023-01-18', '2023-01-26',\n",
       "       '2023-01-08', '2023-01-10', '2023-01-09', '2023-01-13',\n",
       "       '2023-01-07', '2023-01-24', '2023-01-20', '2023-01-21',\n",
       "       '2023-01-21', '2023-01-18', '2023-01-20', '2023-01-09',\n",
       "       '2023-01-25', '2023-01-07', '2023-01-14', '2023-01-25',\n",
       "       '2023-01-13', '2023-01-21', '2023-01-25', '2023-01-19',\n",
       "       '2023-01-07', '2023-01-26', '2023-01-16', '2023-01-16',\n",
       "       '2023-01-19', '2023-01-20', '2023-01-16', '2023-01-13',\n",
       "       '2023-01-13', '2023-01-10', '2023-01-17', '2023-01-07',\n",
       "       '2023-01-22', '2023-01-11', '2023-01-18', '2023-01-21',\n",
       "       '2023-01-25', '2023-01-10', '2023-01-21', '2023-01-09',\n",
       "       '2023-01-24', '2023-01-08', '2023-01-09', '2023-01-20',\n",
       "       '2023-01-26', '2023-01-12', '2023-01-19', '2023-01-22',\n",
       "       '2023-01-26', '2023-01-24', '2023-01-16', '2023-01-09',\n",
       "       '2023-01-12', '2023-01-20', '2023-01-23', '2023-01-12',\n",
       "       '2023-01-08', '2023-01-09', '2023-01-20', '2023-01-19',\n",
       "       '2023-01-24', '2023-01-19', '2023-01-21', '2023-01-13',\n",
       "       '2023-01-22', '2023-01-26', '2023-01-20', '2023-01-25',\n",
       "       '2023-01-18', '2023-01-20', '2023-01-08', '2023-01-22',\n",
       "       '2023-01-08', '2023-01-18', '2023-01-12', '2023-01-14',\n",
       "       '2023-01-20', '2023-01-24', '2023-01-09', '2023-01-15',\n",
       "       '2023-01-23', '2023-01-08', '2023-01-09', '2023-01-11',\n",
       "       '2023-01-23', '2023-01-12', '2023-01-24', '2023-01-20',\n",
       "       '2023-01-22', '2023-01-26', '2023-01-07', '2023-01-11',\n",
       "       '2023-01-08', '2023-01-23', '2023-01-20', '2023-01-24',\n",
       "       '2023-01-16', '2023-01-13', '2023-01-19', '2023-01-23',\n",
       "       '2023-01-11', '2023-01-12', '2023-01-24', '2023-01-09',\n",
       "       '2023-01-22', '2023-01-11', '2023-01-08', '2023-01-17',\n",
       "       '2023-01-13', '2023-01-08', '2023-01-17', '2023-01-11',\n",
       "       '2023-01-17', '2023-01-10', '2023-01-10', '2023-01-17',\n",
       "       '2023-01-24', '2023-01-07', '2023-01-10', '2023-01-24',\n",
       "       '2023-01-13', '2023-01-12', '2023-01-23', '2023-01-20',\n",
       "       '2023-01-17', '2023-01-13', '2023-01-22', '2023-01-07',\n",
       "       '2023-01-25', '2023-01-23', '2023-01-26', '2023-01-11',\n",
       "       '2023-01-10', '2023-01-13', '2023-01-16', '2023-01-21',\n",
       "       '2023-01-12', '2023-01-07', '2023-01-25', '2023-01-21',\n",
       "       '2023-01-12', '2023-01-26', '2023-01-21', '2023-01-09',\n",
       "       '2023-01-11', '2023-01-09', '2023-01-13', '2023-01-25',\n",
       "       '2023-01-12', '2023-01-18', '2023-01-07', '2023-01-11',\n",
       "       '2023-01-09', '2023-01-11', '2023-01-08', '2023-01-24',\n",
       "       '2023-01-26', '2023-01-23', '2023-01-14', '2023-01-20',\n",
       "       '2023-01-19', '2023-01-22', '2023-01-24', '2023-01-08',\n",
       "       '2023-01-14', '2023-01-16', '2023-01-14', '2023-01-20'],\n",
       "      dtype='datetime64[D]')"
      ]
     },
     "execution_count": 33,
     "metadata": {},
     "output_type": "execute_result"
    }
   ],
   "source": [
    "# Datetimes for events \n",
    "np.random.seed(1356315)\n",
    "\n",
    "infectious_period_range = np.arange(0, 20)\n",
    "base_date = np.datetime64('2023-01-07')\n",
    "infectious_dates = base_date + np.random.choice(infectious_period_range, num_farms)\n",
    "\n",
    "infectious_dates"
   ]
  },
  {
   "cell_type": "code",
   "execution_count": 34,
   "id": "9584d09b",
   "metadata": {
    "ExecuteTime": {
     "end_time": "2023-11-17T16:01:03.470951Z",
     "start_time": "2023-11-17T16:01:03.467533Z"
    }
   },
   "outputs": [],
   "source": [
    "removal_dates = infectious_dates + 4"
   ]
  },
  {
   "cell_type": "code",
   "execution_count": 35,
   "id": "ed0666d3",
   "metadata": {
    "ExecuteTime": {
     "end_time": "2023-11-17T16:01:03.485970Z",
     "start_time": "2023-11-17T16:01:03.474678Z"
    }
   },
   "outputs": [
    {
     "data": {
      "text/html": [
       "<div>\n",
       "<style scoped>\n",
       "    .dataframe tbody tr th:only-of-type {\n",
       "        vertical-align: middle;\n",
       "    }\n",
       "\n",
       "    .dataframe tbody tr th {\n",
       "        vertical-align: top;\n",
       "    }\n",
       "\n",
       "    .dataframe thead th {\n",
       "        text-align: right;\n",
       "    }\n",
       "</style>\n",
       "<table border=\"1\" class=\"dataframe\">\n",
       "  <thead>\n",
       "    <tr style=\"text-align: right;\">\n",
       "      <th></th>\n",
       "      <th>inf_date</th>\n",
       "      <th>removal_date</th>\n",
       "    </tr>\n",
       "  </thead>\n",
       "  <tbody>\n",
       "    <tr>\n",
       "      <th>0</th>\n",
       "      <td>19373</td>\n",
       "      <td>19377</td>\n",
       "    </tr>\n",
       "    <tr>\n",
       "      <th>1</th>\n",
       "      <td>19382</td>\n",
       "      <td>19386</td>\n",
       "    </tr>\n",
       "    <tr>\n",
       "      <th>2</th>\n",
       "      <td>19377</td>\n",
       "      <td>19381</td>\n",
       "    </tr>\n",
       "    <tr>\n",
       "      <th>3</th>\n",
       "      <td>19376</td>\n",
       "      <td>19380</td>\n",
       "    </tr>\n",
       "    <tr>\n",
       "      <th>4</th>\n",
       "      <td>19377</td>\n",
       "      <td>19381</td>\n",
       "    </tr>\n",
       "    <tr>\n",
       "      <th>...</th>\n",
       "      <td>...</td>\n",
       "      <td>...</td>\n",
       "    </tr>\n",
       "    <tr>\n",
       "      <th>995</th>\n",
       "      <td>19365</td>\n",
       "      <td>19369</td>\n",
       "    </tr>\n",
       "    <tr>\n",
       "      <th>996</th>\n",
       "      <td>19371</td>\n",
       "      <td>19375</td>\n",
       "    </tr>\n",
       "    <tr>\n",
       "      <th>997</th>\n",
       "      <td>19373</td>\n",
       "      <td>19377</td>\n",
       "    </tr>\n",
       "    <tr>\n",
       "      <th>998</th>\n",
       "      <td>19371</td>\n",
       "      <td>19375</td>\n",
       "    </tr>\n",
       "    <tr>\n",
       "      <th>999</th>\n",
       "      <td>19377</td>\n",
       "      <td>19381</td>\n",
       "    </tr>\n",
       "  </tbody>\n",
       "</table>\n",
       "<p>1000 rows × 2 columns</p>\n",
       "</div>"
      ],
      "text/plain": [
       "     inf_date  removal_date\n",
       "0       19373         19377\n",
       "1       19382         19386\n",
       "2       19377         19381\n",
       "3       19376         19380\n",
       "4       19377         19381\n",
       "..        ...           ...\n",
       "995     19365         19369\n",
       "996     19371         19375\n",
       "997     19373         19377\n",
       "998     19371         19375\n",
       "999     19377         19381\n",
       "\n",
       "[1000 rows x 2 columns]"
      ]
     },
     "execution_count": 35,
     "metadata": {},
     "output_type": "execute_result"
    }
   ],
   "source": [
    "key_dates = pd.DataFrame({'inf_date': pd.to_numeric(infectious_dates), \n",
    "                          'removal_date': pd.to_numeric(removal_dates)})\n",
    "key_dates"
   ]
  },
  {
   "cell_type": "code",
   "execution_count": 36,
   "id": "850fd934",
   "metadata": {
    "ExecuteTime": {
     "end_time": "2023-11-17T16:01:03.495833Z",
     "start_time": "2023-11-17T16:01:03.488894Z"
    }
   },
   "outputs": [
    {
     "data": {
      "text/plain": [
       "0      19373\n",
       "1      19382\n",
       "2      19377\n",
       "3      19376\n",
       "4      19377\n",
       "       ...  \n",
       "995    19365\n",
       "996    19371\n",
       "997    19373\n",
       "998    19371\n",
       "999    19377\n",
       "Name: inf_date, Length: 1000, dtype: int64"
      ]
     },
     "execution_count": 36,
     "metadata": {},
     "output_type": "execute_result"
    }
   ],
   "source": [
    "key_dates.iloc[:,0]"
   ]
  },
  {
   "cell_type": "markdown",
   "id": "66780b3a",
   "metadata": {},
   "source": [
    "## Summary "
   ]
  },
  {
   "cell_type": "code",
   "execution_count": 37,
   "id": "d2e30f07",
   "metadata": {
    "ExecuteTime": {
     "end_time": "2023-11-17T16:01:03.507083Z",
     "start_time": "2023-11-17T16:01:03.498365Z"
    }
   },
   "outputs": [
    {
     "data": {
      "text/html": [
       "<div>\n",
       "<style scoped>\n",
       "    .dataframe tbody tr th:only-of-type {\n",
       "        vertical-align: middle;\n",
       "    }\n",
       "\n",
       "    .dataframe tbody tr th {\n",
       "        vertical-align: top;\n",
       "    }\n",
       "\n",
       "    .dataframe thead th {\n",
       "        text-align: right;\n",
       "    }\n",
       "</style>\n",
       "<table border=\"1\" class=\"dataframe\">\n",
       "  <thead>\n",
       "    <tr style=\"text-align: right;\">\n",
       "      <th></th>\n",
       "      <th>Long</th>\n",
       "      <th>Lat</th>\n",
       "    </tr>\n",
       "  </thead>\n",
       "  <tbody>\n",
       "    <tr>\n",
       "      <th>0</th>\n",
       "      <td>489.152364</td>\n",
       "      <td>99.924608</td>\n",
       "    </tr>\n",
       "    <tr>\n",
       "      <th>1</th>\n",
       "      <td>744.422926</td>\n",
       "      <td>164.224133</td>\n",
       "    </tr>\n",
       "    <tr>\n",
       "      <th>2</th>\n",
       "      <td>29.352368</td>\n",
       "      <td>350.934199</td>\n",
       "    </tr>\n",
       "    <tr>\n",
       "      <th>3</th>\n",
       "      <td>247.268800</td>\n",
       "      <td>952.144133</td>\n",
       "    </tr>\n",
       "    <tr>\n",
       "      <th>4</th>\n",
       "      <td>948.006707</td>\n",
       "      <td>304.171672</td>\n",
       "    </tr>\n",
       "  </tbody>\n",
       "</table>\n",
       "</div>"
      ],
      "text/plain": [
       "         Long         Lat\n",
       "0  489.152364   99.924608\n",
       "1  744.422926  164.224133\n",
       "2   29.352368  350.934199\n",
       "3  247.268800  952.144133\n",
       "4  948.006707  304.171672"
      ]
     },
     "execution_count": 37,
     "metadata": {},
     "output_type": "execute_result"
    }
   ],
   "source": [
    "location_data.head()"
   ]
  },
  {
   "cell_type": "code",
   "execution_count": 38,
   "id": "81b10d86",
   "metadata": {
    "ExecuteTime": {
     "end_time": "2023-11-17T16:01:03.518231Z",
     "start_time": "2023-11-17T16:01:03.510166Z"
    }
   },
   "outputs": [
    {
     "data": {
      "text/html": [
       "<div>\n",
       "<style scoped>\n",
       "    .dataframe tbody tr th:only-of-type {\n",
       "        vertical-align: middle;\n",
       "    }\n",
       "\n",
       "    .dataframe tbody tr th {\n",
       "        vertical-align: top;\n",
       "    }\n",
       "\n",
       "    .dataframe thead th {\n",
       "        text-align: right;\n",
       "    }\n",
       "</style>\n",
       "<table border=\"1\" class=\"dataframe\">\n",
       "  <thead>\n",
       "    <tr style=\"text-align: right;\">\n",
       "      <th></th>\n",
       "      <th>inf_date</th>\n",
       "      <th>removal_date</th>\n",
       "    </tr>\n",
       "  </thead>\n",
       "  <tbody>\n",
       "    <tr>\n",
       "      <th>0</th>\n",
       "      <td>19373</td>\n",
       "      <td>19377</td>\n",
       "    </tr>\n",
       "    <tr>\n",
       "      <th>1</th>\n",
       "      <td>19382</td>\n",
       "      <td>19386</td>\n",
       "    </tr>\n",
       "    <tr>\n",
       "      <th>2</th>\n",
       "      <td>19377</td>\n",
       "      <td>19381</td>\n",
       "    </tr>\n",
       "    <tr>\n",
       "      <th>3</th>\n",
       "      <td>19376</td>\n",
       "      <td>19380</td>\n",
       "    </tr>\n",
       "    <tr>\n",
       "      <th>4</th>\n",
       "      <td>19377</td>\n",
       "      <td>19381</td>\n",
       "    </tr>\n",
       "  </tbody>\n",
       "</table>\n",
       "</div>"
      ],
      "text/plain": [
       "   inf_date  removal_date\n",
       "0     19373         19377\n",
       "1     19382         19386\n",
       "2     19377         19381\n",
       "3     19376         19380\n",
       "4     19377         19381"
      ]
     },
     "execution_count": 38,
     "metadata": {},
     "output_type": "execute_result"
    }
   ],
   "source": [
    "key_dates.head()"
   ]
  },
  {
   "cell_type": "markdown",
   "id": "83574af5",
   "metadata": {},
   "source": [
    "# Likelihood evaluation "
   ]
  },
  {
   "cell_type": "code",
   "execution_count": 39,
   "id": "44aa7f8d",
   "metadata": {
    "ExecuteTime": {
     "end_time": "2023-11-17T16:01:03.526427Z",
     "start_time": "2023-11-17T16:01:03.521169Z"
    }
   },
   "outputs": [],
   "source": [
    "def generate_waifw(infection_times, removal_times):\n",
    "    \"\"\"\n",
    "    Compute a WAIFW (who acquired infection from who) matrix \n",
    "    given tensors of infection and removal times. \n",
    "\n",
    "    Args:\n",
    "        infection_times (datetime): array of infection times \n",
    "        removal_times (datetime): array of removal times \n",
    "\n",
    "    Returns:\n",
    "        tensor: len(infection_times) x len(infection_times) tensor of 1s and 0s\n",
    "    \"\"\"\n",
    "\n",
    "    infection_times = tf.convert_to_tensor(infection_times)\n",
    "    removal_times = tf.convert_to_tensor(removal_times)\n",
    "\n",
    "    # use the expand_dim to do the [I,:] trick\n",
    "    waifw = tf.math.logical_and(\n",
    "        # compare infections to infections: I_i <= I_j\n",
    "        infection_times[tf.newaxis, :] < infection_times[:, tf.newaxis],\n",
    "        # compare infections to removals: I_j <= R_i\n",
    "        infection_times[:, tf.newaxis] < removal_times[tf.newaxis, :]\n",
    "    )\n",
    "    return tf.cast(waifw,\n",
    "                   dtype=DTYPE)"
   ]
  },
  {
   "cell_type": "code",
   "execution_count": 40,
   "id": "bef8277c",
   "metadata": {
    "ExecuteTime": {
     "end_time": "2023-11-17T16:01:03.550012Z",
     "start_time": "2023-11-17T16:01:03.529507Z"
    }
   },
   "outputs": [
    {
     "data": {
      "text/plain": [
       "<tf.Tensor: shape=(1000, 1000), dtype=float32, numpy=\n",
       "array([[0., 0., 0., ..., 0., 1., 0.],\n",
       "       [0., 0., 0., ..., 0., 0., 0.],\n",
       "       [0., 0., 0., ..., 0., 0., 0.],\n",
       "       ...,\n",
       "       [0., 0., 0., ..., 0., 1., 0.],\n",
       "       [0., 0., 0., ..., 0., 0., 0.],\n",
       "       [0., 0., 0., ..., 0., 0., 0.]], dtype=float32)>"
      ]
     },
     "execution_count": 40,
     "metadata": {},
     "output_type": "execute_result"
    }
   ],
   "source": [
    "generate_waifw(infection_times= key_dates.iloc[:,0],\n",
    "              removal_times= key_dates.iloc[:,1])"
   ]
  },
  {
   "cell_type": "code",
   "execution_count": 41,
   "id": "a811aa48",
   "metadata": {
    "ExecuteTime": {
     "end_time": "2023-11-17T16:01:03.567400Z",
     "start_time": "2023-11-17T16:01:03.558745Z"
    }
   },
   "outputs": [],
   "source": [
    "def generate_exposure(infection_times, removal_times):\n",
    "    \"\"\"\n",
    "    Compute exposure matrix given two tensors of infections and removal times\n",
    "\n",
    "    Args:\n",
    "        infection_times (datetime): array of infection times \n",
    "        removal_times (datetime): array of removal times \n",
    "\n",
    "    Returns:\n",
    "        tensor: len(infection_times) x len(infection_times) tensor of exposure\n",
    "        durations \n",
    "    \"\"\"\n",
    "\n",
    "    return (\n",
    "        tf.math.minimum(infection_times[:, tf.newaxis],\n",
    "                        removal_times[tf.newaxis, :]) -\n",
    "        tf.math.minimum(infection_times[:, tf.newaxis],\n",
    "                        infection_times[tf.newaxis, :])\n",
    "    )"
   ]
  },
  {
   "cell_type": "code",
   "execution_count": 42,
   "id": "4a5cc51d",
   "metadata": {
    "ExecuteTime": {
     "end_time": "2023-11-17T16:01:03.599061Z",
     "start_time": "2023-11-17T16:01:03.574260Z"
    }
   },
   "outputs": [
    {
     "name": "stderr",
     "output_type": "stream",
     "text": [
      "/var/folders/_q/07k1y14x087brt3tmd2bs1740000gn/T/ipykernel_20053/2203921878.py:15: FutureWarning: Support for multi-dimensional indexing (e.g. `obj[:, None]`) is deprecated and will be removed in a future version.  Convert to a numpy array before indexing instead.\n",
      "  tf.math.minimum(infection_times[:, tf.newaxis],\n",
      "/var/folders/_q/07k1y14x087brt3tmd2bs1740000gn/T/ipykernel_20053/2203921878.py:16: FutureWarning: Support for multi-dimensional indexing (e.g. `obj[:, None]`) is deprecated and will be removed in a future version.  Convert to a numpy array before indexing instead.\n",
      "  removal_times[tf.newaxis, :]) -\n",
      "/var/folders/_q/07k1y14x087brt3tmd2bs1740000gn/T/ipykernel_20053/2203921878.py:17: FutureWarning: Support for multi-dimensional indexing (e.g. `obj[:, None]`) is deprecated and will be removed in a future version.  Convert to a numpy array before indexing instead.\n",
      "  tf.math.minimum(infection_times[:, tf.newaxis],\n",
      "/var/folders/_q/07k1y14x087brt3tmd2bs1740000gn/T/ipykernel_20053/2203921878.py:18: FutureWarning: Support for multi-dimensional indexing (e.g. `obj[:, None]`) is deprecated and will be removed in a future version.  Convert to a numpy array before indexing instead.\n",
      "  infection_times[tf.newaxis, :])\n"
     ]
    },
    {
     "data": {
      "text/plain": [
       "<tf.Tensor: shape=(1000, 1000), dtype=int64, numpy=\n",
       "array([[0, 0, 0, ..., 0, 2, 0],\n",
       "       [4, 0, 4, ..., 4, 4, 4],\n",
       "       [4, 0, 0, ..., 4, 4, 0],\n",
       "       ...,\n",
       "       [0, 0, 0, ..., 0, 2, 0],\n",
       "       [0, 0, 0, ..., 0, 0, 0],\n",
       "       [4, 0, 0, ..., 4, 4, 0]])>"
      ]
     },
     "execution_count": 42,
     "metadata": {},
     "output_type": "execute_result"
    }
   ],
   "source": [
    "generate_exposure(infection_times= key_dates.iloc[:,0],\n",
    "              removal_times= key_dates.iloc[:,1])"
   ]
  },
  {
   "cell_type": "code",
   "execution_count": 43,
   "id": "e9fe03b5",
   "metadata": {
    "ExecuteTime": {
     "end_time": "2023-11-17T16:01:03.613809Z",
     "start_time": "2023-11-17T16:01:03.606246Z"
    }
   },
   "outputs": [],
   "source": [
    "def generate_spatial_kernel(farm_distance_matrix):\n",
    "    \"\"\"Compute the square exponential spatial kernel given a pairwise distance matrix\n",
    "\n",
    "    Args:\n",
    "        farm_distance_matrix (tensor): matrix of pairwise distance\n",
    "\n",
    "    Returns:\n",
    "        function: function taking in spatial pressure parameter based on \n",
    "    \"\"\"\n",
    "    farm_distance_matrix = tf.convert_to_tensor(farm_distance_matrix, DTYPE)\n",
    "    def square_exponential_kernel(parameters):\n",
    "        partial_step = tf.math.multiply(farm_distance_matrix, 1/parameters)\n",
    "        return tf.math.exp(tf.math.negative(tf.math.square(partial_step)))\n",
    "    return square_exponential_kernel"
   ]
  },
  {
   "cell_type": "code",
   "execution_count": 44,
   "id": "1499650a",
   "metadata": {
    "ExecuteTime": {
     "end_time": "2023-11-17T16:01:03.647416Z",
     "start_time": "2023-11-17T16:01:03.617079Z"
    }
   },
   "outputs": [
    {
     "data": {
      "text/plain": [
       "<tf.Tensor: shape=(1000, 1000), dtype=float32, numpy=\n",
       "array([[1.        , 0.7579105 , 0.3336417 , ..., 0.03407629, 0.7567272 ,\n",
       "        0.26539522],\n",
       "       [0.7579105 , 1.        , 0.11250623, ..., 0.01712921, 0.71908057,\n",
       "        0.10831751],\n",
       "       [0.3336417 , 0.11250623, 1.        , ..., 0.26688752, 0.36039013,\n",
       "        0.89518654],\n",
       "       ...,\n",
       "       [0.03407629, 0.01712921, 0.26688752, ..., 1.        , 0.1233686 ,\n",
       "        0.5022255 ],\n",
       "       [0.7567272 , 0.71908057, 0.36039013, ..., 0.1233686 , 1.        ,\n",
       "        0.4056005 ],\n",
       "       [0.26539522, 0.10831751, 0.89518654, ..., 0.5022255 , 0.4056005 ,\n",
       "        1.        ]], dtype=float32)>"
      ]
     },
     "execution_count": 44,
     "metadata": {},
     "output_type": "execute_result"
    }
   ],
   "source": [
    "farm_distances = pairwise_distance(farm_locations_data= location_data)\n",
    "spatial_kernel = generate_spatial_kernel(farm_distance_matrix= farm_distances)\n",
    "\n",
    "spatial_kernel(500.0)"
   ]
  },
  {
   "cell_type": "code",
   "execution_count": 45,
   "id": "672c0718",
   "metadata": {
    "ExecuteTime": {
     "end_time": "2023-11-17T16:01:03.655975Z",
     "start_time": "2023-11-17T16:01:03.650232Z"
    }
   },
   "outputs": [],
   "source": [
    "# farm type data \n",
    "np.random.seed(1356315)\n",
    "farm_types = np.random.choice((0,1), size = num_farms) # chicken, o/w "
   ]
  },
  {
   "cell_type": "code",
   "execution_count": 46,
   "id": "f0913928",
   "metadata": {
    "ExecuteTime": {
     "end_time": "2023-11-17T16:01:03.665280Z",
     "start_time": "2023-11-17T16:01:03.660271Z"
    }
   },
   "outputs": [],
   "source": [
    "def generate_regression_pressure(farm_characteristics_data = None): \n",
    "    \"\"\"_summary_\n",
    "\n",
    "    Args:\n",
    "        farm_characteristics_data (_type_, optional): Factor variables for each farm unit. Defaults to None.\n",
    "\n",
    "    Returns:\n",
    "        tensor: exp(alpha + beta^T * data)\n",
    "    \"\"\"\n",
    "    farm_characteristics_data = tf.convert_to_tensor(farm_characteristics_data, DTYPE)\n",
    "    def compute_regression(parameters):\n",
    "        # regression does not include the intercept term \n",
    "        regression = tf.math.multiply(farm_characteristics_data, parameters)\n",
    "        expontiated_regression = tf.math.exp(regression)\n",
    "        return expontiated_regression\n",
    "        \n",
    "    return compute_regression"
   ]
  },
  {
   "cell_type": "code",
   "execution_count": 47,
   "id": "b05b5ed3",
   "metadata": {
    "ExecuteTime": {
     "end_time": "2023-11-17T16:01:03.694209Z",
     "start_time": "2023-11-17T16:01:03.678905Z"
    }
   },
   "outputs": [
    {
     "data": {
      "text/plain": [
       "<tf.Tensor: shape=(1000,), dtype=float32, numpy=\n",
       "array([1.       , 2.0137527, 1.       , 1.       , 2.0137527, 1.       ,\n",
       "       1.       , 2.0137527, 2.0137527, 1.       , 2.0137527, 1.       ,\n",
       "       1.       , 1.       , 2.0137527, 1.       , 2.0137527, 2.0137527,\n",
       "       2.0137527, 2.0137527, 1.       , 1.       , 1.       , 1.       ,\n",
       "       2.0137527, 1.       , 1.       , 2.0137527, 1.       , 1.       ,\n",
       "       2.0137527, 1.       , 1.       , 1.       , 1.       , 1.       ,\n",
       "       2.0137527, 2.0137527, 1.       , 2.0137527, 2.0137527, 1.       ,\n",
       "       1.       , 2.0137527, 2.0137527, 2.0137527, 1.       , 2.0137527,\n",
       "       2.0137527, 1.       , 1.       , 2.0137527, 1.       , 1.       ,\n",
       "       2.0137527, 2.0137527, 1.       , 1.       , 2.0137527, 1.       ,\n",
       "       2.0137527, 2.0137527, 1.       , 2.0137527, 2.0137527, 1.       ,\n",
       "       2.0137527, 2.0137527, 1.       , 2.0137527, 2.0137527, 1.       ,\n",
       "       2.0137527, 1.       , 1.       , 1.       , 1.       , 1.       ,\n",
       "       1.       , 2.0137527, 2.0137527, 2.0137527, 1.       , 2.0137527,\n",
       "       2.0137527, 1.       , 2.0137527, 1.       , 2.0137527, 2.0137527,\n",
       "       1.       , 1.       , 2.0137527, 2.0137527, 2.0137527, 1.       ,\n",
       "       2.0137527, 1.       , 1.       , 2.0137527, 2.0137527, 1.       ,\n",
       "       2.0137527, 2.0137527, 1.       , 1.       , 2.0137527, 1.       ,\n",
       "       1.       , 2.0137527, 2.0137527, 2.0137527, 1.       , 2.0137527,\n",
       "       2.0137527, 2.0137527, 2.0137527, 2.0137527, 2.0137527, 1.       ,\n",
       "       2.0137527, 1.       , 2.0137527, 2.0137527, 1.       , 2.0137527,\n",
       "       2.0137527, 1.       , 1.       , 1.       , 1.       , 2.0137527,\n",
       "       1.       , 1.       , 1.       , 2.0137527, 1.       , 1.       ,\n",
       "       1.       , 2.0137527, 2.0137527, 1.       , 2.0137527, 1.       ,\n",
       "       1.       , 2.0137527, 2.0137527, 1.       , 1.       , 1.       ,\n",
       "       2.0137527, 2.0137527, 2.0137527, 2.0137527, 1.       , 1.       ,\n",
       "       2.0137527, 1.       , 1.       , 1.       , 2.0137527, 2.0137527,\n",
       "       1.       , 2.0137527, 1.       , 1.       , 2.0137527, 2.0137527,\n",
       "       2.0137527, 1.       , 1.       , 2.0137527, 1.       , 1.       ,\n",
       "       1.       , 2.0137527, 2.0137527, 2.0137527, 2.0137527, 2.0137527,\n",
       "       2.0137527, 1.       , 2.0137527, 1.       , 1.       , 1.       ,\n",
       "       2.0137527, 2.0137527, 1.       , 1.       , 2.0137527, 2.0137527,\n",
       "       2.0137527, 2.0137527, 1.       , 1.       , 1.       , 1.       ,\n",
       "       1.       , 1.       , 2.0137527, 2.0137527, 1.       , 1.       ,\n",
       "       1.       , 1.       , 2.0137527, 2.0137527, 1.       , 1.       ,\n",
       "       1.       , 2.0137527, 2.0137527, 2.0137527, 2.0137527, 2.0137527,\n",
       "       2.0137527, 2.0137527, 2.0137527, 1.       , 1.       , 1.       ,\n",
       "       1.       , 1.       , 1.       , 1.       , 1.       , 2.0137527,\n",
       "       1.       , 2.0137527, 2.0137527, 2.0137527, 2.0137527, 1.       ,\n",
       "       2.0137527, 2.0137527, 2.0137527, 1.       , 1.       , 2.0137527,\n",
       "       1.       , 2.0137527, 1.       , 1.       , 1.       , 2.0137527,\n",
       "       2.0137527, 2.0137527, 2.0137527, 2.0137527, 2.0137527, 2.0137527,\n",
       "       2.0137527, 1.       , 1.       , 1.       , 1.       , 2.0137527,\n",
       "       2.0137527, 1.       , 2.0137527, 1.       , 2.0137527, 2.0137527,\n",
       "       2.0137527, 2.0137527, 2.0137527, 2.0137527, 2.0137527, 2.0137527,\n",
       "       1.       , 1.       , 2.0137527, 2.0137527, 2.0137527, 2.0137527,\n",
       "       2.0137527, 2.0137527, 2.0137527, 2.0137527, 2.0137527, 2.0137527,\n",
       "       2.0137527, 1.       , 2.0137527, 2.0137527, 1.       , 2.0137527,\n",
       "       2.0137527, 1.       , 1.       , 1.       , 1.       , 2.0137527,\n",
       "       1.       , 2.0137527, 2.0137527, 1.       , 2.0137527, 1.       ,\n",
       "       1.       , 1.       , 1.       , 2.0137527, 1.       , 2.0137527,\n",
       "       2.0137527, 2.0137527, 2.0137527, 2.0137527, 1.       , 1.       ,\n",
       "       2.0137527, 1.       , 2.0137527, 2.0137527, 2.0137527, 1.       ,\n",
       "       2.0137527, 1.       , 1.       , 2.0137527, 2.0137527, 1.       ,\n",
       "       1.       , 1.       , 1.       , 2.0137527, 1.       , 2.0137527,\n",
       "       1.       , 1.       , 2.0137527, 2.0137527, 2.0137527, 2.0137527,\n",
       "       1.       , 1.       , 1.       , 2.0137527, 2.0137527, 2.0137527,\n",
       "       2.0137527, 1.       , 2.0137527, 1.       , 2.0137527, 1.       ,\n",
       "       1.       , 2.0137527, 1.       , 1.       , 1.       , 2.0137527,\n",
       "       2.0137527, 2.0137527, 2.0137527, 2.0137527, 2.0137527, 2.0137527,\n",
       "       2.0137527, 1.       , 2.0137527, 2.0137527, 2.0137527, 1.       ,\n",
       "       2.0137527, 1.       , 1.       , 2.0137527, 1.       , 2.0137527,\n",
       "       1.       , 1.       , 1.       , 1.       , 1.       , 2.0137527,\n",
       "       2.0137527, 2.0137527, 2.0137527, 1.       , 2.0137527, 2.0137527,\n",
       "       1.       , 1.       , 1.       , 2.0137527, 2.0137527, 1.       ,\n",
       "       2.0137527, 2.0137527, 2.0137527, 1.       , 2.0137527, 2.0137527,\n",
       "       2.0137527, 2.0137527, 1.       , 1.       , 2.0137527, 1.       ,\n",
       "       1.       , 2.0137527, 1.       , 2.0137527, 1.       , 1.       ,\n",
       "       1.       , 1.       , 2.0137527, 1.       , 1.       , 1.       ,\n",
       "       1.       , 1.       , 1.       , 1.       , 2.0137527, 1.       ,\n",
       "       1.       , 1.       , 2.0137527, 2.0137527, 2.0137527, 1.       ,\n",
       "       2.0137527, 1.       , 1.       , 1.       , 2.0137527, 1.       ,\n",
       "       1.       , 1.       , 2.0137527, 1.       , 1.       , 2.0137527,\n",
       "       1.       , 1.       , 1.       , 2.0137527, 1.       , 2.0137527,\n",
       "       2.0137527, 2.0137527, 2.0137527, 2.0137527, 1.       , 1.       ,\n",
       "       1.       , 2.0137527, 2.0137527, 2.0137527, 1.       , 2.0137527,\n",
       "       2.0137527, 2.0137527, 2.0137527, 1.       , 1.       , 2.0137527,\n",
       "       2.0137527, 2.0137527, 1.       , 2.0137527, 2.0137527, 2.0137527,\n",
       "       2.0137527, 1.       , 1.       , 1.       , 2.0137527, 1.       ,\n",
       "       1.       , 1.       , 1.       , 1.       , 2.0137527, 1.       ,\n",
       "       2.0137527, 1.       , 2.0137527, 1.       , 2.0137527, 2.0137527,\n",
       "       2.0137527, 2.0137527, 2.0137527, 1.       , 1.       , 2.0137527,\n",
       "       1.       , 2.0137527, 1.       , 1.       , 1.       , 1.       ,\n",
       "       1.       , 1.       , 1.       , 2.0137527, 2.0137527, 1.       ,\n",
       "       1.       , 2.0137527, 1.       , 1.       , 1.       , 2.0137527,\n",
       "       2.0137527, 2.0137527, 1.       , 1.       , 2.0137527, 2.0137527,\n",
       "       1.       , 2.0137527, 2.0137527, 2.0137527, 2.0137527, 2.0137527,\n",
       "       2.0137527, 1.       , 1.       , 2.0137527, 1.       , 1.       ,\n",
       "       2.0137527, 1.       , 1.       , 2.0137527, 1.       , 2.0137527,\n",
       "       1.       , 2.0137527, 1.       , 2.0137527, 2.0137527, 2.0137527,\n",
       "       2.0137527, 2.0137527, 2.0137527, 1.       , 2.0137527, 2.0137527,\n",
       "       2.0137527, 2.0137527, 1.       , 2.0137527, 2.0137527, 1.       ,\n",
       "       1.       , 2.0137527, 1.       , 2.0137527, 1.       , 2.0137527,\n",
       "       1.       , 1.       , 1.       , 1.       , 1.       , 2.0137527,\n",
       "       1.       , 2.0137527, 2.0137527, 2.0137527, 2.0137527, 1.       ,\n",
       "       1.       , 2.0137527, 1.       , 1.       , 2.0137527, 1.       ,\n",
       "       2.0137527, 1.       , 2.0137527, 2.0137527, 2.0137527, 1.       ,\n",
       "       2.0137527, 1.       , 2.0137527, 2.0137527, 1.       , 2.0137527,\n",
       "       1.       , 2.0137527, 1.       , 2.0137527, 2.0137527, 2.0137527,\n",
       "       2.0137527, 1.       , 2.0137527, 1.       , 1.       , 2.0137527,\n",
       "       2.0137527, 1.       , 2.0137527, 2.0137527, 1.       , 1.       ,\n",
       "       1.       , 2.0137527, 1.       , 2.0137527, 1.       , 1.       ,\n",
       "       1.       , 1.       , 2.0137527, 2.0137527, 1.       , 1.       ,\n",
       "       2.0137527, 2.0137527, 2.0137527, 1.       , 2.0137527, 2.0137527,\n",
       "       2.0137527, 2.0137527, 1.       , 2.0137527, 2.0137527, 2.0137527,\n",
       "       2.0137527, 2.0137527, 2.0137527, 1.       , 2.0137527, 1.       ,\n",
       "       2.0137527, 2.0137527, 1.       , 1.       , 2.0137527, 1.       ,\n",
       "       1.       , 1.       , 2.0137527, 1.       , 2.0137527, 2.0137527,\n",
       "       1.       , 2.0137527, 2.0137527, 1.       , 1.       , 2.0137527,\n",
       "       1.       , 1.       , 1.       , 2.0137527, 1.       , 2.0137527,\n",
       "       2.0137527, 1.       , 2.0137527, 2.0137527, 2.0137527, 2.0137527,\n",
       "       1.       , 1.       , 2.0137527, 1.       , 2.0137527, 1.       ,\n",
       "       1.       , 1.       , 2.0137527, 1.       , 1.       , 2.0137527,\n",
       "       1.       , 1.       , 2.0137527, 1.       , 1.       , 2.0137527,\n",
       "       2.0137527, 2.0137527, 1.       , 2.0137527, 2.0137527, 1.       ,\n",
       "       2.0137527, 2.0137527, 2.0137527, 1.       , 1.       , 1.       ,\n",
       "       1.       , 1.       , 1.       , 1.       , 1.       , 1.       ,\n",
       "       1.       , 2.0137527, 1.       , 2.0137527, 2.0137527, 1.       ,\n",
       "       1.       , 1.       , 1.       , 2.0137527, 1.       , 1.       ,\n",
       "       2.0137527, 1.       , 2.0137527, 2.0137527, 2.0137527, 1.       ,\n",
       "       2.0137527, 2.0137527, 1.       , 2.0137527, 2.0137527, 1.       ,\n",
       "       1.       , 1.       , 2.0137527, 1.       , 1.       , 2.0137527,\n",
       "       1.       , 2.0137527, 1.       , 2.0137527, 1.       , 2.0137527,\n",
       "       2.0137527, 2.0137527, 1.       , 2.0137527, 1.       , 2.0137527,\n",
       "       2.0137527, 1.       , 1.       , 2.0137527, 1.       , 2.0137527,\n",
       "       1.       , 1.       , 1.       , 1.       , 2.0137527, 1.       ,\n",
       "       2.0137527, 2.0137527, 2.0137527, 2.0137527, 2.0137527, 1.       ,\n",
       "       1.       , 2.0137527, 1.       , 1.       , 2.0137527, 2.0137527,\n",
       "       1.       , 1.       , 1.       , 1.       , 1.       , 1.       ,\n",
       "       1.       , 1.       , 2.0137527, 2.0137527, 1.       , 2.0137527,\n",
       "       2.0137527, 1.       , 1.       , 2.0137527, 2.0137527, 2.0137527,\n",
       "       2.0137527, 1.       , 2.0137527, 2.0137527, 1.       , 1.       ,\n",
       "       2.0137527, 2.0137527, 1.       , 1.       , 2.0137527, 1.       ,\n",
       "       1.       , 1.       , 2.0137527, 1.       , 1.       , 1.       ,\n",
       "       1.       , 1.       , 1.       , 2.0137527, 2.0137527, 1.       ,\n",
       "       2.0137527, 2.0137527, 2.0137527, 2.0137527, 1.       , 2.0137527,\n",
       "       1.       , 2.0137527, 1.       , 2.0137527, 1.       , 1.       ,\n",
       "       1.       , 2.0137527, 1.       , 2.0137527, 2.0137527, 1.       ,\n",
       "       2.0137527, 2.0137527, 2.0137527, 1.       , 2.0137527, 1.       ,\n",
       "       1.       , 2.0137527, 2.0137527, 2.0137527, 1.       , 2.0137527,\n",
       "       2.0137527, 1.       , 1.       , 2.0137527, 1.       , 2.0137527,\n",
       "       1.       , 2.0137527, 2.0137527, 1.       , 2.0137527, 1.       ,\n",
       "       2.0137527, 2.0137527, 2.0137527, 1.       , 1.       , 1.       ,\n",
       "       1.       , 1.       , 1.       , 1.       , 1.       , 2.0137527,\n",
       "       1.       , 1.       , 2.0137527, 1.       , 1.       , 2.0137527,\n",
       "       2.0137527, 2.0137527, 2.0137527, 1.       , 1.       , 2.0137527,\n",
       "       1.       , 2.0137527, 1.       , 1.       , 1.       , 1.       ,\n",
       "       2.0137527, 2.0137527, 1.       , 2.0137527, 2.0137527, 2.0137527,\n",
       "       2.0137527, 2.0137527, 2.0137527, 1.       , 2.0137527, 2.0137527,\n",
       "       1.       , 1.       , 2.0137527, 2.0137527, 1.       , 2.0137527,\n",
       "       1.       , 1.       , 1.       , 1.       , 1.       , 1.       ,\n",
       "       1.       , 1.       , 2.0137527, 2.0137527, 1.       , 2.0137527,\n",
       "       1.       , 1.       , 1.       , 1.       , 1.       , 1.       ,\n",
       "       2.0137527, 2.0137527, 2.0137527, 2.0137527, 1.       , 2.0137527,\n",
       "       1.       , 1.       , 1.       , 2.0137527, 1.       , 1.       ,\n",
       "       1.       , 1.       , 1.       , 1.       , 1.       , 1.       ,\n",
       "       2.0137527, 1.       , 1.       , 2.0137527, 2.0137527, 2.0137527,\n",
       "       2.0137527, 2.0137527, 1.       , 2.0137527, 2.0137527, 2.0137527,\n",
       "       2.0137527, 1.       , 1.       , 1.       , 2.0137527, 2.0137527,\n",
       "       1.       , 1.       , 1.       , 1.       , 1.       , 1.       ,\n",
       "       2.0137527, 1.       , 1.       , 1.       , 1.       , 1.       ,\n",
       "       1.       , 2.0137527, 2.0137527, 1.       , 1.       , 1.       ,\n",
       "       1.       , 1.       , 2.0137527, 1.       , 2.0137527, 1.       ,\n",
       "       2.0137527, 1.       , 2.0137527, 1.       , 2.0137527, 2.0137527,\n",
       "       1.       , 2.0137527, 2.0137527, 1.       , 2.0137527, 2.0137527,\n",
       "       1.       , 2.0137527, 2.0137527, 1.       , 2.0137527, 1.       ,\n",
       "       2.0137527, 2.0137527, 2.0137527, 2.0137527], dtype=float32)>"
      ]
     },
     "execution_count": 47,
     "metadata": {},
     "output_type": "execute_result"
    }
   ],
   "source": [
    "regression_pressure = generate_regression_pressure(farm_characteristics_data=farm_types)\n",
    "regression_pressure(parameters=0.7)"
   ]
  },
  {
   "cell_type": "code",
   "execution_count": 48,
   "id": "497aa203",
   "metadata": {
    "ExecuteTime": {
     "end_time": "2023-11-17T16:01:03.703598Z",
     "start_time": "2023-11-17T16:01:03.697502Z"
    }
   },
   "outputs": [],
   "source": [
    "def generate_pairwise_hazard_fn(farm_distance_matrix, farm_characteristics_data=None):\n",
    "    \"\"\"_summary_\n",
    "\n",
    "    Args:\n",
    "        farm_characteristics_data (_type_): features of farms, including a 1s column for regression\n",
    "        farm_locations_data (_type_): Northing-Easting coordinates of farms\n",
    "\n",
    "    Returns:\n",
    "        fn: fn which outputs a tensor of pairwise hazard rates \n",
    "    \"\"\"\n",
    "    spatial_kernel = generate_spatial_kernel(farm_distance_matrix)\n",
    "    regression_kernel = generate_regression_pressure(farm_characteristics_data)\n",
    "    \n",
    "    def compute_hazard(parameters):\n",
    "        # Fill in later\n",
    "\n",
    "        # spatial component - already exponentiated!\n",
    "        spatial = spatial_kernel(parameters[0])\n",
    "        \n",
    "        # regression component - already exponentiated!\n",
    "        regression = regression_kernel(parameters[1])\n",
    "        return tf.math.multiply(spatial,\n",
    "                                regression\n",
    "                               )\n",
    "\n",
    "    return compute_hazard"
   ]
  },
  {
   "cell_type": "code",
   "execution_count": 49,
   "id": "9de754b1",
   "metadata": {
    "ExecuteTime": {
     "end_time": "2023-11-17T16:01:03.730172Z",
     "start_time": "2023-11-17T16:01:03.706828Z"
    },
    "scrolled": true
   },
   "outputs": [
    {
     "data": {
      "text/plain": [
       "<tf.Tensor: shape=(1000,), dtype=float32, numpy=\n",
       "array([619.43756, 613.2016 , 502.18634, 478.77274, 526.73395, 663.11914,\n",
       "       522.4959 , 817.32495, 646.8234 , 491.78342, 761.1731 , 707.46094,\n",
       "       774.32184, 621.0154 , 774.30493, 329.7955 , 837.58307, 473.50876,\n",
       "       776.94745, 789.1935 , 341.71582, 473.94012, 798.83765, 564.94824,\n",
       "       779.30963, 677.85956, 659.8422 , 618.61707, 693.1407 , 453.7754 ,\n",
       "       586.5132 , 410.6225 , 377.8674 , 782.9976 , 751.70355, 540.4596 ,\n",
       "       720.36566, 535.42377, 767.8511 , 511.41415, 626.11786, 656.5018 ,\n",
       "       645.7009 , 624.41077, 641.1967 , 636.3826 , 391.46964, 754.0965 ,\n",
       "       621.36444, 813.47406, 635.9486 , 516.97754, 682.03516, 828.2966 ,\n",
       "       603.5759 , 410.64206, 380.418  , 675.2836 , 616.8308 , 728.78436,\n",
       "       667.17706, 792.7581 , 541.2004 , 490.4084 , 496.26776, 766.2086 ,\n",
       "       691.0686 , 789.134  , 752.2634 , 626.7334 , 732.9148 , 490.297  ,\n",
       "       523.8918 , 819.8834 , 830.3071 , 649.02014, 624.49335, 369.9115 ,\n",
       "       403.02478, 431.67038, 522.4403 , 662.3427 , 535.5419 , 508.20856,\n",
       "       686.69916, 467.32498, 327.71368, 651.6145 , 502.27142, 538.4711 ,\n",
       "       363.2805 , 672.6531 , 584.82056, 448.3289 , 537.8922 , 617.31226,\n",
       "       716.6705 , 613.8749 , 414.1691 , 729.2568 , 604.87146, 796.614  ,\n",
       "       609.72705, 554.9255 , 743.5688 , 557.2164 , 753.2728 , 746.0178 ,\n",
       "       536.5416 , 510.48972, 589.5338 , 565.089  , 330.13705, 566.81635,\n",
       "       477.79333, 475.1153 , 786.70966, 492.68124, 672.3194 , 495.82584,\n",
       "       790.5926 , 684.7128 , 415.8848 , 603.1455 , 593.3887 , 533.0144 ,\n",
       "       622.2646 , 506.54718, 518.8769 , 546.9571 , 548.53375, 574.4684 ,\n",
       "       493.50308, 738.59296, 694.99677, 494.66898, 391.05692, 823.1959 ,\n",
       "       739.01904, 703.4911 , 552.6168 , 747.72   , 739.1509 , 531.5785 ,\n",
       "       480.49527, 661.9202 , 836.79694, 337.8425 , 434.68277, 476.91208,\n",
       "       771.2427 , 712.2885 , 830.0768 , 590.5936 , 821.72595, 573.9183 ,\n",
       "       830.9478 , 463.6377 , 781.71643, 785.6673 , 623.6642 , 603.16595,\n",
       "       474.85464, 587.2065 , 821.56445, 615.2522 , 754.65265, 655.8077 ,\n",
       "       469.82944, 490.94806, 745.1666 , 667.35724, 482.16513, 828.06226,\n",
       "       548.285  , 835.98926, 546.82385, 629.7037 , 653.4545 , 780.11206,\n",
       "       815.257  , 697.0724 , 632.727  , 732.5002 , 566.27545, 751.59204,\n",
       "       749.3266 , 668.8278 , 599.68176, 525.43976, 517.6784 , 757.7895 ,\n",
       "       727.8496 , 820.5814 , 399.60794, 760.0112 , 687.2085 , 468.56177,\n",
       "       750.4716 , 731.85284, 672.6132 , 710.5947 , 547.97986, 727.105  ,\n",
       "       518.4683 , 811.47546, 524.0269 , 656.2711 , 461.91415, 773.1501 ,\n",
       "       570.503  , 718.8842 , 702.63086, 685.873  , 636.7674 , 598.4934 ,\n",
       "       830.6081 , 539.2523 , 604.25616, 667.21655, 475.687  , 473.2166 ,\n",
       "       535.9415 , 474.63205, 640.0031 , 658.9105 , 571.92615, 792.9929 ,\n",
       "       823.76324, 510.5041 , 745.9455 , 441.19565, 647.8252 , 525.04614,\n",
       "       548.448  , 759.808  , 560.101  , 624.582  , 507.88092, 587.8353 ,\n",
       "       667.56323, 549.7959 , 799.8633 , 742.58875, 636.63745, 712.1396 ,\n",
       "       783.6608 , 467.77457, 463.83273, 790.9074 , 509.44995, 511.31638,\n",
       "       536.8846 , 503.1136 , 436.35452, 570.17487, 620.05347, 667.45276,\n",
       "       749.8752 , 479.05804, 590.58905, 773.8276 , 755.7011 , 619.3551 ,\n",
       "       814.6059 , 495.73813, 386.74207, 628.3562 , 527.7928 , 621.1114 ,\n",
       "       386.6865 , 359.2346 , 498.09006, 436.74377, 533.81396, 491.95404,\n",
       "       397.49115, 622.4806 , 482.36557, 496.80566, 635.1196 , 538.5918 ,\n",
       "       580.7726 , 534.9885 , 406.5433 , 588.11237, 463.01297, 583.1477 ,\n",
       "       400.65002, 595.03625, 499.61374, 683.6015 , 361.70288, 643.828  ,\n",
       "       376.9084 , 517.56036, 479.16296, 506.6301 , 633.04895, 436.349  ,\n",
       "       714.33527, 590.6513 , 753.1621 , 680.5686 , 791.2668 , 441.85336,\n",
       "       701.7262 , 531.2079 , 580.955  , 685.53357, 633.7114 , 721.1792 ,\n",
       "       663.43616, 605.0423 , 512.65985, 606.98444, 697.3593 , 755.90247,\n",
       "       389.28336, 488.1139 , 778.78033, 818.9544 , 536.95435, 535.34216,\n",
       "       466.64474, 502.30692, 487.6156 , 419.97275, 771.6852 , 645.6444 ,\n",
       "       600.65405, 768.52356, 541.0143 , 720.2334 , 474.78812, 741.35333,\n",
       "       497.7367 , 835.9876 , 533.9501 , 762.0042 , 824.01575, 593.31024,\n",
       "       511.7918 , 551.3764 , 737.918  , 698.33044, 531.14465, 619.169  ,\n",
       "       480.64713, 498.4668 , 647.82556, 664.62335, 454.87875, 519.8782 ,\n",
       "       466.59454, 605.13055, 621.80646, 605.4744 , 461.11658, 608.3    ,\n",
       "       731.95703, 586.5578 , 523.104  , 444.95822, 652.9975 , 688.43317,\n",
       "       586.60297, 416.3611 , 506.06393, 614.73456, 742.9236 , 643.0525 ,\n",
       "       427.78156, 474.38876, 516.1293 , 728.832  , 608.8862 , 388.96194,\n",
       "       698.7525 , 595.9309 , 620.7696 , 804.22516, 555.48413, 745.81555,\n",
       "       496.7572 , 788.189  , 761.4652 , 368.6916 , 704.6731 , 498.7588 ,\n",
       "       424.97043, 659.02374, 500.3828 , 539.11285, 590.9673 , 812.76373,\n",
       "       761.32745, 728.0819 , 588.87537, 460.9955 , 490.81226, 669.4775 ,\n",
       "       352.66138, 503.61963, 540.85223, 418.87552, 612.1254 , 539.1182 ,\n",
       "       577.9538 , 513.5339 , 710.3072 , 524.2208 , 434.7245 , 632.7737 ,\n",
       "       643.95764, 614.7102 , 587.77264, 509.53384, 713.5243 , 512.2143 ,\n",
       "       496.61227, 698.8758 , 600.41547, 504.0725 , 596.5591 , 664.4849 ,\n",
       "       520.7764 , 659.4577 , 716.80914, 830.4806 , 763.75977, 510.61566,\n",
       "       747.93085, 730.7388 , 758.3466 , 690.3479 , 548.1778 , 670.5696 ,\n",
       "       667.8219 , 554.9865 , 555.77466, 493.9485 , 693.14136, 667.4418 ,\n",
       "       712.4934 , 661.33295, 655.25806, 703.1091 , 538.4774 , 595.47766,\n",
       "       495.60245, 618.8767 , 841.0889 , 523.9622 , 735.51056, 701.5372 ,\n",
       "       625.0582 , 537.37604, 727.3647 , 700.04425, 778.02057, 557.9107 ,\n",
       "       829.8509 , 805.97   , 817.3407 , 587.96686, 604.8954 , 730.3367 ,\n",
       "       510.33734, 604.7147 , 436.36862, 595.882  , 534.39856, 665.9116 ,\n",
       "       789.7505 , 800.88226, 517.5683 , 716.81775, 675.3206 , 507.98157,\n",
       "       824.482  , 839.67633, 510.78226, 697.9267 , 733.462  , 644.80695,\n",
       "       663.4039 , 722.5704 , 717.17255, 807.63   , 785.9801 , 517.68115,\n",
       "       533.3883 , 763.3551 , 440.04047, 503.6037 , 712.4901 , 580.09503,\n",
       "       475.16574, 806.9216 , 553.9258 , 510.76596, 832.87665, 538.24457,\n",
       "       526.0276 , 512.26575, 431.17212, 531.42035, 593.36456, 465.70288,\n",
       "       537.24255, 659.38794, 571.6956 , 676.08154, 664.078  , 407.42776,\n",
       "       558.6771 , 762.3335 , 532.10925, 522.2234 , 538.8782 , 671.53265,\n",
       "       653.69824, 426.133  , 419.0551 , 665.1521 , 606.9479 , 611.64624,\n",
       "       581.76294, 536.57806, 626.7425 , 782.28516, 658.2126 , 508.0524 ,\n",
       "       636.103  , 599.56757, 405.47968, 566.467  , 473.769  , 569.2751 ,\n",
       "       612.67633, 662.732  , 478.02548, 739.03235, 541.0814 , 706.4493 ,\n",
       "       450.13287, 753.38776, 513.21   , 829.34143, 756.1084 , 570.40826,\n",
       "       828.80524, 841.1533 , 820.29517, 557.1799 , 814.7142 , 469.32874,\n",
       "       739.86664, 778.3057 , 518.15784, 842.3899 , 693.79047, 790.0057 ,\n",
       "       618.4778 , 431.67575, 396.20084, 727.95044, 813.39465, 399.77805,\n",
       "       469.42822, 601.1132 , 623.56866, 613.18634, 738.4881 , 741.3175 ,\n",
       "       439.78128, 805.4794 , 644.9813 , 483.38065, 501.4654 , 443.66156,\n",
       "       595.66235, 765.7085 , 683.4122 , 649.4613 , 525.74744, 822.60657,\n",
       "       654.67523, 697.8954 , 657.30804, 706.75726, 639.1406 , 554.28937,\n",
       "       531.2099 , 732.5051 , 627.0838 , 580.7926 , 825.17834, 708.81165,\n",
       "       552.86145, 511.97272, 573.7314 , 567.8988 , 556.7958 , 431.3284 ,\n",
       "       458.3193 , 668.852  , 627.9395 , 491.38266, 747.0069 , 423.82022,\n",
       "       788.58923, 826.716  , 512.4188 , 638.5622 , 500.92987, 439.55765,\n",
       "       478.75452, 729.0251 , 740.0985 , 581.04987, 536.673  , 568.42755,\n",
       "       779.11206, 796.25977, 478.9484 , 496.72772, 671.42175, 702.41144,\n",
       "       495.72247, 641.22375, 510.95654, 490.11752, 710.75977, 579.9067 ,\n",
       "       811.5488 , 491.7764 , 556.06226, 771.5645 , 710.8467 , 688.5405 ,\n",
       "       482.72687, 436.53598, 552.3975 , 737.2938 , 426.86765, 425.12943,\n",
       "       390.51764, 528.8031 , 441.17902, 777.27625, 491.5197 , 802.1529 ,\n",
       "       475.94754, 586.0794 , 479.83057, 376.5365 , 516.45215, 511.93158,\n",
       "       601.89264, 669.8212 , 762.2962 , 565.0595 , 754.73175, 723.9804 ,\n",
       "       660.0353 , 609.2952 , 618.5562 , 656.92737, 359.08853, 598.8263 ,\n",
       "       700.95935, 493.71893, 446.36325, 619.2758 , 594.14557, 752.09485,\n",
       "       688.4905 , 461.14066, 615.3375 , 578.453  , 836.04205, 711.5793 ,\n",
       "       514.741  , 582.56946, 637.71936, 815.19037, 829.8268 , 466.21716,\n",
       "       527.02875, 542.7635 , 507.415  , 490.0069 , 349.01685, 624.8587 ,\n",
       "       493.5765 , 604.1833 , 446.7274 , 790.5136 , 618.1051 , 526.9334 ,\n",
       "       707.38043, 765.51636, 781.3096 , 358.42093, 383.13025, 473.15717,\n",
       "       581.5207 , 563.9502 , 540.68915, 511.7767 , 758.2475 , 641.4436 ,\n",
       "       436.05307, 467.18823, 789.2367 , 490.9735 , 501.95627, 764.8204 ,\n",
       "       410.87512, 406.732  , 790.37354, 673.632  , 734.8064 , 841.96466,\n",
       "       604.8173 , 665.62317, 757.5777 , 536.04126, 392.49567, 600.7003 ,\n",
       "       739.7409 , 708.4168 , 504.76865, 593.6316 , 578.0971 , 556.1502 ,\n",
       "       837.4817 , 585.06537, 704.39514, 590.4175 , 533.787  , 677.6925 ,\n",
       "       786.7793 , 474.0142 , 775.67444, 560.32446, 417.8865 , 833.56854,\n",
       "       690.82904, 710.5992 , 358.69495, 341.326  , 773.44293, 446.96213,\n",
       "       759.0369 , 573.8313 , 753.7862 , 571.84155, 763.2884 , 574.16516,\n",
       "       586.96796, 750.0471 , 482.0415 , 657.3591 , 677.2548 , 544.4046 ,\n",
       "       737.3134 , 785.3802 , 713.8215 , 533.798  , 359.69193, 781.49023,\n",
       "       538.5959 , 577.8913 , 396.1253 , 761.8502 , 797.2255 , 550.6744 ,\n",
       "       499.1341 , 524.7116 , 841.6662 , 601.4073 , 631.7615 , 764.27826,\n",
       "       723.7108 , 517.18805, 663.1261 , 479.1542 , 634.5361 , 378.10242,\n",
       "       580.02496, 760.2881 , 586.623  , 839.9491 , 575.98584, 734.1111 ,\n",
       "       576.3376 , 567.2124 , 819.7391 , 478.36133, 501.67233, 591.70197,\n",
       "       807.2769 , 584.6812 , 715.5648 , 492.92316, 821.22314, 636.8615 ,\n",
       "       527.55286, 775.7089 , 688.8046 , 682.0364 , 483.63025, 726.4473 ,\n",
       "       641.1474 , 821.8898 , 454.58344, 456.97836, 467.3612 , 548.1914 ,\n",
       "       487.11957, 687.48486, 758.4646 , 688.22363, 556.21027, 612.4775 ,\n",
       "       555.95264, 366.92435, 553.7473 , 804.7489 , 377.28363, 581.4161 ,\n",
       "       566.76337, 595.2462 , 626.95734, 676.6699 , 813.8164 , 575.87085,\n",
       "       835.03143, 518.86206, 525.30664, 528.24426, 314.1541 , 709.695  ,\n",
       "       626.80865, 737.325  , 774.9628 , 559.68243, 358.51047, 345.63568,\n",
       "       482.31012, 805.44666, 770.257  , 766.78577, 713.8083 , 651.48236,\n",
       "       551.9177 , 654.40326, 717.2918 , 681.183  , 600.9918 , 612.68616,\n",
       "       389.806  , 689.4703 , 519.55286, 522.9928 , 494.25186, 473.68585,\n",
       "       502.13593, 513.7722 , 618.91656, 573.5359 , 519.84406, 692.7325 ,\n",
       "       805.1913 , 378.5134 , 762.6215 , 627.1367 , 581.8389 , 599.37946,\n",
       "       833.9155 , 589.92615, 649.5425 , 556.8063 , 604.80536, 778.8568 ,\n",
       "       523.2037 , 666.80444, 520.2152 , 421.4307 , 611.0557 , 623.7709 ,\n",
       "       334.6723 , 587.7603 , 694.8131 , 708.9457 , 548.361  , 595.7663 ,\n",
       "       719.2715 , 342.1947 , 774.9926 , 729.5794 , 510.19305, 508.66168,\n",
       "       788.62445, 576.7508 , 345.41156, 730.83606, 758.3974 , 520.778  ,\n",
       "       332.7306 , 499.18378, 730.19055, 806.2838 , 369.40988, 528.79144,\n",
       "       655.9411 , 794.78656, 825.9243 , 764.2264 , 693.73   , 562.37   ,\n",
       "       794.25336, 658.27716, 820.40643, 483.534  , 531.33875, 682.7906 ,\n",
       "       724.3943 , 794.76996, 517.9627 , 809.05115, 459.42087, 415.29645,\n",
       "       419.3813 , 757.3696 , 573.38824, 663.12634, 609.2036 , 763.3234 ,\n",
       "       531.12714, 601.9834 , 652.5568 , 805.5045 , 640.09546, 564.3511 ,\n",
       "       500.22232, 835.4611 , 632.6742 , 474.68735, 463.8228 , 449.41913,\n",
       "       696.31055, 538.66925, 732.8225 , 524.228  , 527.90295, 709.8039 ,\n",
       "       478.8304 , 473.01688, 828.82056, 611.63385, 654.1317 , 805.3564 ,\n",
       "       815.18787, 622.4749 , 591.501  , 811.8843 , 406.6229 , 629.31683,\n",
       "       786.8657 , 390.6628 , 380.0428 , 536.3174 , 765.31195, 698.3231 ,\n",
       "       434.0887 , 597.1385 , 540.1361 , 680.48975, 732.1115 , 573.8505 ,\n",
       "       749.5173 , 519.96124, 670.79596, 630.5017 , 558.876  , 813.75525,\n",
       "       529.40576, 818.60785, 671.1237 , 813.97784, 828.1309 , 620.85504,\n",
       "       598.72253, 400.1615 , 816.0585 , 583.6434 ], dtype=float32)>"
      ]
     },
     "execution_count": 49,
     "metadata": {},
     "output_type": "execute_result"
    }
   ],
   "source": [
    "hazard_fn = generate_pairwise_hazard_fn(farm_distance_matrix=farm_distances, farm_characteristics_data=farm_types)\n",
    "tf.einsum('ij -> i', hazard_fn([500.0,0.7]))"
   ]
  },
  {
   "cell_type": "markdown",
   "id": "5d2137b4",
   "metadata": {
    "ExecuteTime": {
     "end_time": "2023-07-06T17:44:08.966101Z",
     "start_time": "2023-07-06T17:44:08.963353Z"
    }
   },
   "source": [
    "# Simulate epidemic (event)"
   ]
  },
  {
   "cell_type": "code",
   "execution_count": 50,
   "id": "6b9a2155",
   "metadata": {
    "ExecuteTime": {
     "end_time": "2023-11-17T16:01:03.737537Z",
     "start_time": "2023-11-17T16:01:03.733122Z"
    }
   },
   "outputs": [],
   "source": [
    "# make rate fn for simulation \n",
    "def make_rate_fn(parameters):\n",
    "    # keep data variables and parameters on the outside\n",
    "    def rate_fn(t, state):\n",
    "        # t and state change with each iteration of the Gillespie so they are\n",
    "        # a loop variable and thus inside the rate_fn\n",
    "        si_rate = tf.einsum('ij -> i', hazard_fn(parameters))\n",
    "        ir_rate = tf.broadcast_to([70.0], shape=si_rate.shape)\n",
    "        return tf.stack([si_rate, ir_rate], axis=0)  # [R x M]\n",
    "    return rate_fn"
   ]
  },
  {
   "cell_type": "code",
   "execution_count": 51,
   "id": "0b3e6375",
   "metadata": {
    "ExecuteTime": {
     "end_time": "2023-11-17T16:01:03.753629Z",
     "start_time": "2023-11-17T16:01:03.740398Z"
    }
   },
   "outputs": [
    {
     "data": {
      "text/plain": [
       "<tf.Tensor: shape=(2, 1000), dtype=float32, numpy=\n",
       "array([[417.18063, 415.5016 , 341.01025, ..., 278.43665, 555.557  ,\n",
       "        398.46707],\n",
       "       [ 70.     ,  70.     ,  70.     , ...,  70.     ,  70.     ,\n",
       "         70.     ]], dtype=float32)>"
      ]
     },
     "execution_count": 51,
     "metadata": {},
     "output_type": "execute_result"
    }
   ],
   "source": [
    "make_rate_fn([500.0, 0.07])(1,np.array([[9],\n",
    "                          [1],\n",
    "                          [0]], dtype=np.float32) )"
   ]
  },
  {
   "cell_type": "code",
   "execution_count": 52,
   "id": "73a79468",
   "metadata": {
    "ExecuteTime": {
     "end_time": "2023-11-17T16:01:03.760233Z",
     "start_time": "2023-11-17T16:01:03.756295Z"
    }
   },
   "outputs": [],
   "source": [
    "# Define variables to govern epidemic\n",
    "sir_graph = np.array([[-1, 0],\n",
    "                      [1, -1],\n",
    "                      [0, 1]], dtype=np.float32)\n",
    "\n",
    "\n",
    "initial_state = np.array([[900],\n",
    "                          [100],\n",
    "                          [0]], dtype=np.float32)"
   ]
  },
  {
   "cell_type": "code",
   "execution_count": 53,
   "id": "5b7b69c6",
   "metadata": {
    "ExecuteTime": {
     "end_time": "2023-11-17T16:01:03.773569Z",
     "start_time": "2023-11-17T16:01:03.763560Z"
    }
   },
   "outputs": [],
   "source": [
    "example_epidemic = epi_sim.ContinuousTimeStateTransitionModelSimulation(\n",
    "    incidence_matrix=sir_graph,\n",
    "    initial_state=initial_state,\n",
    "    transition_rate_fn=make_rate_fn([500,0.07])\n",
    ")"
   ]
  },
  {
   "cell_type": "code",
   "execution_count": 54,
   "id": "7e9aa83a",
   "metadata": {
    "ExecuteTime": {
     "end_time": "2023-11-17T16:02:17.543795Z",
     "start_time": "2023-11-17T16:01:03.775874Z"
    }
   },
   "outputs": [],
   "source": [
    "# simulate the epidemic\n",
    "epidemic1 = example_epidemic.simulate_continuous_time_state_transition_model()\n",
    "time_stamps, transition_types, individual = example_epidemic.simulate_continuous_time_state_transition_model()"
   ]
  },
  {
   "cell_type": "code",
   "execution_count": 55,
   "id": "06a5ceb0",
   "metadata": {
    "ExecuteTime": {
     "end_time": "2023-11-17T16:02:17.552956Z",
     "start_time": "2023-11-17T16:02:17.546079Z"
    }
   },
   "outputs": [
    {
     "data": {
      "text/plain": [
       "(<tf.Tensor: shape=(1900,), dtype=float32, numpy=\n",
       " array([4.7953072e-06, 5.4736925e-06, 5.7437774e-06, ..., 8.5443288e-02,\n",
       "        1.0281059e-01, 1.1356995e-01], dtype=float32)>,\n",
       " <tf.Tensor: shape=(1900,), dtype=int32, numpy=array([0, 0, 0, ..., 1, 1, 1], dtype=int32)>,\n",
       " <tf.Tensor: shape=(1900,), dtype=int32, numpy=array([583, 595, 108, ..., 431,  97, 869], dtype=int32)>)"
      ]
     },
     "execution_count": 55,
     "metadata": {},
     "output_type": "execute_result"
    }
   ],
   "source": [
    "time_stamps, transition_types, individual"
   ]
  },
  {
   "cell_type": "code",
   "execution_count": 56,
   "id": "6bc077cd",
   "metadata": {
    "ExecuteTime": {
     "end_time": "2023-11-17T16:02:18.572596Z",
     "start_time": "2023-11-17T16:02:17.555807Z"
    }
   },
   "outputs": [],
   "source": [
    "long_form_epi1 = epi_sim._compute_state(initial_state= epi_sim._expand_state(initial_state),\n",
    "                      event_list= epidemic1,\n",
    "                      incidence_matrix=sir_graph)"
   ]
  },
  {
   "cell_type": "code",
   "execution_count": 57,
   "id": "89f4eb18",
   "metadata": {
    "ExecuteTime": {
     "end_time": "2023-11-17T16:02:18.582817Z",
     "start_time": "2023-11-17T16:02:18.576216Z"
    }
   },
   "outputs": [
    {
     "data": {
      "text/plain": [
       "(<tf.Tensor: shape=(1901,), dtype=float32, numpy=\n",
       " array([0.00000000e+00, 1.27864235e-08, 7.83172709e-08, ...,\n",
       "        1.87657681e+01, 1.88479195e+01, 1.89321594e+01], dtype=float32)>,\n",
       " <tf.Tensor: shape=(1901, 3, 1000), dtype=float32, numpy=\n",
       " array([[[1., 1., 1., ..., 0., 0., 0.],\n",
       "         [0., 0., 0., ..., 1., 1., 1.],\n",
       "         [0., 0., 0., ..., 0., 0., 0.]],\n",
       " \n",
       "        [[1., 1., 1., ..., 0., 0., 0.],\n",
       "         [0., 0., 0., ..., 1., 1., 1.],\n",
       "         [0., 0., 0., ..., 0., 0., 0.]],\n",
       " \n",
       "        [[1., 1., 1., ..., 0., 0., 0.],\n",
       "         [0., 0., 0., ..., 1., 1., 1.],\n",
       "         [0., 0., 0., ..., 0., 0., 0.]],\n",
       " \n",
       "        ...,\n",
       " \n",
       "        [[0., 0., 0., ..., 0., 0., 0.],\n",
       "         [0., 0., 0., ..., 0., 0., 0.],\n",
       "         [1., 1., 1., ..., 1., 1., 1.]],\n",
       " \n",
       "        [[0., 0., 0., ..., 0., 0., 0.],\n",
       "         [0., 0., 0., ..., 0., 0., 0.],\n",
       "         [1., 1., 1., ..., 1., 1., 1.]],\n",
       " \n",
       "        [[0., 0., 0., ..., 0., 0., 0.],\n",
       "         [0., 0., 0., ..., 0., 0., 0.],\n",
       "         [1., 1., 1., ..., 1., 1., 1.]]], dtype=float32)>)"
      ]
     },
     "execution_count": 57,
     "metadata": {},
     "output_type": "execute_result"
    }
   ],
   "source": [
    "long_form_epi1"
   ]
  },
  {
   "cell_type": "code",
   "execution_count": 58,
   "id": "ba2813f5",
   "metadata": {
    "ExecuteTime": {
     "end_time": "2023-11-17T16:02:18.593816Z",
     "start_time": "2023-11-17T16:02:18.585584Z"
    }
   },
   "outputs": [],
   "source": [
    "summary = tf.concat([tf.expand_dims(long_form_epi1[0], axis=1, name='time'),\n",
    "                         tf.reduce_sum(long_form_epi1[1], axis=-1)],\n",
    "                        axis=-1,\n",
    "                        name=\"full_epidemic\")\n",
    "format_summary = pd.DataFrame(summary.numpy())\n",
    "\n",
    "new_names = dict(zip(format_summary.columns,\n",
    "                         ['time'] + ['S', 'I', 'R'])\n",
    "                     )\n",
    "\n",
    "format_summary = format_summary.rename(columns=new_names)"
   ]
  },
  {
   "cell_type": "code",
   "execution_count": 59,
   "id": "f5410906",
   "metadata": {
    "ExecuteTime": {
     "end_time": "2023-11-17T16:02:18.927697Z",
     "start_time": "2023-11-17T16:02:18.596769Z"
    }
   },
   "outputs": [
    {
     "data": {
      "text/plain": [
       "Text(0.5, 1.0, 'Simulated Epidemic')"
      ]
     },
     "execution_count": 59,
     "metadata": {},
     "output_type": "execute_result"
    },
    {
     "data": {
      "image/png": "[encoded data removed]",
      "text/plain": [
       "<Figure size 1500x1000 with 1 Axes>"
      ]
     },
     "metadata": {},
     "output_type": "display_data"
    }
   ],
   "source": [
    "format_summary.iloc[:, ].plot(x='time')\n",
    "plt.title('Simulated Epidemic')"
   ]
  },
  {
   "cell_type": "markdown",
   "id": "6f602be8",
   "metadata": {},
   "source": [
    "# Inference \n",
    "## Centred MCMC "
   ]
  },
  {
   "cell_type": "code",
   "execution_count": 60,
   "id": "28e911a4",
   "metadata": {
    "ExecuteTime": {
     "end_time": "2023-11-17T16:02:18.947732Z",
     "start_time": "2023-11-17T16:02:18.930721Z"
    }
   },
   "outputs": [],
   "source": [
    "@tf.function(jit_compile=True)\n",
    "def centred_MCMC(target_log_prob_fn, initial_parameter_values, iter=25):\n",
    "    '''\n",
    "    MCMC sampler for centred parameterization of a \n",
    "    partially observed epidemic. Data generated from \n",
    "    SIR model. \n",
    "    '''\n",
    "\n",
    "    dtype = np.float32\n",
    "    initial_parameter_values = tf.convert_to_tensor(initial_parameter_values,\n",
    "                                                    dtype=dtype)\n",
    "\n",
    "    # generate initial values for missing data\n",
    "    infection_times = removal_times - 5.0\n",
    "\n",
    "    def single_iteration(parameters, infection_times):\n",
    "        '''\n",
    "        Define a single iteration of the sampler. We first update the parameters,\n",
    "        followed by updating an infection time. \n",
    "        '''\n",
    "\n",
    "        # 1(a) Propose new parameter values from Q(.)\n",
    "        new_param = tfd.Normal(loc=parameters,\n",
    "                               scale=[0.02, 0.01, 0.001, 0.01]).sample()\n",
    "\n",
    "        # 1(b) Accept/reject\n",
    "        a1 = target_log_prob_fn(new_param, infection_times) - \\\n",
    "            target_log_prob_fn(parameters, infection_times)\n",
    "\n",
    "        # 1(c) Check\n",
    "        def parameter_true_fn():\n",
    "            return new_param, 1\n",
    "\n",
    "        def parameter_false_fn():\n",
    "            return parameters, 0\n",
    "\n",
    "        is_param_accept = tf.math.log(tfd.Uniform().sample()) < a1\n",
    "\n",
    "        parameters, result_param = tf.cond(is_param_accept,\n",
    "                                           parameter_true_fn,\n",
    "                                           parameter_false_fn)\n",
    "\n",
    "        # 2(a) Propose new infection time from Q_i(.)\n",
    "        # Part i - choose a person\n",
    "        individual_ID = tfd.Categorical(\n",
    "            logits=tf.zeros_like(removal_times)).sample()\n",
    "        # Part ii - propose new infection time\n",
    "        proposal = tfd.Exponential(rate=1.5)\n",
    "        new_infectious_period = proposal.sample()\n",
    "\n",
    "        current_infectious_periods = removal_times - infection_times\n",
    "        new_infectious_periods = tf.tensor_scatter_nd_update(\n",
    "            tensor=current_infectious_periods,\n",
    "            indices=[[individual_ID]],\n",
    "            updates=[new_infectious_period]\n",
    "        )\n",
    "        new_infection_times = removal_times - new_infectious_periods\n",
    "\n",
    "        # 2(b) Accept/reject\n",
    "        a2 = (\n",
    "            target_log_prob_fn(parameters, new_infection_times)\n",
    "            - target_log_prob_fn(parameters, infection_times)\n",
    "            + proposal.log_prob(\n",
    "                tf.gather(current_infectious_periods, individual_ID)\n",
    "            )\n",
    "            - proposal.log_prob(new_infectious_period)\n",
    "        )\n",
    "\n",
    "        # 2(c) Check\n",
    "        def infection_true_fn():\n",
    "            return new_infection_times, 1\n",
    "\n",
    "        def infection_false_fn():\n",
    "            return infection_times, 0\n",
    "\n",
    "        is_infection_accept = tf.math.log(tfd.Uniform().sample()) < a2\n",
    "\n",
    "        infection_times, result_inf = tf.cond(is_infection_accept,\n",
    "                                              infection_true_fn,\n",
    "                                              infection_false_fn)\n",
    "\n",
    "        return x\n",
    "\n",
    "    # Construct while loop here\n",
    "    parameter_samples = tf.TensorArray(\n",
    "        initial_parameter_values.dtype, size=iter)\n",
    "    infection_times_samples = tf.TensorArray(infection_times.dtype, size=iter)\n",
    "    results = tf.TensorArray(infection_times.dtype, size=iter)\n",
    "\n",
    "    def cond(i,\n",
    "             current_parameters,\n",
    "             current_infection_times,\n",
    "             parameter_accum,\n",
    "             infection_times_accum,\n",
    "             results_accum):\n",
    "        return i < iter\n",
    "\n",
    "    def body(i,\n",
    "             current_parameters,\n",
    "             current_infection_times,\n",
    "             parameter_accum,\n",
    "             infection_times_accum,\n",
    "             results_accum):\n",
    "\n",
    "        (next_parameters,\n",
    "         next_infection_times,\n",
    "         results) = single_iteration(parameters=current_parameters,\n",
    "                                     infection_times=current_infection_times)\n",
    "\n",
    "        parameter_accum = parameter_accum.write(i, next_parameters)\n",
    "        infection_times_accum = infection_times_accum.write(\n",
    "            i, next_infection_times)\n",
    "        results_accum = results_accum.write(i, results)\n",
    "\n",
    "        return (i+1,\n",
    "                next_parameters,\n",
    "                next_infection_times,\n",
    "                parameter_accum,\n",
    "                infection_times_accum,\n",
    "                results_accum)\n",
    "\n",
    "    (\n",
    "        _1,\n",
    "        _2,\n",
    "        _3,\n",
    "        parameter_samples,\n",
    "        infection_times_samples,\n",
    "        results) = tf.while_loop(cond=cond,\n",
    "                                 body=body,\n",
    "                                 loop_vars=(0,\n",
    "                                            initial_parameter_values,\n",
    "                                            infection_times,\n",
    "                                            parameter_samples,\n",
    "                                            infection_times_samples,\n",
    "                                            results)\n",
    "                                 )\n",
    "    return parameter_samples.stack(), infection_times_samples.stack(), results.stack()"
   ]
  },
  {
   "cell_type": "markdown",
   "id": "3d40fb50",
   "metadata": {
    "ExecuteTime": {
     "end_time": "2023-06-08T14:38:23.810447Z",
     "start_time": "2023-06-08T14:38:23.741401Z"
    }
   },
   "source": [
    "## Data transformation"
   ]
  },
  {
   "cell_type": "code",
   "execution_count": 61,
   "id": "8247f228",
   "metadata": {
    "ExecuteTime": {
     "end_time": "2023-11-17T16:02:18.958778Z",
     "start_time": "2023-11-17T16:02:18.950776Z"
    }
   },
   "outputs": [
    {
     "data": {
      "text/plain": [
       "<tf.Tensor: shape=(1000, 2), dtype=float32, numpy=\n",
       "array([[0.00441903, 0.0187067 ],\n",
       "       [0.00402941, 0.00608589],\n",
       "       [0.00112726, 0.00207256],\n",
       "       ...,\n",
       "       [0.        , 0.04889282],\n",
       "       [0.        , 0.01321588],\n",
       "       [0.        , 0.05664035]], dtype=float32)>"
      ]
     },
     "execution_count": 61,
     "metadata": {},
     "output_type": "execute_result"
    }
   ],
   "source": [
    "tf.scatter_nd(indices=tf.stack([individual, transition_types], axis=-1),\n",
    "              updates=time_stamps, shape=[num_farms, 2])"
   ]
  },
  {
   "cell_type": "code",
   "execution_count": 62,
   "id": "59b43a35",
   "metadata": {
    "ExecuteTime": {
     "end_time": "2023-11-17T16:02:18.967987Z",
     "start_time": "2023-11-17T16:02:18.961357Z"
    }
   },
   "outputs": [
    {
     "data": {
      "text/plain": [
       "<tf.Tensor: shape=(1900, 2), dtype=int32, numpy=\n",
       "array([[583,   0],\n",
       "       [595,   0],\n",
       "       [108,   0],\n",
       "       ...,\n",
       "       [431,   1],\n",
       "       [ 97,   1],\n",
       "       [869,   1]], dtype=int32)>"
      ]
     },
     "execution_count": 62,
     "metadata": {},
     "output_type": "execute_result"
    }
   ],
   "source": [
    "tf.stack([individual, transition_types], axis=-1)"
   ]
  },
  {
   "cell_type": "code",
   "execution_count": 63,
   "id": "eff3c3a5",
   "metadata": {
    "ExecuteTime": {
     "end_time": "2023-11-17T16:02:18.975503Z",
     "start_time": "2023-11-17T16:02:18.970798Z"
    }
   },
   "outputs": [],
   "source": [
    "formatted_data = pd.DataFrame({'time_stamp':time_stamps, 'event_type':transition_types, 'ind_id':individual})"
   ]
  },
  {
   "cell_type": "code",
   "execution_count": 64,
   "id": "461ccc7d",
   "metadata": {
    "ExecuteTime": {
     "end_time": "2023-11-17T16:02:18.987765Z",
     "start_time": "2023-11-17T16:02:18.978443Z"
    }
   },
   "outputs": [
    {
     "data": {
      "text/plain": [
       "<bound method DataFrame.reset_index of       time_stamp  event_type  ind_id\n",
       "1556    0.018707           1       0\n",
       "877     0.004419           0       0\n",
       "831     0.004029           0       1\n",
       "1038    0.006086           1       1\n",
       "548     0.002073           1       2\n",
       "...          ...         ...     ...\n",
       "1256    0.009636           1     995\n",
       "787     0.003608           1     996\n",
       "1858    0.048893           1     997\n",
       "1393    0.013216           1     998\n",
       "1878    0.056640           1     999\n",
       "\n",
       "[1900 rows x 3 columns]>"
      ]
     },
     "execution_count": 64,
     "metadata": {},
     "output_type": "execute_result"
    }
   ],
   "source": [
    "formatted_data.sort_values('ind_id').reset_index "
   ]
  },
  {
   "cell_type": "code",
   "execution_count": 65,
   "id": "04d31d49",
   "metadata": {
    "ExecuteTime": {
     "end_time": "2023-11-17T16:02:19.002100Z",
     "start_time": "2023-11-17T16:02:18.990368Z"
    }
   },
   "outputs": [
    {
     "name": "stderr",
     "output_type": "stream",
     "text": [
      "/var/folders/_q/07k1y14x087brt3tmd2bs1740000gn/T/ipykernel_20053/1499167911.py:1: FutureWarning: This dataframe has a column name that matches the 'value_name' column name of the resulting Dataframe. In the future this will raise an error, please set the 'value_name' parameter of DataFrame.melt to a unique name.\n",
      "  event_time_data = formatted_data.melt(id_vars=['ind_id', 'event_type'],\n"
     ]
    }
   ],
   "source": [
    "event_time_data = formatted_data.melt(id_vars=['ind_id', 'event_type'],\n",
    "                                      value_vars=['time_stamp'],\n",
    "                                      value_name='time_stamp').sort_values('ind_id').pivot(index='ind_id',\n",
    "                                                                                           columns='event_type',\n",
    "                                                                                           values='time_stamp').fillna(0.0)"
   ]
  },
  {
   "cell_type": "code",
   "execution_count": 66,
   "id": "d17ff325",
   "metadata": {
    "ExecuteTime": {
     "end_time": "2023-11-17T16:02:19.015207Z",
     "start_time": "2023-11-17T16:02:19.004834Z"
    }
   },
   "outputs": [
    {
     "data": {
      "text/html": [
       "<div>\n",
       "<style scoped>\n",
       "    .dataframe tbody tr th:only-of-type {\n",
       "        vertical-align: middle;\n",
       "    }\n",
       "\n",
       "    .dataframe tbody tr th {\n",
       "        vertical-align: top;\n",
       "    }\n",
       "\n",
       "    .dataframe thead th {\n",
       "        text-align: right;\n",
       "    }\n",
       "</style>\n",
       "<table border=\"1\" class=\"dataframe\">\n",
       "  <thead>\n",
       "    <tr style=\"text-align: right;\">\n",
       "      <th>event_type</th>\n",
       "      <th>0</th>\n",
       "      <th>1</th>\n",
       "    </tr>\n",
       "    <tr>\n",
       "      <th>ind_id</th>\n",
       "      <th></th>\n",
       "      <th></th>\n",
       "    </tr>\n",
       "  </thead>\n",
       "  <tbody>\n",
       "    <tr>\n",
       "      <th>0</th>\n",
       "      <td>0.004419</td>\n",
       "      <td>0.018707</td>\n",
       "    </tr>\n",
       "    <tr>\n",
       "      <th>1</th>\n",
       "      <td>0.004029</td>\n",
       "      <td>0.006086</td>\n",
       "    </tr>\n",
       "    <tr>\n",
       "      <th>2</th>\n",
       "      <td>0.001127</td>\n",
       "      <td>0.002073</td>\n",
       "    </tr>\n",
       "    <tr>\n",
       "      <th>3</th>\n",
       "      <td>0.001134</td>\n",
       "      <td>0.003944</td>\n",
       "    </tr>\n",
       "    <tr>\n",
       "      <th>4</th>\n",
       "      <td>0.000260</td>\n",
       "      <td>0.078447</td>\n",
       "    </tr>\n",
       "    <tr>\n",
       "      <th>...</th>\n",
       "      <td>...</td>\n",
       "      <td>...</td>\n",
       "    </tr>\n",
       "    <tr>\n",
       "      <th>995</th>\n",
       "      <td>0.000000</td>\n",
       "      <td>0.009636</td>\n",
       "    </tr>\n",
       "    <tr>\n",
       "      <th>996</th>\n",
       "      <td>0.000000</td>\n",
       "      <td>0.003608</td>\n",
       "    </tr>\n",
       "    <tr>\n",
       "      <th>997</th>\n",
       "      <td>0.000000</td>\n",
       "      <td>0.048893</td>\n",
       "    </tr>\n",
       "    <tr>\n",
       "      <th>998</th>\n",
       "      <td>0.000000</td>\n",
       "      <td>0.013216</td>\n",
       "    </tr>\n",
       "    <tr>\n",
       "      <th>999</th>\n",
       "      <td>0.000000</td>\n",
       "      <td>0.056640</td>\n",
       "    </tr>\n",
       "  </tbody>\n",
       "</table>\n",
       "<p>1000 rows × 2 columns</p>\n",
       "</div>"
      ],
      "text/plain": [
       "event_type         0         1\n",
       "ind_id                        \n",
       "0           0.004419  0.018707\n",
       "1           0.004029  0.006086\n",
       "2           0.001127  0.002073\n",
       "3           0.001134  0.003944\n",
       "4           0.000260  0.078447\n",
       "...              ...       ...\n",
       "995         0.000000  0.009636\n",
       "996         0.000000  0.003608\n",
       "997         0.000000  0.048893\n",
       "998         0.000000  0.013216\n",
       "999         0.000000  0.056640\n",
       "\n",
       "[1000 rows x 2 columns]"
      ]
     },
     "execution_count": 66,
     "metadata": {},
     "output_type": "execute_result"
    }
   ],
   "source": [
    "event_time_data\n",
    "####### "
   ]
  },
  {
   "cell_type": "code",
   "execution_count": 67,
   "id": "142b7c84",
   "metadata": {
    "ExecuteTime": {
     "end_time": "2023-11-17T16:02:19.024799Z",
     "start_time": "2023-11-17T16:02:19.017802Z"
    }
   },
   "outputs": [
    {
     "data": {
      "text/plain": [
       "array([[4.79530718e-06, 5.83000000e+02, 0.00000000e+00],\n",
       "       [5.47369245e-06, 5.95000000e+02, 0.00000000e+00],\n",
       "       [5.74377736e-06, 1.08000000e+02, 0.00000000e+00],\n",
       "       ...,\n",
       "       [8.54432881e-02, 4.31000000e+02, 1.00000000e+00],\n",
       "       [1.02810591e-01, 9.70000000e+01, 1.00000000e+00],\n",
       "       [1.13569953e-01, 8.69000000e+02, 1.00000000e+00]])"
      ]
     },
     "execution_count": 67,
     "metadata": {},
     "output_type": "execute_result"
    }
   ],
   "source": [
    "np.column_stack((time_stamps, individual,transition_types))"
   ]
  },
  {
   "cell_type": "code",
   "execution_count": 68,
   "id": "85602e1e",
   "metadata": {
    "ExecuteTime": {
     "end_time": "2023-11-17T16:02:19.036635Z",
     "start_time": "2023-11-17T16:02:19.027681Z"
    }
   },
   "outputs": [
    {
     "data": {
      "text/plain": [
       "<tf.Tensor: shape=(1000,), dtype=int32, numpy=\n",
       "array([967, 912, 928,  69, 917, 182,  90, 597,  16, 505, 985, 751, 902,\n",
       "       378, 438, 175, 909, 908, 956, 276, 719, 827, 527,  82, 730, 951,\n",
       "       746, 150, 872, 803, 179, 821, 639, 631, 593, 333, 764, 595, 620,\n",
       "       900, 789, 235, 932, 372, 607, 410, 123, 703, 591, 210, 702, 419,\n",
       "       177, 109,   2, 970, 641, 922, 651, 697, 583,  15, 162,   8, 396,\n",
       "       449, 834,  13, 931, 198, 665, 613, 437, 451, 523,  74, 646, 329,\n",
       "       905, 153, 769, 662, 362, 899, 933, 513, 240, 397, 710, 794, 572,\n",
       "        94, 359, 561,  51, 277, 485, 616, 603, 698, 866, 938, 425, 873,\n",
       "        26, 223, 580, 453, 743, 124, 365, 125, 996, 934, 499, 502, 257,\n",
       "       465, 853, 979, 957, 696, 635, 939, 414, 777,   3, 369, 342, 149,\n",
       "        87, 452, 966, 954, 924, 594,  49, 493, 112, 911, 781, 637, 260,\n",
       "       679,  68, 694, 833, 253, 322, 386, 464, 993, 946, 144, 755,  29,\n",
       "       209, 491, 382, 943, 674, 152, 795, 793, 759, 247, 429, 786, 312,\n",
       "       753, 402, 285, 772, 614, 326, 400,  25, 349, 843, 318, 896, 875,\n",
       "       897, 862, 609, 292, 854,  79, 482, 824, 787, 879,  92, 444, 676,\n",
       "       256, 994, 965,  54,  38,  72, 756, 685, 705, 551, 338, 259, 976,\n",
       "       347, 478, 200, 953, 278, 314, 621,  95, 473, 658, 231, 385, 806,\n",
       "       770, 713, 411, 173,   1, 612, 221, 250, 520, 992,  34, 458, 549,\n",
       "       860, 389, 155,  19,  33, 450, 571, 394, 689, 851, 986, 776, 729,\n",
       "       448, 750, 532, 675, 207, 426, 357, 364, 339, 907, 111, 294, 503,\n",
       "       271, 739, 181, 886, 100, 418, 174, 186,  53, 325,   5, 187, 467,\n",
       "       565, 798, 606, 460, 258, 815, 232, 216, 392, 738, 950, 531, 570,\n",
       "       782, 671,  41, 874, 405,  89, 987, 811, 367, 388, 288, 974, 975,\n",
       "       528, 600, 390, 116, 574, 477, 470, 855, 617, 205, 808, 785, 723,\n",
       "       480, 968, 790, 835, 778, 172, 540, 486, 160, 332, 601, 983, 960,\n",
       "       586, 588, 226, 947, 576, 548, 185, 736, 701, 727, 264, 504, 457,\n",
       "       554, 507, 564,  77, 361, 134, 693, 627, 202, 191, 788, 732, 822,\n",
       "       462, 844, 767, 831, 925, 742, 266, 610, 669, 219, 575, 128, 261,\n",
       "       735, 300, 305, 321, 791, 135,  45,  17, 106, 766, 241, 762, 711,\n",
       "       619, 995, 237,  91, 891,  44, 166,  48, 792, 506, 579, 744, 290,\n",
       "       446, 341, 810, 929, 848, 608, 642, 110, 379, 563, 284, 108, 494,\n",
       "       677, 562, 522, 823, 881,  83, 120, 345,  40, 569, 211, 137, 309,\n",
       "       272, 420, 251, 599,  84,  47, 629, 630, 227, 445, 638,  58, 962,\n",
       "        85, 204, 981,  35, 547, 724, 319, 324, 514, 714, 188, 441, 275,\n",
       "       130, 244, 667, 673, 863, 958, 867, 861, 119, 133, 942, 218, 122,\n",
       "       611, 430, 927, 661,  71, 267, 170,  42, 670, 817, 358, 380, 165,\n",
       "       217, 602, 269, 346, 749, 384,  73, 771, 353, 381, 281, 707, 409,\n",
       "       955, 804, 940, 935, 918, 525, 978,  20, 898, 373, 859,  99, 335,\n",
       "       154, 936, 545, 190, 998, 459, 632, 298, 376, 268,  75,  55, 512,\n",
       "       407, 760, 876, 201, 814, 303, 222, 557,  31, 239, 435, 624, 655,\n",
       "         7, 138, 336, 105, 725, 708, 121,  61, 841, 194, 297, 383, 151,\n",
       "       666, 648,  46, 307, 403, 812, 391, 546,  11,  24,   9, 263, 101,\n",
       "        65,  30, 413, 270, 660, 783, 541, 238, 356, 761, 230, 474, 775,\n",
       "       916, 167, 323, 652, 559, 884, 320,  56, 587, 142, 704, 439, 982,\n",
       "       582, 293, 484,  18, 183,  80, 969, 495,  78, 203, 536, 949, 644,\n",
       "       726, 878, 741, 926, 678, 763,  62, 780, 737,  67, 192, 537, 468,\n",
       "        81, 556, 511, 515, 688, 176, 164, 337, 797, 370, 334, 882, 754,\n",
       "       132,  14, 469,  12, 302, 552, 890, 560, 895, 687, 113, 923, 243,\n",
       "       577, 327, 360, 169, 887, 774,  76, 731, 604, 311, 816, 892, 842,\n",
       "       980, 163, 287, 366, 748, 220, 758, 534,  43, 538, 722, 492, 529,\n",
       "       543, 197, 442, 807, 818, 839,  59,   0, 915, 141, 668, 508, 645,\n",
       "       828, 663, 659, 157, 398, 234, 952, 829, 773, 286, 868, 147, 301,\n",
       "       158,  50, 126,  86, 107,  96, 984, 521, 913, 245, 481, 475, 573,\n",
       "       214, 840, 779, 643, 193, 706, 375, 558, 487, 961, 989, 836, 530,\n",
       "        28, 501, 920, 255, 399, 636, 424, 249, 395, 682, 654, 262, 784,\n",
       "       870, 880, 497, 626, 401, 919, 433, 971, 146, 351, 344, 313, 858,\n",
       "       633, 578, 813, 544, 877, 455, 330, 212, 849, 622, 733, 102, 901,\n",
       "       317, 498, 114, 959, 436, 236, 805, 963, 315, 809, 340, 310, 533,\n",
       "       988, 888, 196, 650, 229, 103, 518, 686, 416, 156, 664, 568, 589,\n",
       "       864, 274, 280, 847, 273, 542, 894, 454, 440, 623, 456, 550, 517,\n",
       "        39, 350,  66, 721,  36, 700, 640, 826, 140, 653, 488, 466, 937,\n",
       "       299, 374, 526, 189, 715, 628, 712, 752, 716, 856, 634, 161, 796,\n",
       "       490, 728, 483, 647,  57, 740, 535, 681, 566, 692, 215, 680, 224,\n",
       "       306, 973, 699, 252, 837, 825, 208, 941, 972, 423, 248, 199,  64,\n",
       "       747, 539, 519, 289, 871, 865, 765, 690, 757, 139, 489,  70, 585,\n",
       "       246, 228, 476, 427, 656, 799, 393, 903, 683, 567, 910, 296, 615,\n",
       "       352, 838, 846, 553, 461, 213, 434, 605, 893,  10, 447, 143, 479,\n",
       "       948, 404, 944, 555, 472,   6, 279, 131, 768, 206, 820,  21, 184,\n",
       "       930, 800, 745, 463, 596, 118, 104, 657, 691, 921,  52, 171, 857,\n",
       "       233, 734, 581, 283, 148,  63, 945,  27,  37, 180, 977, 432, 443,\n",
       "       363, 990, 304, 421, 178, 316, 850, 510, 117, 408,  93, 343, 906,\n",
       "       368,  22, 830, 417, 168, 496, 295, 684, 509, 592, 883, 590, 308,\n",
       "       819, 695, 115, 282, 265, 422, 412, 852, 406, 964, 598,  88, 649,\n",
       "       524, 354, 709, 889, 371, 136, 225, 387, 328, 997,  32, 516, 254,\n",
       "       832, 145, 471, 717,  98, 802, 331, 428, 991, 845, 904, 415, 720,\n",
       "       625, 885, 618, 999,  60, 500, 348, 355, 159, 195, 914, 377, 584,\n",
       "       242, 129, 127, 291, 718, 801,  23,   4, 672, 431,  97, 869],\n",
       "      dtype=int32)>"
      ]
     },
     "execution_count": 68,
     "metadata": {},
     "output_type": "execute_result"
    }
   ],
   "source": [
    "tf.gather(individual, np.argwhere(transition_types == 1).ravel())"
   ]
  },
  {
   "cell_type": "code",
   "execution_count": 69,
   "id": "53996362",
   "metadata": {
    "ExecuteTime": {
     "end_time": "2023-11-17T16:02:19.043636Z",
     "start_time": "2023-11-17T16:02:19.039086Z"
    }
   },
   "outputs": [],
   "source": [
    "simulated_removal_times = tf.gather(\n",
    "    time_stamps, np.argwhere(transition_types == 1).ravel())"
   ]
  },
  {
   "cell_type": "code",
   "execution_count": 70,
   "id": "63a7d88f",
   "metadata": {
    "ExecuteTime": {
     "end_time": "2023-11-17T16:02:19.055149Z",
     "start_time": "2023-11-17T16:02:19.048546Z"
    }
   },
   "outputs": [],
   "source": [
    "simulated_infection_times = tf.pad(tf.gather(time_stamps, np.argwhere(transition_types == 0).ravel()),\n",
    "                                   paddings=tf.constant([[0, 100]]))"
   ]
  },
  {
   "cell_type": "markdown",
   "id": "9488a8b5",
   "metadata": {},
   "source": [
    "# Likelihood computation"
   ]
  },
  {
   "cell_type": "code",
   "execution_count": 71,
   "id": "ec16c84a",
   "metadata": {
    "ExecuteTime": {
     "end_time": "2023-11-17T16:02:19.077219Z",
     "start_time": "2023-11-17T16:02:19.058332Z"
    }
   },
   "outputs": [
    {
     "data": {
      "text/plain": [
       "<tf.Tensor: shape=(1000, 1000), dtype=float32, numpy=\n",
       "array([[0., 0., 0., ..., 1., 1., 1.],\n",
       "       [1., 0., 0., ..., 1., 1., 1.],\n",
       "       [1., 1., 0., ..., 1., 1., 1.],\n",
       "       ...,\n",
       "       [0., 0., 0., ..., 0., 0., 0.],\n",
       "       [0., 0., 0., ..., 0., 0., 0.],\n",
       "       [0., 0., 0., ..., 0., 0., 0.]], dtype=float32)>"
      ]
     },
     "execution_count": 71,
     "metadata": {},
     "output_type": "execute_result"
    }
   ],
   "source": [
    "generate_waifw(infection_times=simulated_infection_times,\n",
    "               removal_times=simulated_removal_times)"
   ]
  },
  {
   "cell_type": "code",
   "execution_count": 72,
   "id": "4058407d",
   "metadata": {
    "ExecuteTime": {
     "end_time": "2023-11-17T16:02:19.095828Z",
     "start_time": "2023-11-17T16:02:19.079961Z"
    }
   },
   "outputs": [
    {
     "data": {
      "text/plain": [
       "<tf.Tensor: shape=(1000, 1000), dtype=float32, numpy=\n",
       "array([[0.0000000e+00, 0.0000000e+00, 0.0000000e+00, ..., 4.7953072e-06,\n",
       "        4.7953072e-06, 4.7953072e-06],\n",
       "       [6.7838528e-07, 0.0000000e+00, 0.0000000e+00, ..., 5.4736925e-06,\n",
       "        5.4736925e-06, 5.4736925e-06],\n",
       "       [9.4847019e-07, 2.7008491e-07, 0.0000000e+00, ..., 5.7437774e-06,\n",
       "        5.7437774e-06, 5.7437774e-06],\n",
       "       ...,\n",
       "       [0.0000000e+00, 0.0000000e+00, 0.0000000e+00, ..., 0.0000000e+00,\n",
       "        0.0000000e+00, 0.0000000e+00],\n",
       "       [0.0000000e+00, 0.0000000e+00, 0.0000000e+00, ..., 0.0000000e+00,\n",
       "        0.0000000e+00, 0.0000000e+00],\n",
       "       [0.0000000e+00, 0.0000000e+00, 0.0000000e+00, ..., 0.0000000e+00,\n",
       "        0.0000000e+00, 0.0000000e+00]], dtype=float32)>"
      ]
     },
     "execution_count": 72,
     "metadata": {},
     "output_type": "execute_result"
    }
   ],
   "source": [
    "generate_exposure(infection_times=simulated_infection_times,\n",
    "                  removal_times=simulated_removal_times)"
   ]
  },
  {
   "cell_type": "code",
   "execution_count": 73,
   "id": "8e72c9c4",
   "metadata": {
    "ExecuteTime": {
     "end_time": "2023-11-17T16:02:19.150374Z",
     "start_time": "2023-11-17T16:02:19.099274Z"
    }
   },
   "outputs": [],
   "source": [
    "simualted_exposure_mat = tf.matmul(a=generate_waifw(infection_times=simulated_infection_times, removal_times=simulated_removal_times),\n",
    "          b=generate_exposure(infection_times=simulated_infection_times, removal_times=simulated_removal_times))"
   ]
  },
  {
   "cell_type": "code",
   "execution_count": 74,
   "id": "8d2b0d97",
   "metadata": {
    "ExecuteTime": {
     "end_time": "2023-11-17T16:02:19.156757Z",
     "start_time": "2023-11-17T16:02:19.152806Z"
    }
   },
   "outputs": [],
   "source": [
    "def drop_initial_infections(infection_times):\n",
    "    return np.argwhere(infection_times != 0.0).ravel()"
   ]
  },
  {
   "cell_type": "code",
   "execution_count": 75,
   "id": "70029d80",
   "metadata": {
    "ExecuteTime": {
     "end_time": "2023-11-17T16:02:19.168825Z",
     "start_time": "2023-11-17T16:02:19.159408Z"
    }
   },
   "outputs": [
    {
     "data": {
      "text/plain": [
       "array([  0,   1,   2,   3,   4,   5,   6,   7,   8,   9,  10,  11,  12,\n",
       "        13,  14,  15,  16,  17,  18,  19,  20,  21,  22,  23,  24,  25,\n",
       "        26,  27,  28,  29,  30,  31,  32,  33,  34,  35,  36,  37,  38,\n",
       "        39,  40,  41,  42,  43,  44,  45,  46,  47,  48,  49,  50,  51,\n",
       "        52,  53,  54,  55,  56,  57,  58,  59,  60,  61,  62,  63,  64,\n",
       "        65,  66,  67,  68,  69,  70,  71,  72,  73,  74,  75,  76,  77,\n",
       "        78,  79,  80,  81,  82,  83,  84,  85,  86,  87,  88,  89,  90,\n",
       "        91,  92,  93,  94,  95,  96,  97,  98,  99, 100, 101, 102, 103,\n",
       "       104, 105, 106, 107, 108, 109, 110, 111, 112, 113, 114, 115, 116,\n",
       "       117, 118, 119, 120, 121, 122, 123, 124, 125, 126, 127, 128, 129,\n",
       "       130, 131, 132, 133, 134, 135, 136, 137, 138, 139, 140, 141, 142,\n",
       "       143, 144, 145, 146, 147, 148, 149, 150, 151, 152, 153, 154, 155,\n",
       "       156, 157, 158, 159, 160, 161, 162, 163, 164, 165, 166, 167, 168,\n",
       "       169, 170, 171, 172, 173, 174, 175, 176, 177, 178, 179, 180, 181,\n",
       "       182, 183, 184, 185, 186, 187, 188, 189, 190, 191, 192, 193, 194,\n",
       "       195, 196, 197, 198, 199, 200, 201, 202, 203, 204, 205, 206, 207,\n",
       "       208, 209, 210, 211, 212, 213, 214, 215, 216, 217, 218, 219, 220,\n",
       "       221, 222, 223, 224, 225, 226, 227, 228, 229, 230, 231, 232, 233,\n",
       "       234, 235, 236, 237, 238, 239, 240, 241, 242, 243, 244, 245, 246,\n",
       "       247, 248, 249, 250, 251, 252, 253, 254, 255, 256, 257, 258, 259,\n",
       "       260, 261, 262, 263, 264, 265, 266, 267, 268, 269, 270, 271, 272,\n",
       "       273, 274, 275, 276, 277, 278, 279, 280, 281, 282, 283, 284, 285,\n",
       "       286, 287, 288, 289, 290, 291, 292, 293, 294, 295, 296, 297, 298,\n",
       "       299, 300, 301, 302, 303, 304, 305, 306, 307, 308, 309, 310, 311,\n",
       "       312, 313, 314, 315, 316, 317, 318, 319, 320, 321, 322, 323, 324,\n",
       "       325, 326, 327, 328, 329, 330, 331, 332, 333, 334, 335, 336, 337,\n",
       "       338, 339, 340, 341, 342, 343, 344, 345, 346, 347, 348, 349, 350,\n",
       "       351, 352, 353, 354, 355, 356, 357, 358, 359, 360, 361, 362, 363,\n",
       "       364, 365, 366, 367, 368, 369, 370, 371, 372, 373, 374, 375, 376,\n",
       "       377, 378, 379, 380, 381, 382, 383, 384, 385, 386, 387, 388, 389,\n",
       "       390, 391, 392, 393, 394, 395, 396, 397, 398, 399, 400, 401, 402,\n",
       "       403, 404, 405, 406, 407, 408, 409, 410, 411, 412, 413, 414, 415,\n",
       "       416, 417, 418, 419, 420, 421, 422, 423, 424, 425, 426, 427, 428,\n",
       "       429, 430, 431, 432, 433, 434, 435, 436, 437, 438, 439, 440, 441,\n",
       "       442, 443, 444, 445, 446, 447, 448, 449, 450, 451, 452, 453, 454,\n",
       "       455, 456, 457, 458, 459, 460, 461, 462, 463, 464, 465, 466, 467,\n",
       "       468, 469, 470, 471, 472, 473, 474, 475, 476, 477, 478, 479, 480,\n",
       "       481, 482, 483, 484, 485, 486, 487, 488, 489, 490, 491, 492, 493,\n",
       "       494, 495, 496, 497, 498, 499, 500, 501, 502, 503, 504, 505, 506,\n",
       "       507, 508, 509, 510, 511, 512, 513, 514, 515, 516, 517, 518, 519,\n",
       "       520, 521, 522, 523, 524, 525, 526, 527, 528, 529, 530, 531, 532,\n",
       "       533, 534, 535, 536, 537, 538, 539, 540, 541, 542, 543, 544, 545,\n",
       "       546, 547, 548, 549, 550, 551, 552, 553, 554, 555, 556, 557, 558,\n",
       "       559, 560, 561, 562, 563, 564, 565, 566, 567, 568, 569, 570, 571,\n",
       "       572, 573, 574, 575, 576, 577, 578, 579, 580, 581, 582, 583, 584,\n",
       "       585, 586, 587, 588, 589, 590, 591, 592, 593, 594, 595, 596, 597,\n",
       "       598, 599, 600, 601, 602, 603, 604, 605, 606, 607, 608, 609, 610,\n",
       "       611, 612, 613, 614, 615, 616, 617, 618, 619, 620, 621, 622, 623,\n",
       "       624, 625, 626, 627, 628, 629, 630, 631, 632, 633, 634, 635, 636,\n",
       "       637, 638, 639, 640, 641, 642, 643, 644, 645, 646, 647, 648, 649,\n",
       "       650, 651, 652, 653, 654, 655, 656, 657, 658, 659, 660, 661, 662,\n",
       "       663, 664, 665, 666, 667, 668, 669, 670, 671, 672, 673, 674, 675,\n",
       "       676, 677, 678, 679, 680, 681, 682, 683, 684, 685, 686, 687, 688,\n",
       "       689, 690, 691, 692, 693, 694, 695, 696, 697, 698, 699, 700, 701,\n",
       "       702, 703, 704, 705, 706, 707, 708, 709, 710, 711, 712, 713, 714,\n",
       "       715, 716, 717, 718, 719, 720, 721, 722, 723, 724, 725, 726, 727,\n",
       "       728, 729, 730, 731, 732, 733, 734, 735, 736, 737, 738, 739, 740,\n",
       "       741, 742, 743, 744, 745, 746, 747, 748, 749, 750, 751, 752, 753,\n",
       "       754, 755, 756, 757, 758, 759, 760, 761, 762, 763, 764, 765, 766,\n",
       "       767, 768, 769, 770, 771, 772, 773, 774, 775, 776, 777, 778, 779,\n",
       "       780, 781, 782, 783, 784, 785, 786, 787, 788, 789, 790, 791, 792,\n",
       "       793, 794, 795, 796, 797, 798, 799, 800, 801, 802, 803, 804, 805,\n",
       "       806, 807, 808, 809, 810, 811, 812, 813, 814, 815, 816, 817, 818,\n",
       "       819, 820, 821, 822, 823, 824, 825, 826, 827, 828, 829, 830, 831,\n",
       "       832, 833, 834, 835, 836, 837, 838, 839, 840, 841, 842, 843, 844,\n",
       "       845, 846, 847, 848, 849, 850, 851, 852, 853, 854, 855, 856, 857,\n",
       "       858, 859, 860, 861, 862, 863, 864, 865, 866, 867, 868, 869, 870,\n",
       "       871, 872, 873, 874, 875, 876, 877, 878, 879, 880, 881, 882, 883,\n",
       "       884, 885, 886, 887, 888, 889, 890, 891, 892, 893, 894, 895, 896,\n",
       "       897, 898, 899])"
      ]
     },
     "execution_count": 75,
     "metadata": {},
     "output_type": "execute_result"
    }
   ],
   "source": [
    "drop_initial_infections(infection_times=simulated_infection_times)"
   ]
  },
  {
   "cell_type": "code",
   "execution_count": 76,
   "id": "bf342010",
   "metadata": {
    "ExecuteTime": {
     "end_time": "2023-11-17T16:02:19.176986Z",
     "start_time": "2023-11-17T16:02:19.171769Z"
    }
   },
   "outputs": [
    {
     "ename": "SyntaxError",
     "evalue": "invalid syntax (392455705.py, line 2)",
     "output_type": "error",
     "traceback": [
      "\u001b[0;36m  File \u001b[0;32m\"/var/folders/_q/07k1y14x087brt3tmd2bs1740000gn/T/ipykernel_20053/392455705.py\"\u001b[0;36m, line \u001b[0;32m2\u001b[0m\n\u001b[0;31m    indices=drop_initial_infections(infecti=n_times=simulated_infection_times)))\u001b[0m\n\u001b[0m                                                   ^\u001b[0m\n\u001b[0;31mSyntaxError\u001b[0m\u001b[0;31m:\u001b[0m invalid syntax\n"
     ]
    }
   ],
   "source": [
    "tf.einsum('ij -> i', tf.gather(simualted_exposure_mat,\n",
    "          indices=drop_initial_infections(infecti=n_times=simulated_infection_times)))"
   ]
  },
  {
   "cell_type": "code",
   "execution_count": null,
   "id": "a0d3c31b",
   "metadata": {
    "ExecuteTime": {
     "end_time": "2023-11-17T16:02:19.197344Z",
     "start_time": "2023-11-17T16:02:19.197320Z"
    }
   },
   "outputs": [],
   "source": [
    "def log_ll(spatial_data, unit_data, event_times):\n",
    "    inf_times = event_times.get('infection_times')\n",
    "    removal_times = event_times.get('removal_times')\n",
    "\n",
    "    exposure_calcs = tf.matmul(a=generate_waifw(infection_times=inf_times, removal_times=removal_times),\n",
    "                               b=generate_exposure(infection_times=inf_times, removal_times=removal_times))\n",
    "    \n",
    "    overall_event_rate = tf.einsum('ij -> ', tf.gather(exposure_calcs,\n",
    "          indices=drop_initial_infections(infection_times=inf_times)))\n",
    "    \n",
    "    return overall_event_rate\n",
    "    "
   ]
  },
  {
   "cell_type": "code",
   "execution_count": null,
   "id": "2af6bcbb",
   "metadata": {
    "ExecuteTime": {
     "end_time": "2023-11-17T16:02:19.199703Z",
     "start_time": "2023-11-17T16:02:19.199683Z"
    }
   },
   "outputs": [],
   "source": [
    "log_ll()"
   ]
  }
 ],
 "metadata": {
  "kernelspec": {
   "display_name": "Python 3 (ipykernel)",
   "language": "python",
   "name": "python3"
  },
  "language_info": {
   "codemirror_mode": {
    "name": "ipython",
    "version": 3
   },
   "file_extension": ".py",
   "mimetype": "text/x-python",
   "name": "python",
   "nbconvert_exporter": "python",
   "pygments_lexer": "ipython3",
   "version": "3.9.13"
  },
  "toc": {
   "base_numbering": 1,
   "nav_menu": {},
   "number_sections": true,
   "sideBar": true,
   "skip_h1_title": false,
   "title_cell": "Table of Contents",
   "title_sidebar": "Contents",
   "toc_cell": false,
   "toc_position": {
    "height": "calc(100% - 180px)",
    "left": "10px",
    "top": "150px",
    "width": "246px"
   },
   "toc_section_display": true,
   "toc_window_display": true
  },
  "varInspector": {
   "cols": {
    "lenName": 16,
    "lenType": 16,
    "lenVar": 40
   },
   "kernels_config": {
    "python": {
     "delete_cmd_postfix": "",
     "delete_cmd_prefix": "del ",
     "library": "var_list.py",
     "varRefreshCmd": "print(var_dic_list())"
    },
    "r": {
     "delete_cmd_postfix": ") ",
     "delete_cmd_prefix": "rm(",
     "library": "var_list.r",
     "varRefreshCmd": "cat(var_dic_list()) "
    }
   },
   "position": {
    "height": "420px",
    "left": "2190px",
    "right": "20px",
    "top": "120px",
    "width": "350px"
   },
   "types_to_exclude": [
    "module",
    "function",
    "builtin_function_or_method",
    "instance",
    "_Feature"
   ],
   "window_display": true
  }
 },
 "nbformat": 4,
 "nbformat_minor": 5
}
