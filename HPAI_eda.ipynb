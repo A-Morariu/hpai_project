{
 "cells": [
  {
   "cell_type": "code",
   "execution_count": 1,
   "id": "14f9d6bd",
   "metadata": {
    "ExecuteTime": {
     "end_time": "2023-07-06T17:30:49.438872Z",
     "start_time": "2023-07-06T17:30:38.743018Z"
    }
   },
   "outputs": [],
   "source": [
    "import pandas as pd \n",
    "import numpy as np \n",
    "import matplotlib.pyplot as plt \n",
    "import tensorflow as tf \n",
    "import tensorflow_probability as tfp \n",
    "import seaborn as sns \n",
    "import geopandas \n",
    "import datetime\n",
    "import scipy as sp"
   ]
  },
  {
   "cell_type": "code",
   "execution_count": 2,
   "id": "89723284",
   "metadata": {
    "ExecuteTime": {
     "end_time": "2023-07-06T17:30:49.443984Z",
     "start_time": "2023-07-06T17:30:49.441153Z"
    }
   },
   "outputs": [],
   "source": [
    "sns.set_theme()"
   ]
  },
  {
   "cell_type": "code",
   "execution_count": 3,
   "id": "c360d209",
   "metadata": {
    "ExecuteTime": {
     "end_time": "2023-07-06T17:30:49.448258Z",
     "start_time": "2023-07-06T17:30:49.446050Z"
    }
   },
   "outputs": [],
   "source": [
    "plt.rcParams[\"figure.figsize\"] = (15, 10)"
   ]
  },
  {
   "cell_type": "code",
   "execution_count": 4,
   "id": "d3cf8a07",
   "metadata": {
    "ExecuteTime": {
     "end_time": "2023-07-06T17:30:59.272186Z",
     "start_time": "2023-07-06T17:30:49.451053Z"
    }
   },
   "outputs": [],
   "source": [
    "hpai_main = pd.read_csv('data_files/combinedDataset20221130 _1_.csv')\n",
    "hpai_wild = pd.read_csv('data_files/wildBirdData20221130 _1_.csv')\n",
    "hpai_poultry = pd.read_excel('data_files/GBPR Poultry Premises Extract 01Dec22 _1_.xlsx')"
   ]
  },
  {
   "cell_type": "markdown",
   "id": "4e368d43",
   "metadata": {},
   "source": [
    "## Preview the data"
   ]
  },
  {
   "cell_type": "code",
   "execution_count": 5,
   "id": "d7d16c73",
   "metadata": {
    "ExecuteTime": {
     "end_time": "2023-07-06T17:30:59.334445Z",
     "start_time": "2023-07-06T17:30:59.274831Z"
    }
   },
   "outputs": [
    {
     "data": {
      "text/html": [
       "<div>\n",
       "<style scoped>\n",
       "    .dataframe tbody tr th:only-of-type {\n",
       "        vertical-align: middle;\n",
       "    }\n",
       "\n",
       "    .dataframe tbody tr th {\n",
       "        vertical-align: top;\n",
       "    }\n",
       "\n",
       "    .dataframe thead th {\n",
       "        text-align: right;\n",
       "    }\n",
       "</style>\n",
       "<table border=\"1\" class=\"dataframe\">\n",
       "  <thead>\n",
       "    <tr style=\"text-align: right;\">\n",
       "      <th></th>\n",
       "      <th>dprNumber</th>\n",
       "      <th>aivNumber</th>\n",
       "      <th>reportDate</th>\n",
       "      <th>Status</th>\n",
       "      <th>NDI1Type</th>\n",
       "      <th>Resolution</th>\n",
       "      <th>Stock Details</th>\n",
       "      <th>CPH</th>\n",
       "      <th>Country</th>\n",
       "      <th>dprID</th>\n",
       "      <th>...</th>\n",
       "      <th>PZ/SZ presence</th>\n",
       "      <th>Lat</th>\n",
       "      <th>Long</th>\n",
       "      <th>Genomics</th>\n",
       "      <th>cullStart</th>\n",
       "      <th>cullEnd</th>\n",
       "      <th>dispComplete</th>\n",
       "      <th>cdEffective</th>\n",
       "      <th>County</th>\n",
       "      <th>premisesType</th>\n",
       "    </tr>\n",
       "  </thead>\n",
       "  <tbody>\n",
       "    <tr>\n",
       "      <th>0</th>\n",
       "      <td>DPR 2022/389</td>\n",
       "      <td>NaN</td>\n",
       "      <td>28/11/2022</td>\n",
       "      <td>Pending</td>\n",
       "      <td>Report case- Clinical</td>\n",
       "      <td>NaN</td>\n",
       "      <td>80,000</td>\n",
       "      <td>38/270/6002</td>\n",
       "      <td>England</td>\n",
       "      <td>2022 389</td>\n",
       "      <td>...</td>\n",
       "      <td>NaN</td>\n",
       "      <td>NaN</td>\n",
       "      <td>NaN</td>\n",
       "      <td>NaN</td>\n",
       "      <td>NaN</td>\n",
       "      <td>NaN</td>\n",
       "      <td>NaN</td>\n",
       "      <td>NaN</td>\n",
       "      <td>Suffolk</td>\n",
       "      <td>Ducks</td>\n",
       "    </tr>\n",
       "    <tr>\n",
       "      <th>1</th>\n",
       "      <td>DPR 2022/388</td>\n",
       "      <td>NaN</td>\n",
       "      <td>28/11/2022</td>\n",
       "      <td>Pending</td>\n",
       "      <td>Report case- Clinical</td>\n",
       "      <td>NaN</td>\n",
       "      <td>3342</td>\n",
       "      <td>06/369/0014</td>\n",
       "      <td>England</td>\n",
       "      <td>2022 388</td>\n",
       "      <td>...</td>\n",
       "      <td>NaN</td>\n",
       "      <td>NaN</td>\n",
       "      <td>NaN</td>\n",
       "      <td>NaN</td>\n",
       "      <td>NaN</td>\n",
       "      <td>NaN</td>\n",
       "      <td>NaN</td>\n",
       "      <td>NaN</td>\n",
       "      <td>Cheshire West and Chester</td>\n",
       "      <td>Turkeys</td>\n",
       "    </tr>\n",
       "    <tr>\n",
       "      <th>2</th>\n",
       "      <td>DPR 2022/387</td>\n",
       "      <td>NaN</td>\n",
       "      <td>26/11/2022</td>\n",
       "      <td>Pending</td>\n",
       "      <td>Samples taken for laboratory testing</td>\n",
       "      <td>NaN</td>\n",
       "      <td>Approx 400 chickens, 78\\r\\r\\ngeese, 18 turkeys...</td>\n",
       "      <td>28/461/0002</td>\n",
       "      <td>England</td>\n",
       "      <td>2022 387</td>\n",
       "      <td>...</td>\n",
       "      <td>NaN</td>\n",
       "      <td>NaN</td>\n",
       "      <td>NaN</td>\n",
       "      <td>NaN</td>\n",
       "      <td>30/11/2022</td>\n",
       "      <td>30/11/2022</td>\n",
       "      <td>NaN</td>\n",
       "      <td>01/12/2022</td>\n",
       "      <td>Norfolk</td>\n",
       "      <td>Chickens</td>\n",
       "    </tr>\n",
       "    <tr>\n",
       "      <th>3</th>\n",
       "      <td>DPR 2022/386</td>\n",
       "      <td>AIV 2022/218</td>\n",
       "      <td>26/11/2022</td>\n",
       "      <td>Confirmed</td>\n",
       "      <td>Interim Results - POSITIVE</td>\n",
       "      <td>Confirmed on Lab</td>\n",
       "      <td>32000</td>\n",
       "      <td>70/224/0125</td>\n",
       "      <td>Scotland</td>\n",
       "      <td>2022 386</td>\n",
       "      <td>...</td>\n",
       "      <td>NaN</td>\n",
       "      <td>57.568064</td>\n",
       "      <td>-2.493343</td>\n",
       "      <td>NaN</td>\n",
       "      <td>29/11/2022</td>\n",
       "      <td>NaN</td>\n",
       "      <td>NaN</td>\n",
       "      <td>NaN</td>\n",
       "      <td>Aberdeenshire</td>\n",
       "      <td>Chickens</td>\n",
       "    </tr>\n",
       "    <tr>\n",
       "      <th>4</th>\n",
       "      <td>DPR 2022/385</td>\n",
       "      <td>NaN</td>\n",
       "      <td>25/11/2022</td>\n",
       "      <td>Not Confirmed</td>\n",
       "      <td>Final Report</td>\n",
       "      <td>Negated on Clinical</td>\n",
       "      <td>4</td>\n",
       "      <td>NaN</td>\n",
       "      <td>Wales</td>\n",
       "      <td>2022 385</td>\n",
       "      <td>...</td>\n",
       "      <td>NaN</td>\n",
       "      <td>NaN</td>\n",
       "      <td>NaN</td>\n",
       "      <td>NaN</td>\n",
       "      <td>NaN</td>\n",
       "      <td>NaN</td>\n",
       "      <td>NaN</td>\n",
       "      <td>NaN</td>\n",
       "      <td>Caerphilly</td>\n",
       "      <td>Chickens</td>\n",
       "    </tr>\n",
       "  </tbody>\n",
       "</table>\n",
       "<p>5 rows × 32 columns</p>\n",
       "</div>"
      ],
      "text/plain": [
       "      dprNumber     aivNumber  reportDate         Status  \\\n",
       "0  DPR 2022/389           NaN  28/11/2022        Pending   \n",
       "1  DPR 2022/388           NaN  28/11/2022        Pending   \n",
       "2  DPR 2022/387           NaN  26/11/2022        Pending   \n",
       "3  DPR 2022/386  AIV 2022/218  26/11/2022      Confirmed   \n",
       "4  DPR 2022/385           NaN  25/11/2022  Not Confirmed   \n",
       "\n",
       "                               NDI1Type           Resolution  \\\n",
       "0                 Report case- Clinical                  NaN   \n",
       "1                 Report case- Clinical                  NaN   \n",
       "2  Samples taken for laboratory testing                  NaN   \n",
       "3            Interim Results - POSITIVE     Confirmed on Lab   \n",
       "4                          Final Report  Negated on Clinical   \n",
       "\n",
       "                                       Stock Details          CPH   Country  \\\n",
       "0                                             80,000  38/270/6002   England   \n",
       "1                                               3342  06/369/0014   England   \n",
       "2  Approx 400 chickens, 78\\r\\r\\ngeese, 18 turkeys...  28/461/0002   England   \n",
       "3                                              32000  70/224/0125  Scotland   \n",
       "4                                                  4          NaN     Wales   \n",
       "\n",
       "      dprID  ... PZ/SZ presence        Lat      Long Genomics   cullStart  \\\n",
       "0  2022 389  ...            NaN        NaN       NaN      NaN         NaN   \n",
       "1  2022 388  ...            NaN        NaN       NaN      NaN         NaN   \n",
       "2  2022 387  ...            NaN        NaN       NaN      NaN  30/11/2022   \n",
       "3  2022 386  ...            NaN  57.568064 -2.493343      NaN  29/11/2022   \n",
       "4  2022 385  ...            NaN        NaN       NaN      NaN         NaN   \n",
       "\n",
       "      cullEnd dispComplete cdEffective                     County premisesType  \n",
       "0         NaN          NaN         NaN                    Suffolk        Ducks  \n",
       "1         NaN          NaN         NaN  Cheshire West and Chester      Turkeys  \n",
       "2  30/11/2022          NaN  01/12/2022                    Norfolk     Chickens  \n",
       "3         NaN          NaN         NaN              Aberdeenshire     Chickens  \n",
       "4         NaN          NaN         NaN                 Caerphilly     Chickens  \n",
       "\n",
       "[5 rows x 32 columns]"
      ]
     },
     "execution_count": 5,
     "metadata": {},
     "output_type": "execute_result"
    }
   ],
   "source": [
    "hpai_main.head(5)"
   ]
  },
  {
   "cell_type": "code",
   "execution_count": 6,
   "id": "27460ab3",
   "metadata": {
    "ExecuteTime": {
     "end_time": "2023-07-06T17:30:59.372839Z",
     "start_time": "2023-07-06T17:30:59.337638Z"
    }
   },
   "outputs": [
    {
     "name": "stdout",
     "output_type": "stream",
     "text": [
      "<class 'pandas.core.frame.DataFrame'>\n",
      "RangeIndex: 540 entries, 0 to 539\n",
      "Data columns (total 32 columns):\n",
      " #   Column          Non-Null Count  Dtype  \n",
      "---  ------          --------------  -----  \n",
      " 0   dprNumber       504 non-null    object \n",
      " 1   aivNumber       324 non-null    object \n",
      " 2   reportDate      540 non-null    object \n",
      " 3   Status          504 non-null    object \n",
      " 4   NDI1Type        504 non-null    object \n",
      " 5   Resolution      495 non-null    object \n",
      " 6   Stock Details   499 non-null    object \n",
      " 7   CPH             369 non-null    object \n",
      " 8   Country         503 non-null    object \n",
      " 9   dprID           504 non-null    object \n",
      " 10  aivID           324 non-null    object \n",
      " 11  ipNumber        134 non-null    float64\n",
      " 12  region          191 non-null    object \n",
      " 13  approxNumBirds  190 non-null    object \n",
      " 14  Year            324 non-null    float64\n",
      " 15  Season          324 non-null    float64\n",
      " 16  Subtype         249 non-null    object \n",
      " 17  infDate         320 non-null    object \n",
      " 18  confDate        324 non-null    object \n",
      " 19  speciesPresent  323 non-null    object \n",
      " 20  businessType    324 non-null    object \n",
      " 21  Sector          255 non-null    object \n",
      " 22  PZ/SZ presence  0 non-null      float64\n",
      " 23  Lat             324 non-null    float64\n",
      " 24  Long            324 non-null    float64\n",
      " 25  Genomics        235 non-null    object \n",
      " 26  cullStart       181 non-null    object \n",
      " 27  cullEnd         110 non-null    object \n",
      " 28  dispComplete    45 non-null     object \n",
      " 29  cdEffective     74 non-null     object \n",
      " 30  County          540 non-null    object \n",
      " 31  premisesType    525 non-null    object \n",
      "dtypes: float64(6), object(26)\n",
      "memory usage: 135.1+ KB\n"
     ]
    }
   ],
   "source": [
    "hpai_main.info()"
   ]
  },
  {
   "cell_type": "markdown",
   "id": "7efee44d",
   "metadata": {},
   "source": [
    "Comments: \n",
    "- unique ID for each farm\n",
    "- dates (resolution is daily) \n",
    "    - format is DD/MM/YYYY\n",
    "    - reported date for initial infection? \n",
    "    - culling dates for end of infectious period (can be longer than 1 day - should factor into the model, decay term? ) \n",
    "    - clarify: infDate, confDate, reportDate\n",
    "- herd details (types of birds present - cat var in model to tell difference in susceptibility) \n",
    "- herd size\n",
    "- spatial component (have geolocation and regional area - can impute from geolocation if need be)"
   ]
  },
  {
   "cell_type": "code",
   "execution_count": 7,
   "id": "d581b23d",
   "metadata": {
    "ExecuteTime": {
     "end_time": "2023-07-06T17:30:59.388147Z",
     "start_time": "2023-07-06T17:30:59.374922Z"
    }
   },
   "outputs": [
    {
     "data": {
      "text/html": [
       "<div>\n",
       "<style scoped>\n",
       "    .dataframe tbody tr th:only-of-type {\n",
       "        vertical-align: middle;\n",
       "    }\n",
       "\n",
       "    .dataframe tbody tr th {\n",
       "        vertical-align: top;\n",
       "    }\n",
       "\n",
       "    .dataframe thead th {\n",
       "        text-align: right;\n",
       "    }\n",
       "</style>\n",
       "<table border=\"1\" class=\"dataframe\">\n",
       "  <thead>\n",
       "    <tr style=\"text-align: right;\">\n",
       "      <th></th>\n",
       "      <th>Location Id</th>\n",
       "      <th>AHO</th>\n",
       "      <th>Created Datetime</th>\n",
       "      <th>Updated Datetime</th>\n",
       "      <th>Easting</th>\n",
       "      <th>Northing</th>\n",
       "      <th>OS Map Reference</th>\n",
       "    </tr>\n",
       "  </thead>\n",
       "  <tbody>\n",
       "    <tr>\n",
       "      <th>0</th>\n",
       "      <td>L1000007</td>\n",
       "      <td>APHA Leicester</td>\n",
       "      <td>2008-07-15</td>\n",
       "      <td>2013-08-22 09:58:00</td>\n",
       "      <td>458300.0</td>\n",
       "      <td>263000.0</td>\n",
       "      <td>SP5830063000</td>\n",
       "    </tr>\n",
       "    <tr>\n",
       "      <th>1</th>\n",
       "      <td>L1000018</td>\n",
       "      <td>APHA Worcester</td>\n",
       "      <td>2008-07-18</td>\n",
       "      <td>2019-01-24 01:16:00</td>\n",
       "      <td>427801.0</td>\n",
       "      <td>282900.0</td>\n",
       "      <td>SP2780182900</td>\n",
       "    </tr>\n",
       "    <tr>\n",
       "      <th>2</th>\n",
       "      <td>L1000019</td>\n",
       "      <td>APHA Leicester</td>\n",
       "      <td>2008-07-18</td>\n",
       "      <td>2019-01-02 02:40:00</td>\n",
       "      <td>487900.0</td>\n",
       "      <td>269200.0</td>\n",
       "      <td>SP8790069200</td>\n",
       "    </tr>\n",
       "    <tr>\n",
       "      <th>3</th>\n",
       "      <td>L1000036</td>\n",
       "      <td>APHA Worcester</td>\n",
       "      <td>2008-07-24</td>\n",
       "      <td>2011-05-20 03:23:00</td>\n",
       "      <td>423200.0</td>\n",
       "      <td>292900.0</td>\n",
       "      <td>SP2320092900</td>\n",
       "    </tr>\n",
       "    <tr>\n",
       "      <th>4</th>\n",
       "      <td>L1000080</td>\n",
       "      <td>APHA Worcester</td>\n",
       "      <td>2008-08-06</td>\n",
       "      <td>2019-01-25 04:12:00</td>\n",
       "      <td>407851.0</td>\n",
       "      <td>301448.0</td>\n",
       "      <td>SK0785101448</td>\n",
       "    </tr>\n",
       "  </tbody>\n",
       "</table>\n",
       "</div>"
      ],
      "text/plain": [
       "  Location Id             AHO Created Datetime    Updated Datetime   Easting  \\\n",
       "0    L1000007  APHA Leicester       2008-07-15 2013-08-22 09:58:00  458300.0   \n",
       "1    L1000018  APHA Worcester       2008-07-18 2019-01-24 01:16:00  427801.0   \n",
       "2    L1000019  APHA Leicester       2008-07-18 2019-01-02 02:40:00  487900.0   \n",
       "3    L1000036  APHA Worcester       2008-07-24 2011-05-20 03:23:00  423200.0   \n",
       "4    L1000080  APHA Worcester       2008-08-06 2019-01-25 04:12:00  407851.0   \n",
       "\n",
       "   Northing OS Map Reference  \n",
       "0  263000.0     SP5830063000  \n",
       "1  282900.0     SP2780182900  \n",
       "2  269200.0     SP8790069200  \n",
       "3  292900.0     SP2320092900  \n",
       "4  301448.0     SK0785101448  "
      ]
     },
     "execution_count": 7,
     "metadata": {},
     "output_type": "execute_result"
    }
   ],
   "source": [
    "hpai_poultry.head()"
   ]
  },
  {
   "cell_type": "code",
   "execution_count": 8,
   "id": "7d157ec1",
   "metadata": {
    "ExecuteTime": {
     "end_time": "2023-07-06T17:30:59.422078Z",
     "start_time": "2023-07-06T17:30:59.389983Z"
    }
   },
   "outputs": [
    {
     "name": "stdout",
     "output_type": "stream",
     "text": [
      "<class 'pandas.core.frame.DataFrame'>\n",
      "RangeIndex: 58119 entries, 0 to 58118\n",
      "Data columns (total 7 columns):\n",
      " #   Column            Non-Null Count  Dtype         \n",
      "---  ------            --------------  -----         \n",
      " 0   Location Id       58119 non-null  object        \n",
      " 1   AHO               57743 non-null  object        \n",
      " 2   Created Datetime  58119 non-null  datetime64[ns]\n",
      " 3   Updated Datetime  58119 non-null  datetime64[ns]\n",
      " 4   Easting           58118 non-null  float64       \n",
      " 5   Northing          58118 non-null  float64       \n",
      " 6   OS Map Reference  58118 non-null  object        \n",
      "dtypes: datetime64[ns](2), float64(2), object(3)\n",
      "memory usage: 3.1+ MB\n"
     ]
    }
   ],
   "source": [
    "hpai_poultry.info()"
   ]
  },
  {
   "cell_type": "markdown",
   "id": "9b305aea",
   "metadata": {},
   "source": [
    "Comments: \n",
    "\n",
    "- spatial data for farms \n",
    "- long/lat coordinates for mapping"
   ]
  },
  {
   "cell_type": "code",
   "execution_count": 9,
   "id": "53e44545",
   "metadata": {
    "ExecuteTime": {
     "end_time": "2023-07-06T17:30:59.441561Z",
     "start_time": "2023-07-06T17:30:59.424377Z"
    }
   },
   "outputs": [
    {
     "data": {
      "text/html": [
       "<div>\n",
       "<style scoped>\n",
       "    .dataframe tbody tr th:only-of-type {\n",
       "        vertical-align: middle;\n",
       "    }\n",
       "\n",
       "    .dataframe tbody tr th {\n",
       "        vertical-align: top;\n",
       "    }\n",
       "\n",
       "    .dataframe thead th {\n",
       "        text-align: right;\n",
       "    }\n",
       "</style>\n",
       "<table border=\"1\" class=\"dataframe\">\n",
       "  <thead>\n",
       "    <tr style=\"text-align: right;\">\n",
       "      <th></th>\n",
       "      <th>Bird ID</th>\n",
       "      <th>Lab ID</th>\n",
       "      <th>Species Name</th>\n",
       "      <th>Final Result</th>\n",
       "      <th>Virus Isolated</th>\n",
       "      <th>Date Received</th>\n",
       "      <th>COUNTY</th>\n",
       "      <th>COUNTRY</th>\n",
       "      <th>speciesName</th>\n",
       "      <th>birdFamily</th>\n",
       "      <th>...</th>\n",
       "      <th>Date PHE informed</th>\n",
       "      <th>High Path</th>\n",
       "      <th>Postcode</th>\n",
       "      <th>Comment</th>\n",
       "      <th>date</th>\n",
       "      <th>easting</th>\n",
       "      <th>northing</th>\n",
       "      <th>latitude</th>\n",
       "      <th>longitude</th>\n",
       "      <th>osGridRef</th>\n",
       "    </tr>\n",
       "  </thead>\n",
       "  <tbody>\n",
       "    <tr>\n",
       "      <th>0</th>\n",
       "      <td>AVA-21-050799</td>\n",
       "      <td>AV001973-21</td>\n",
       "      <td>TUFTED_DUCK</td>\n",
       "      <td>Negative</td>\n",
       "      <td>NaN</td>\n",
       "      <td>2021-10-05T00:00:00Z</td>\n",
       "      <td>GREATER LONDON</td>\n",
       "      <td>ENGLAND</td>\n",
       "      <td>TUFTED_DUCK</td>\n",
       "      <td>ducks/geese/swans</td>\n",
       "      <td>...</td>\n",
       "      <td>NaN</td>\n",
       "      <td>NaN</td>\n",
       "      <td>NaN</td>\n",
       "      <td>NaN</td>\n",
       "      <td>NaN</td>\n",
       "      <td>NaN</td>\n",
       "      <td>NaN</td>\n",
       "      <td>NaN</td>\n",
       "      <td>NaN</td>\n",
       "      <td>NaN</td>\n",
       "    </tr>\n",
       "    <tr>\n",
       "      <th>1</th>\n",
       "      <td>AVA-21-050998</td>\n",
       "      <td>AV001979-21</td>\n",
       "      <td>BLACK-HEADED_GULL</td>\n",
       "      <td>Negative</td>\n",
       "      <td>NaN</td>\n",
       "      <td>2021-10-06T00:00:00Z</td>\n",
       "      <td>TYNE &amp; WEAR</td>\n",
       "      <td>ENGLAND</td>\n",
       "      <td>BLACK-HEADED_GULL</td>\n",
       "      <td>gulls/terns</td>\n",
       "      <td>...</td>\n",
       "      <td>NaN</td>\n",
       "      <td>NaN</td>\n",
       "      <td>NaN</td>\n",
       "      <td>NaN</td>\n",
       "      <td>NaN</td>\n",
       "      <td>NaN</td>\n",
       "      <td>NaN</td>\n",
       "      <td>NaN</td>\n",
       "      <td>NaN</td>\n",
       "      <td>NaN</td>\n",
       "    </tr>\n",
       "    <tr>\n",
       "      <th>2</th>\n",
       "      <td>AVA-21-051051</td>\n",
       "      <td>AV001985-21</td>\n",
       "      <td>UNSPECIFIED_BIRD</td>\n",
       "      <td>Negative</td>\n",
       "      <td>NaN</td>\n",
       "      <td>2021-10-07T00:00:00Z</td>\n",
       "      <td>ABERDEENSHIRE</td>\n",
       "      <td>SCOTLAND</td>\n",
       "      <td>UNSPECIFIED_BIRD</td>\n",
       "      <td>unspecified</td>\n",
       "      <td>...</td>\n",
       "      <td>NaN</td>\n",
       "      <td>NaN</td>\n",
       "      <td>NaN</td>\n",
       "      <td>NaN</td>\n",
       "      <td>NaN</td>\n",
       "      <td>NaN</td>\n",
       "      <td>NaN</td>\n",
       "      <td>NaN</td>\n",
       "      <td>NaN</td>\n",
       "      <td>NaN</td>\n",
       "    </tr>\n",
       "    <tr>\n",
       "      <th>3</th>\n",
       "      <td>AVA-21-051052</td>\n",
       "      <td>AV001985-21</td>\n",
       "      <td>UNSPECIFIED_BIRD</td>\n",
       "      <td>Negative</td>\n",
       "      <td>NaN</td>\n",
       "      <td>2021-10-07T00:00:00Z</td>\n",
       "      <td>ABERDEENSHIRE</td>\n",
       "      <td>SCOTLAND</td>\n",
       "      <td>UNSPECIFIED_BIRD</td>\n",
       "      <td>unspecified</td>\n",
       "      <td>...</td>\n",
       "      <td>NaN</td>\n",
       "      <td>NaN</td>\n",
       "      <td>NaN</td>\n",
       "      <td>NaN</td>\n",
       "      <td>NaN</td>\n",
       "      <td>NaN</td>\n",
       "      <td>NaN</td>\n",
       "      <td>NaN</td>\n",
       "      <td>NaN</td>\n",
       "      <td>NaN</td>\n",
       "    </tr>\n",
       "    <tr>\n",
       "      <th>4</th>\n",
       "      <td>AVA-21-051053</td>\n",
       "      <td>AV001985-21</td>\n",
       "      <td>UNSPECIFIED_BIRD</td>\n",
       "      <td>Negative</td>\n",
       "      <td>NaN</td>\n",
       "      <td>2021-10-07T00:00:00Z</td>\n",
       "      <td>ABERDEENSHIRE</td>\n",
       "      <td>SCOTLAND</td>\n",
       "      <td>UNSPECIFIED_BIRD</td>\n",
       "      <td>unspecified</td>\n",
       "      <td>...</td>\n",
       "      <td>NaN</td>\n",
       "      <td>NaN</td>\n",
       "      <td>NaN</td>\n",
       "      <td>NaN</td>\n",
       "      <td>NaN</td>\n",
       "      <td>NaN</td>\n",
       "      <td>NaN</td>\n",
       "      <td>NaN</td>\n",
       "      <td>NaN</td>\n",
       "      <td>NaN</td>\n",
       "    </tr>\n",
       "  </tbody>\n",
       "</table>\n",
       "<p>5 rows × 33 columns</p>\n",
       "</div>"
      ],
      "text/plain": [
       "         Bird ID       Lab ID       Species Name Final Result Virus Isolated  \\\n",
       "0  AVA-21-050799  AV001973-21        TUFTED_DUCK     Negative            NaN   \n",
       "1  AVA-21-050998  AV001979-21  BLACK-HEADED_GULL     Negative            NaN   \n",
       "2  AVA-21-051051  AV001985-21   UNSPECIFIED_BIRD     Negative            NaN   \n",
       "3  AVA-21-051052  AV001985-21   UNSPECIFIED_BIRD     Negative            NaN   \n",
       "4  AVA-21-051053  AV001985-21   UNSPECIFIED_BIRD     Negative            NaN   \n",
       "\n",
       "          Date Received          COUNTY   COUNTRY        speciesName  \\\n",
       "0  2021-10-05T00:00:00Z  GREATER LONDON   ENGLAND        TUFTED_DUCK   \n",
       "1  2021-10-06T00:00:00Z     TYNE & WEAR   ENGLAND  BLACK-HEADED_GULL   \n",
       "2  2021-10-07T00:00:00Z   ABERDEENSHIRE  SCOTLAND   UNSPECIFIED_BIRD   \n",
       "3  2021-10-07T00:00:00Z   ABERDEENSHIRE  SCOTLAND   UNSPECIFIED_BIRD   \n",
       "4  2021-10-07T00:00:00Z   ABERDEENSHIRE  SCOTLAND   UNSPECIFIED_BIRD   \n",
       "\n",
       "          birdFamily  ... Date PHE informed High Path  Postcode  Comment date  \\\n",
       "0  ducks/geese/swans  ...               NaN       NaN       NaN      NaN  NaN   \n",
       "1        gulls/terns  ...               NaN       NaN       NaN      NaN  NaN   \n",
       "2        unspecified  ...               NaN       NaN       NaN      NaN  NaN   \n",
       "3        unspecified  ...               NaN       NaN       NaN      NaN  NaN   \n",
       "4        unspecified  ...               NaN       NaN       NaN      NaN  NaN   \n",
       "\n",
       "  easting northing latitude longitude osGridRef  \n",
       "0     NaN      NaN      NaN       NaN       NaN  \n",
       "1     NaN      NaN      NaN       NaN       NaN  \n",
       "2     NaN      NaN      NaN       NaN       NaN  \n",
       "3     NaN      NaN      NaN       NaN       NaN  \n",
       "4     NaN      NaN      NaN       NaN       NaN  \n",
       "\n",
       "[5 rows x 33 columns]"
      ]
     },
     "execution_count": 9,
     "metadata": {},
     "output_type": "execute_result"
    }
   ],
   "source": [
    "hpai_wild.head()"
   ]
  },
  {
   "cell_type": "code",
   "execution_count": 10,
   "id": "821f47d7",
   "metadata": {
    "ExecuteTime": {
     "end_time": "2023-07-06T17:30:59.478867Z",
     "start_time": "2023-07-06T17:30:59.448203Z"
    }
   },
   "outputs": [
    {
     "name": "stdout",
     "output_type": "stream",
     "text": [
      "<class 'pandas.core.frame.DataFrame'>\n",
      "RangeIndex: 7356 entries, 0 to 7355\n",
      "Data columns (total 33 columns):\n",
      " #   Column                 Non-Null Count  Dtype  \n",
      "---  ------                 --------------  -----  \n",
      " 0   Bird ID                5273 non-null   object \n",
      " 1   Lab ID                 7247 non-null   object \n",
      " 2   Species Name           5273 non-null   object \n",
      " 3   Final Result           5273 non-null   object \n",
      " 4   Virus Isolated         4650 non-null   object \n",
      " 5   Date Received          5273 non-null   object \n",
      " 6   COUNTY                 4306 non-null   object \n",
      " 7   COUNTRY                4306 non-null   object \n",
      " 8   speciesName            7356 non-null   object \n",
      " 9   birdFamily             7341 non-null   object \n",
      " 10  Order                  7341 non-null   object \n",
      " 11  originalReportedOSRef  4941 non-null   object \n",
      " 12  originalOSEasting      4718 non-null   float64\n",
      " 13  originalOSNorthing     4719 non-null   float64\n",
      " 14  Case Ref Number        2934 non-null   object \n",
      " 15  Index Bird             2934 non-null   object \n",
      " 16  Case Ref Name          2934 non-null   object \n",
      " 17  Town                   2934 non-null   object \n",
      " 18  District               2930 non-null   object \n",
      " 19  County                 2934 non-null   object \n",
      " 20  Country                2934 non-null   object \n",
      " 21  Species                2934 non-null   object \n",
      " 22  Test date              2934 non-null   object \n",
      " 23  Date PHE informed      13 non-null     object \n",
      " 24  High Path              2770 non-null   object \n",
      " 25  Postcode               2919 non-null   object \n",
      " 26  Comment                6 non-null      object \n",
      " 27  date                   2899 non-null   object \n",
      " 28  easting                2927 non-null   float64\n",
      " 29  northing               2927 non-null   float64\n",
      " 30  latitude               2927 non-null   float64\n",
      " 31  longitude              2927 non-null   float64\n",
      " 32  osGridRef              2928 non-null   object \n",
      "dtypes: float64(6), object(27)\n",
      "memory usage: 1.9+ MB\n"
     ]
    }
   ],
   "source": [
    "hpai_wild.info()"
   ]
  },
  {
   "cell_type": "code",
   "execution_count": 11,
   "id": "9e0ddd5c",
   "metadata": {
    "ExecuteTime": {
     "end_time": "2023-07-06T17:30:59.492957Z",
     "start_time": "2023-07-06T17:30:59.481637Z"
    }
   },
   "outputs": [
    {
     "data": {
      "text/html": [
       "<div>\n",
       "<style scoped>\n",
       "    .dataframe tbody tr th:only-of-type {\n",
       "        vertical-align: middle;\n",
       "    }\n",
       "\n",
       "    .dataframe tbody tr th {\n",
       "        vertical-align: top;\n",
       "    }\n",
       "\n",
       "    .dataframe thead th {\n",
       "        text-align: right;\n",
       "    }\n",
       "</style>\n",
       "<table border=\"1\" class=\"dataframe\">\n",
       "  <thead>\n",
       "    <tr style=\"text-align: right;\">\n",
       "      <th></th>\n",
       "      <th>Date Received</th>\n",
       "    </tr>\n",
       "  </thead>\n",
       "  <tbody>\n",
       "    <tr>\n",
       "      <th>0</th>\n",
       "      <td>2021-10-05T00:00:00Z</td>\n",
       "    </tr>\n",
       "    <tr>\n",
       "      <th>1</th>\n",
       "      <td>2021-10-06T00:00:00Z</td>\n",
       "    </tr>\n",
       "    <tr>\n",
       "      <th>2</th>\n",
       "      <td>2021-10-07T00:00:00Z</td>\n",
       "    </tr>\n",
       "    <tr>\n",
       "      <th>3</th>\n",
       "      <td>2021-10-07T00:00:00Z</td>\n",
       "    </tr>\n",
       "    <tr>\n",
       "      <th>4</th>\n",
       "      <td>2021-10-07T00:00:00Z</td>\n",
       "    </tr>\n",
       "    <tr>\n",
       "      <th>...</th>\n",
       "      <td>...</td>\n",
       "    </tr>\n",
       "    <tr>\n",
       "      <th>5268</th>\n",
       "      <td>2022-11-28T00:00:00Z</td>\n",
       "    </tr>\n",
       "    <tr>\n",
       "      <th>5269</th>\n",
       "      <td>2022-11-28T00:00:00Z</td>\n",
       "    </tr>\n",
       "    <tr>\n",
       "      <th>5270</th>\n",
       "      <td>2022-11-28T00:00:00Z</td>\n",
       "    </tr>\n",
       "    <tr>\n",
       "      <th>5271</th>\n",
       "      <td>2022-11-25T00:00:00Z</td>\n",
       "    </tr>\n",
       "    <tr>\n",
       "      <th>5272</th>\n",
       "      <td>2022-11-25T00:00:00Z</td>\n",
       "    </tr>\n",
       "  </tbody>\n",
       "</table>\n",
       "<p>5273 rows × 1 columns</p>\n",
       "</div>"
      ],
      "text/plain": [
       "             Date Received\n",
       "0     2021-10-05T00:00:00Z\n",
       "1     2021-10-06T00:00:00Z\n",
       "2     2021-10-07T00:00:00Z\n",
       "3     2021-10-07T00:00:00Z\n",
       "4     2021-10-07T00:00:00Z\n",
       "...                    ...\n",
       "5268  2022-11-28T00:00:00Z\n",
       "5269  2022-11-28T00:00:00Z\n",
       "5270  2022-11-28T00:00:00Z\n",
       "5271  2022-11-25T00:00:00Z\n",
       "5272  2022-11-25T00:00:00Z\n",
       "\n",
       "[5273 rows x 1 columns]"
      ]
     },
     "execution_count": 11,
     "metadata": {},
     "output_type": "execute_result"
    }
   ],
   "source": [
    "hpai_wild[['Date Received']].dropna()"
   ]
  },
  {
   "cell_type": "markdown",
   "id": "31d678c1",
   "metadata": {},
   "source": [
    "Comments: \n",
    "\n",
    "- dead wild bird reports w/ accompanying HPAI test result \n",
    "- long/lat location of carcass \n",
    "- species of wild bird (are some species more likely to be the cause?)"
   ]
  },
  {
   "cell_type": "markdown",
   "id": "43c78105",
   "metadata": {},
   "source": [
    "# EDA and Data Cleaning"
   ]
  },
  {
   "cell_type": "markdown",
   "id": "a156000a",
   "metadata": {},
   "source": [
    "## Time filtering"
   ]
  },
  {
   "cell_type": "code",
   "execution_count": 12,
   "id": "93af672b",
   "metadata": {
    "ExecuteTime": {
     "end_time": "2023-07-06T17:30:59.809575Z",
     "start_time": "2023-07-06T17:30:59.494825Z"
    }
   },
   "outputs": [
    {
     "data": {
      "text/html": [
       "<div>\n",
       "<style scoped>\n",
       "    .dataframe tbody tr th:only-of-type {\n",
       "        vertical-align: middle;\n",
       "    }\n",
       "\n",
       "    .dataframe tbody tr th {\n",
       "        vertical-align: top;\n",
       "    }\n",
       "\n",
       "    .dataframe thead th {\n",
       "        text-align: right;\n",
       "    }\n",
       "</style>\n",
       "<table border=\"1\" class=\"dataframe\">\n",
       "  <thead>\n",
       "    <tr style=\"text-align: right;\">\n",
       "      <th></th>\n",
       "      <th>reportDate</th>\n",
       "      <th>infDate</th>\n",
       "      <th>confDate</th>\n",
       "      <th>cullStart</th>\n",
       "      <th>cullEnd</th>\n",
       "    </tr>\n",
       "  </thead>\n",
       "  <tbody>\n",
       "    <tr>\n",
       "      <th>535</th>\n",
       "      <td>2021-01-26</td>\n",
       "      <td>2021-01-18</td>\n",
       "      <td>2021-01-27</td>\n",
       "      <td>NaT</td>\n",
       "      <td>NaT</td>\n",
       "    </tr>\n",
       "    <tr>\n",
       "      <th>536</th>\n",
       "      <td>2021-02-05</td>\n",
       "      <td>2021-01-30</td>\n",
       "      <td>2021-02-06</td>\n",
       "      <td>NaT</td>\n",
       "      <td>NaT</td>\n",
       "    </tr>\n",
       "    <tr>\n",
       "      <th>537</th>\n",
       "      <td>2021-02-10</td>\n",
       "      <td>2020-02-03</td>\n",
       "      <td>2021-02-11</td>\n",
       "      <td>NaT</td>\n",
       "      <td>NaT</td>\n",
       "    </tr>\n",
       "    <tr>\n",
       "      <th>538</th>\n",
       "      <td>2021-03-26</td>\n",
       "      <td>2021-03-18</td>\n",
       "      <td>2021-03-27</td>\n",
       "      <td>NaT</td>\n",
       "      <td>NaT</td>\n",
       "    </tr>\n",
       "    <tr>\n",
       "      <th>539</th>\n",
       "      <td>2021-03-30</td>\n",
       "      <td>2021-03-21</td>\n",
       "      <td>2021-04-01</td>\n",
       "      <td>NaT</td>\n",
       "      <td>NaT</td>\n",
       "    </tr>\n",
       "  </tbody>\n",
       "</table>\n",
       "</div>"
      ],
      "text/plain": [
       "    reportDate    infDate   confDate cullStart cullEnd\n",
       "535 2021-01-26 2021-01-18 2021-01-27       NaT     NaT\n",
       "536 2021-02-05 2021-01-30 2021-02-06       NaT     NaT\n",
       "537 2021-02-10 2020-02-03 2021-02-11       NaT     NaT\n",
       "538 2021-03-26 2021-03-18 2021-03-27       NaT     NaT\n",
       "539 2021-03-30 2021-03-21 2021-04-01       NaT     NaT"
      ]
     },
     "execution_count": 12,
     "metadata": {},
     "output_type": "execute_result"
    }
   ],
   "source": [
    "# Time variables for hpai_main:\n",
    "# reportDate\n",
    "# infDate\n",
    "# confDate\n",
    "# cullStart\n",
    "# cullEnd\n",
    "\n",
    "hpai_main_dates = hpai_main[['reportDate', 'infDate',\n",
    "                                                                                      'confDate', 'cullStart', 'cullEnd']].apply(lambda x: pd.to_datetime(x, format='%d/%m/%Y'), axis=1)\n",
    "hpai_main_dates[['reportDate', 'infDate', 'confDate', 'cullStart', 'cullEnd']].tail()"
   ]
  },
  {
   "cell_type": "code",
   "execution_count": 13,
   "id": "35c7ac27",
   "metadata": {
    "ExecuteTime": {
     "end_time": "2023-07-06T17:30:59.840365Z",
     "start_time": "2023-07-06T17:30:59.813587Z"
    }
   },
   "outputs": [],
   "source": [
    "hpai_main_dates[['reportDate', 'infDate', 'confDate', 'cullStart', 'cullEnd']] = hpai_main_dates[['reportDate', 'infDate', 'confDate', 'cullStart', 'cullEnd']].apply(lambda x: pd.to_datetime(x, format='%d/%m/%Y'))"
   ]
  },
  {
   "cell_type": "code",
   "execution_count": 14,
   "id": "29bf80a8",
   "metadata": {
    "ExecuteTime": {
     "end_time": "2023-07-06T17:31:00.496749Z",
     "start_time": "2023-07-06T17:30:59.844696Z"
    }
   },
   "outputs": [
    {
     "data": {
      "text/plain": [
       "<AxesSubplot:xlabel='reportDate', ylabel='Count'>"
      ]
     },
     "execution_count": 14,
     "metadata": {},
     "output_type": "execute_result"
    },
    {
     "data": {
      "image/png": "[encoded data removed]",
      "text/plain": [
       "<Figure size 1500x1000 with 1 Axes>"
      ]
     },
     "metadata": {},
     "output_type": "display_data"
    }
   ],
   "source": [
    "sns.histplot(data = hpai_main_dates, x = 'reportDate')"
   ]
  },
  {
   "cell_type": "code",
   "execution_count": 15,
   "id": "c46a51be",
   "metadata": {
    "ExecuteTime": {
     "end_time": "2023-07-06T17:31:00.507172Z",
     "start_time": "2023-07-06T17:31:00.500185Z"
    }
   },
   "outputs": [],
   "source": [
    "# most cases are in 2020 onwards so we filter out the 2017 wave \n",
    "hpai_main_dates = hpai_main_dates[hpai_main_dates.reportDate >= datetime.datetime(2020,1, 1, 0,0,0)]"
   ]
  },
  {
   "cell_type": "code",
   "execution_count": 16,
   "id": "5ed69c0a",
   "metadata": {
    "ExecuteTime": {
     "end_time": "2023-07-06T17:31:05.780914Z",
     "start_time": "2023-07-06T17:31:00.509773Z"
    }
   },
   "outputs": [],
   "source": [
    "# Time variables for hpai_wild:\n",
    "# Date Received\n",
    "# Test date\n",
    "# Date PHE informed\n",
    "\n",
    "hpai_wild[['Date Received', 'Test date', 'Date PHE informed']] = hpai_wild[['Date Received', 'Test date', 'Date PHE informed']].apply(\n",
    "    lambda x: pd.to_datetime(x, infer_datetime_format=True), axis=1)"
   ]
  },
  {
   "cell_type": "markdown",
   "id": "ae2e6709",
   "metadata": {},
   "source": [
    "## Geopandas attempts"
   ]
  },
  {
   "cell_type": "code",
   "execution_count": 17,
   "id": "74192076",
   "metadata": {
    "ExecuteTime": {
     "end_time": "2023-07-06T17:31:06.359865Z",
     "start_time": "2023-07-06T17:31:05.783112Z"
    }
   },
   "outputs": [
    {
     "data": {
      "text/plain": [
       "<AxesSubplot:xlabel='Long', ylabel='Lat'>"
      ]
     },
     "execution_count": 17,
     "metadata": {},
     "output_type": "execute_result"
    },
    {
     "data": {
      "image/png": "[encoded data removed]",
      "text/plain": [
       "<Figure size 1500x1000 with 1 Axes>"
      ]
     },
     "metadata": {},
     "output_type": "display_data"
    }
   ],
   "source": [
    "sns.scatterplot(data=hpai_main, x = 'Long', y = 'Lat', style = 'region', hue='premisesType')"
   ]
  },
  {
   "cell_type": "code",
   "execution_count": 18,
   "id": "6507e735",
   "metadata": {
    "ExecuteTime": {
     "end_time": "2023-07-06T17:31:06.666387Z",
     "start_time": "2023-07-06T17:31:06.362204Z"
    }
   },
   "outputs": [
    {
     "data": {
      "text/plain": [
       "<AxesSubplot:xlabel='easting', ylabel='northing'>"
      ]
     },
     "execution_count": 18,
     "metadata": {},
     "output_type": "execute_result"
    },
    {
     "data": {
      "image/png": "[encoded data removed]",
      "text/plain": [
       "<Figure size 1500x1000 with 1 Axes>"
      ]
     },
     "metadata": {},
     "output_type": "display_data"
    }
   ],
   "source": [
    "sns.scatterplot(data=hpai_wild, x = 'easting', y = 'northing', hue='Final Result')"
   ]
  },
  {
   "cell_type": "code",
   "execution_count": 19,
   "id": "69fc0d90",
   "metadata": {
    "ExecuteTime": {
     "end_time": "2023-07-06T17:31:06.691115Z",
     "start_time": "2023-07-06T17:31:06.668595Z"
    }
   },
   "outputs": [],
   "source": [
    "geo_hpai_main = geopandas.GeoDataFrame(\n",
    "    hpai_main, geometry=geopandas.points_from_xy(hpai_main.Long, hpai_main.Lat))"
   ]
  },
  {
   "cell_type": "code",
   "execution_count": 20,
   "id": "046826cb",
   "metadata": {
    "ExecuteTime": {
     "end_time": "2023-07-06T17:31:06.895547Z",
     "start_time": "2023-07-06T17:31:06.695066Z"
    }
   },
   "outputs": [],
   "source": [
    "geo_hpai_wild = geopandas.GeoDataFrame(\n",
    "    hpai_wild, geometry=geopandas.points_from_xy(hpai_wild.longitude, hpai_wild.latitude))"
   ]
  },
  {
   "cell_type": "code",
   "execution_count": 21,
   "id": "21a3ff25",
   "metadata": {
    "ExecuteTime": {
     "end_time": "2023-07-06T17:31:08.455147Z",
     "start_time": "2023-07-06T17:31:06.898158Z"
    },
    "scrolled": false
   },
   "outputs": [
    {
     "data": {
      "image/png": "[encoded data removed]",
      "text/plain": [
       "<Figure size 1500x1000 with 1 Axes>"
      ]
     },
     "metadata": {},
     "output_type": "display_data"
    }
   ],
   "source": [
    "world = geopandas.read_file(geopandas.datasets.get_path('naturalearth_lowres'))\n",
    "\n",
    "\n",
    "# restrict to UK.\n",
    "ax = world[world.name == 'United Kingdom'].plot(\n",
    "    color='white', edgecolor='black')\n",
    "\n",
    "# plot our ``GeoDataFrame``.\n",
    "geo_hpai_wild[geo_hpai_wild['Final Result'] == 'Positive'].plot(\n",
    "    ax=ax, color='red', alpha=0.5, label='Wild bird Infected',  marker='x')\n",
    "geo_hpai_wild[geo_hpai_wild['Final Result'] != 'Positive'].plot(\n",
    "    ax=ax, color='green', alpha=0.3, label='Wild bird *Not* Infected',  marker='.')\n",
    "geo_hpai_main.plot(ax=ax, color='blue', marker='s',\n",
    "                   label='Poultry Farms', alpha=0.5)\n",
    "\n",
    "plt.title('Wild bird deaths in relation to Poultry Farms in the UK')\n",
    "plt.xlabel('Longitude')\n",
    "plt.ylabel('Latitude')\n",
    "plt.legend(loc=\"upper left\")\n",
    "plt.show()"
   ]
  },
  {
   "cell_type": "markdown",
   "id": "da346ee6",
   "metadata": {},
   "source": [
    "# Extracting modeling data \n",
    "\n",
    "Proposed model: SEINR "
   ]
  },
  {
   "cell_type": "code",
   "execution_count": 22,
   "id": "857f414b",
   "metadata": {
    "ExecuteTime": {
     "end_time": "2023-07-06T17:31:08.643102Z",
     "start_time": "2023-07-06T17:31:08.457475Z"
    }
   },
   "outputs": [],
   "source": [
    "# spatial data - farm level\n",
    "hpai_poultry[['Location Id', 'Easting', 'Northing']].to_csv('data_files/farm_locations.csv')"
   ]
  },
  {
   "cell_type": "code",
   "execution_count": 23,
   "id": "d37bb465",
   "metadata": {
    "ExecuteTime": {
     "end_time": "2023-07-06T17:31:08.660194Z",
     "start_time": "2023-07-06T17:31:08.645336Z"
    }
   },
   "outputs": [],
   "source": [
    "# time data - case level (will not have every farm infected)\n",
    "hpai_main_dates.to_csv('data_files/hpai_temporal_data.csv')"
   ]
  },
  {
   "cell_type": "code",
   "execution_count": 24,
   "id": "9d662a26",
   "metadata": {
    "ExecuteTime": {
     "end_time": "2023-07-06T17:31:08.674581Z",
     "start_time": "2023-07-06T17:31:08.662105Z"
    }
   },
   "outputs": [
    {
     "data": {
      "text/html": [
       "<div>\n",
       "<style scoped>\n",
       "    .dataframe tbody tr th:only-of-type {\n",
       "        vertical-align: middle;\n",
       "    }\n",
       "\n",
       "    .dataframe tbody tr th {\n",
       "        vertical-align: top;\n",
       "    }\n",
       "\n",
       "    .dataframe thead th {\n",
       "        text-align: right;\n",
       "    }\n",
       "</style>\n",
       "<table border=\"1\" class=\"dataframe\">\n",
       "  <thead>\n",
       "    <tr style=\"text-align: right;\">\n",
       "      <th></th>\n",
       "      <th>approxNumBirds</th>\n",
       "      <th>Season</th>\n",
       "      <th>speciesPresent</th>\n",
       "      <th>businessType</th>\n",
       "      <th>premisesType</th>\n",
       "    </tr>\n",
       "  </thead>\n",
       "  <tbody>\n",
       "    <tr>\n",
       "      <th>0</th>\n",
       "      <td>80000</td>\n",
       "      <td>NaN</td>\n",
       "      <td>NaN</td>\n",
       "      <td>NaN</td>\n",
       "      <td>Ducks</td>\n",
       "    </tr>\n",
       "    <tr>\n",
       "      <th>1</th>\n",
       "      <td>3342</td>\n",
       "      <td>NaN</td>\n",
       "      <td>NaN</td>\n",
       "      <td>NaN</td>\n",
       "      <td>Turkeys</td>\n",
       "    </tr>\n",
       "    <tr>\n",
       "      <th>2</th>\n",
       "      <td>400</td>\n",
       "      <td>NaN</td>\n",
       "      <td>NaN</td>\n",
       "      <td>NaN</td>\n",
       "      <td>Chickens</td>\n",
       "    </tr>\n",
       "    <tr>\n",
       "      <th>3</th>\n",
       "      <td>32000</td>\n",
       "      <td>2022.0</td>\n",
       "      <td>Chickens</td>\n",
       "      <td>Commercial</td>\n",
       "      <td>Chickens</td>\n",
       "    </tr>\n",
       "    <tr>\n",
       "      <th>4</th>\n",
       "      <td>4</td>\n",
       "      <td>NaN</td>\n",
       "      <td>NaN</td>\n",
       "      <td>NaN</td>\n",
       "      <td>Chickens</td>\n",
       "    </tr>\n",
       "    <tr>\n",
       "      <th>...</th>\n",
       "      <td>...</td>\n",
       "      <td>...</td>\n",
       "      <td>...</td>\n",
       "      <td>...</td>\n",
       "      <td>...</td>\n",
       "    </tr>\n",
       "    <tr>\n",
       "      <th>535</th>\n",
       "      <td>NaN</td>\n",
       "      <td>2020.0</td>\n",
       "      <td>Game Birds</td>\n",
       "      <td>Commercial</td>\n",
       "      <td>Game Birds</td>\n",
       "    </tr>\n",
       "    <tr>\n",
       "      <th>536</th>\n",
       "      <td>NaN</td>\n",
       "      <td>2020.0</td>\n",
       "      <td>Chickens</td>\n",
       "      <td>Commercial</td>\n",
       "      <td>Chickens</td>\n",
       "    </tr>\n",
       "    <tr>\n",
       "      <th>537</th>\n",
       "      <td>NaN</td>\n",
       "      <td>2020.0</td>\n",
       "      <td>Game Birds</td>\n",
       "      <td>Commercial</td>\n",
       "      <td>Game Birds</td>\n",
       "    </tr>\n",
       "    <tr>\n",
       "      <th>538</th>\n",
       "      <td>NaN</td>\n",
       "      <td>2020.0</td>\n",
       "      <td>Chickens</td>\n",
       "      <td>Commercial</td>\n",
       "      <td>Chickens</td>\n",
       "    </tr>\n",
       "    <tr>\n",
       "      <th>539</th>\n",
       "      <td>NaN</td>\n",
       "      <td>2020.0</td>\n",
       "      <td>Falcons</td>\n",
       "      <td>Captive Birds</td>\n",
       "      <td>Falcons</td>\n",
       "    </tr>\n",
       "  </tbody>\n",
       "</table>\n",
       "<p>540 rows × 5 columns</p>\n",
       "</div>"
      ],
      "text/plain": [
       "    approxNumBirds  Season speciesPresent   businessType premisesType\n",
       "0            80000     NaN            NaN            NaN        Ducks\n",
       "1             3342     NaN            NaN            NaN      Turkeys\n",
       "2              400     NaN            NaN            NaN     Chickens\n",
       "3            32000  2022.0       Chickens     Commercial     Chickens\n",
       "4                4     NaN            NaN            NaN     Chickens\n",
       "..             ...     ...            ...            ...          ...\n",
       "535            NaN  2020.0     Game Birds     Commercial   Game Birds\n",
       "536            NaN  2020.0       Chickens     Commercial     Chickens\n",
       "537            NaN  2020.0     Game Birds     Commercial   Game Birds\n",
       "538            NaN  2020.0       Chickens     Commercial     Chickens\n",
       "539            NaN  2020.0        Falcons  Captive Birds      Falcons\n",
       "\n",
       "[540 rows x 5 columns]"
      ]
     },
     "execution_count": 24,
     "metadata": {},
     "output_type": "execute_result"
    }
   ],
   "source": [
    "# farm characteristics - from the hpai_main dataset so they align with the hpai_main_dates\n",
    "# characteristics available for every infected/case but not for every farm (i.e. occults)! Harder to simulate\n",
    "hpai_main[['approxNumBirds', 'Season', 'speciesPresent', 'businessType', 'premisesType']]\n",
    "\n",
    "# any derivative data sets from the main file can be matched by index, o/w need to match by location? "
   ]
  },
  {
   "cell_type": "code",
   "execution_count": 25,
   "id": "4fac9a56",
   "metadata": {
    "ExecuteTime": {
     "end_time": "2023-07-06T17:31:08.688865Z",
     "start_time": "2023-07-06T17:31:08.677284Z"
    }
   },
   "outputs": [
    {
     "name": "stdout",
     "output_type": "stream",
     "text": [
      "<class 'pandas.core.frame.DataFrame'>\n",
      "RangeIndex: 540 entries, 0 to 539\n",
      "Data columns (total 33 columns):\n",
      " #   Column          Non-Null Count  Dtype   \n",
      "---  ------          --------------  -----   \n",
      " 0   dprNumber       504 non-null    object  \n",
      " 1   aivNumber       324 non-null    object  \n",
      " 2   reportDate      540 non-null    object  \n",
      " 3   Status          504 non-null    object  \n",
      " 4   NDI1Type        504 non-null    object  \n",
      " 5   Resolution      495 non-null    object  \n",
      " 6   Stock Details   499 non-null    object  \n",
      " 7   CPH             369 non-null    object  \n",
      " 8   Country         503 non-null    object  \n",
      " 9   dprID           504 non-null    object  \n",
      " 10  aivID           324 non-null    object  \n",
      " 11  ipNumber        134 non-null    float64 \n",
      " 12  region          191 non-null    object  \n",
      " 13  approxNumBirds  190 non-null    object  \n",
      " 14  Year            324 non-null    float64 \n",
      " 15  Season          324 non-null    float64 \n",
      " 16  Subtype         249 non-null    object  \n",
      " 17  infDate         320 non-null    object  \n",
      " 18  confDate        324 non-null    object  \n",
      " 19  speciesPresent  323 non-null    object  \n",
      " 20  businessType    324 non-null    object  \n",
      " 21  Sector          255 non-null    object  \n",
      " 22  PZ/SZ presence  0 non-null      float64 \n",
      " 23  Lat             324 non-null    float64 \n",
      " 24  Long            324 non-null    float64 \n",
      " 25  Genomics        235 non-null    object  \n",
      " 26  cullStart       181 non-null    object  \n",
      " 27  cullEnd         110 non-null    object  \n",
      " 28  dispComplete    45 non-null     object  \n",
      " 29  cdEffective     74 non-null     object  \n",
      " 30  County          540 non-null    object  \n",
      " 31  premisesType    525 non-null    object  \n",
      " 32  geometry        540 non-null    geometry\n",
      "dtypes: float64(6), geometry(1), object(26)\n",
      "memory usage: 139.3+ KB\n"
     ]
    }
   ],
   "source": [
    "hpai_main.info()"
   ]
  },
  {
   "cell_type": "markdown",
   "id": "0fafc76e",
   "metadata": {},
   "source": [
    "# Simulation "
   ]
  },
  {
   "cell_type": "code",
   "execution_count": 26,
   "id": "5393a75e",
   "metadata": {
    "ExecuteTime": {
     "end_time": "2023-07-06T17:31:08.695380Z",
     "start_time": "2023-07-06T17:31:08.692186Z"
    }
   },
   "outputs": [],
   "source": [
    "import sys \n",
    "\n",
    "sys.path.append('/Users/alinmorariu/Documents/Github/ContinuousTimeIndividualLevelEpidemicModels')"
   ]
  },
  {
   "cell_type": "code",
   "execution_count": 27,
   "id": "0f2082be",
   "metadata": {
    "ExecuteTime": {
     "end_time": "2023-07-06T17:31:08.901798Z",
     "start_time": "2023-07-06T17:31:08.697940Z"
    }
   },
   "outputs": [
    {
     "name": "stderr",
     "output_type": "stream",
     "text": [
      "2023-07-06 18:31:08.716842: I tensorflow/core/platform/cpu_feature_guard.cc:151] This TensorFlow binary is optimized with oneAPI Deep Neural Network Library (oneDNN) to use the following CPU instructions in performance-critical operations:  AVX2 FMA\n",
      "To enable them in other operations, rebuild TensorFlow with the appropriate compiler flags.\n"
     ]
    }
   ],
   "source": [
    "import ContinousTimeStateTransitionModel as epi_sim"
   ]
  },
  {
   "cell_type": "markdown",
   "id": "d1f06071",
   "metadata": {},
   "source": [
    "## Fake data "
   ]
  },
  {
   "cell_type": "code",
   "execution_count": 28,
   "id": "e95b0eeb",
   "metadata": {
    "ExecuteTime": {
     "end_time": "2023-07-06T17:31:08.922274Z",
     "start_time": "2023-07-06T17:31:08.913028Z"
    }
   },
   "outputs": [
    {
     "data": {
      "text/html": [
       "<div>\n",
       "<style scoped>\n",
       "    .dataframe tbody tr th:only-of-type {\n",
       "        vertical-align: middle;\n",
       "    }\n",
       "\n",
       "    .dataframe tbody tr th {\n",
       "        vertical-align: top;\n",
       "    }\n",
       "\n",
       "    .dataframe thead th {\n",
       "        text-align: right;\n",
       "    }\n",
       "</style>\n",
       "<table border=\"1\" class=\"dataframe\">\n",
       "  <thead>\n",
       "    <tr style=\"text-align: right;\">\n",
       "      <th></th>\n",
       "      <th>Long</th>\n",
       "      <th>Lat</th>\n",
       "    </tr>\n",
       "  </thead>\n",
       "  <tbody>\n",
       "    <tr>\n",
       "      <th>0</th>\n",
       "      <td>489.152364</td>\n",
       "      <td>99.924608</td>\n",
       "    </tr>\n",
       "    <tr>\n",
       "      <th>1</th>\n",
       "      <td>744.422926</td>\n",
       "      <td>164.224133</td>\n",
       "    </tr>\n",
       "    <tr>\n",
       "      <th>2</th>\n",
       "      <td>29.352368</td>\n",
       "      <td>350.934199</td>\n",
       "    </tr>\n",
       "    <tr>\n",
       "      <th>3</th>\n",
       "      <td>247.268800</td>\n",
       "      <td>952.144133</td>\n",
       "    </tr>\n",
       "    <tr>\n",
       "      <th>4</th>\n",
       "      <td>948.006707</td>\n",
       "      <td>304.171672</td>\n",
       "    </tr>\n",
       "  </tbody>\n",
       "</table>\n",
       "</div>"
      ],
      "text/plain": [
       "         Long         Lat\n",
       "0  489.152364   99.924608\n",
       "1  744.422926  164.224133\n",
       "2   29.352368  350.934199\n",
       "3  247.268800  952.144133\n",
       "4  948.006707  304.171672"
      ]
     },
     "execution_count": 28,
     "metadata": {},
     "output_type": "execute_result"
    }
   ],
   "source": [
    "# location data\n",
    "num_farms = 1000\n",
    "np.random.seed(1356315)\n",
    "location_data = np.random.uniform(low = 0.0, high = 1000.0, size = (num_farms,2))\n",
    "location_data = pd.DataFrame(location_data, columns= ('Long', 'Lat'))\n",
    "location_data.head()"
   ]
  },
  {
   "cell_type": "code",
   "execution_count": 29,
   "id": "de04a885",
   "metadata": {
    "ExecuteTime": {
     "end_time": "2023-07-06T17:31:09.121897Z",
     "start_time": "2023-07-06T17:31:08.924954Z"
    }
   },
   "outputs": [
    {
     "data": {
      "text/plain": [
       "<AxesSubplot:xlabel='Long', ylabel='Lat'>"
      ]
     },
     "execution_count": 29,
     "metadata": {},
     "output_type": "execute_result"
    },
    {
     "data": {
      "image/png": "[encoded data removed]",
      "text/plain": [
       "<Figure size 1500x1000 with 1 Axes>"
      ]
     },
     "metadata": {},
     "output_type": "display_data"
    }
   ],
   "source": [
    "sns.scatterplot(data=location_data, x='Long', y='Lat')"
   ]
  },
  {
   "cell_type": "code",
   "execution_count": 30,
   "id": "7aa5a743",
   "metadata": {
    "ExecuteTime": {
     "end_time": "2023-07-06T17:31:09.127904Z",
     "start_time": "2023-07-06T17:31:09.124638Z"
    }
   },
   "outputs": [],
   "source": [
    "# farm type data \n",
    "farm_types = ['chicken', 'other']\n",
    "np.random.seed(1356315)\n"
   ]
  },
  {
   "cell_type": "code",
   "execution_count": 31,
   "id": "f0df77c4",
   "metadata": {
    "ExecuteTime": {
     "end_time": "2023-07-06T17:31:09.134729Z",
     "start_time": "2023-07-06T17:31:09.130885Z"
    }
   },
   "outputs": [],
   "source": [
    "# Create hazard fn \n",
    "DTYPE = tf.float32\n",
    "def pairwise_distance(farm_locations_data):\n",
    "    \"\"\"Compute pairwise distance matrix between farms\n",
    "\n",
    "    Args:\n",
    "        farm_locations_data (DataFrame): Lat-Long coordinates of farms\n",
    "\n",
    "    Returns:\n",
    "        tensor: tensor of Euclidean distances between entities\n",
    "                Dim = len(farm_location_data)\n",
    "    \"\"\"\n",
    "    return tf.convert_to_tensor(\n",
    "        sp.spatial.distance.squareform(\n",
    "            sp.spatial.distance.pdist(farm_locations_data)\n",
    "        ),\n",
    "        dtype=DTYPE\n",
    "    )"
   ]
  },
  {
   "cell_type": "code",
   "execution_count": 32,
   "id": "536cd4fd",
   "metadata": {
    "ExecuteTime": {
     "end_time": "2023-07-06T17:31:09.150731Z",
     "start_time": "2023-07-06T17:31:09.137446Z"
    }
   },
   "outputs": [
    {
     "data": {
      "text/plain": [
       "<tf.Tensor: shape=(1000, 1000), dtype=float32, numpy=\n",
       "array([[   0.     ,  263.24417,  523.8529 , ...,  919.12366,  263.98505,\n",
       "         575.8765 ],\n",
       "       [ 263.24417,    0.     ,  739.0444 , ..., 1008.3365 ,  287.13318,\n",
       "         745.43414],\n",
       "       [ 523.8529 ,  739.0444 ,    0.     , ...,  574.65814,  505.1158 ,\n",
       "         166.37543],\n",
       "       ...,\n",
       "       [ 919.12366, 1008.3365 ,  574.65814, ...,    0.     ,  723.28735,\n",
       "         414.94156],\n",
       "       [ 263.98505,  287.13318,  505.1158 , ...,  723.28735,    0.     ,\n",
       "         474.97015],\n",
       "       [ 575.8765 ,  745.43414,  166.37543, ...,  414.94156,  474.97015,\n",
       "           0.     ]], dtype=float32)>"
      ]
     },
     "execution_count": 32,
     "metadata": {},
     "output_type": "execute_result"
    }
   ],
   "source": [
    "# eg. spatial distance\n",
    "pairwise_distance(farm_locations_data= location_data)"
   ]
  },
  {
   "cell_type": "code",
   "execution_count": 33,
   "id": "e11bdf2b",
   "metadata": {
    "ExecuteTime": {
     "end_time": "2023-07-06T17:31:09.174233Z",
     "start_time": "2023-07-06T17:31:09.153221Z"
    }
   },
   "outputs": [
    {
     "data": {
      "text/plain": [
       "array(['2023-01-16', '2023-01-25', '2023-01-20', '2023-01-19',\n",
       "       '2023-01-20', '2023-01-18', '2023-01-18', '2023-01-23',\n",
       "       '2023-01-15', '2023-01-07', '2023-01-16', '2023-01-10',\n",
       "       '2023-01-18', '2023-01-15', '2023-01-14', '2023-01-23',\n",
       "       '2023-01-17', '2023-01-18', '2023-01-10', '2023-01-19',\n",
       "       '2023-01-25', '2023-01-09', '2023-01-14', '2023-01-15',\n",
       "       '2023-01-10', '2023-01-20', '2023-01-11', '2023-01-25',\n",
       "       '2023-01-08', '2023-01-18', '2023-01-14', '2023-01-26',\n",
       "       '2023-01-14', '2023-01-08', '2023-01-18', '2023-01-25',\n",
       "       '2023-01-08', '2023-01-12', '2023-01-09', '2023-01-24',\n",
       "       '2023-01-24', '2023-01-19', '2023-01-12', '2023-01-22',\n",
       "       '2023-01-25', '2023-01-22', '2023-01-15', '2023-01-15',\n",
       "       '2023-01-09', '2023-01-20', '2023-01-20', '2023-01-18',\n",
       "       '2023-01-09', '2023-01-26', '2023-01-24', '2023-01-11',\n",
       "       '2023-01-08', '2023-01-14', '2023-01-23', '2023-01-24',\n",
       "       '2023-01-17', '2023-01-19', '2023-01-12', '2023-01-26',\n",
       "       '2023-01-20', '2023-01-18', '2023-01-23', '2023-01-09',\n",
       "       '2023-01-22', '2023-01-15', '2023-01-21', '2023-01-24',\n",
       "       '2023-01-21', '2023-01-26', '2023-01-26', '2023-01-10',\n",
       "       '2023-01-10', '2023-01-25', '2023-01-09', '2023-01-22',\n",
       "       '2023-01-22', '2023-01-21', '2023-01-25', '2023-01-15',\n",
       "       '2023-01-09', '2023-01-17', '2023-01-16', '2023-01-20',\n",
       "       '2023-01-11', '2023-01-21', '2023-01-15', '2023-01-12',\n",
       "       '2023-01-12', '2023-01-23', '2023-01-18', '2023-01-10',\n",
       "       '2023-01-10', '2023-01-23', '2023-01-09', '2023-01-25',\n",
       "       '2023-01-26', '2023-01-16', '2023-01-16', '2023-01-15',\n",
       "       '2023-01-10', '2023-01-19', '2023-01-13', '2023-01-23',\n",
       "       '2023-01-14', '2023-01-24', '2023-01-07', '2023-01-17',\n",
       "       '2023-01-21', '2023-01-21', '2023-01-21', '2023-01-26',\n",
       "       '2023-01-17', '2023-01-23', '2023-01-19', '2023-01-15',\n",
       "       '2023-01-10', '2023-01-19', '2023-01-18', '2023-01-18',\n",
       "       '2023-01-18', '2023-01-16', '2023-01-10', '2023-01-11',\n",
       "       '2023-01-13', '2023-01-21', '2023-01-11', '2023-01-17',\n",
       "       '2023-01-15', '2023-01-19', '2023-01-16', '2023-01-14',\n",
       "       '2023-01-17', '2023-01-20', '2023-01-14', '2023-01-25',\n",
       "       '2023-01-09', '2023-01-24', '2023-01-17', '2023-01-14',\n",
       "       '2023-01-18', '2023-01-16', '2023-01-14', '2023-01-12',\n",
       "       '2023-01-18', '2023-01-23', '2023-01-18', '2023-01-08',\n",
       "       '2023-01-23', '2023-01-08', '2023-01-08', '2023-01-26',\n",
       "       '2023-01-18', '2023-01-07', '2023-01-07', '2023-01-20',\n",
       "       '2023-01-22', '2023-01-14', '2023-01-10', '2023-01-20',\n",
       "       '2023-01-20', '2023-01-20', '2023-01-08', '2023-01-23',\n",
       "       '2023-01-24', '2023-01-12', '2023-01-25', '2023-01-13',\n",
       "       '2023-01-14', '2023-01-23', '2023-01-16', '2023-01-23',\n",
       "       '2023-01-19', '2023-01-23', '2023-01-17', '2023-01-20',\n",
       "       '2023-01-08', '2023-01-16', '2023-01-24', '2023-01-10',\n",
       "       '2023-01-19', '2023-01-13', '2023-01-10', '2023-01-14',\n",
       "       '2023-01-24', '2023-01-09', '2023-01-14', '2023-01-25',\n",
       "       '2023-01-07', '2023-01-18', '2023-01-07', '2023-01-08',\n",
       "       '2023-01-17', '2023-01-19', '2023-01-26', '2023-01-10',\n",
       "       '2023-01-16', '2023-01-17', '2023-01-09', '2023-01-09',\n",
       "       '2023-01-12', '2023-01-24', '2023-01-18', '2023-01-12',\n",
       "       '2023-01-18', '2023-01-07', '2023-01-26', '2023-01-21',\n",
       "       '2023-01-23', '2023-01-22', '2023-01-14', '2023-01-22',\n",
       "       '2023-01-10', '2023-01-12', '2023-01-18', '2023-01-24',\n",
       "       '2023-01-18', '2023-01-07', '2023-01-07', '2023-01-26',\n",
       "       '2023-01-21', '2023-01-13', '2023-01-17', '2023-01-12',\n",
       "       '2023-01-16', '2023-01-10', '2023-01-24', '2023-01-11',\n",
       "       '2023-01-20', '2023-01-24', '2023-01-11', '2023-01-15',\n",
       "       '2023-01-26', '2023-01-17', '2023-01-10', '2023-01-16',\n",
       "       '2023-01-19', '2023-01-09', '2023-01-13', '2023-01-24',\n",
       "       '2023-01-26', '2023-01-07', '2023-01-15', '2023-01-23',\n",
       "       '2023-01-13', '2023-01-13', '2023-01-18', '2023-01-11',\n",
       "       '2023-01-23', '2023-01-24', '2023-01-21', '2023-01-18',\n",
       "       '2023-01-19', '2023-01-23', '2023-01-24', '2023-01-07',\n",
       "       '2023-01-09', '2023-01-18', '2023-01-17', '2023-01-17',\n",
       "       '2023-01-21', '2023-01-22', '2023-01-22', '2023-01-24',\n",
       "       '2023-01-22', '2023-01-15', '2023-01-17', '2023-01-08',\n",
       "       '2023-01-08', '2023-01-22', '2023-01-16', '2023-01-23',\n",
       "       '2023-01-12', '2023-01-08', '2023-01-12', '2023-01-23',\n",
       "       '2023-01-18', '2023-01-18', '2023-01-21', '2023-01-11',\n",
       "       '2023-01-26', '2023-01-13', '2023-01-19', '2023-01-09',\n",
       "       '2023-01-18', '2023-01-11', '2023-01-17', '2023-01-18',\n",
       "       '2023-01-24', '2023-01-26', '2023-01-07', '2023-01-15',\n",
       "       '2023-01-07', '2023-01-13', '2023-01-09', '2023-01-09',\n",
       "       '2023-01-11', '2023-01-11', '2023-01-13', '2023-01-24',\n",
       "       '2023-01-21', '2023-01-13', '2023-01-12', '2023-01-10',\n",
       "       '2023-01-09', '2023-01-24', '2023-01-24', '2023-01-12',\n",
       "       '2023-01-22', '2023-01-16', '2023-01-24', '2023-01-19',\n",
       "       '2023-01-15', '2023-01-09', '2023-01-11', '2023-01-08',\n",
       "       '2023-01-11', '2023-01-16', '2023-01-24', '2023-01-14',\n",
       "       '2023-01-24', '2023-01-24', '2023-01-16', '2023-01-20',\n",
       "       '2023-01-18', '2023-01-25', '2023-01-26', '2023-01-11',\n",
       "       '2023-01-13', '2023-01-15', '2023-01-19', '2023-01-10',\n",
       "       '2023-01-25', '2023-01-21', '2023-01-14', '2023-01-23',\n",
       "       '2023-01-18', '2023-01-16', '2023-01-08', '2023-01-24',\n",
       "       '2023-01-13', '2023-01-22', '2023-01-11', '2023-01-26',\n",
       "       '2023-01-17', '2023-01-18', '2023-01-21', '2023-01-24',\n",
       "       '2023-01-14', '2023-01-16', '2023-01-24', '2023-01-14',\n",
       "       '2023-01-13', '2023-01-13', '2023-01-10', '2023-01-17',\n",
       "       '2023-01-10', '2023-01-12', '2023-01-22', '2023-01-09',\n",
       "       '2023-01-09', '2023-01-22', '2023-01-26', '2023-01-16',\n",
       "       '2023-01-21', '2023-01-09', '2023-01-21', '2023-01-11',\n",
       "       '2023-01-07', '2023-01-25', '2023-01-14', '2023-01-09',\n",
       "       '2023-01-25', '2023-01-24', '2023-01-26', '2023-01-26',\n",
       "       '2023-01-22', '2023-01-18', '2023-01-11', '2023-01-10',\n",
       "       '2023-01-22', '2023-01-10', '2023-01-22', '2023-01-16',\n",
       "       '2023-01-10', '2023-01-19', '2023-01-22', '2023-01-15',\n",
       "       '2023-01-21', '2023-01-25', '2023-01-19', '2023-01-18',\n",
       "       '2023-01-19', '2023-01-12', '2023-01-19', '2023-01-14',\n",
       "       '2023-01-07', '2023-01-10', '2023-01-15', '2023-01-25',\n",
       "       '2023-01-12', '2023-01-10', '2023-01-13', '2023-01-23',\n",
       "       '2023-01-10', '2023-01-25', '2023-01-25', '2023-01-24',\n",
       "       '2023-01-19', '2023-01-13', '2023-01-17', '2023-01-09',\n",
       "       '2023-01-07', '2023-01-26', '2023-01-07', '2023-01-12',\n",
       "       '2023-01-26', '2023-01-19', '2023-01-24', '2023-01-26',\n",
       "       '2023-01-21', '2023-01-19', '2023-01-15', '2023-01-11',\n",
       "       '2023-01-25', '2023-01-18', '2023-01-07', '2023-01-20',\n",
       "       '2023-01-17', '2023-01-17', '2023-01-21', '2023-01-23',\n",
       "       '2023-01-07', '2023-01-14', '2023-01-22', '2023-01-22',\n",
       "       '2023-01-08', '2023-01-10', '2023-01-07', '2023-01-22',\n",
       "       '2023-01-26', '2023-01-17', '2023-01-17', '2023-01-18',\n",
       "       '2023-01-21', '2023-01-26', '2023-01-11', '2023-01-18',\n",
       "       '2023-01-14', '2023-01-21', '2023-01-08', '2023-01-20',\n",
       "       '2023-01-17', '2023-01-24', '2023-01-26', '2023-01-21',\n",
       "       '2023-01-21', '2023-01-08', '2023-01-17', '2023-01-24',\n",
       "       '2023-01-10', '2023-01-24', '2023-01-08', '2023-01-21',\n",
       "       '2023-01-25', '2023-01-08', '2023-01-07', '2023-01-15',\n",
       "       '2023-01-17', '2023-01-11', '2023-01-07', '2023-01-25',\n",
       "       '2023-01-13', '2023-01-22', '2023-01-14', '2023-01-17',\n",
       "       '2023-01-15', '2023-01-16', '2023-01-24', '2023-01-11',\n",
       "       '2023-01-18', '2023-01-12', '2023-01-13', '2023-01-11',\n",
       "       '2023-01-23', '2023-01-21', '2023-01-23', '2023-01-07',\n",
       "       '2023-01-11', '2023-01-23', '2023-01-19', '2023-01-20',\n",
       "       '2023-01-14', '2023-01-22', '2023-01-10', '2023-01-08',\n",
       "       '2023-01-12', '2023-01-25', '2023-01-10', '2023-01-15',\n",
       "       '2023-01-15', '2023-01-25', '2023-01-24', '2023-01-11',\n",
       "       '2023-01-12', '2023-01-20', '2023-01-24', '2023-01-17',\n",
       "       '2023-01-09', '2023-01-17', '2023-01-16', '2023-01-19',\n",
       "       '2023-01-12', '2023-01-24', '2023-01-21', '2023-01-16',\n",
       "       '2023-01-18', '2023-01-21', '2023-01-23', '2023-01-25',\n",
       "       '2023-01-07', '2023-01-10', '2023-01-13', '2023-01-08',\n",
       "       '2023-01-10', '2023-01-12', '2023-01-25', '2023-01-26',\n",
       "       '2023-01-10', '2023-01-23', '2023-01-11', '2023-01-09',\n",
       "       '2023-01-20', '2023-01-19', '2023-01-14', '2023-01-24',\n",
       "       '2023-01-10', '2023-01-26', '2023-01-19', '2023-01-12',\n",
       "       '2023-01-15', '2023-01-12', '2023-01-18', '2023-01-14',\n",
       "       '2023-01-25', '2023-01-21', '2023-01-15', '2023-01-11',\n",
       "       '2023-01-25', '2023-01-15', '2023-01-22', '2023-01-10',\n",
       "       '2023-01-19', '2023-01-23', '2023-01-23', '2023-01-15',\n",
       "       '2023-01-24', '2023-01-20', '2023-01-26', '2023-01-15',\n",
       "       '2023-01-19', '2023-01-23', '2023-01-07', '2023-01-23',\n",
       "       '2023-01-09', '2023-01-13', '2023-01-21', '2023-01-16',\n",
       "       '2023-01-20', '2023-01-26', '2023-01-22', '2023-01-19',\n",
       "       '2023-01-14', '2023-01-10', '2023-01-19', '2023-01-09',\n",
       "       '2023-01-16', '2023-01-09', '2023-01-17', '2023-01-09',\n",
       "       '2023-01-22', '2023-01-15', '2023-01-15', '2023-01-15',\n",
       "       '2023-01-22', '2023-01-07', '2023-01-09', '2023-01-25',\n",
       "       '2023-01-22', '2023-01-09', '2023-01-18', '2023-01-26',\n",
       "       '2023-01-19', '2023-01-24', '2023-01-09', '2023-01-10',\n",
       "       '2023-01-10', '2023-01-21', '2023-01-10', '2023-01-10',\n",
       "       '2023-01-18', '2023-01-11', '2023-01-18', '2023-01-17',\n",
       "       '2023-01-13', '2023-01-10', '2023-01-14', '2023-01-08',\n",
       "       '2023-01-18', '2023-01-20', '2023-01-12', '2023-01-18',\n",
       "       '2023-01-15', '2023-01-15', '2023-01-07', '2023-01-07',\n",
       "       '2023-01-19', '2023-01-25', '2023-01-07', '2023-01-12',\n",
       "       '2023-01-24', '2023-01-07', '2023-01-21', '2023-01-19',\n",
       "       '2023-01-15', '2023-01-15', '2023-01-08', '2023-01-10',\n",
       "       '2023-01-21', '2023-01-26', '2023-01-09', '2023-01-13',\n",
       "       '2023-01-25', '2023-01-16', '2023-01-21', '2023-01-20',\n",
       "       '2023-01-16', '2023-01-13', '2023-01-26', '2023-01-07',\n",
       "       '2023-01-10', '2023-01-17', '2023-01-09', '2023-01-13',\n",
       "       '2023-01-23', '2023-01-26', '2023-01-09', '2023-01-08',\n",
       "       '2023-01-25', '2023-01-25', '2023-01-22', '2023-01-09',\n",
       "       '2023-01-17', '2023-01-17', '2023-01-17', '2023-01-11',\n",
       "       '2023-01-16', '2023-01-12', '2023-01-26', '2023-01-25',\n",
       "       '2023-01-18', '2023-01-22', '2023-01-20', '2023-01-11',\n",
       "       '2023-01-25', '2023-01-15', '2023-01-26', '2023-01-20',\n",
       "       '2023-01-16', '2023-01-18', '2023-01-21', '2023-01-17',\n",
       "       '2023-01-08', '2023-01-16', '2023-01-09', '2023-01-24',\n",
       "       '2023-01-15', '2023-01-12', '2023-01-19', '2023-01-23',\n",
       "       '2023-01-20', '2023-01-26', '2023-01-15', '2023-01-08',\n",
       "       '2023-01-11', '2023-01-12', '2023-01-18', '2023-01-10',\n",
       "       '2023-01-24', '2023-01-18', '2023-01-19', '2023-01-10',\n",
       "       '2023-01-16', '2023-01-17', '2023-01-12', '2023-01-24',\n",
       "       '2023-01-22', '2023-01-07', '2023-01-10', '2023-01-08',\n",
       "       '2023-01-09', '2023-01-14', '2023-01-10', '2023-01-20',\n",
       "       '2023-01-22', '2023-01-09', '2023-01-09', '2023-01-21',\n",
       "       '2023-01-23', '2023-01-26', '2023-01-26', '2023-01-14',\n",
       "       '2023-01-09', '2023-01-21', '2023-01-08', '2023-01-24',\n",
       "       '2023-01-20', '2023-01-07', '2023-01-16', '2023-01-09',\n",
       "       '2023-01-16', '2023-01-23', '2023-01-16', '2023-01-20',\n",
       "       '2023-01-12', '2023-01-10', '2023-01-12', '2023-01-17',\n",
       "       '2023-01-17', '2023-01-26', '2023-01-16', '2023-01-19',\n",
       "       '2023-01-07', '2023-01-11', '2023-01-10', '2023-01-22',\n",
       "       '2023-01-10', '2023-01-12', '2023-01-16', '2023-01-25',\n",
       "       '2023-01-16', '2023-01-26', '2023-01-24', '2023-01-17',\n",
       "       '2023-01-17', '2023-01-08', '2023-01-08', '2023-01-26',\n",
       "       '2023-01-13', '2023-01-19', '2023-01-25', '2023-01-22',\n",
       "       '2023-01-19', '2023-01-13', '2023-01-16', '2023-01-18',\n",
       "       '2023-01-24', '2023-01-11', '2023-01-17', '2023-01-09',\n",
       "       '2023-01-10', '2023-01-08', '2023-01-21', '2023-01-24',\n",
       "       '2023-01-11', '2023-01-11', '2023-01-07', '2023-01-13',\n",
       "       '2023-01-18', '2023-01-18', '2023-01-21', '2023-01-24',\n",
       "       '2023-01-15', '2023-01-18', '2023-01-24', '2023-01-13',\n",
       "       '2023-01-26', '2023-01-23', '2023-01-12', '2023-01-23',\n",
       "       '2023-01-10', '2023-01-18', '2023-01-14', '2023-01-20',\n",
       "       '2023-01-18', '2023-01-24', '2023-01-14', '2023-01-16',\n",
       "       '2023-01-21', '2023-01-19', '2023-01-16', '2023-01-22',\n",
       "       '2023-01-11', '2023-01-13', '2023-01-09', '2023-01-09',\n",
       "       '2023-01-17', '2023-01-14', '2023-01-09', '2023-01-18',\n",
       "       '2023-01-10', '2023-01-18', '2023-01-26', '2023-01-21',\n",
       "       '2023-01-20', '2023-01-20', '2023-01-10', '2023-01-12',\n",
       "       '2023-01-16', '2023-01-21', '2023-01-13', '2023-01-12',\n",
       "       '2023-01-07', '2023-01-17', '2023-01-15', '2023-01-21',\n",
       "       '2023-01-09', '2023-01-26', '2023-01-14', '2023-01-12',\n",
       "       '2023-01-26', '2023-01-12', '2023-01-07', '2023-01-24',\n",
       "       '2023-01-24', '2023-01-21', '2023-01-18', '2023-01-26',\n",
       "       '2023-01-08', '2023-01-10', '2023-01-09', '2023-01-13',\n",
       "       '2023-01-07', '2023-01-24', '2023-01-20', '2023-01-21',\n",
       "       '2023-01-21', '2023-01-18', '2023-01-20', '2023-01-09',\n",
       "       '2023-01-25', '2023-01-07', '2023-01-14', '2023-01-25',\n",
       "       '2023-01-13', '2023-01-21', '2023-01-25', '2023-01-19',\n",
       "       '2023-01-07', '2023-01-26', '2023-01-16', '2023-01-16',\n",
       "       '2023-01-19', '2023-01-20', '2023-01-16', '2023-01-13',\n",
       "       '2023-01-13', '2023-01-10', '2023-01-17', '2023-01-07',\n",
       "       '2023-01-22', '2023-01-11', '2023-01-18', '2023-01-21',\n",
       "       '2023-01-25', '2023-01-10', '2023-01-21', '2023-01-09',\n",
       "       '2023-01-24', '2023-01-08', '2023-01-09', '2023-01-20',\n",
       "       '2023-01-26', '2023-01-12', '2023-01-19', '2023-01-22',\n",
       "       '2023-01-26', '2023-01-24', '2023-01-16', '2023-01-09',\n",
       "       '2023-01-12', '2023-01-20', '2023-01-23', '2023-01-12',\n",
       "       '2023-01-08', '2023-01-09', '2023-01-20', '2023-01-19',\n",
       "       '2023-01-24', '2023-01-19', '2023-01-21', '2023-01-13',\n",
       "       '2023-01-22', '2023-01-26', '2023-01-20', '2023-01-25',\n",
       "       '2023-01-18', '2023-01-20', '2023-01-08', '2023-01-22',\n",
       "       '2023-01-08', '2023-01-18', '2023-01-12', '2023-01-14',\n",
       "       '2023-01-20', '2023-01-24', '2023-01-09', '2023-01-15',\n",
       "       '2023-01-23', '2023-01-08', '2023-01-09', '2023-01-11',\n",
       "       '2023-01-23', '2023-01-12', '2023-01-24', '2023-01-20',\n",
       "       '2023-01-22', '2023-01-26', '2023-01-07', '2023-01-11',\n",
       "       '2023-01-08', '2023-01-23', '2023-01-20', '2023-01-24',\n",
       "       '2023-01-16', '2023-01-13', '2023-01-19', '2023-01-23',\n",
       "       '2023-01-11', '2023-01-12', '2023-01-24', '2023-01-09',\n",
       "       '2023-01-22', '2023-01-11', '2023-01-08', '2023-01-17',\n",
       "       '2023-01-13', '2023-01-08', '2023-01-17', '2023-01-11',\n",
       "       '2023-01-17', '2023-01-10', '2023-01-10', '2023-01-17',\n",
       "       '2023-01-24', '2023-01-07', '2023-01-10', '2023-01-24',\n",
       "       '2023-01-13', '2023-01-12', '2023-01-23', '2023-01-20',\n",
       "       '2023-01-17', '2023-01-13', '2023-01-22', '2023-01-07',\n",
       "       '2023-01-25', '2023-01-23', '2023-01-26', '2023-01-11',\n",
       "       '2023-01-10', '2023-01-13', '2023-01-16', '2023-01-21',\n",
       "       '2023-01-12', '2023-01-07', '2023-01-25', '2023-01-21',\n",
       "       '2023-01-12', '2023-01-26', '2023-01-21', '2023-01-09',\n",
       "       '2023-01-11', '2023-01-09', '2023-01-13', '2023-01-25',\n",
       "       '2023-01-12', '2023-01-18', '2023-01-07', '2023-01-11',\n",
       "       '2023-01-09', '2023-01-11', '2023-01-08', '2023-01-24',\n",
       "       '2023-01-26', '2023-01-23', '2023-01-14', '2023-01-20',\n",
       "       '2023-01-19', '2023-01-22', '2023-01-24', '2023-01-08',\n",
       "       '2023-01-14', '2023-01-16', '2023-01-14', '2023-01-20'],\n",
       "      dtype='datetime64[D]')"
      ]
     },
     "execution_count": 33,
     "metadata": {},
     "output_type": "execute_result"
    }
   ],
   "source": [
    "# Datetimes for events \n",
    "np.random.seed(1356315)\n",
    "\n",
    "infectious_period_range = np.arange(0, 20)\n",
    "base_date = np.datetime64('2023-01-07')\n",
    "infectious_dates = base_date + np.random.choice(infectious_period_range, num_farms)\n",
    "\n",
    "infectious_dates"
   ]
  },
  {
   "cell_type": "code",
   "execution_count": 34,
   "id": "9584d09b",
   "metadata": {
    "ExecuteTime": {
     "end_time": "2023-07-06T17:31:09.179754Z",
     "start_time": "2023-07-06T17:31:09.176951Z"
    }
   },
   "outputs": [],
   "source": [
    "removal_dates = infectious_dates + 4"
   ]
  },
  {
   "cell_type": "code",
   "execution_count": 35,
   "id": "ed0666d3",
   "metadata": {
    "ExecuteTime": {
     "end_time": "2023-07-06T17:31:09.192201Z",
     "start_time": "2023-07-06T17:31:09.183507Z"
    }
   },
   "outputs": [
    {
     "data": {
      "text/html": [
       "<div>\n",
       "<style scoped>\n",
       "    .dataframe tbody tr th:only-of-type {\n",
       "        vertical-align: middle;\n",
       "    }\n",
       "\n",
       "    .dataframe tbody tr th {\n",
       "        vertical-align: top;\n",
       "    }\n",
       "\n",
       "    .dataframe thead th {\n",
       "        text-align: right;\n",
       "    }\n",
       "</style>\n",
       "<table border=\"1\" class=\"dataframe\">\n",
       "  <thead>\n",
       "    <tr style=\"text-align: right;\">\n",
       "      <th></th>\n",
       "      <th>inf_date</th>\n",
       "      <th>removal_date</th>\n",
       "    </tr>\n",
       "  </thead>\n",
       "  <tbody>\n",
       "    <tr>\n",
       "      <th>0</th>\n",
       "      <td>19373</td>\n",
       "      <td>19377</td>\n",
       "    </tr>\n",
       "    <tr>\n",
       "      <th>1</th>\n",
       "      <td>19382</td>\n",
       "      <td>19386</td>\n",
       "    </tr>\n",
       "    <tr>\n",
       "      <th>2</th>\n",
       "      <td>19377</td>\n",
       "      <td>19381</td>\n",
       "    </tr>\n",
       "    <tr>\n",
       "      <th>3</th>\n",
       "      <td>19376</td>\n",
       "      <td>19380</td>\n",
       "    </tr>\n",
       "    <tr>\n",
       "      <th>4</th>\n",
       "      <td>19377</td>\n",
       "      <td>19381</td>\n",
       "    </tr>\n",
       "    <tr>\n",
       "      <th>...</th>\n",
       "      <td>...</td>\n",
       "      <td>...</td>\n",
       "    </tr>\n",
       "    <tr>\n",
       "      <th>995</th>\n",
       "      <td>19365</td>\n",
       "      <td>19369</td>\n",
       "    </tr>\n",
       "    <tr>\n",
       "      <th>996</th>\n",
       "      <td>19371</td>\n",
       "      <td>19375</td>\n",
       "    </tr>\n",
       "    <tr>\n",
       "      <th>997</th>\n",
       "      <td>19373</td>\n",
       "      <td>19377</td>\n",
       "    </tr>\n",
       "    <tr>\n",
       "      <th>998</th>\n",
       "      <td>19371</td>\n",
       "      <td>19375</td>\n",
       "    </tr>\n",
       "    <tr>\n",
       "      <th>999</th>\n",
       "      <td>19377</td>\n",
       "      <td>19381</td>\n",
       "    </tr>\n",
       "  </tbody>\n",
       "</table>\n",
       "<p>1000 rows × 2 columns</p>\n",
       "</div>"
      ],
      "text/plain": [
       "     inf_date  removal_date\n",
       "0       19373         19377\n",
       "1       19382         19386\n",
       "2       19377         19381\n",
       "3       19376         19380\n",
       "4       19377         19381\n",
       "..        ...           ...\n",
       "995     19365         19369\n",
       "996     19371         19375\n",
       "997     19373         19377\n",
       "998     19371         19375\n",
       "999     19377         19381\n",
       "\n",
       "[1000 rows x 2 columns]"
      ]
     },
     "execution_count": 35,
     "metadata": {},
     "output_type": "execute_result"
    }
   ],
   "source": [
    "key_dates = pd.DataFrame({'inf_date': pd.to_numeric(infectious_dates), \n",
    "                          'removal_date': pd.to_numeric(removal_dates)})\n",
    "key_dates"
   ]
  },
  {
   "cell_type": "code",
   "execution_count": 36,
   "id": "850fd934",
   "metadata": {
    "ExecuteTime": {
     "end_time": "2023-07-06T17:31:09.200508Z",
     "start_time": "2023-07-06T17:31:09.194728Z"
    }
   },
   "outputs": [
    {
     "data": {
      "text/plain": [
       "0      19373\n",
       "1      19382\n",
       "2      19377\n",
       "3      19376\n",
       "4      19377\n",
       "       ...  \n",
       "995    19365\n",
       "996    19371\n",
       "997    19373\n",
       "998    19371\n",
       "999    19377\n",
       "Name: inf_date, Length: 1000, dtype: int64"
      ]
     },
     "execution_count": 36,
     "metadata": {},
     "output_type": "execute_result"
    }
   ],
   "source": [
    "key_dates.iloc[:,0]"
   ]
  },
  {
   "cell_type": "code",
   "execution_count": 37,
   "id": "44aa7f8d",
   "metadata": {
    "ExecuteTime": {
     "end_time": "2023-07-06T17:31:09.209492Z",
     "start_time": "2023-07-06T17:31:09.204626Z"
    }
   },
   "outputs": [],
   "source": [
    "def generate_waifw(infection_times, removal_times):\n",
    "    \"\"\"\n",
    "    Compute a WAIFW (who acquired infection from who) matrix \n",
    "    given tensors of infection and removal times. \n",
    "\n",
    "    Args:\n",
    "        infection_times (datetime): array of infection times \n",
    "        removal_times (datetime): array of removal times \n",
    "\n",
    "    Returns:\n",
    "        tensor: len(infection_times) x len(infection_times) tensor of 1s and 0s\n",
    "    \"\"\"\n",
    "\n",
    "    infection_times = tf.convert_to_tensor(infection_times)\n",
    "    removal_times = tf.convert_to_tensor(removal_times)\n",
    "\n",
    "    # use the expand_dim to do the [I,:] trick\n",
    "    waifw = tf.math.logical_and(\n",
    "        # compare infections to infections: I_i <= I_j\n",
    "        infection_times[tf.newaxis, :] < infection_times[:, tf.newaxis],\n",
    "        # compare infections to removals: I_j <= R_i\n",
    "        infection_times[:, tf.newaxis] < removal_times[tf.newaxis, :]\n",
    "    )\n",
    "    return tf.cast(waifw,\n",
    "                   dtype=DTYPE)"
   ]
  },
  {
   "cell_type": "code",
   "execution_count": 38,
   "id": "bef8277c",
   "metadata": {
    "ExecuteTime": {
     "end_time": "2023-07-06T17:31:09.225961Z",
     "start_time": "2023-07-06T17:31:09.211783Z"
    }
   },
   "outputs": [
    {
     "data": {
      "text/plain": [
       "<tf.Tensor: shape=(1000, 1000), dtype=float32, numpy=\n",
       "array([[0., 0., 0., ..., 0., 1., 0.],\n",
       "       [0., 0., 0., ..., 0., 0., 0.],\n",
       "       [0., 0., 0., ..., 0., 0., 0.],\n",
       "       ...,\n",
       "       [0., 0., 0., ..., 0., 1., 0.],\n",
       "       [0., 0., 0., ..., 0., 0., 0.],\n",
       "       [0., 0., 0., ..., 0., 0., 0.]], dtype=float32)>"
      ]
     },
     "execution_count": 38,
     "metadata": {},
     "output_type": "execute_result"
    }
   ],
   "source": [
    "generate_waifw(infection_times= key_dates.iloc[:,0],\n",
    "              removal_times= key_dates.iloc[:,1])"
   ]
  },
  {
   "cell_type": "code",
   "execution_count": 39,
   "id": "a811aa48",
   "metadata": {
    "ExecuteTime": {
     "end_time": "2023-07-06T17:31:09.232254Z",
     "start_time": "2023-07-06T17:31:09.228044Z"
    }
   },
   "outputs": [],
   "source": [
    "def generate_exposure(infection_times, removal_times):\n",
    "    \"\"\"\n",
    "    Compute exposure matrix given two tensors of infections and removal times\n",
    "\n",
    "    Args:\n",
    "        infection_times (datetime): array of infection times \n",
    "        removal_times (datetime): array of removal times \n",
    "\n",
    "    Returns:\n",
    "        tensor: len(infection_times) x len(infection_times) tensor of exposure\n",
    "        durations \n",
    "    \"\"\"\n",
    "\n",
    "    return (\n",
    "        tf.math.minimum(infection_times[:, tf.newaxis],\n",
    "                        removal_times[tf.newaxis, :]) -\n",
    "        tf.math.minimum(infection_times[:, tf.newaxis],\n",
    "                        infection_times[tf.newaxis, :])\n",
    "    )"
   ]
  },
  {
   "cell_type": "code",
   "execution_count": 40,
   "id": "4a5cc51d",
   "metadata": {
    "ExecuteTime": {
     "end_time": "2023-07-06T17:31:09.252481Z",
     "start_time": "2023-07-06T17:31:09.235772Z"
    }
   },
   "outputs": [
    {
     "name": "stderr",
     "output_type": "stream",
     "text": [
      "/var/folders/_q/07k1y14x087brt3tmd2bs1740000gn/T/ipykernel_2324/2203921878.py:15: FutureWarning: Support for multi-dimensional indexing (e.g. `obj[:, None]`) is deprecated and will be removed in a future version.  Convert to a numpy array before indexing instead.\n",
      "  tf.math.minimum(infection_times[:, tf.newaxis],\n",
      "/var/folders/_q/07k1y14x087brt3tmd2bs1740000gn/T/ipykernel_2324/2203921878.py:16: FutureWarning: Support for multi-dimensional indexing (e.g. `obj[:, None]`) is deprecated and will be removed in a future version.  Convert to a numpy array before indexing instead.\n",
      "  removal_times[tf.newaxis, :]) -\n",
      "/var/folders/_q/07k1y14x087brt3tmd2bs1740000gn/T/ipykernel_2324/2203921878.py:17: FutureWarning: Support for multi-dimensional indexing (e.g. `obj[:, None]`) is deprecated and will be removed in a future version.  Convert to a numpy array before indexing instead.\n",
      "  tf.math.minimum(infection_times[:, tf.newaxis],\n",
      "/var/folders/_q/07k1y14x087brt3tmd2bs1740000gn/T/ipykernel_2324/2203921878.py:18: FutureWarning: Support for multi-dimensional indexing (e.g. `obj[:, None]`) is deprecated and will be removed in a future version.  Convert to a numpy array before indexing instead.\n",
      "  infection_times[tf.newaxis, :])\n"
     ]
    },
    {
     "data": {
      "text/plain": [
       "<tf.Tensor: shape=(1000, 1000), dtype=int64, numpy=\n",
       "array([[0, 0, 0, ..., 0, 2, 0],\n",
       "       [4, 0, 4, ..., 4, 4, 4],\n",
       "       [4, 0, 0, ..., 4, 4, 0],\n",
       "       ...,\n",
       "       [0, 0, 0, ..., 0, 2, 0],\n",
       "       [0, 0, 0, ..., 0, 0, 0],\n",
       "       [4, 0, 0, ..., 4, 4, 0]])>"
      ]
     },
     "execution_count": 40,
     "metadata": {},
     "output_type": "execute_result"
    }
   ],
   "source": [
    "generate_exposure(infection_times= key_dates.iloc[:,0],\n",
    "              removal_times= key_dates.iloc[:,1])"
   ]
  },
  {
   "cell_type": "code",
   "execution_count": 41,
   "id": "e9fe03b5",
   "metadata": {
    "ExecuteTime": {
     "end_time": "2023-07-06T17:31:09.259112Z",
     "start_time": "2023-07-06T17:31:09.255091Z"
    }
   },
   "outputs": [],
   "source": [
    "def generate_spatial_kernel(farm_distance_matrix):\n",
    "    \"\"\"Compute the square exponential spatial kernel given a pairwise distance matrix\n",
    "\n",
    "    Args:\n",
    "        farm_distance_matrix (tensor): matrix of pairwise distance\n",
    "\n",
    "    Returns:\n",
    "        function: function taking in spatial pressure parameter based on \n",
    "    \"\"\"\n",
    "    farm_distance_matrix = tf.convert_to_tensor(farm_distance_matrix, DTYPE)\n",
    "    def square_exponential_kernel(parameters):\n",
    "        partial_step = tf.math.multiply(farm_distance_matrix, 1/parameters)\n",
    "        return tf.math.exp(tf.math.negative(tf.math.square(partial_step)))\n",
    "    return square_exponential_kernel"
   ]
  },
  {
   "cell_type": "code",
   "execution_count": 42,
   "id": "1499650a",
   "metadata": {
    "ExecuteTime": {
     "end_time": "2023-07-06T17:31:09.280033Z",
     "start_time": "2023-07-06T17:31:09.261392Z"
    }
   },
   "outputs": [
    {
     "data": {
      "text/plain": [
       "<tf.Tensor: shape=(1000, 1000), dtype=float32, numpy=\n",
       "array([[1.        , 0.7579105 , 0.3336417 , ..., 0.03407629, 0.7567272 ,\n",
       "        0.26539522],\n",
       "       [0.7579105 , 1.        , 0.11250623, ..., 0.01712921, 0.71908057,\n",
       "        0.10831751],\n",
       "       [0.3336417 , 0.11250623, 1.        , ..., 0.26688752, 0.36039013,\n",
       "        0.89518654],\n",
       "       ...,\n",
       "       [0.03407629, 0.01712921, 0.26688752, ..., 1.        , 0.1233686 ,\n",
       "        0.5022255 ],\n",
       "       [0.7567272 , 0.71908057, 0.36039013, ..., 0.1233686 , 1.        ,\n",
       "        0.4056005 ],\n",
       "       [0.26539522, 0.10831751, 0.89518654, ..., 0.5022255 , 0.4056005 ,\n",
       "        1.        ]], dtype=float32)>"
      ]
     },
     "execution_count": 42,
     "metadata": {},
     "output_type": "execute_result"
    }
   ],
   "source": [
    "farm_distances = pairwise_distance(farm_locations_data= location_data)\n",
    "spatial_kernel = generate_spatial_kernel(farm_distance_matrix= farm_distances)\n",
    "\n",
    "spatial_kernel(500.0)"
   ]
  },
  {
   "cell_type": "code",
   "execution_count": 43,
   "id": "672c0718",
   "metadata": {
    "ExecuteTime": {
     "end_time": "2023-07-06T17:31:09.285842Z",
     "start_time": "2023-07-06T17:31:09.282528Z"
    }
   },
   "outputs": [],
   "source": [
    "# farm type data \n",
    "np.random.seed(1356315)\n",
    "farm_types = np.random.choice((0,1), size = num_farms) # chicken, o/w "
   ]
  },
  {
   "cell_type": "code",
   "execution_count": 44,
   "id": "f0913928",
   "metadata": {
    "ExecuteTime": {
     "end_time": "2023-07-06T17:31:09.291696Z",
     "start_time": "2023-07-06T17:31:09.288332Z"
    }
   },
   "outputs": [],
   "source": [
    "def generate_regression_pressure(farm_characteristics_data = None): \n",
    "    \"\"\"_summary_\n",
    "\n",
    "    Args:\n",
    "        farm_characteristics_data (_type_, optional): Factor variables for each farm unit. Defaults to None.\n",
    "\n",
    "    Returns:\n",
    "        tensor: exp(alpha + beta^T * data)\n",
    "    \"\"\"\n",
    "    farm_characteristics_data = tf.convert_to_tensor(farm_characteristics_data, DTYPE)\n",
    "    def compute_regression(parameters):\n",
    "        # regression does not include the intercept term \n",
    "        regression = tf.math.multiply(farm_characteristics_data, parameters)\n",
    "        expontiated_regression = tf.math.exp(regression)\n",
    "        return expontiated_regression\n",
    "        \n",
    "    return compute_regression"
   ]
  },
  {
   "cell_type": "code",
   "execution_count": 45,
   "id": "b05b5ed3",
   "metadata": {
    "ExecuteTime": {
     "end_time": "2023-07-06T17:31:09.303876Z",
     "start_time": "2023-07-06T17:31:09.294070Z"
    }
   },
   "outputs": [
    {
     "data": {
      "text/plain": [
       "<tf.Tensor: shape=(1000,), dtype=float32, numpy=\n",
       "array([1.       , 2.0137527, 1.       , 1.       , 2.0137527, 1.       ,\n",
       "       1.       , 2.0137527, 2.0137527, 1.       , 2.0137527, 1.       ,\n",
       "       1.       , 1.       , 2.0137527, 1.       , 2.0137527, 2.0137527,\n",
       "       2.0137527, 2.0137527, 1.       , 1.       , 1.       , 1.       ,\n",
       "       2.0137527, 1.       , 1.       , 2.0137527, 1.       , 1.       ,\n",
       "       2.0137527, 1.       , 1.       , 1.       , 1.       , 1.       ,\n",
       "       2.0137527, 2.0137527, 1.       , 2.0137527, 2.0137527, 1.       ,\n",
       "       1.       , 2.0137527, 2.0137527, 2.0137527, 1.       , 2.0137527,\n",
       "       2.0137527, 1.       , 1.       , 2.0137527, 1.       , 1.       ,\n",
       "       2.0137527, 2.0137527, 1.       , 1.       , 2.0137527, 1.       ,\n",
       "       2.0137527, 2.0137527, 1.       , 2.0137527, 2.0137527, 1.       ,\n",
       "       2.0137527, 2.0137527, 1.       , 2.0137527, 2.0137527, 1.       ,\n",
       "       2.0137527, 1.       , 1.       , 1.       , 1.       , 1.       ,\n",
       "       1.       , 2.0137527, 2.0137527, 2.0137527, 1.       , 2.0137527,\n",
       "       2.0137527, 1.       , 2.0137527, 1.       , 2.0137527, 2.0137527,\n",
       "       1.       , 1.       , 2.0137527, 2.0137527, 2.0137527, 1.       ,\n",
       "       2.0137527, 1.       , 1.       , 2.0137527, 2.0137527, 1.       ,\n",
       "       2.0137527, 2.0137527, 1.       , 1.       , 2.0137527, 1.       ,\n",
       "       1.       , 2.0137527, 2.0137527, 2.0137527, 1.       , 2.0137527,\n",
       "       2.0137527, 2.0137527, 2.0137527, 2.0137527, 2.0137527, 1.       ,\n",
       "       2.0137527, 1.       , 2.0137527, 2.0137527, 1.       , 2.0137527,\n",
       "       2.0137527, 1.       , 1.       , 1.       , 1.       , 2.0137527,\n",
       "       1.       , 1.       , 1.       , 2.0137527, 1.       , 1.       ,\n",
       "       1.       , 2.0137527, 2.0137527, 1.       , 2.0137527, 1.       ,\n",
       "       1.       , 2.0137527, 2.0137527, 1.       , 1.       , 1.       ,\n",
       "       2.0137527, 2.0137527, 2.0137527, 2.0137527, 1.       , 1.       ,\n",
       "       2.0137527, 1.       , 1.       , 1.       , 2.0137527, 2.0137527,\n",
       "       1.       , 2.0137527, 1.       , 1.       , 2.0137527, 2.0137527,\n",
       "       2.0137527, 1.       , 1.       , 2.0137527, 1.       , 1.       ,\n",
       "       1.       , 2.0137527, 2.0137527, 2.0137527, 2.0137527, 2.0137527,\n",
       "       2.0137527, 1.       , 2.0137527, 1.       , 1.       , 1.       ,\n",
       "       2.0137527, 2.0137527, 1.       , 1.       , 2.0137527, 2.0137527,\n",
       "       2.0137527, 2.0137527, 1.       , 1.       , 1.       , 1.       ,\n",
       "       1.       , 1.       , 2.0137527, 2.0137527, 1.       , 1.       ,\n",
       "       1.       , 1.       , 2.0137527, 2.0137527, 1.       , 1.       ,\n",
       "       1.       , 2.0137527, 2.0137527, 2.0137527, 2.0137527, 2.0137527,\n",
       "       2.0137527, 2.0137527, 2.0137527, 1.       , 1.       , 1.       ,\n",
       "       1.       , 1.       , 1.       , 1.       , 1.       , 2.0137527,\n",
       "       1.       , 2.0137527, 2.0137527, 2.0137527, 2.0137527, 1.       ,\n",
       "       2.0137527, 2.0137527, 2.0137527, 1.       , 1.       , 2.0137527,\n",
       "       1.       , 2.0137527, 1.       , 1.       , 1.       , 2.0137527,\n",
       "       2.0137527, 2.0137527, 2.0137527, 2.0137527, 2.0137527, 2.0137527,\n",
       "       2.0137527, 1.       , 1.       , 1.       , 1.       , 2.0137527,\n",
       "       2.0137527, 1.       , 2.0137527, 1.       , 2.0137527, 2.0137527,\n",
       "       2.0137527, 2.0137527, 2.0137527, 2.0137527, 2.0137527, 2.0137527,\n",
       "       1.       , 1.       , 2.0137527, 2.0137527, 2.0137527, 2.0137527,\n",
       "       2.0137527, 2.0137527, 2.0137527, 2.0137527, 2.0137527, 2.0137527,\n",
       "       2.0137527, 1.       , 2.0137527, 2.0137527, 1.       , 2.0137527,\n",
       "       2.0137527, 1.       , 1.       , 1.       , 1.       , 2.0137527,\n",
       "       1.       , 2.0137527, 2.0137527, 1.       , 2.0137527, 1.       ,\n",
       "       1.       , 1.       , 1.       , 2.0137527, 1.       , 2.0137527,\n",
       "       2.0137527, 2.0137527, 2.0137527, 2.0137527, 1.       , 1.       ,\n",
       "       2.0137527, 1.       , 2.0137527, 2.0137527, 2.0137527, 1.       ,\n",
       "       2.0137527, 1.       , 1.       , 2.0137527, 2.0137527, 1.       ,\n",
       "       1.       , 1.       , 1.       , 2.0137527, 1.       , 2.0137527,\n",
       "       1.       , 1.       , 2.0137527, 2.0137527, 2.0137527, 2.0137527,\n",
       "       1.       , 1.       , 1.       , 2.0137527, 2.0137527, 2.0137527,\n",
       "       2.0137527, 1.       , 2.0137527, 1.       , 2.0137527, 1.       ,\n",
       "       1.       , 2.0137527, 1.       , 1.       , 1.       , 2.0137527,\n",
       "       2.0137527, 2.0137527, 2.0137527, 2.0137527, 2.0137527, 2.0137527,\n",
       "       2.0137527, 1.       , 2.0137527, 2.0137527, 2.0137527, 1.       ,\n",
       "       2.0137527, 1.       , 1.       , 2.0137527, 1.       , 2.0137527,\n",
       "       1.       , 1.       , 1.       , 1.       , 1.       , 2.0137527,\n",
       "       2.0137527, 2.0137527, 2.0137527, 1.       , 2.0137527, 2.0137527,\n",
       "       1.       , 1.       , 1.       , 2.0137527, 2.0137527, 1.       ,\n",
       "       2.0137527, 2.0137527, 2.0137527, 1.       , 2.0137527, 2.0137527,\n",
       "       2.0137527, 2.0137527, 1.       , 1.       , 2.0137527, 1.       ,\n",
       "       1.       , 2.0137527, 1.       , 2.0137527, 1.       , 1.       ,\n",
       "       1.       , 1.       , 2.0137527, 1.       , 1.       , 1.       ,\n",
       "       1.       , 1.       , 1.       , 1.       , 2.0137527, 1.       ,\n",
       "       1.       , 1.       , 2.0137527, 2.0137527, 2.0137527, 1.       ,\n",
       "       2.0137527, 1.       , 1.       , 1.       , 2.0137527, 1.       ,\n",
       "       1.       , 1.       , 2.0137527, 1.       , 1.       , 2.0137527,\n",
       "       1.       , 1.       , 1.       , 2.0137527, 1.       , 2.0137527,\n",
       "       2.0137527, 2.0137527, 2.0137527, 2.0137527, 1.       , 1.       ,\n",
       "       1.       , 2.0137527, 2.0137527, 2.0137527, 1.       , 2.0137527,\n",
       "       2.0137527, 2.0137527, 2.0137527, 1.       , 1.       , 2.0137527,\n",
       "       2.0137527, 2.0137527, 1.       , 2.0137527, 2.0137527, 2.0137527,\n",
       "       2.0137527, 1.       , 1.       , 1.       , 2.0137527, 1.       ,\n",
       "       1.       , 1.       , 1.       , 1.       , 2.0137527, 1.       ,\n",
       "       2.0137527, 1.       , 2.0137527, 1.       , 2.0137527, 2.0137527,\n",
       "       2.0137527, 2.0137527, 2.0137527, 1.       , 1.       , 2.0137527,\n",
       "       1.       , 2.0137527, 1.       , 1.       , 1.       , 1.       ,\n",
       "       1.       , 1.       , 1.       , 2.0137527, 2.0137527, 1.       ,\n",
       "       1.       , 2.0137527, 1.       , 1.       , 1.       , 2.0137527,\n",
       "       2.0137527, 2.0137527, 1.       , 1.       , 2.0137527, 2.0137527,\n",
       "       1.       , 2.0137527, 2.0137527, 2.0137527, 2.0137527, 2.0137527,\n",
       "       2.0137527, 1.       , 1.       , 2.0137527, 1.       , 1.       ,\n",
       "       2.0137527, 1.       , 1.       , 2.0137527, 1.       , 2.0137527,\n",
       "       1.       , 2.0137527, 1.       , 2.0137527, 2.0137527, 2.0137527,\n",
       "       2.0137527, 2.0137527, 2.0137527, 1.       , 2.0137527, 2.0137527,\n",
       "       2.0137527, 2.0137527, 1.       , 2.0137527, 2.0137527, 1.       ,\n",
       "       1.       , 2.0137527, 1.       , 2.0137527, 1.       , 2.0137527,\n",
       "       1.       , 1.       , 1.       , 1.       , 1.       , 2.0137527,\n",
       "       1.       , 2.0137527, 2.0137527, 2.0137527, 2.0137527, 1.       ,\n",
       "       1.       , 2.0137527, 1.       , 1.       , 2.0137527, 1.       ,\n",
       "       2.0137527, 1.       , 2.0137527, 2.0137527, 2.0137527, 1.       ,\n",
       "       2.0137527, 1.       , 2.0137527, 2.0137527, 1.       , 2.0137527,\n",
       "       1.       , 2.0137527, 1.       , 2.0137527, 2.0137527, 2.0137527,\n",
       "       2.0137527, 1.       , 2.0137527, 1.       , 1.       , 2.0137527,\n",
       "       2.0137527, 1.       , 2.0137527, 2.0137527, 1.       , 1.       ,\n",
       "       1.       , 2.0137527, 1.       , 2.0137527, 1.       , 1.       ,\n",
       "       1.       , 1.       , 2.0137527, 2.0137527, 1.       , 1.       ,\n",
       "       2.0137527, 2.0137527, 2.0137527, 1.       , 2.0137527, 2.0137527,\n",
       "       2.0137527, 2.0137527, 1.       , 2.0137527, 2.0137527, 2.0137527,\n",
       "       2.0137527, 2.0137527, 2.0137527, 1.       , 2.0137527, 1.       ,\n",
       "       2.0137527, 2.0137527, 1.       , 1.       , 2.0137527, 1.       ,\n",
       "       1.       , 1.       , 2.0137527, 1.       , 2.0137527, 2.0137527,\n",
       "       1.       , 2.0137527, 2.0137527, 1.       , 1.       , 2.0137527,\n",
       "       1.       , 1.       , 1.       , 2.0137527, 1.       , 2.0137527,\n",
       "       2.0137527, 1.       , 2.0137527, 2.0137527, 2.0137527, 2.0137527,\n",
       "       1.       , 1.       , 2.0137527, 1.       , 2.0137527, 1.       ,\n",
       "       1.       , 1.       , 2.0137527, 1.       , 1.       , 2.0137527,\n",
       "       1.       , 1.       , 2.0137527, 1.       , 1.       , 2.0137527,\n",
       "       2.0137527, 2.0137527, 1.       , 2.0137527, 2.0137527, 1.       ,\n",
       "       2.0137527, 2.0137527, 2.0137527, 1.       , 1.       , 1.       ,\n",
       "       1.       , 1.       , 1.       , 1.       , 1.       , 1.       ,\n",
       "       1.       , 2.0137527, 1.       , 2.0137527, 2.0137527, 1.       ,\n",
       "       1.       , 1.       , 1.       , 2.0137527, 1.       , 1.       ,\n",
       "       2.0137527, 1.       , 2.0137527, 2.0137527, 2.0137527, 1.       ,\n",
       "       2.0137527, 2.0137527, 1.       , 2.0137527, 2.0137527, 1.       ,\n",
       "       1.       , 1.       , 2.0137527, 1.       , 1.       , 2.0137527,\n",
       "       1.       , 2.0137527, 1.       , 2.0137527, 1.       , 2.0137527,\n",
       "       2.0137527, 2.0137527, 1.       , 2.0137527, 1.       , 2.0137527,\n",
       "       2.0137527, 1.       , 1.       , 2.0137527, 1.       , 2.0137527,\n",
       "       1.       , 1.       , 1.       , 1.       , 2.0137527, 1.       ,\n",
       "       2.0137527, 2.0137527, 2.0137527, 2.0137527, 2.0137527, 1.       ,\n",
       "       1.       , 2.0137527, 1.       , 1.       , 2.0137527, 2.0137527,\n",
       "       1.       , 1.       , 1.       , 1.       , 1.       , 1.       ,\n",
       "       1.       , 1.       , 2.0137527, 2.0137527, 1.       , 2.0137527,\n",
       "       2.0137527, 1.       , 1.       , 2.0137527, 2.0137527, 2.0137527,\n",
       "       2.0137527, 1.       , 2.0137527, 2.0137527, 1.       , 1.       ,\n",
       "       2.0137527, 2.0137527, 1.       , 1.       , 2.0137527, 1.       ,\n",
       "       1.       , 1.       , 2.0137527, 1.       , 1.       , 1.       ,\n",
       "       1.       , 1.       , 1.       , 2.0137527, 2.0137527, 1.       ,\n",
       "       2.0137527, 2.0137527, 2.0137527, 2.0137527, 1.       , 2.0137527,\n",
       "       1.       , 2.0137527, 1.       , 2.0137527, 1.       , 1.       ,\n",
       "       1.       , 2.0137527, 1.       , 2.0137527, 2.0137527, 1.       ,\n",
       "       2.0137527, 2.0137527, 2.0137527, 1.       , 2.0137527, 1.       ,\n",
       "       1.       , 2.0137527, 2.0137527, 2.0137527, 1.       , 2.0137527,\n",
       "       2.0137527, 1.       , 1.       , 2.0137527, 1.       , 2.0137527,\n",
       "       1.       , 2.0137527, 2.0137527, 1.       , 2.0137527, 1.       ,\n",
       "       2.0137527, 2.0137527, 2.0137527, 1.       , 1.       , 1.       ,\n",
       "       1.       , 1.       , 1.       , 1.       , 1.       , 2.0137527,\n",
       "       1.       , 1.       , 2.0137527, 1.       , 1.       , 2.0137527,\n",
       "       2.0137527, 2.0137527, 2.0137527, 1.       , 1.       , 2.0137527,\n",
       "       1.       , 2.0137527, 1.       , 1.       , 1.       , 1.       ,\n",
       "       2.0137527, 2.0137527, 1.       , 2.0137527, 2.0137527, 2.0137527,\n",
       "       2.0137527, 2.0137527, 2.0137527, 1.       , 2.0137527, 2.0137527,\n",
       "       1.       , 1.       , 2.0137527, 2.0137527, 1.       , 2.0137527,\n",
       "       1.       , 1.       , 1.       , 1.       , 1.       , 1.       ,\n",
       "       1.       , 1.       , 2.0137527, 2.0137527, 1.       , 2.0137527,\n",
       "       1.       , 1.       , 1.       , 1.       , 1.       , 1.       ,\n",
       "       2.0137527, 2.0137527, 2.0137527, 2.0137527, 1.       , 2.0137527,\n",
       "       1.       , 1.       , 1.       , 2.0137527, 1.       , 1.       ,\n",
       "       1.       , 1.       , 1.       , 1.       , 1.       , 1.       ,\n",
       "       2.0137527, 1.       , 1.       , 2.0137527, 2.0137527, 2.0137527,\n",
       "       2.0137527, 2.0137527, 1.       , 2.0137527, 2.0137527, 2.0137527,\n",
       "       2.0137527, 1.       , 1.       , 1.       , 2.0137527, 2.0137527,\n",
       "       1.       , 1.       , 1.       , 1.       , 1.       , 1.       ,\n",
       "       2.0137527, 1.       , 1.       , 1.       , 1.       , 1.       ,\n",
       "       1.       , 2.0137527, 2.0137527, 1.       , 1.       , 1.       ,\n",
       "       1.       , 1.       , 2.0137527, 1.       , 2.0137527, 1.       ,\n",
       "       2.0137527, 1.       , 2.0137527, 1.       , 2.0137527, 2.0137527,\n",
       "       1.       , 2.0137527, 2.0137527, 1.       , 2.0137527, 2.0137527,\n",
       "       1.       , 2.0137527, 2.0137527, 1.       , 2.0137527, 1.       ,\n",
       "       2.0137527, 2.0137527, 2.0137527, 2.0137527], dtype=float32)>"
      ]
     },
     "execution_count": 45,
     "metadata": {},
     "output_type": "execute_result"
    }
   ],
   "source": [
    "regression_pressure = generate_regression_pressure(farm_characteristics_data=farm_types)\n",
    "regression_pressure(parameters=0.7)"
   ]
  },
  {
   "cell_type": "code",
   "execution_count": 46,
   "id": "497aa203",
   "metadata": {
    "ExecuteTime": {
     "end_time": "2023-07-06T17:31:09.308970Z",
     "start_time": "2023-07-06T17:31:09.305245Z"
    }
   },
   "outputs": [],
   "source": [
    "def generate_pairwise_hazard_fn(farm_distance_matrix, farm_characteristics_data=None):\n",
    "    \"\"\"_summary_\n",
    "\n",
    "    Args:\n",
    "        farm_characteristics_data (_type_): features of farms, including a 1s column for regression\n",
    "        farm_locations_data (_type_): Northing-Easting coordinates of farms\n",
    "\n",
    "    Returns:\n",
    "        fn: fn which outputs a tensor of pairwise hazard rates \n",
    "    \"\"\"\n",
    "    spatial_kernel = generate_spatial_kernel(farm_distance_matrix)\n",
    "    regression_kernel = generate_regression_pressure(farm_characteristics_data)\n",
    "    \n",
    "    def compute_hazard(parameters):\n",
    "        # regression component - have a column of 1s in the data\n",
    "        # Fill in later\n",
    "\n",
    "        # spatial component - already exponentiated!\n",
    "        spatial = spatial_kernel(parameters[0])\n",
    "        \n",
    "        # regression component - already exponentiated!\n",
    "        regression = regression_kernel(parameters[1])\n",
    "        return tf.math.multiply(spatial,\n",
    "                                regression\n",
    "                               )\n",
    "\n",
    "    return compute_hazard"
   ]
  },
  {
   "cell_type": "code",
   "execution_count": 47,
   "id": "9de754b1",
   "metadata": {
    "ExecuteTime": {
     "end_time": "2023-07-06T17:31:09.327275Z",
     "start_time": "2023-07-06T17:31:09.310774Z"
    },
    "scrolled": false
   },
   "outputs": [
    {
     "data": {
      "text/plain": [
       "<tf.Tensor: shape=(1000,), dtype=float32, numpy=\n",
       "array([619.43756, 613.2016 , 502.18634, 478.77274, 526.73395, 663.11914,\n",
       "       522.4959 , 817.32495, 646.8234 , 491.78342, 761.1731 , 707.46094,\n",
       "       774.32184, 621.0154 , 774.30493, 329.7955 , 837.58307, 473.50876,\n",
       "       776.94745, 789.1935 , 341.71582, 473.94012, 798.83765, 564.94824,\n",
       "       779.30963, 677.85956, 659.8422 , 618.61707, 693.1407 , 453.7754 ,\n",
       "       586.5132 , 410.6225 , 377.8674 , 782.9976 , 751.70355, 540.4596 ,\n",
       "       720.36566, 535.42377, 767.8511 , 511.41415, 626.11786, 656.5018 ,\n",
       "       645.7009 , 624.41077, 641.1967 , 636.3826 , 391.46964, 754.0965 ,\n",
       "       621.36444, 813.47406, 635.9486 , 516.97754, 682.03516, 828.2966 ,\n",
       "       603.5759 , 410.64206, 380.418  , 675.2836 , 616.8308 , 728.78436,\n",
       "       667.17706, 792.7581 , 541.2004 , 490.4084 , 496.26776, 766.2086 ,\n",
       "       691.0686 , 789.134  , 752.2634 , 626.7334 , 732.9148 , 490.297  ,\n",
       "       523.8918 , 819.8834 , 830.3071 , 649.02014, 624.49335, 369.9115 ,\n",
       "       403.02478, 431.67038, 522.4403 , 662.3427 , 535.5419 , 508.20856,\n",
       "       686.69916, 467.32498, 327.71368, 651.6145 , 502.27142, 538.4711 ,\n",
       "       363.2805 , 672.6531 , 584.82056, 448.3289 , 537.8922 , 617.31226,\n",
       "       716.6705 , 613.8749 , 414.1691 , 729.2568 , 604.87146, 796.614  ,\n",
       "       609.72705, 554.9255 , 743.5688 , 557.2164 , 753.2728 , 746.0178 ,\n",
       "       536.5416 , 510.48972, 589.5338 , 565.089  , 330.13705, 566.81635,\n",
       "       477.79333, 475.1153 , 786.70966, 492.68124, 672.3194 , 495.82584,\n",
       "       790.5926 , 684.7128 , 415.8848 , 603.1455 , 593.3887 , 533.0144 ,\n",
       "       622.2646 , 506.54718, 518.8769 , 546.9571 , 548.53375, 574.4684 ,\n",
       "       493.50308, 738.59296, 694.99677, 494.66898, 391.05692, 823.1959 ,\n",
       "       739.01904, 703.4911 , 552.6168 , 747.72   , 739.1509 , 531.5785 ,\n",
       "       480.49527, 661.9202 , 836.79694, 337.8425 , 434.68277, 476.91208,\n",
       "       771.2427 , 712.2885 , 830.0768 , 590.5936 , 821.72595, 573.9183 ,\n",
       "       830.9478 , 463.6377 , 781.71643, 785.6673 , 623.6642 , 603.16595,\n",
       "       474.85464, 587.2065 , 821.56445, 615.2522 , 754.65265, 655.8077 ,\n",
       "       469.82944, 490.94806, 745.1666 , 667.35724, 482.16513, 828.06226,\n",
       "       548.285  , 835.98926, 546.82385, 629.7037 , 653.4545 , 780.11206,\n",
       "       815.257  , 697.0724 , 632.727  , 732.5002 , 566.27545, 751.59204,\n",
       "       749.3266 , 668.8278 , 599.68176, 525.43976, 517.6784 , 757.7895 ,\n",
       "       727.8496 , 820.5814 , 399.60794, 760.0112 , 687.2085 , 468.56177,\n",
       "       750.4716 , 731.85284, 672.6132 , 710.5947 , 547.97986, 727.105  ,\n",
       "       518.4683 , 811.47546, 524.0269 , 656.2711 , 461.91415, 773.1501 ,\n",
       "       570.503  , 718.8842 , 702.63086, 685.873  , 636.7674 , 598.4934 ,\n",
       "       830.6081 , 539.2523 , 604.25616, 667.21655, 475.687  , 473.2166 ,\n",
       "       535.9415 , 474.63205, 640.0031 , 658.9105 , 571.92615, 792.9929 ,\n",
       "       823.76324, 510.5041 , 745.9455 , 441.19565, 647.8252 , 525.04614,\n",
       "       548.448  , 759.808  , 560.101  , 624.582  , 507.88092, 587.8353 ,\n",
       "       667.56323, 549.7959 , 799.8633 , 742.58875, 636.63745, 712.1396 ,\n",
       "       783.6608 , 467.77457, 463.83273, 790.9074 , 509.44995, 511.31638,\n",
       "       536.8846 , 503.1136 , 436.35452, 570.17487, 620.05347, 667.45276,\n",
       "       749.8752 , 479.05804, 590.58905, 773.8276 , 755.7011 , 619.3551 ,\n",
       "       814.6059 , 495.73813, 386.74207, 628.3562 , 527.7928 , 621.1114 ,\n",
       "       386.6865 , 359.2346 , 498.09006, 436.74377, 533.81396, 491.95404,\n",
       "       397.49115, 622.4806 , 482.36557, 496.80566, 635.1196 , 538.5918 ,\n",
       "       580.7726 , 534.9885 , 406.5433 , 588.11237, 463.01297, 583.1477 ,\n",
       "       400.65002, 595.03625, 499.61374, 683.6015 , 361.70288, 643.828  ,\n",
       "       376.9084 , 517.56036, 479.16296, 506.6301 , 633.04895, 436.349  ,\n",
       "       714.33527, 590.6513 , 753.1621 , 680.5686 , 791.2668 , 441.85336,\n",
       "       701.7262 , 531.2079 , 580.955  , 685.53357, 633.7114 , 721.1792 ,\n",
       "       663.43616, 605.0423 , 512.65985, 606.98444, 697.3593 , 755.90247,\n",
       "       389.28336, 488.1139 , 778.78033, 818.9544 , 536.95435, 535.34216,\n",
       "       466.64474, 502.30692, 487.6156 , 419.97275, 771.6852 , 645.6444 ,\n",
       "       600.65405, 768.52356, 541.0143 , 720.2334 , 474.78812, 741.35333,\n",
       "       497.7367 , 835.9876 , 533.9501 , 762.0042 , 824.01575, 593.31024,\n",
       "       511.7918 , 551.3764 , 737.918  , 698.33044, 531.14465, 619.169  ,\n",
       "       480.64713, 498.4668 , 647.82556, 664.62335, 454.87875, 519.8782 ,\n",
       "       466.59454, 605.13055, 621.80646, 605.4744 , 461.11658, 608.3    ,\n",
       "       731.95703, 586.5578 , 523.104  , 444.95822, 652.9975 , 688.43317,\n",
       "       586.60297, 416.3611 , 506.06393, 614.73456, 742.9236 , 643.0525 ,\n",
       "       427.78156, 474.38876, 516.1293 , 728.832  , 608.8862 , 388.96194,\n",
       "       698.7525 , 595.9309 , 620.7696 , 804.22516, 555.48413, 745.81555,\n",
       "       496.7572 , 788.189  , 761.4652 , 368.6916 , 704.6731 , 498.7588 ,\n",
       "       424.97043, 659.02374, 500.3828 , 539.11285, 590.9673 , 812.76373,\n",
       "       761.32745, 728.0819 , 588.87537, 460.9955 , 490.81226, 669.4775 ,\n",
       "       352.66138, 503.61963, 540.85223, 418.87552, 612.1254 , 539.1182 ,\n",
       "       577.9538 , 513.5339 , 710.3072 , 524.2208 , 434.7245 , 632.7737 ,\n",
       "       643.95764, 614.7102 , 587.77264, 509.53384, 713.5243 , 512.2143 ,\n",
       "       496.61227, 698.8758 , 600.41547, 504.0725 , 596.5591 , 664.4849 ,\n",
       "       520.7764 , 659.4577 , 716.80914, 830.4806 , 763.75977, 510.61566,\n",
       "       747.93085, 730.7388 , 758.3466 , 690.3479 , 548.1778 , 670.5696 ,\n",
       "       667.8219 , 554.9865 , 555.77466, 493.9485 , 693.14136, 667.4418 ,\n",
       "       712.4934 , 661.33295, 655.25806, 703.1091 , 538.4774 , 595.47766,\n",
       "       495.60245, 618.8767 , 841.0889 , 523.9622 , 735.51056, 701.5372 ,\n",
       "       625.0582 , 537.37604, 727.3647 , 700.04425, 778.02057, 557.9107 ,\n",
       "       829.8509 , 805.97   , 817.3407 , 587.96686, 604.8954 , 730.3367 ,\n",
       "       510.33734, 604.7147 , 436.36862, 595.882  , 534.39856, 665.9116 ,\n",
       "       789.7505 , 800.88226, 517.5683 , 716.81775, 675.3206 , 507.98157,\n",
       "       824.482  , 839.67633, 510.78226, 697.9267 , 733.462  , 644.80695,\n",
       "       663.4039 , 722.5704 , 717.17255, 807.63   , 785.9801 , 517.68115,\n",
       "       533.3883 , 763.3551 , 440.04047, 503.6037 , 712.4901 , 580.09503,\n",
       "       475.16574, 806.9216 , 553.9258 , 510.76596, 832.87665, 538.24457,\n",
       "       526.0276 , 512.26575, 431.17212, 531.42035, 593.36456, 465.70288,\n",
       "       537.24255, 659.38794, 571.6956 , 676.08154, 664.078  , 407.42776,\n",
       "       558.6771 , 762.3335 , 532.10925, 522.2234 , 538.8782 , 671.53265,\n",
       "       653.69824, 426.133  , 419.0551 , 665.1521 , 606.9479 , 611.64624,\n",
       "       581.76294, 536.57806, 626.7425 , 782.28516, 658.2126 , 508.0524 ,\n",
       "       636.103  , 599.56757, 405.47968, 566.467  , 473.769  , 569.2751 ,\n",
       "       612.67633, 662.732  , 478.02548, 739.03235, 541.0814 , 706.4493 ,\n",
       "       450.13287, 753.38776, 513.21   , 829.34143, 756.1084 , 570.40826,\n",
       "       828.80524, 841.1533 , 820.29517, 557.1799 , 814.7142 , 469.32874,\n",
       "       739.86664, 778.3057 , 518.15784, 842.3899 , 693.79047, 790.0057 ,\n",
       "       618.4778 , 431.67575, 396.20084, 727.95044, 813.39465, 399.77805,\n",
       "       469.42822, 601.1132 , 623.56866, 613.18634, 738.4881 , 741.3175 ,\n",
       "       439.78128, 805.4794 , 644.9813 , 483.38065, 501.4654 , 443.66156,\n",
       "       595.66235, 765.7085 , 683.4122 , 649.4613 , 525.74744, 822.60657,\n",
       "       654.67523, 697.8954 , 657.30804, 706.75726, 639.1406 , 554.28937,\n",
       "       531.2099 , 732.5051 , 627.0838 , 580.7926 , 825.17834, 708.81165,\n",
       "       552.86145, 511.97272, 573.7314 , 567.8988 , 556.7958 , 431.3284 ,\n",
       "       458.3193 , 668.852  , 627.9395 , 491.38266, 747.0069 , 423.82022,\n",
       "       788.58923, 826.716  , 512.4188 , 638.5622 , 500.92987, 439.55765,\n",
       "       478.75452, 729.0251 , 740.0985 , 581.04987, 536.673  , 568.42755,\n",
       "       779.11206, 796.25977, 478.9484 , 496.72772, 671.42175, 702.41144,\n",
       "       495.72247, 641.22375, 510.95654, 490.11752, 710.75977, 579.9067 ,\n",
       "       811.5488 , 491.7764 , 556.06226, 771.5645 , 710.8467 , 688.5405 ,\n",
       "       482.72687, 436.53598, 552.3975 , 737.2938 , 426.86765, 425.12943,\n",
       "       390.51764, 528.8031 , 441.17902, 777.27625, 491.5197 , 802.1529 ,\n",
       "       475.94754, 586.0794 , 479.83057, 376.5365 , 516.45215, 511.93158,\n",
       "       601.89264, 669.8212 , 762.2962 , 565.0595 , 754.73175, 723.9804 ,\n",
       "       660.0353 , 609.2952 , 618.5562 , 656.92737, 359.08853, 598.8263 ,\n",
       "       700.95935, 493.71893, 446.36325, 619.2758 , 594.14557, 752.09485,\n",
       "       688.4905 , 461.14066, 615.3375 , 578.453  , 836.04205, 711.5793 ,\n",
       "       514.741  , 582.56946, 637.71936, 815.19037, 829.8268 , 466.21716,\n",
       "       527.02875, 542.7635 , 507.415  , 490.0069 , 349.01685, 624.8587 ,\n",
       "       493.5765 , 604.1833 , 446.7274 , 790.5136 , 618.1051 , 526.9334 ,\n",
       "       707.38043, 765.51636, 781.3096 , 358.42093, 383.13025, 473.15717,\n",
       "       581.5207 , 563.9502 , 540.68915, 511.7767 , 758.2475 , 641.4436 ,\n",
       "       436.05307, 467.18823, 789.2367 , 490.9735 , 501.95627, 764.8204 ,\n",
       "       410.87512, 406.732  , 790.37354, 673.632  , 734.8064 , 841.96466,\n",
       "       604.8173 , 665.62317, 757.5777 , 536.04126, 392.49567, 600.7003 ,\n",
       "       739.7409 , 708.4168 , 504.76865, 593.6316 , 578.0971 , 556.1502 ,\n",
       "       837.4817 , 585.06537, 704.39514, 590.4175 , 533.787  , 677.6925 ,\n",
       "       786.7793 , 474.0142 , 775.67444, 560.32446, 417.8865 , 833.56854,\n",
       "       690.82904, 710.5992 , 358.69495, 341.326  , 773.44293, 446.96213,\n",
       "       759.0369 , 573.8313 , 753.7862 , 571.84155, 763.2884 , 574.16516,\n",
       "       586.96796, 750.0471 , 482.0415 , 657.3591 , 677.2548 , 544.4046 ,\n",
       "       737.3134 , 785.3802 , 713.8215 , 533.798  , 359.69193, 781.49023,\n",
       "       538.5959 , 577.8913 , 396.1253 , 761.8502 , 797.2255 , 550.6744 ,\n",
       "       499.1341 , 524.7116 , 841.6662 , 601.4073 , 631.7615 , 764.27826,\n",
       "       723.7108 , 517.18805, 663.1261 , 479.1542 , 634.5361 , 378.10242,\n",
       "       580.02496, 760.2881 , 586.623  , 839.9491 , 575.98584, 734.1111 ,\n",
       "       576.3376 , 567.2124 , 819.7391 , 478.36133, 501.67233, 591.70197,\n",
       "       807.2769 , 584.6812 , 715.5648 , 492.92316, 821.22314, 636.8615 ,\n",
       "       527.55286, 775.7089 , 688.8046 , 682.0364 , 483.63025, 726.4473 ,\n",
       "       641.1474 , 821.8898 , 454.58344, 456.97836, 467.3612 , 548.1914 ,\n",
       "       487.11957, 687.48486, 758.4646 , 688.22363, 556.21027, 612.4775 ,\n",
       "       555.95264, 366.92435, 553.7473 , 804.7489 , 377.28363, 581.4161 ,\n",
       "       566.76337, 595.2462 , 626.95734, 676.6699 , 813.8164 , 575.87085,\n",
       "       835.03143, 518.86206, 525.30664, 528.24426, 314.1541 , 709.695  ,\n",
       "       626.80865, 737.325  , 774.9628 , 559.68243, 358.51047, 345.63568,\n",
       "       482.31012, 805.44666, 770.257  , 766.78577, 713.8083 , 651.48236,\n",
       "       551.9177 , 654.40326, 717.2918 , 681.183  , 600.9918 , 612.68616,\n",
       "       389.806  , 689.4703 , 519.55286, 522.9928 , 494.25186, 473.68585,\n",
       "       502.13593, 513.7722 , 618.91656, 573.5359 , 519.84406, 692.7325 ,\n",
       "       805.1913 , 378.5134 , 762.6215 , 627.1367 , 581.8389 , 599.37946,\n",
       "       833.9155 , 589.92615, 649.5425 , 556.8063 , 604.80536, 778.8568 ,\n",
       "       523.2037 , 666.80444, 520.2152 , 421.4307 , 611.0557 , 623.7709 ,\n",
       "       334.6723 , 587.7603 , 694.8131 , 708.9457 , 548.361  , 595.7663 ,\n",
       "       719.2715 , 342.1947 , 774.9926 , 729.5794 , 510.19305, 508.66168,\n",
       "       788.62445, 576.7508 , 345.41156, 730.83606, 758.3974 , 520.778  ,\n",
       "       332.7306 , 499.18378, 730.19055, 806.2838 , 369.40988, 528.79144,\n",
       "       655.9411 , 794.78656, 825.9243 , 764.2264 , 693.73   , 562.37   ,\n",
       "       794.25336, 658.27716, 820.40643, 483.534  , 531.33875, 682.7906 ,\n",
       "       724.3943 , 794.76996, 517.9627 , 809.05115, 459.42087, 415.29645,\n",
       "       419.3813 , 757.3696 , 573.38824, 663.12634, 609.2036 , 763.3234 ,\n",
       "       531.12714, 601.9834 , 652.5568 , 805.5045 , 640.09546, 564.3511 ,\n",
       "       500.22232, 835.4611 , 632.6742 , 474.68735, 463.8228 , 449.41913,\n",
       "       696.31055, 538.66925, 732.8225 , 524.228  , 527.90295, 709.8039 ,\n",
       "       478.8304 , 473.01688, 828.82056, 611.63385, 654.1317 , 805.3564 ,\n",
       "       815.18787, 622.4749 , 591.501  , 811.8843 , 406.6229 , 629.31683,\n",
       "       786.8657 , 390.6628 , 380.0428 , 536.3174 , 765.31195, 698.3231 ,\n",
       "       434.0887 , 597.1385 , 540.1361 , 680.48975, 732.1115 , 573.8505 ,\n",
       "       749.5173 , 519.96124, 670.79596, 630.5017 , 558.876  , 813.75525,\n",
       "       529.40576, 818.60785, 671.1237 , 813.97784, 828.1309 , 620.85504,\n",
       "       598.72253, 400.1615 , 816.0585 , 583.6434 ], dtype=float32)>"
      ]
     },
     "execution_count": 47,
     "metadata": {},
     "output_type": "execute_result"
    }
   ],
   "source": [
    "hazard_fn = generate_pairwise_hazard_fn(farm_distance_matrix=farm_distances, farm_characteristics_data=farm_types)\n",
    "tf.einsum('ij -> i', hazard_fn([500.0,0.7]))"
   ]
  },
  {
   "cell_type": "code",
   "execution_count": 48,
   "id": "6b9a2155",
   "metadata": {
    "ExecuteTime": {
     "end_time": "2023-07-06T17:31:09.332758Z",
     "start_time": "2023-07-06T17:31:09.329426Z"
    }
   },
   "outputs": [],
   "source": [
    "# make rate fn for simulation \n",
    "def make_rate_fn(parameters):\n",
    "    # keep data variables and parameters on the outside\n",
    "    def rate_fn(t, state):\n",
    "        # t and state change with each iteration of the Gillespie so they are\n",
    "        # a loop variable and thus inside the rate_fn\n",
    "        si_rate = tf.einsum('ij -> i', hazard_fn(parameters))\n",
    "        ir_rate = tf.broadcast_to([70.0], shape=si_rate.shape)\n",
    "        return tf.stack([si_rate, ir_rate], axis=0)  # [R x M]\n",
    "    return rate_fn"
   ]
  },
  {
   "cell_type": "code",
   "execution_count": 49,
   "id": "0b3e6375",
   "metadata": {
    "ExecuteTime": {
     "end_time": "2023-07-06T17:31:09.342539Z",
     "start_time": "2023-07-06T17:31:09.334843Z"
    }
   },
   "outputs": [
    {
     "data": {
      "text/plain": [
       "<tf.Tensor: shape=(2, 1000), dtype=float32, numpy=\n",
       "array([[417.18063, 415.5016 , 341.01025, ..., 278.43665, 555.557  ,\n",
       "        398.46707],\n",
       "       [ 70.     ,  70.     ,  70.     , ...,  70.     ,  70.     ,\n",
       "         70.     ]], dtype=float32)>"
      ]
     },
     "execution_count": 49,
     "metadata": {},
     "output_type": "execute_result"
    }
   ],
   "source": [
    "make_rate_fn([500.0, 0.07])(1,np.array([[9],\n",
    "                          [1],\n",
    "                          [0]], dtype=np.float32) )"
   ]
  },
  {
   "cell_type": "code",
   "execution_count": 50,
   "id": "73a79468",
   "metadata": {
    "ExecuteTime": {
     "end_time": "2023-07-06T17:31:09.347108Z",
     "start_time": "2023-07-06T17:31:09.344379Z"
    }
   },
   "outputs": [],
   "source": [
    "# Define variables to govern epidemic\n",
    "sir_graph = np.array([[-1, 0],\n",
    "                      [1, -1],\n",
    "                      [0, 1]], dtype=np.float32)\n",
    "\n",
    "\n",
    "initial_state = np.array([[900],\n",
    "                          [100],\n",
    "                          [0]], dtype=np.float32)"
   ]
  },
  {
   "cell_type": "code",
   "execution_count": 51,
   "id": "5b7b69c6",
   "metadata": {
    "ExecuteTime": {
     "end_time": "2023-07-06T17:31:09.355553Z",
     "start_time": "2023-07-06T17:31:09.348950Z"
    }
   },
   "outputs": [],
   "source": [
    "example_epidemic = epi_sim.ContinuousTimeStateTransitionModelSimulation(\n",
    "    incidence_matrix=sir_graph,\n",
    "    initial_state=initial_state,\n",
    "    transition_rate_fn=make_rate_fn([500,0.07])\n",
    ")"
   ]
  },
  {
   "cell_type": "code",
   "execution_count": 52,
   "id": "7e9aa83a",
   "metadata": {
    "ExecuteTime": {
     "end_time": "2023-07-06T17:32:34.015355Z",
     "start_time": "2023-07-06T17:31:09.357393Z"
    }
   },
   "outputs": [],
   "source": [
    "# simulate the epidemic\n",
    "epidemic1 = example_epidemic.simulate_continuous_time_state_transition_model()\n",
    "time_stamps, transition_types, individual = example_epidemic.simulate_continuous_time_state_transition_model()"
   ]
  },
  {
   "cell_type": "code",
   "execution_count": 53,
   "id": "06a5ceb0",
   "metadata": {
    "ExecuteTime": {
     "end_time": "2023-07-06T17:32:34.089784Z",
     "start_time": "2023-07-06T17:32:34.022086Z"
    }
   },
   "outputs": [
    {
     "data": {
      "text/plain": [
       "(<tf.Tensor: shape=(1900,), dtype=float32, numpy=\n",
       " array([8.450908e-08, 9.623609e-07, 2.227527e-06, ..., 7.496857e-02,\n",
       "        8.624509e-02, 8.776300e-02], dtype=float32)>,\n",
       " <tf.Tensor: shape=(1900,), dtype=int32, numpy=array([0, 0, 0, ..., 1, 1, 1], dtype=int32)>,\n",
       " <tf.Tensor: shape=(1900,), dtype=int32, numpy=array([824, 345, 528, ..., 777, 941,  19], dtype=int32)>)"
      ]
     },
     "execution_count": 53,
     "metadata": {},
     "output_type": "execute_result"
    }
   ],
   "source": [
    "time_stamps, transition_types, individual"
   ]
  },
  {
   "cell_type": "code",
   "execution_count": 54,
   "id": "6bc077cd",
   "metadata": {
    "ExecuteTime": {
     "end_time": "2023-07-06T17:32:35.599855Z",
     "start_time": "2023-07-06T17:32:34.098254Z"
    }
   },
   "outputs": [],
   "source": [
    "long_form_epi1 = epi_sim._compute_state(initial_state= epi_sim._expand_state(initial_state),\n",
    "                      event_list= epidemic1,\n",
    "                      incidence_matrix=sir_graph)"
   ]
  },
  {
   "cell_type": "code",
   "execution_count": 55,
   "id": "89f4eb18",
   "metadata": {
    "ExecuteTime": {
     "end_time": "2023-07-06T17:32:35.653375Z",
     "start_time": "2023-07-06T17:32:35.607015Z"
    }
   },
   "outputs": [
    {
     "data": {
      "text/plain": [
       "(<tf.Tensor: shape=(1901,), dtype=float32, numpy=\n",
       " array([0.0000000e+00, 1.2049096e-06, 3.8831395e-06, ..., 1.7959175e+01,\n",
       "        1.8044518e+01, 1.8141628e+01], dtype=float32)>,\n",
       " <tf.Tensor: shape=(1901, 3, 1000), dtype=float32, numpy=\n",
       " array([[[1., 1., 1., ..., 0., 0., 0.],\n",
       "         [0., 0., 0., ..., 1., 1., 1.],\n",
       "         [0., 0., 0., ..., 0., 0., 0.]],\n",
       " \n",
       "        [[1., 1., 1., ..., 0., 0., 0.],\n",
       "         [0., 0., 0., ..., 1., 1., 1.],\n",
       "         [0., 0., 0., ..., 0., 0., 0.]],\n",
       " \n",
       "        [[1., 1., 1., ..., 0., 0., 0.],\n",
       "         [0., 0., 0., ..., 1., 1., 1.],\n",
       "         [0., 0., 0., ..., 0., 0., 0.]],\n",
       " \n",
       "        ...,\n",
       " \n",
       "        [[0., 0., 0., ..., 0., 0., 0.],\n",
       "         [0., 0., 0., ..., 0., 0., 0.],\n",
       "         [1., 1., 1., ..., 1., 1., 1.]],\n",
       " \n",
       "        [[0., 0., 0., ..., 0., 0., 0.],\n",
       "         [0., 0., 0., ..., 0., 0., 0.],\n",
       "         [1., 1., 1., ..., 1., 1., 1.]],\n",
       " \n",
       "        [[0., 0., 0., ..., 0., 0., 0.],\n",
       "         [0., 0., 0., ..., 0., 0., 0.],\n",
       "         [1., 1., 1., ..., 1., 1., 1.]]], dtype=float32)>)"
      ]
     },
     "execution_count": 55,
     "metadata": {},
     "output_type": "execute_result"
    }
   ],
   "source": [
    "long_form_epi1"
   ]
  },
  {
   "cell_type": "code",
   "execution_count": 56,
   "id": "ba2813f5",
   "metadata": {
    "ExecuteTime": {
     "end_time": "2023-07-06T17:32:35.752054Z",
     "start_time": "2023-07-06T17:32:35.737143Z"
    }
   },
   "outputs": [],
   "source": [
    "summary = tf.concat([tf.expand_dims(long_form_epi1[0], axis=1, name='time'),\n",
    "                         tf.reduce_sum(long_form_epi1[1], axis=-1)],\n",
    "                        axis=-1,\n",
    "                        name=\"full_epidemic\")\n",
    "format_summary = pd.DataFrame(summary.numpy())\n",
    "\n",
    "new_names = dict(zip(format_summary.columns,\n",
    "                         ['time'] + ['S', 'I', 'R'])\n",
    "                     )\n",
    "\n",
    "format_summary = format_summary.rename(columns=new_names)"
   ]
  },
  {
   "cell_type": "code",
   "execution_count": 57,
   "id": "f5410906",
   "metadata": {
    "ExecuteTime": {
     "end_time": "2023-07-06T17:32:36.216532Z",
     "start_time": "2023-07-06T17:32:35.758047Z"
    }
   },
   "outputs": [
    {
     "data": {
      "text/plain": [
       "Text(0.5, 1.0, 'Simulated Epidemic')"
      ]
     },
     "execution_count": 57,
     "metadata": {},
     "output_type": "execute_result"
    },
    {
     "data": {
      "image/png": "[encoded data removed]",
      "text/plain": [
       "<Figure size 1500x1000 with 1 Axes>"
      ]
     },
     "metadata": {},
     "output_type": "display_data"
    }
   ],
   "source": [
    "format_summary.iloc[:, ].plot(x='time')\n",
    "plt.title('Simulated Epidemic')"
   ]
  },
  {
   "cell_type": "markdown",
   "id": "6f602be8",
   "metadata": {},
   "source": [
    "# Inference \n",
    "## Centred MCMC "
   ]
  },
  {
   "cell_type": "code",
   "execution_count": 58,
   "id": "28e911a4",
   "metadata": {
    "ExecuteTime": {
     "end_time": "2023-07-06T17:32:36.243144Z",
     "start_time": "2023-07-06T17:32:36.220076Z"
    }
   },
   "outputs": [],
   "source": [
    "@tf.function(jit_compile=True)\n",
    "def centred_MCMC(target_log_prob_fn, initial_parameter_values, iter=25):\n",
    "    '''\n",
    "    MCMC sampler for centred parameterization of a \n",
    "    partially observed epidemic. Data generated from \n",
    "    SIR model. \n",
    "    '''\n",
    "\n",
    "    dtype = np.float32\n",
    "    initial_parameter_values = tf.convert_to_tensor(initial_parameter_values,\n",
    "                                                    dtype=dtype)\n",
    "\n",
    "    # generate initial values for missing data\n",
    "    infection_times = removal_times - 5.0\n",
    "\n",
    "    def single_iteration(parameters, infection_times):\n",
    "        '''\n",
    "        Define a single iteration of the sampler. We first update the parameters,\n",
    "        followed by updating an infection time. \n",
    "        '''\n",
    "\n",
    "        # 1(a) Propose new parameter values from Q(.)\n",
    "        new_param = tfd.Normal(loc=parameters,\n",
    "                               scale=[0.02, 0.01, 0.001, 0.01]).sample()\n",
    "\n",
    "        # 1(b) Accept/reject\n",
    "        a1 = target_log_prob_fn(new_param, infection_times) - \\\n",
    "            target_log_prob_fn(parameters, infection_times)\n",
    "\n",
    "        # 1(c) Check\n",
    "        def parameter_true_fn():\n",
    "            return new_param, 1\n",
    "\n",
    "        def parameter_false_fn():\n",
    "            return parameters, 0\n",
    "\n",
    "        is_param_accept = tf.math.log(tfd.Uniform().sample()) < a1\n",
    "\n",
    "        parameters, result_param = tf.cond(is_param_accept,\n",
    "                                           parameter_true_fn,\n",
    "                                           parameter_false_fn)\n",
    "\n",
    "        # 2(a) Propose new infection time from Q_i(.)\n",
    "        # Part i - choose a person\n",
    "        individual_ID = tfd.Categorical(\n",
    "            logits=tf.zeros_like(removal_times)).sample()\n",
    "        # Part ii - propose new infection time\n",
    "        proposal = tfd.Exponential(rate=1.5)\n",
    "        new_infectious_period = proposal.sample()\n",
    "\n",
    "        current_infectious_periods = removal_times - infection_times\n",
    "        new_infectious_periods = tf.tensor_scatter_nd_update(\n",
    "            tensor=current_infectious_periods,\n",
    "            indices=[[individual_ID]],\n",
    "            updates=[new_infectious_period]\n",
    "        )\n",
    "        new_infection_times = removal_times - new_infectious_periods\n",
    "\n",
    "        # 2(b) Accept/reject\n",
    "        a2 = (\n",
    "            target_log_prob_fn(parameters, new_infection_times)\n",
    "            - target_log_prob_fn(parameters, infection_times)\n",
    "            + proposal.log_prob(\n",
    "                tf.gather(current_infectious_periods, individual_ID)\n",
    "            )\n",
    "            - proposal.log_prob(new_infectious_period)\n",
    "        )\n",
    "\n",
    "        # 2(c) Check\n",
    "        def infection_true_fn():\n",
    "            return new_infection_times, 1\n",
    "\n",
    "        def infection_false_fn():\n",
    "            return infection_times, 0\n",
    "\n",
    "        is_infection_accept = tf.math.log(tfd.Uniform().sample()) < a2\n",
    "\n",
    "        infection_times, result_inf = tf.cond(is_infection_accept,\n",
    "                                              infection_true_fn,\n",
    "                                              infection_false_fn)\n",
    "\n",
    "        return x\n",
    "\n",
    "    # Construct while loop here\n",
    "    parameter_samples = tf.TensorArray(\n",
    "        initial_parameter_values.dtype, size=iter)\n",
    "    infection_times_samples = tf.TensorArray(infection_times.dtype, size=iter)\n",
    "    results = tf.TensorArray(infection_times.dtype, size=iter)\n",
    "\n",
    "    def cond(i,\n",
    "             current_parameters,\n",
    "             current_infection_times,\n",
    "             parameter_accum,\n",
    "             infection_times_accum,\n",
    "             results_accum):\n",
    "        return i < iter\n",
    "\n",
    "    def body(i,\n",
    "             current_parameters,\n",
    "             current_infection_times,\n",
    "             parameter_accum,\n",
    "             infection_times_accum,\n",
    "             results_accum):\n",
    "\n",
    "        (next_parameters,\n",
    "         next_infection_times,\n",
    "         results) = single_iteration(parameters=current_parameters,\n",
    "                                     infection_times=current_infection_times)\n",
    "\n",
    "        parameter_accum = parameter_accum.write(i, next_parameters)\n",
    "        infection_times_accum = infection_times_accum.write(\n",
    "            i, next_infection_times)\n",
    "        results_accum = results_accum.write(i, results)\n",
    "\n",
    "        return (i+1,\n",
    "                next_parameters,\n",
    "                next_infection_times,\n",
    "                parameter_accum,\n",
    "                infection_times_accum,\n",
    "                results_accum)\n",
    "\n",
    "    (\n",
    "        _1,\n",
    "        _2,\n",
    "        _3,\n",
    "        parameter_samples,\n",
    "        infection_times_samples,\n",
    "        results) = tf.while_loop(cond=cond,\n",
    "                                 body=body,\n",
    "                                 loop_vars=(0,\n",
    "                                            initial_parameter_values,\n",
    "                                            infection_times,\n",
    "                                            parameter_samples,\n",
    "                                            infection_times_samples,\n",
    "                                            results)\n",
    "                                 )\n",
    "    return parameter_samples.stack(), infection_times_samples.stack(), results.stack()"
   ]
  },
  {
   "cell_type": "markdown",
   "id": "3d40fb50",
   "metadata": {
    "ExecuteTime": {
     "end_time": "2023-06-08T14:38:23.810447Z",
     "start_time": "2023-06-08T14:38:23.741401Z"
    }
   },
   "source": [
    "## Target log prob "
   ]
  },
  {
   "cell_type": "code",
   "execution_count": 59,
   "id": "eff3c3a5",
   "metadata": {
    "ExecuteTime": {
     "end_time": "2023-07-06T17:32:36.256296Z",
     "start_time": "2023-07-06T17:32:36.250057Z"
    }
   },
   "outputs": [],
   "source": [
    "formatted_data = pd.DataFrame({'time_stamp':time_stamps, 'event_type':transition_types, 'ind_id':individual})"
   ]
  },
  {
   "cell_type": "code",
   "execution_count": 60,
   "id": "461ccc7d",
   "metadata": {
    "ExecuteTime": {
     "end_time": "2023-07-06T17:32:36.282975Z",
     "start_time": "2023-07-06T17:32:36.262403Z"
    }
   },
   "outputs": [
    {
     "data": {
      "text/html": [
       "<div>\n",
       "<style scoped>\n",
       "    .dataframe tbody tr th:only-of-type {\n",
       "        vertical-align: middle;\n",
       "    }\n",
       "\n",
       "    .dataframe tbody tr th {\n",
       "        vertical-align: top;\n",
       "    }\n",
       "\n",
       "    .dataframe thead th {\n",
       "        text-align: right;\n",
       "    }\n",
       "</style>\n",
       "<table border=\"1\" class=\"dataframe\">\n",
       "  <thead>\n",
       "    <tr style=\"text-align: right;\">\n",
       "      <th></th>\n",
       "      <th>time_stamp</th>\n",
       "      <th>event_type</th>\n",
       "      <th>ind_id</th>\n",
       "    </tr>\n",
       "  </thead>\n",
       "  <tbody>\n",
       "    <tr>\n",
       "      <th>84</th>\n",
       "      <td>0.000192</td>\n",
       "      <td>0</td>\n",
       "      <td>0</td>\n",
       "    </tr>\n",
       "    <tr>\n",
       "      <th>1423</th>\n",
       "      <td>0.012584</td>\n",
       "      <td>1</td>\n",
       "      <td>0</td>\n",
       "    </tr>\n",
       "    <tr>\n",
       "      <th>1840</th>\n",
       "      <td>0.040039</td>\n",
       "      <td>1</td>\n",
       "      <td>1</td>\n",
       "    </tr>\n",
       "    <tr>\n",
       "      <th>341</th>\n",
       "      <td>0.001058</td>\n",
       "      <td>0</td>\n",
       "      <td>1</td>\n",
       "    </tr>\n",
       "    <tr>\n",
       "      <th>946</th>\n",
       "      <td>0.004698</td>\n",
       "      <td>0</td>\n",
       "      <td>2</td>\n",
       "    </tr>\n",
       "    <tr>\n",
       "      <th>...</th>\n",
       "      <td>...</td>\n",
       "      <td>...</td>\n",
       "      <td>...</td>\n",
       "    </tr>\n",
       "    <tr>\n",
       "      <th>1893</th>\n",
       "      <td>0.068254</td>\n",
       "      <td>1</td>\n",
       "      <td>995</td>\n",
       "    </tr>\n",
       "    <tr>\n",
       "      <th>648</th>\n",
       "      <td>0.002539</td>\n",
       "      <td>1</td>\n",
       "      <td>996</td>\n",
       "    </tr>\n",
       "    <tr>\n",
       "      <th>1441</th>\n",
       "      <td>0.012875</td>\n",
       "      <td>1</td>\n",
       "      <td>997</td>\n",
       "    </tr>\n",
       "    <tr>\n",
       "      <th>1072</th>\n",
       "      <td>0.006206</td>\n",
       "      <td>1</td>\n",
       "      <td>998</td>\n",
       "    </tr>\n",
       "    <tr>\n",
       "      <th>1826</th>\n",
       "      <td>0.036787</td>\n",
       "      <td>1</td>\n",
       "      <td>999</td>\n",
       "    </tr>\n",
       "  </tbody>\n",
       "</table>\n",
       "<p>1900 rows × 3 columns</p>\n",
       "</div>"
      ],
      "text/plain": [
       "      time_stamp  event_type  ind_id\n",
       "84      0.000192           0       0\n",
       "1423    0.012584           1       0\n",
       "1840    0.040039           1       1\n",
       "341     0.001058           0       1\n",
       "946     0.004698           0       2\n",
       "...          ...         ...     ...\n",
       "1893    0.068254           1     995\n",
       "648     0.002539           1     996\n",
       "1441    0.012875           1     997\n",
       "1072    0.006206           1     998\n",
       "1826    0.036787           1     999\n",
       "\n",
       "[1900 rows x 3 columns]"
      ]
     },
     "execution_count": 60,
     "metadata": {},
     "output_type": "execute_result"
    }
   ],
   "source": [
    "formatted_data.sort_values('ind_id')"
   ]
  },
  {
   "cell_type": "code",
   "execution_count": 61,
   "id": "04d31d49",
   "metadata": {
    "ExecuteTime": {
     "end_time": "2023-07-06T17:32:36.317158Z",
     "start_time": "2023-07-06T17:32:36.286378Z"
    }
   },
   "outputs": [
    {
     "name": "stderr",
     "output_type": "stream",
     "text": [
      "/var/folders/_q/07k1y14x087brt3tmd2bs1740000gn/T/ipykernel_2324/1499167911.py:1: FutureWarning: This dataframe has a column name that matches the 'value_name' column name of the resulting Dataframe. In the future this will raise an error, please set the 'value_name' parameter of DataFrame.melt to a unique name.\n",
      "  event_time_data = formatted_data.melt(id_vars=['ind_id', 'event_type'],\n"
     ]
    }
   ],
   "source": [
    "event_time_data = formatted_data.melt(id_vars=['ind_id', 'event_type'],\n",
    "                                      value_vars=['time_stamp'],\n",
    "                                      value_name='time_stamp').sort_values('ind_id').pivot(index='ind_id',\n",
    "                                                                                           columns='event_type',\n",
    "                                                                                           values='time_stamp').fillna(0.0)"
   ]
  },
  {
   "cell_type": "code",
   "execution_count": 62,
   "id": "d17ff325",
   "metadata": {
    "ExecuteTime": {
     "end_time": "2023-07-06T17:32:36.342674Z",
     "start_time": "2023-07-06T17:32:36.322328Z"
    }
   },
   "outputs": [
    {
     "data": {
      "text/html": [
       "<div>\n",
       "<style scoped>\n",
       "    .dataframe tbody tr th:only-of-type {\n",
       "        vertical-align: middle;\n",
       "    }\n",
       "\n",
       "    .dataframe tbody tr th {\n",
       "        vertical-align: top;\n",
       "    }\n",
       "\n",
       "    .dataframe thead th {\n",
       "        text-align: right;\n",
       "    }\n",
       "</style>\n",
       "<table border=\"1\" class=\"dataframe\">\n",
       "  <thead>\n",
       "    <tr style=\"text-align: right;\">\n",
       "      <th>event_type</th>\n",
       "      <th>0</th>\n",
       "      <th>1</th>\n",
       "    </tr>\n",
       "    <tr>\n",
       "      <th>ind_id</th>\n",
       "      <th></th>\n",
       "      <th></th>\n",
       "    </tr>\n",
       "  </thead>\n",
       "  <tbody>\n",
       "    <tr>\n",
       "      <th>0</th>\n",
       "      <td>0.000192</td>\n",
       "      <td>0.012584</td>\n",
       "    </tr>\n",
       "    <tr>\n",
       "      <th>1</th>\n",
       "      <td>0.001058</td>\n",
       "      <td>0.040039</td>\n",
       "    </tr>\n",
       "    <tr>\n",
       "      <th>2</th>\n",
       "      <td>0.004698</td>\n",
       "      <td>0.007077</td>\n",
       "    </tr>\n",
       "    <tr>\n",
       "      <th>3</th>\n",
       "      <td>0.000718</td>\n",
       "      <td>0.038892</td>\n",
       "    </tr>\n",
       "    <tr>\n",
       "      <th>4</th>\n",
       "      <td>0.002699</td>\n",
       "      <td>0.019722</td>\n",
       "    </tr>\n",
       "    <tr>\n",
       "      <th>...</th>\n",
       "      <td>...</td>\n",
       "      <td>...</td>\n",
       "    </tr>\n",
       "    <tr>\n",
       "      <th>995</th>\n",
       "      <td>0.000000</td>\n",
       "      <td>0.068254</td>\n",
       "    </tr>\n",
       "    <tr>\n",
       "      <th>996</th>\n",
       "      <td>0.000000</td>\n",
       "      <td>0.002539</td>\n",
       "    </tr>\n",
       "    <tr>\n",
       "      <th>997</th>\n",
       "      <td>0.000000</td>\n",
       "      <td>0.012875</td>\n",
       "    </tr>\n",
       "    <tr>\n",
       "      <th>998</th>\n",
       "      <td>0.000000</td>\n",
       "      <td>0.006206</td>\n",
       "    </tr>\n",
       "    <tr>\n",
       "      <th>999</th>\n",
       "      <td>0.000000</td>\n",
       "      <td>0.036787</td>\n",
       "    </tr>\n",
       "  </tbody>\n",
       "</table>\n",
       "<p>1000 rows × 2 columns</p>\n",
       "</div>"
      ],
      "text/plain": [
       "event_type         0         1\n",
       "ind_id                        \n",
       "0           0.000192  0.012584\n",
       "1           0.001058  0.040039\n",
       "2           0.004698  0.007077\n",
       "3           0.000718  0.038892\n",
       "4           0.002699  0.019722\n",
       "...              ...       ...\n",
       "995         0.000000  0.068254\n",
       "996         0.000000  0.002539\n",
       "997         0.000000  0.012875\n",
       "998         0.000000  0.006206\n",
       "999         0.000000  0.036787\n",
       "\n",
       "[1000 rows x 2 columns]"
      ]
     },
     "execution_count": 62,
     "metadata": {},
     "output_type": "execute_result"
    }
   ],
   "source": [
    "event_time_data"
   ]
  },
  {
   "cell_type": "code",
   "execution_count": 63,
   "id": "142b7c84",
   "metadata": {
    "ExecuteTime": {
     "end_time": "2023-07-06T17:32:36.358005Z",
     "start_time": "2023-07-06T17:32:36.348405Z"
    }
   },
   "outputs": [
    {
     "data": {
      "text/plain": [
       "array([[8.45090824e-08, 8.24000000e+02, 0.00000000e+00],\n",
       "       [9.62360900e-07, 3.45000000e+02, 0.00000000e+00],\n",
       "       [2.22752692e-06, 5.28000000e+02, 0.00000000e+00],\n",
       "       ...,\n",
       "       [7.49685690e-02, 7.77000000e+02, 1.00000000e+00],\n",
       "       [8.62450898e-02, 9.41000000e+02, 1.00000000e+00],\n",
       "       [8.77629966e-02, 1.90000000e+01, 1.00000000e+00]])"
      ]
     },
     "execution_count": 63,
     "metadata": {},
     "output_type": "execute_result"
    }
   ],
   "source": [
    "np.column_stack((time_stamps, individual,transition_types))"
   ]
  },
  {
   "cell_type": "code",
   "execution_count": 64,
   "id": "85602e1e",
   "metadata": {
    "ExecuteTime": {
     "end_time": "2023-07-06T17:32:36.384964Z",
     "start_time": "2023-07-06T17:32:36.369529Z"
    }
   },
   "outputs": [
    {
     "data": {
      "text/plain": [
       "<tf.Tensor: shape=(1000,), dtype=int32, numpy=\n",
       "array([942, 962, 967, 925, 910, 813, 114, 568, 298, 987, 786, 805, 433,\n",
       "       126,  84, 792, 927, 455, 917, 101, 838, 680, 181, 185, 481, 370,\n",
       "       794,  44, 209, 887,  79, 454, 744, 413,  33, 863,  97,  81, 770,\n",
       "       678,  18,  89, 268, 642, 782, 524, 701, 935, 504, 775, 827, 303,\n",
       "       946, 906, 904,  41,   7,  62, 589, 653, 229, 512, 364, 377, 106,\n",
       "       306, 989, 833, 643, 259, 919, 996, 447, 546, 791, 874, 324, 936,\n",
       "       758, 211, 158,  50, 508, 873, 953, 489, 784,  57, 639,  29, 249,\n",
       "       945, 550, 980, 956, 212, 727, 201, 881, 831, 383, 427, 421, 834,\n",
       "       556, 867, 169, 969, 787, 865, 152, 565, 591, 554, 993, 246, 283,\n",
       "       341, 418, 264, 396, 850, 667, 244,  23, 171, 221, 446, 366, 286,\n",
       "       374, 271, 426, 289, 598, 354, 886, 123, 584, 981,  17, 724, 810,\n",
       "       316, 937, 793, 703, 679, 503, 182, 510, 336,  34, 272, 415, 320,\n",
       "       302, 345, 745, 190, 983, 752, 195, 817, 799, 988, 644, 243, 911,\n",
       "       738, 192, 939, 716, 606, 142,  28, 641, 125, 823,  54,  98, 971,\n",
       "       933, 860, 759, 198, 274, 275, 141, 253, 384, 237, 687, 151, 255,\n",
       "       697, 443, 469, 339, 304, 803, 647, 184, 762, 208, 952, 439, 284,\n",
       "       636,  30, 814, 764, 570, 609, 920, 876, 261, 301, 131,  46, 722,\n",
       "       682, 165, 351, 670, 619, 968, 812,  80, 400, 655, 852, 862, 492,\n",
       "        58, 884, 676,  66, 461, 325, 245, 365, 314, 760, 877, 594, 849,\n",
       "       677, 553, 293, 658, 451, 581,  87, 765, 998, 109, 528, 707, 205,\n",
       "       893, 664, 173, 146, 854, 247, 231, 250, 367, 651, 599, 767, 362,\n",
       "       804, 572, 180, 818, 539, 313, 143,  13, 459, 230, 266, 824, 756,\n",
       "       200, 203, 617, 338, 474,  70, 537, 595,  90,   2, 607, 170, 839,\n",
       "       605, 353,  86, 645, 586, 349, 673, 841, 329, 505, 714, 256, 898,\n",
       "       223,   6, 502, 549,  32, 191, 332, 900,  48, 746, 726,  42, 688,\n",
       "       112, 479, 410, 986,  69, 300, 601, 156, 431, 448, 692, 545, 352,\n",
       "       493, 882, 985, 659, 263, 402, 359, 187, 732, 638, 428, 929, 436,\n",
       "       540,  61, 287,  99, 153, 561,  92,  12, 974, 475, 846, 305, 102,\n",
       "       837, 872,   5, 577, 825, 189, 943, 674, 671,  14, 139, 864, 916,\n",
       "       535, 922, 538,  36, 806, 533, 624, 596, 567, 602, 162, 958,  82,\n",
       "       326, 148, 163,  15, 520, 627, 178,  94, 856, 252, 669, 819, 928,\n",
       "       879, 875, 399, 611, 557, 232, 321, 360, 294, 720, 348, 982, 197,\n",
       "       496, 763,  53, 356, 134,  45, 262, 149, 279, 322, 580, 698, 571,\n",
       "       694, 215, 725, 122, 780, 199, 741, 513, 478, 130,  65, 739, 368,\n",
       "        11, 186, 608, 648, 219, 135, 635, 378, 788, 811, 593, 870,  67,\n",
       "       115, 718, 346, 228, 737, 932, 826, 235, 423,  51, 751, 121, 435,\n",
       "       559, 662, 233, 630, 858, 626, 166, 990, 830, 736, 972, 902, 652,\n",
       "       350, 706, 137, 686, 257, 491, 696, 206, 975, 144, 926, 560, 959,\n",
       "        24,  47, 693, 155,  26,  78, 949, 730, 783, 747, 807, 529, 551,\n",
       "       921, 700, 548, 416, 218, 843, 344, 543, 973, 202, 853, 157, 311,\n",
       "       462, 614, 950, 487,  39, 120, 771, 389, 486, 140, 527, 420, 204,\n",
       "       600,   0, 381, 280, 388, 938, 569, 424, 901,  10, 376,  60, 167,\n",
       "       976, 494,  95, 194, 997, 618, 785,  64, 116, 260, 622, 914, 582,\n",
       "       829, 335, 407,  37, 947, 419, 542, 238, 113, 132,  74, 517, 717,\n",
       "       506, 923, 964, 869, 845, 564, 798, 330, 460, 699, 597, 888,  52,\n",
       "         8, 940, 802, 781, 472, 118, 526, 133, 801, 327, 992, 761, 690,\n",
       "       808, 499,  43, 291, 628, 963, 855, 721, 899, 222, 207, 795, 108,\n",
       "       822, 892, 523, 136, 944, 903, 649, 176, 613, 631, 632, 518, 861,\n",
       "       278, 809, 604, 851, 395, 915, 532, 924, 347, 525, 296, 890, 769,\n",
       "       110, 355, 552, 705, 317, 422, 444, 970, 821, 731, 768, 458, 948,\n",
       "       119, 369, 248, 930, 629, 470, 100, 934, 960, 710, 691, 224, 509,\n",
       "       265, 164, 723, 429, 138, 660, 160, 750, 776, 979, 728, 832, 267,\n",
       "       387, 172, 797, 273, 213, 515, 909,  27, 848, 534, 871, 615, 620,\n",
       "       497, 107, 315, 815, 740,  59,  38, 558, 665, 463, 868, 681, 251,\n",
       "       161, 382, 285, 464, 500, 766, 666, 193, 456, 450, 288, 711,  21,\n",
       "       757, 398, 994, 465, 912,   4, 340, 866, 220, 299, 685, 844, 683,\n",
       "       432, 277, 587, 471, 404, 290, 129, 779, 373, 588, 411, 225, 307,\n",
       "       363, 380, 978, 168, 796, 239, 242, 214, 957, 836, 828,  75, 955,\n",
       "       403, 541, 128,  68,  16, 408, 905, 753,  88, 483, 772, 473, 907,\n",
       "       704, 654, 254, 511, 790, 522, 174, 372,  72, 578, 621, 337, 954,\n",
       "       966, 358, 477, 276, 236, 375, 145, 269, 127, 270, 405, 880, 401,\n",
       "       573, 675, 319, 897, 295, 878, 889, 216, 891, 440, 894, 498, 392,\n",
       "       438,  73, 485, 442, 742, 507, 394, 816, 592, 385, 789, 357, 331,\n",
       "       566, 977, 623,  63, 857, 672,  85, 712,  56, 748, 708, 150, 397,\n",
       "       984, 318, 501, 334, 918, 425, 308, 490, 430, 175, 441, 409, 633,\n",
       "       563, 883, 637, 583, 258, 913, 713, 147, 124, 616, 590,  71, 612,\n",
       "       650, 393, 449, 885, 702,  22,  25, 895, 297, 625, 177, 859, 476,\n",
       "       743,  49, 603, 434, 646, 778, 908, 661, 562, 719, 634, 521, 406,\n",
       "       896, 585, 417, 931, 342, 210, 361, 468, 281, 445, 467, 684, 234,\n",
       "       555, 159, 735,  91, 437,  96, 241,  40,  83, 282, 663, 544, 480,\n",
       "       343, 310, 292, 514, 495, 835, 391, 657, 668, 961,  55, 111, 840,\n",
       "       733, 729, 656, 999,  35, 386, 579, 452, 519, 800, 379, 576,   3,\n",
       "       951, 323, 104, 226,   1, 103,  20, 179, 371,  31, 309, 715, 188,\n",
       "       183, 482, 328, 333, 390, 196,  76, 965, 516, 312, 154, 530, 531,\n",
       "       575, 754, 217, 773, 847, 734, 991,   9, 117, 466, 689, 695, 640,\n",
       "       774, 414, 574, 820, 457, 105, 749, 536, 240,  93, 227, 484, 842,\n",
       "        77, 547, 610, 709, 488, 995, 755, 453, 412, 777, 941,  19],\n",
       "      dtype=int32)>"
      ]
     },
     "execution_count": 64,
     "metadata": {},
     "output_type": "execute_result"
    }
   ],
   "source": [
    "tf.gather(individual, np.argwhere(transition_types == 1).ravel())"
   ]
  },
  {
   "cell_type": "code",
   "execution_count": 65,
   "id": "53996362",
   "metadata": {
    "ExecuteTime": {
     "end_time": "2023-07-06T17:32:36.398226Z",
     "start_time": "2023-07-06T17:32:36.388602Z"
    }
   },
   "outputs": [],
   "source": [
    "simulated_removal_times = tf.gather(\n",
    "    time_stamps, np.argwhere(transition_types == 1).ravel())"
   ]
  },
  {
   "cell_type": "code",
   "execution_count": 66,
   "id": "63a7d88f",
   "metadata": {
    "ExecuteTime": {
     "end_time": "2023-07-06T17:32:36.412366Z",
     "start_time": "2023-07-06T17:32:36.403685Z"
    }
   },
   "outputs": [],
   "source": [
    "simulated_infection_times = tf.pad(tf.gather(time_stamps, np.argwhere(transition_types == 0).ravel()),\n",
    "                                   paddings=tf.constant([[0, 100]]))"
   ]
  },
  {
   "cell_type": "code",
   "execution_count": 67,
   "id": "ec16c84a",
   "metadata": {
    "ExecuteTime": {
     "end_time": "2023-07-06T17:32:36.435157Z",
     "start_time": "2023-07-06T17:32:36.416832Z"
    }
   },
   "outputs": [
    {
     "data": {
      "text/plain": [
       "<tf.Tensor: shape=(1000, 1000), dtype=float32, numpy=\n",
       "array([[0., 0., 0., ..., 1., 1., 1.],\n",
       "       [1., 0., 0., ..., 1., 1., 1.],\n",
       "       [1., 1., 0., ..., 1., 1., 1.],\n",
       "       ...,\n",
       "       [0., 0., 0., ..., 0., 0., 0.],\n",
       "       [0., 0., 0., ..., 0., 0., 0.],\n",
       "       [0., 0., 0., ..., 0., 0., 0.]], dtype=float32)>"
      ]
     },
     "execution_count": 67,
     "metadata": {},
     "output_type": "execute_result"
    }
   ],
   "source": [
    "generate_waifw(infection_times=simulated_infection_times,\n",
    "               removal_times=simulated_removal_times)"
   ]
  },
  {
   "cell_type": "code",
   "execution_count": 68,
   "id": "4058407d",
   "metadata": {
    "ExecuteTime": {
     "end_time": "2023-07-06T17:32:36.454730Z",
     "start_time": "2023-07-06T17:32:36.439129Z"
    }
   },
   "outputs": [
    {
     "data": {
      "text/plain": [
       "<tf.Tensor: shape=(1000, 1000), dtype=float32, numpy=\n",
       "array([[0.0000000e+00, 0.0000000e+00, 0.0000000e+00, ..., 8.4509082e-08,\n",
       "        8.4509082e-08, 8.4509082e-08],\n",
       "       [8.7785179e-07, 0.0000000e+00, 0.0000000e+00, ..., 9.6236090e-07,\n",
       "        9.6236090e-07, 9.6236090e-07],\n",
       "       [2.1430178e-06, 1.2651660e-06, 0.0000000e+00, ..., 2.2275269e-06,\n",
       "        2.2275269e-06, 2.2275269e-06],\n",
       "       ...,\n",
       "       [0.0000000e+00, 0.0000000e+00, 0.0000000e+00, ..., 0.0000000e+00,\n",
       "        0.0000000e+00, 0.0000000e+00],\n",
       "       [0.0000000e+00, 0.0000000e+00, 0.0000000e+00, ..., 0.0000000e+00,\n",
       "        0.0000000e+00, 0.0000000e+00],\n",
       "       [0.0000000e+00, 0.0000000e+00, 0.0000000e+00, ..., 0.0000000e+00,\n",
       "        0.0000000e+00, 0.0000000e+00]], dtype=float32)>"
      ]
     },
     "execution_count": 68,
     "metadata": {},
     "output_type": "execute_result"
    }
   ],
   "source": [
    "generate_exposure(infection_times=simulated_infection_times,\n",
    "                  removal_times=simulated_removal_times)"
   ]
  },
  {
   "cell_type": "code",
   "execution_count": 69,
   "id": "8e72c9c4",
   "metadata": {
    "ExecuteTime": {
     "end_time": "2023-07-06T17:32:36.528124Z",
     "start_time": "2023-07-06T17:32:36.462135Z"
    }
   },
   "outputs": [],
   "source": [
    "simualted_exposure_mat = tf.matmul(a=generate_waifw(infection_times=simulated_infection_times, removal_times=simulated_removal_times),\n",
    "          b=generate_exposure(infection_times=simulated_infection_times, removal_times=simulated_removal_times))"
   ]
  },
  {
   "cell_type": "code",
   "execution_count": 70,
   "id": "8d2b0d97",
   "metadata": {
    "ExecuteTime": {
     "end_time": "2023-07-06T17:32:36.534754Z",
     "start_time": "2023-07-06T17:32:36.530716Z"
    }
   },
   "outputs": [],
   "source": [
    "def drop_initial_infections(infection_times):\n",
    "    return np.argwhere(infection_times != 0.0).ravel()"
   ]
  },
  {
   "cell_type": "code",
   "execution_count": 71,
   "id": "70029d80",
   "metadata": {
    "ExecuteTime": {
     "end_time": "2023-07-06T17:32:36.548908Z",
     "start_time": "2023-07-06T17:32:36.538981Z"
    }
   },
   "outputs": [
    {
     "data": {
      "text/plain": [
       "array([  0,   1,   2,   3,   4,   5,   6,   7,   8,   9,  10,  11,  12,\n",
       "        13,  14,  15,  16,  17,  18,  19,  20,  21,  22,  23,  24,  25,\n",
       "        26,  27,  28,  29,  30,  31,  32,  33,  34,  35,  36,  37,  38,\n",
       "        39,  40,  41,  42,  43,  44,  45,  46,  47,  48,  49,  50,  51,\n",
       "        52,  53,  54,  55,  56,  57,  58,  59,  60,  61,  62,  63,  64,\n",
       "        65,  66,  67,  68,  69,  70,  71,  72,  73,  74,  75,  76,  77,\n",
       "        78,  79,  80,  81,  82,  83,  84,  85,  86,  87,  88,  89,  90,\n",
       "        91,  92,  93,  94,  95,  96,  97,  98,  99, 100, 101, 102, 103,\n",
       "       104, 105, 106, 107, 108, 109, 110, 111, 112, 113, 114, 115, 116,\n",
       "       117, 118, 119, 120, 121, 122, 123, 124, 125, 126, 127, 128, 129,\n",
       "       130, 131, 132, 133, 134, 135, 136, 137, 138, 139, 140, 141, 142,\n",
       "       143, 144, 145, 146, 147, 148, 149, 150, 151, 152, 153, 154, 155,\n",
       "       156, 157, 158, 159, 160, 161, 162, 163, 164, 165, 166, 167, 168,\n",
       "       169, 170, 171, 172, 173, 174, 175, 176, 177, 178, 179, 180, 181,\n",
       "       182, 183, 184, 185, 186, 187, 188, 189, 190, 191, 192, 193, 194,\n",
       "       195, 196, 197, 198, 199, 200, 201, 202, 203, 204, 205, 206, 207,\n",
       "       208, 209, 210, 211, 212, 213, 214, 215, 216, 217, 218, 219, 220,\n",
       "       221, 222, 223, 224, 225, 226, 227, 228, 229, 230, 231, 232, 233,\n",
       "       234, 235, 236, 237, 238, 239, 240, 241, 242, 243, 244, 245, 246,\n",
       "       247, 248, 249, 250, 251, 252, 253, 254, 255, 256, 257, 258, 259,\n",
       "       260, 261, 262, 263, 264, 265, 266, 267, 268, 269, 270, 271, 272,\n",
       "       273, 274, 275, 276, 277, 278, 279, 280, 281, 282, 283, 284, 285,\n",
       "       286, 287, 288, 289, 290, 291, 292, 293, 294, 295, 296, 297, 298,\n",
       "       299, 300, 301, 302, 303, 304, 305, 306, 307, 308, 309, 310, 311,\n",
       "       312, 313, 314, 315, 316, 317, 318, 319, 320, 321, 322, 323, 324,\n",
       "       325, 326, 327, 328, 329, 330, 331, 332, 333, 334, 335, 336, 337,\n",
       "       338, 339, 340, 341, 342, 343, 344, 345, 346, 347, 348, 349, 350,\n",
       "       351, 352, 353, 354, 355, 356, 357, 358, 359, 360, 361, 362, 363,\n",
       "       364, 365, 366, 367, 368, 369, 370, 371, 372, 373, 374, 375, 376,\n",
       "       377, 378, 379, 380, 381, 382, 383, 384, 385, 386, 387, 388, 389,\n",
       "       390, 391, 392, 393, 394, 395, 396, 397, 398, 399, 400, 401, 402,\n",
       "       403, 404, 405, 406, 407, 408, 409, 410, 411, 412, 413, 414, 415,\n",
       "       416, 417, 418, 419, 420, 421, 422, 423, 424, 425, 426, 427, 428,\n",
       "       429, 430, 431, 432, 433, 434, 435, 436, 437, 438, 439, 440, 441,\n",
       "       442, 443, 444, 445, 446, 447, 448, 449, 450, 451, 452, 453, 454,\n",
       "       455, 456, 457, 458, 459, 460, 461, 462, 463, 464, 465, 466, 467,\n",
       "       468, 469, 470, 471, 472, 473, 474, 475, 476, 477, 478, 479, 480,\n",
       "       481, 482, 483, 484, 485, 486, 487, 488, 489, 490, 491, 492, 493,\n",
       "       494, 495, 496, 497, 498, 499, 500, 501, 502, 503, 504, 505, 506,\n",
       "       507, 508, 509, 510, 511, 512, 513, 514, 515, 516, 517, 518, 519,\n",
       "       520, 521, 522, 523, 524, 525, 526, 527, 528, 529, 530, 531, 532,\n",
       "       533, 534, 535, 536, 537, 538, 539, 540, 541, 542, 543, 544, 545,\n",
       "       546, 547, 548, 549, 550, 551, 552, 553, 554, 555, 556, 557, 558,\n",
       "       559, 560, 561, 562, 563, 564, 565, 566, 567, 568, 569, 570, 571,\n",
       "       572, 573, 574, 575, 576, 577, 578, 579, 580, 581, 582, 583, 584,\n",
       "       585, 586, 587, 588, 589, 590, 591, 592, 593, 594, 595, 596, 597,\n",
       "       598, 599, 600, 601, 602, 603, 604, 605, 606, 607, 608, 609, 610,\n",
       "       611, 612, 613, 614, 615, 616, 617, 618, 619, 620, 621, 622, 623,\n",
       "       624, 625, 626, 627, 628, 629, 630, 631, 632, 633, 634, 635, 636,\n",
       "       637, 638, 639, 640, 641, 642, 643, 644, 645, 646, 647, 648, 649,\n",
       "       650, 651, 652, 653, 654, 655, 656, 657, 658, 659, 660, 661, 662,\n",
       "       663, 664, 665, 666, 667, 668, 669, 670, 671, 672, 673, 674, 675,\n",
       "       676, 677, 678, 679, 680, 681, 682, 683, 684, 685, 686, 687, 688,\n",
       "       689, 690, 691, 692, 693, 694, 695, 696, 697, 698, 699, 700, 701,\n",
       "       702, 703, 704, 705, 706, 707, 708, 709, 710, 711, 712, 713, 714,\n",
       "       715, 716, 717, 718, 719, 720, 721, 722, 723, 724, 725, 726, 727,\n",
       "       728, 729, 730, 731, 732, 733, 734, 735, 736, 737, 738, 739, 740,\n",
       "       741, 742, 743, 744, 745, 746, 747, 748, 749, 750, 751, 752, 753,\n",
       "       754, 755, 756, 757, 758, 759, 760, 761, 762, 763, 764, 765, 766,\n",
       "       767, 768, 769, 770, 771, 772, 773, 774, 775, 776, 777, 778, 779,\n",
       "       780, 781, 782, 783, 784, 785, 786, 787, 788, 789, 790, 791, 792,\n",
       "       793, 794, 795, 796, 797, 798, 799, 800, 801, 802, 803, 804, 805,\n",
       "       806, 807, 808, 809, 810, 811, 812, 813, 814, 815, 816, 817, 818,\n",
       "       819, 820, 821, 822, 823, 824, 825, 826, 827, 828, 829, 830, 831,\n",
       "       832, 833, 834, 835, 836, 837, 838, 839, 840, 841, 842, 843, 844,\n",
       "       845, 846, 847, 848, 849, 850, 851, 852, 853, 854, 855, 856, 857,\n",
       "       858, 859, 860, 861, 862, 863, 864, 865, 866, 867, 868, 869, 870,\n",
       "       871, 872, 873, 874, 875, 876, 877, 878, 879, 880, 881, 882, 883,\n",
       "       884, 885, 886, 887, 888, 889, 890, 891, 892, 893, 894, 895, 896,\n",
       "       897, 898, 899])"
      ]
     },
     "execution_count": 71,
     "metadata": {},
     "output_type": "execute_result"
    }
   ],
   "source": [
    "drop_initial_infections(infection_times=simulated_infection_times)"
   ]
  },
  {
   "cell_type": "code",
   "execution_count": 72,
   "id": "bf342010",
   "metadata": {
    "ExecuteTime": {
     "end_time": "2023-07-06T17:32:36.574915Z",
     "start_time": "2023-07-06T17:32:36.553967Z"
    }
   },
   "outputs": [
    {
     "data": {
      "text/plain": [
       "<tf.Tensor: shape=(900,), dtype=float32, numpy=\n",
       "array([0.00000000e+00, 8.45090290e-06, 1.05564897e-04, 3.31725518e-04,\n",
       "       1.02613692e-03, 1.78071798e-03, 2.60807062e-03, 3.65513074e-03,\n",
       "       4.77067195e-03, 6.25092164e-03, 8.13527312e-03, 1.03339311e-02,\n",
       "       1.30468346e-02, 1.63211543e-02, 1.96121018e-02, 2.29467303e-02,\n",
       "       2.64140721e-02, 3.00135929e-02, 3.37321684e-02, 3.75114232e-02,\n",
       "       4.13231105e-02, 4.53036241e-02, 4.99049053e-02, 5.50027117e-02,\n",
       "       6.02939986e-02, 6.56982511e-02, 7.11691007e-02, 7.69517645e-02,\n",
       "       8.29022080e-02, 8.94108266e-02, 9.69043598e-02, 1.05271369e-01,\n",
       "       1.13644600e-01, 1.22767463e-01, 1.32882759e-01, 1.43031090e-01,\n",
       "       1.53562173e-01, 1.64284617e-01, 1.75176322e-01, 1.86192319e-01,\n",
       "       1.97685599e-01, 2.09713563e-01, 2.21843094e-01, 2.34219000e-01,\n",
       "       2.46863544e-01, 2.60109127e-01, 2.73448199e-01, 2.86827296e-01,\n",
       "       3.00283194e-01, 3.13763589e-01, 3.27249587e-01, 3.41042131e-01,\n",
       "       3.55348736e-01, 3.69674087e-01, 3.84393483e-01, 3.99406433e-01,\n",
       "       4.14525807e-01, 4.30040061e-01, 4.45654333e-01, 4.61455673e-01,\n",
       "       4.77672994e-01, 4.93913740e-01, 5.10627389e-01, 5.27715325e-01,\n",
       "       5.45075655e-01, 5.63027859e-01, 5.83305359e-01, 6.03730917e-01,\n",
       "       6.24226570e-01, 6.45106912e-01, 6.66033447e-01, 6.87067270e-01,\n",
       "       7.08352149e-01, 7.31011927e-01, 7.54130363e-01, 7.77885854e-01,\n",
       "       8.01708698e-01, 8.25627685e-01, 8.50147545e-01, 8.74741018e-01,\n",
       "       8.99790347e-01, 9.26241398e-01, 9.53184605e-01, 9.80493069e-01,\n",
       "       1.00944042e+00, 1.04013836e+00, 1.07116282e+00, 1.10146976e+00,\n",
       "       1.13374686e+00, 1.16603005e+00, 1.19880736e+00, 1.23251796e+00,\n",
       "       1.26680899e+00, 1.30165255e+00, 1.33659959e+00, 1.37290609e+00,\n",
       "       1.41009510e+00, 1.44827294e+00, 1.48681009e+00, 1.52622068e+00,\n",
       "       1.56581402e+00, 1.60826385e+00, 1.65125251e+00, 1.69439566e+00,\n",
       "       1.73848784e+00, 1.78327417e+00, 1.82817912e+00, 1.87348711e+00,\n",
       "       1.91881001e+00, 1.96520996e+00, 2.01174831e+00, 2.05844426e+00,\n",
       "       2.10546160e+00, 2.15324283e+00, 2.20186162e+00, 2.25096512e+00,\n",
       "       2.30202866e+00, 2.35348964e+00, 2.40507698e+00, 2.45680475e+00,\n",
       "       2.50875354e+00, 2.56114244e+00, 2.61449242e+00, 2.66964793e+00,\n",
       "       2.72487736e+00, 2.78016663e+00, 2.83665514e+00, 2.89462996e+00,\n",
       "       2.95381165e+00, 3.01366925e+00, 3.07374740e+00, 3.13411880e+00,\n",
       "       3.19470835e+00, 3.25654268e+00, 3.31858492e+00, 3.38148594e+00,\n",
       "       3.44156981e+00, 3.50547671e+00, 3.56958699e+00, 3.63405776e+00,\n",
       "       3.69931030e+00, 3.76607370e+00, 3.83301425e+00, 3.90027237e+00,\n",
       "       3.96791744e+00, 4.03623152e+00, 4.10549974e+00, 4.17500401e+00,\n",
       "       4.24766302e+00, 4.32057619e+00, 4.39402962e+00, 4.46865940e+00,\n",
       "       4.54418182e+00, 4.62100220e+00, 4.70415974e+00, 4.78742886e+00,\n",
       "       4.87085962e+00, 4.95486689e+00, 5.03924799e+00, 5.12382793e+00,\n",
       "       5.20897627e+00, 5.29301262e+00, 5.37777662e+00, 5.46604013e+00,\n",
       "       5.55431986e+00, 5.64298153e+00, 5.73175383e+00, 5.82356310e+00,\n",
       "       5.91541147e+00, 6.00808668e+00, 6.10147619e+00, 6.19534588e+00,\n",
       "       6.29072618e+00, 6.38665295e+00, 6.48289061e+00, 6.58142996e+00,\n",
       "       6.68000031e+00, 6.77990055e+00, 6.88061523e+00, 6.98179913e+00,\n",
       "       7.08348799e+00, 7.18554544e+00, 7.28507662e+00, 7.38830662e+00,\n",
       "       7.49219036e+00, 7.59609318e+00, 7.70033455e+00, 7.80464315e+00,\n",
       "       7.91006279e+00, 8.01555920e+00, 8.12279797e+00, 8.23052120e+00,\n",
       "       8.33826447e+00, 8.44700432e+00, 8.55646610e+00, 8.66003895e+00,\n",
       "       8.77213001e+00, 8.88462162e+00, 8.99802971e+00, 9.11387920e+00,\n",
       "       9.23044777e+00, 9.34990025e+00, 9.46953106e+00, 9.59091282e+00,\n",
       "       9.71258926e+00, 9.83559227e+00, 9.95889950e+00, 1.00822010e+01,\n",
       "       1.02056818e+01, 1.03311625e+01, 1.04605465e+01, 1.05901260e+01,\n",
       "       1.07199821e+01, 1.08508101e+01, 1.09838181e+01, 1.11170931e+01,\n",
       "       1.12507019e+01, 1.13846264e+01, 1.15208130e+01, 1.16583567e+01,\n",
       "       1.17962770e+01, 1.19342031e+01, 1.20740509e+01, 1.22144690e+01,\n",
       "       1.23558950e+01, 1.24977121e+01, 1.26408091e+01, 1.27854233e+01,\n",
       "       1.29370728e+01, 1.30921087e+01, 1.32491589e+01, 1.34063501e+01,\n",
       "       1.35635729e+01, 1.37215691e+01, 1.38796883e+01, 1.40381565e+01,\n",
       "       1.41975870e+01, 1.43575411e+01, 1.45181303e+01, 1.46792984e+01,\n",
       "       1.48412724e+01, 1.50031967e+01, 1.51655388e+01, 1.53279991e+01,\n",
       "       1.54913254e+01, 1.56551628e+01, 1.58196955e+01, 1.59857140e+01,\n",
       "       1.61527157e+01, 1.63207436e+01, 1.64894600e+01, 1.66583652e+01,\n",
       "       1.68274384e+01, 1.69987278e+01, 1.71669827e+01, 1.73387814e+01,\n",
       "       1.75125885e+01, 1.76920013e+01, 1.78720989e+01, 1.80527725e+01,\n",
       "       1.82335186e+01, 1.84142437e+01, 1.85962391e+01, 1.87804794e+01,\n",
       "       1.89672966e+01, 1.91555367e+01, 1.93443718e+01, 1.95334377e+01,\n",
       "       1.97244625e+01, 1.99161053e+01, 2.01085892e+01, 2.03026352e+01,\n",
       "       2.05002689e+01, 2.07006283e+01, 2.09050121e+01, 2.11094666e+01,\n",
       "       2.13084583e+01, 2.15187569e+01, 2.17294693e+01, 2.19402714e+01,\n",
       "       2.21511841e+01, 2.23623142e+01, 2.25753136e+01, 2.27897339e+01,\n",
       "       2.30076656e+01, 2.32269096e+01, 2.34477386e+01, 2.36714954e+01,\n",
       "       2.38955307e+01, 2.41212101e+01, 2.43477573e+01, 2.45760441e+01,\n",
       "       2.48046074e+01, 2.50341949e+01, 2.52643852e+01, 2.54959660e+01,\n",
       "       2.57297268e+01, 2.59651489e+01, 2.62008152e+01, 2.64366951e+01,\n",
       "       2.66784191e+01, 2.69233379e+01, 2.71696148e+01, 2.74146957e+01,\n",
       "       2.76674671e+01, 2.79218521e+01, 2.81796169e+01, 2.84406471e+01,\n",
       "       2.87024956e+01, 2.89646072e+01, 2.92285461e+01, 2.94931145e+01,\n",
       "       2.97558403e+01, 3.00258808e+01, 3.02957478e+01, 3.05658741e+01,\n",
       "       3.08397274e+01, 3.11151829e+01, 3.13931694e+01, 3.16724510e+01,\n",
       "       3.19530430e+01, 3.22347717e+01, 3.25170441e+01, 3.27999153e+01,\n",
       "       3.30802650e+01, 3.33653717e+01, 3.36504860e+01, 3.39357948e+01,\n",
       "       3.42177925e+01, 3.45075340e+01, 3.47997704e+01, 3.50956306e+01,\n",
       "       3.53917274e+01, 3.56920738e+01, 3.59928360e+01, 3.62952766e+01,\n",
       "       3.65983429e+01, 3.69021797e+01, 3.72082863e+01, 3.75144653e+01,\n",
       "       3.78261642e+01, 3.81381149e+01, 3.84533119e+01, 3.87744408e+01,\n",
       "       3.90959320e+01, 3.94182014e+01, 3.97410851e+01, 4.00653496e+01,\n",
       "       4.03899193e+01, 4.07168388e+01, 4.10439072e+01, 4.13712540e+01,\n",
       "       4.17013931e+01, 4.20333252e+01, 4.23657761e+01, 4.26991272e+01,\n",
       "       4.30326881e+01, 4.33717117e+01, 4.37141037e+01, 4.40573845e+01,\n",
       "       4.44006996e+01, 4.47446861e+01, 4.50796471e+01, 4.54281502e+01,\n",
       "       4.57772026e+01, 4.61261292e+01, 4.64756279e+01, 4.68260422e+01,\n",
       "       4.71802292e+01, 4.75390434e+01, 4.79052849e+01, 4.82772827e+01,\n",
       "       4.86497726e+01, 4.90330200e+01, 4.94169960e+01, 4.98021011e+01,\n",
       "       5.01930695e+01, 5.05850334e+01, 5.09789314e+01, 5.13750420e+01,\n",
       "       5.17753677e+01, 5.21773109e+01, 5.25741425e+01, 5.29772797e+01,\n",
       "       5.33815041e+01, 5.37880249e+01, 5.41964645e+01, 5.46054306e+01,\n",
       "       5.50149727e+01, 5.54267082e+01, 5.58463287e+01, 5.62685432e+01,\n",
       "       5.66941948e+01, 5.71261215e+01, 5.75612488e+01, 5.79973717e+01,\n",
       "       5.84344597e+01, 5.88719482e+01, 5.93110199e+01, 5.97448311e+01,\n",
       "       6.01864815e+01, 6.06292076e+01, 6.10753174e+01, 6.15228119e+01,\n",
       "       6.19596367e+01, 6.24122772e+01, 6.28651237e+01, 6.33199768e+01,\n",
       "       6.37754211e+01, 6.42289734e+01, 6.46909561e+01, 6.51578751e+01,\n",
       "       6.56256409e+01, 6.60934372e+01, 6.65577164e+01, 6.70325470e+01,\n",
       "       6.75144501e+01, 6.79890366e+01, 6.84742432e+01, 6.89599915e+01,\n",
       "       6.94470673e+01, 6.99349060e+01, 7.04268341e+01, 7.09216309e+01,\n",
       "       7.14174118e+01, 7.19054031e+01, 7.24034424e+01, 7.29048462e+01,\n",
       "       7.34080887e+01, 7.39145050e+01, 7.44227829e+01, 7.49325790e+01,\n",
       "       7.54423904e+01, 7.59536819e+01, 7.64662704e+01, 7.69790039e+01,\n",
       "       7.74858856e+01, 7.80049438e+01, 7.85254898e+01, 7.90485840e+01,\n",
       "       7.95417175e+01, 8.00784225e+01, 8.06159286e+01, 8.11543121e+01,\n",
       "       8.16954269e+01, 8.22272186e+01, 8.27699661e+01, 8.33139877e+01,\n",
       "       8.38638077e+01, 8.44140701e+01, 8.49542923e+01, 8.55095978e+01,\n",
       "       8.60660248e+01, 8.66252213e+01, 8.71864548e+01, 8.77485733e+01,\n",
       "       8.83212891e+01, 8.88937073e+01, 8.94674835e+01, 9.00467224e+01,\n",
       "       9.06305695e+01, 9.12215500e+01, 9.18028336e+01, 9.23992386e+01,\n",
       "       9.29983597e+01, 9.35989532e+01, 9.42023392e+01, 9.48114395e+01,\n",
       "       9.54293442e+01, 9.60506439e+01, 9.66714096e+01, 9.72947845e+01,\n",
       "       9.79204712e+01, 9.85469437e+01, 9.91748962e+01, 9.98030853e+01,\n",
       "       1.00436119e+02, 1.01071640e+02, 1.01673676e+02, 1.02322281e+02,\n",
       "       1.02963066e+02, 1.03619247e+02, 1.04281235e+02, 1.04932327e+02,\n",
       "       1.05607674e+02, 1.06287704e+02, 1.06971565e+02, 1.07656548e+02,\n",
       "       1.08328491e+02, 1.09018486e+02, 1.09696907e+02, 1.10399330e+02,\n",
       "       1.11103157e+02, 1.11807098e+02, 1.12519737e+02, 1.13242889e+02,\n",
       "       1.13971382e+02, 1.14688576e+02, 1.15422775e+02, 1.16163597e+02,\n",
       "       1.16892838e+02, 1.17623573e+02, 1.18368340e+02, 1.19115494e+02,\n",
       "       1.19853088e+02, 1.20605583e+02, 1.21362709e+02, 1.22120613e+02,\n",
       "       1.22880821e+02, 1.23649994e+02, 1.24423012e+02, 1.25183311e+02,\n",
       "       1.25960617e+02, 1.26737816e+02, 1.27515289e+02, 1.28292938e+02,\n",
       "       1.29072174e+02, 1.29852676e+02, 1.30634384e+02, 1.31403427e+02,\n",
       "       1.32200439e+02, 1.32982864e+02, 1.33767624e+02, 1.34569351e+02,\n",
       "       1.35372711e+02, 1.36148056e+02, 1.36969482e+02, 1.37792236e+02,\n",
       "       1.38618149e+02, 1.39433075e+02, 1.40249512e+02, 1.41069275e+02,\n",
       "       1.41910065e+02, 1.42751160e+02, 1.43592957e+02, 1.44419632e+02,\n",
       "       1.45266495e+02, 1.46119827e+02, 1.46978302e+02, 1.47824860e+02,\n",
       "       1.48671997e+02, 1.49524765e+02, 1.50412140e+02, 1.51301483e+02,\n",
       "       1.52173737e+02, 1.53055679e+02, 1.53964111e+02, 1.54876862e+02,\n",
       "       1.55791290e+02, 1.56665970e+02, 1.57584595e+02, 1.58486038e+02,\n",
       "       1.59416992e+02, 1.60349258e+02, 1.61262299e+02, 1.62202255e+02,\n",
       "       1.63142212e+02, 1.64066589e+02, 1.65018158e+02, 1.65972855e+02,\n",
       "       1.66929321e+02, 1.67896164e+02, 1.68865204e+02, 1.69844788e+02,\n",
       "       1.70824570e+02, 1.71813248e+02, 1.72811020e+02, 1.73788574e+02,\n",
       "       1.74792831e+02, 1.75804489e+02, 1.76820374e+02, 1.77840500e+02,\n",
       "       1.78866623e+02, 1.79893768e+02, 1.80923355e+02, 1.81964676e+02,\n",
       "       1.83004776e+02, 1.84028702e+02, 1.85090759e+02, 1.86153931e+02,\n",
       "       1.87173187e+02, 1.88249100e+02, 1.89324371e+02, 1.90401657e+02,\n",
       "       1.91478714e+02, 1.92557510e+02, 1.93640533e+02, 1.94737244e+02,\n",
       "       1.95791061e+02, 1.96905548e+02, 1.97998611e+02, 1.99120636e+02,\n",
       "       2.00242554e+02, 2.01376556e+02, 2.02512619e+02, 2.03649094e+02,\n",
       "       2.04787903e+02, 2.05929459e+02, 2.07074478e+02, 2.08219925e+02,\n",
       "       2.09366257e+02, 2.10466110e+02, 2.11621262e+02, 2.12729904e+02,\n",
       "       2.13869186e+02, 2.15036758e+02, 2.16151840e+02, 2.17307968e+02,\n",
       "       2.18504349e+02, 2.19701508e+02, 2.20911026e+02, 2.22058044e+02,\n",
       "       2.23304886e+02, 2.24465607e+02, 2.25748779e+02, 2.27035339e+02,\n",
       "       2.28288391e+02, 2.29586319e+02, 2.30885315e+02, 2.32188370e+02,\n",
       "       2.33504486e+02, 2.34794067e+02, 2.36100052e+02, 2.37448181e+02,\n",
       "       2.38801819e+02, 2.40158463e+02, 2.41480881e+02, 2.42840408e+02,\n",
       "       2.44204697e+02, 2.45569458e+02, 2.46903702e+02, 2.48277313e+02,\n",
       "       2.49654099e+02, 2.50997864e+02, 2.52307190e+02, 2.53703339e+02,\n",
       "       2.55108353e+02, 2.56434723e+02, 2.57853760e+02, 2.59188324e+02,\n",
       "       2.60612244e+02, 2.61993927e+02, 2.63420593e+02, 2.64759369e+02,\n",
       "       2.66209015e+02, 2.67657410e+02, 2.69113373e+02, 2.70570648e+02,\n",
       "       2.72034515e+02, 2.73500916e+02, 2.74969666e+02, 2.76442535e+02,\n",
       "       2.77915833e+02, 2.79343628e+02, 2.80838501e+02, 2.82340088e+02,\n",
       "       2.83844727e+02, 2.85351349e+02, 2.86817108e+02, 2.88289795e+02,\n",
       "       2.89814697e+02, 2.91340515e+02, 2.92867554e+02, 2.94400635e+02,\n",
       "       2.95889587e+02, 2.97433472e+02, 2.98933319e+02, 3.00482025e+02,\n",
       "       3.02033539e+02, 3.03596191e+02, 3.05159576e+02, 3.06648132e+02,\n",
       "       3.08145508e+02, 3.09748322e+02, 3.11352509e+02, 3.12960480e+02,\n",
       "       3.14579651e+02, 3.16201660e+02, 3.17826416e+02, 3.19470215e+02,\n",
       "       3.21066528e+02, 3.22680634e+02, 3.24298981e+02, 3.26002838e+02,\n",
       "       3.27659729e+02, 3.29384644e+02, 3.31112518e+02, 3.32794189e+02,\n",
       "       3.34541962e+02, 3.36291748e+02, 3.37935181e+02, 3.39689911e+02,\n",
       "       3.41399719e+02, 3.43167175e+02, 3.44942413e+02, 3.46724121e+02,\n",
       "       3.48513306e+02, 3.50308563e+02, 3.52104828e+02, 3.53914734e+02,\n",
       "       3.55723633e+02, 3.57490326e+02, 3.59257050e+02, 3.61080994e+02,\n",
       "       3.62867554e+02, 3.64716675e+02, 3.66572571e+02, 3.68429199e+02,\n",
       "       3.70286255e+02, 3.72149628e+02, 3.74014221e+02, 3.75882385e+02,\n",
       "       3.77634094e+02, 3.79463074e+02, 3.81358673e+02, 3.83256287e+02,\n",
       "       3.84913727e+02, 3.86761383e+02, 3.88620636e+02, 3.90547852e+02,\n",
       "       3.92494690e+02, 3.94383789e+02, 3.96286865e+02, 3.98267334e+02,\n",
       "       4.00252960e+02, 4.02110504e+02, 4.04111908e+02, 4.06116608e+02,\n",
       "       4.08095978e+02, 4.10142853e+02, 4.12192017e+02, 4.14241455e+02,\n",
       "       4.16301117e+02, 4.18037323e+02, 4.20130737e+02, 4.22233032e+02,\n",
       "       4.24290955e+02, 4.26428223e+02, 4.28292358e+02, 4.30403870e+02,\n",
       "       4.32514526e+02, 4.34471924e+02, 4.36593811e+02, 4.38731445e+02,\n",
       "       4.40716187e+02, 4.42535461e+02, 4.44811676e+02, 4.47001495e+02,\n",
       "       4.49283539e+02, 4.51481506e+02, 4.53684113e+02, 4.55900146e+02,\n",
       "       4.58220154e+02, 4.60542572e+02, 4.62775085e+02, 4.65108154e+02,\n",
       "       4.67065369e+02, 4.69425110e+02, 4.71689514e+02, 4.74067230e+02,\n",
       "       4.76364777e+02, 4.78760040e+02, 4.81171387e+02, 4.83484558e+02,\n",
       "       4.85712128e+02, 4.88172974e+02, 4.90445312e+02, 4.92828186e+02,\n",
       "       4.95335266e+02, 4.97843384e+02, 5.00353546e+02, 5.02775299e+02,\n",
       "       5.05322845e+02, 5.07873199e+02, 5.10424164e+02, 5.12770142e+02,\n",
       "       5.15233887e+02, 5.17809753e+02, 5.20322388e+02, 5.22949097e+02,\n",
       "       5.25369446e+02, 5.28003418e+02, 5.30647278e+02, 5.33294434e+02,\n",
       "       5.35833679e+02, 5.38271729e+02, 5.40856445e+02, 5.43557556e+02,\n",
       "       5.46150818e+02, 5.48684937e+02, 5.51461731e+02, 5.53906616e+02,\n",
       "       5.56586548e+02, 5.59157898e+02, 5.61247986e+02, 5.64138977e+02,\n",
       "       5.67068298e+02, 5.69232483e+02, 5.72286682e+02, 5.75348328e+02,\n",
       "       5.78414856e+02, 5.80951294e+02, 5.83929688e+02, 5.86369568e+02,\n",
       "       5.89288574e+02, 5.92356567e+02, 5.94196960e+02, 5.97372986e+02,\n",
       "       6.00711060e+02, 6.03907043e+02, 6.06950378e+02, 6.09870728e+02,\n",
       "       6.12984985e+02, 6.15764099e+02, 6.18891052e+02, 6.22022766e+02,\n",
       "       6.25516846e+02, 6.28323914e+02, 6.31490601e+02, 6.34193848e+02,\n",
       "       6.36321594e+02, 6.40093628e+02, 6.42650818e+02, 6.46293274e+02,\n",
       "       6.50152100e+02, 6.53178650e+02, 6.57076355e+02, 6.60768982e+02,\n",
       "       6.64687561e+02, 6.68614502e+02, 6.70981384e+02, 6.74983459e+02,\n",
       "       6.78768982e+02, 6.82361633e+02, 6.84524963e+02, 6.87377380e+02,\n",
       "       6.91307190e+02, 6.95004944e+02, 6.99233521e+02, 7.03468506e+02,\n",
       "       7.05830078e+02, 7.09932617e+02, 7.14057129e+02, 7.18185181e+02,\n",
       "       7.22332458e+02, 7.25625916e+02, 7.28986145e+02, 7.32958496e+02,\n",
       "       7.36036499e+02, 7.39471069e+02, 7.39329346e+02, 7.43897949e+02,\n",
       "       7.48824097e+02, 7.53765137e+02, 7.58026306e+02, 7.62995972e+02,\n",
       "       7.65906006e+02, 7.69911560e+02, 7.73551331e+02, 7.77536743e+02,\n",
       "       7.81949036e+02, 7.87164429e+02, 7.91996948e+02, 7.96854309e+02,\n",
       "       8.01716125e+02, 8.05831421e+02, 8.10421936e+02, 8.15837219e+02,\n",
       "       8.21264404e+02, 8.26704468e+02, 8.29696716e+02, 8.33108582e+02,\n",
       "       8.36941406e+02, 8.42555969e+02, 8.48166931e+02, 8.51121704e+02,\n",
       "       8.56371643e+02, 8.60726624e+02, 8.61262512e+02, 8.63699097e+02,\n",
       "       8.67692749e+02, 8.55704102e+02, 8.59606445e+02, 8.61607544e+02,\n",
       "       8.67453979e+02, 8.44531860e+02, 8.49892761e+02, 8.47132812e+02,\n",
       "       8.50866028e+02, 8.51115906e+02, 8.56536804e+02, 8.56442932e+02,\n",
       "       8.61859802e+02, 8.61532593e+02, 8.59903564e+02, 8.63298828e+02,\n",
       "       8.63463806e+02, 8.66808350e+02, 8.51743958e+02, 8.58572510e+02],\n",
       "      dtype=float32)>"
      ]
     },
     "execution_count": 72,
     "metadata": {},
     "output_type": "execute_result"
    }
   ],
   "source": [
    "tf.einsum('ij -> i', tf.gather(simualted_exposure_mat,\n",
    "          indices=drop_initial_infections(infection_times=simulated_infection_times)))"
   ]
  },
  {
   "cell_type": "code",
   "execution_count": null,
   "id": "2f6ec2fa",
   "metadata": {
    "ExecuteTime": {
     "end_time": "2023-07-03T04:50:50.891387Z",
     "start_time": "2023-07-03T04:50:50.861514Z"
    }
   },
   "outputs": [],
   "source": []
  }
 ],
 "metadata": {
  "kernelspec": {
   "display_name": "Python 3 (ipykernel)",
   "language": "python",
   "name": "python3"
  },
  "language_info": {
   "codemirror_mode": {
    "name": "ipython",
    "version": 3
   },
   "file_extension": ".py",
   "mimetype": "text/x-python",
   "name": "python",
   "nbconvert_exporter": "python",
   "pygments_lexer": "ipython3",
   "version": "3.9.13"
  },
  "toc": {
   "base_numbering": 1,
   "nav_menu": {},
   "number_sections": true,
   "sideBar": true,
   "skip_h1_title": false,
   "title_cell": "Table of Contents",
   "title_sidebar": "Contents",
   "toc_cell": false,
   "toc_position": {
    "height": "calc(100% - 180px)",
    "left": "10px",
    "top": "150px",
    "width": "246px"
   },
   "toc_section_display": true,
   "toc_window_display": true
  },
  "varInspector": {
   "cols": {
    "lenName": 16,
    "lenType": 16,
    "lenVar": 40
   },
   "kernels_config": {
    "python": {
     "delete_cmd_postfix": "",
     "delete_cmd_prefix": "del ",
     "library": "var_list.py",
     "varRefreshCmd": "print(var_dic_list())"
    },
    "r": {
     "delete_cmd_postfix": ") ",
     "delete_cmd_prefix": "rm(",
     "library": "var_list.r",
     "varRefreshCmd": "cat(var_dic_list()) "
    }
   },
   "position": {
    "height": "420px",
    "left": "2190px",
    "right": "20px",
    "top": "120px",
    "width": "350px"
   },
   "types_to_exclude": [
    "module",
    "function",
    "builtin_function_or_method",
    "instance",
    "_Feature"
   ],
   "window_display": true
  }
 },
 "nbformat": 4,
 "nbformat_minor": 5
}
