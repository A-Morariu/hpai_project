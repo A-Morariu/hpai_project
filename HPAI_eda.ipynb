{
 "cells": [
  {
   "cell_type": "code",
   "execution_count": 1,
   "id": "14f9d6bd",
   "metadata": {
    "ExecuteTime": {
     "end_time": "2024-09-22T19:33:16.051407Z",
     "start_time": "2024-09-22T19:32:32.911396Z"
    }
   },
   "outputs": [
    {
     "name": "stderr",
     "output_type": "stream",
     "text": [
      "2024-09-22 20:32:56.242274: I tensorflow/core/platform/cpu_feature_guard.cc:182] This TensorFlow binary is optimized to use available CPU instructions in performance-critical operations.\n",
      "To enable the following instructions: AVX2 FMA, in other operations, rebuild TensorFlow with the appropriate compiler flags.\n"
     ]
    },
    {
     "ename": "ModuleNotFoundError",
     "evalue": "No module named 'geopandas'",
     "output_type": "error",
     "traceback": [
      "\u001b[0;31m---------------------------------------------------------------------------\u001b[0m",
      "\u001b[0;31mModuleNotFoundError\u001b[0m                       Traceback (most recent call last)",
      "Cell \u001b[0;32mIn[1], line 7\u001b[0m\n\u001b[1;32m      5\u001b[0m \u001b[38;5;28;01mimport\u001b[39;00m \u001b[38;5;21;01mtensorflow_probability\u001b[39;00m \u001b[38;5;28;01mas\u001b[39;00m \u001b[38;5;21;01mtfp\u001b[39;00m \n\u001b[1;32m      6\u001b[0m \u001b[38;5;28;01mimport\u001b[39;00m \u001b[38;5;21;01mseaborn\u001b[39;00m \u001b[38;5;28;01mas\u001b[39;00m \u001b[38;5;21;01msns\u001b[39;00m \n\u001b[0;32m----> 7\u001b[0m \u001b[38;5;28;01mimport\u001b[39;00m \u001b[38;5;21;01mgeopandas\u001b[39;00m \n\u001b[1;32m      8\u001b[0m \u001b[38;5;28;01mimport\u001b[39;00m \u001b[38;5;21;01mdatetime\u001b[39;00m\n\u001b[1;32m      9\u001b[0m \u001b[38;5;28;01mimport\u001b[39;00m \u001b[38;5;21;01mscipy\u001b[39;00m \u001b[38;5;28;01mas\u001b[39;00m \u001b[38;5;21;01msp\u001b[39;00m\n",
      "\u001b[0;31mModuleNotFoundError\u001b[0m: No module named 'geopandas'"
     ]
    }
   ],
   "source": [
    "import pandas as pd \n",
    "import numpy as np \n",
    "import matplotlib.pyplot as plt \n",
    "import tensorflow as tf \n",
    "import tensorflow_probability as tfp \n",
    "import seaborn as sns \n",
    "import geopandas \n",
    "import datetime\n",
    "import scipy as sp"
   ]
  },
  {
   "cell_type": "code",
   "execution_count": null,
   "id": "89723284",
   "metadata": {
    "ExecuteTime": {
     "end_time": "2024-09-22T19:33:16.077995Z",
     "start_time": "2024-09-22T19:33:16.077977Z"
    }
   },
   "outputs": [],
   "source": [
    "sns.set_theme()"
   ]
  },
  {
   "cell_type": "code",
   "execution_count": null,
   "id": "c360d209",
   "metadata": {
    "ExecuteTime": {
     "end_time": "2024-09-22T19:33:16.079363Z",
     "start_time": "2024-09-22T19:33:16.079348Z"
    }
   },
   "outputs": [],
   "source": [
    "plt.rcParams[\"figure.figsize\"] = (15, 10)"
   ]
  },
  {
   "cell_type": "code",
   "execution_count": null,
   "id": "d3cf8a07",
   "metadata": {
    "ExecuteTime": {
     "end_time": "2024-09-22T19:33:16.081008Z",
     "start_time": "2024-09-22T19:33:16.080993Z"
    }
   },
   "outputs": [],
   "source": [
    "hpai_main = pd.read_csv('data_files/combinedDataset20221130 _1_.csv')\n",
    "hpai_wild = pd.read_csv('data_files/wildBirdData20221130 _1_.csv')\n",
    "hpai_poultry = pd.read_excel('data_files/GBPR Poultry Premises Extract 01Dec22 _1_.xlsx')"
   ]
  },
  {
   "cell_type": "markdown",
   "id": "4e368d43",
   "metadata": {},
   "source": [
    "## Preview the data"
   ]
  },
  {
   "cell_type": "code",
   "execution_count": null,
   "id": "d7d16c73",
   "metadata": {
    "ExecuteTime": {
     "end_time": "2024-09-22T19:33:16.083001Z",
     "start_time": "2024-09-22T19:33:16.082985Z"
    }
   },
   "outputs": [],
   "source": [
    "hpai_main.head(5)"
   ]
  },
  {
   "cell_type": "code",
   "execution_count": null,
   "id": "27460ab3",
   "metadata": {
    "ExecuteTime": {
     "end_time": "2024-09-22T19:33:16.084378Z",
     "start_time": "2024-09-22T19:33:16.084361Z"
    }
   },
   "outputs": [],
   "source": [
    "hpai_main.info()"
   ]
  },
  {
   "cell_type": "markdown",
   "id": "7efee44d",
   "metadata": {},
   "source": [
    "Comments: \n",
    "- unique ID for each farm\n",
    "- dates (resolution is daily) \n",
    "    - format is DD/MM/YYYY\n",
    "    - reported date for initial infection? \n",
    "    - culling dates for end of infectious period (can be longer than 1 day - should factor into the model, decay term? ) \n",
    "    - clarify: infDate, confDate, reportDate\n",
    "- herd details (types of birds present - cat var in model to tell difference in susceptibility) \n",
    "- herd size\n",
    "- spatial component (have geolocation and regional area - can impute from geolocation if need be)"
   ]
  },
  {
   "cell_type": "code",
   "execution_count": null,
   "id": "d581b23d",
   "metadata": {
    "ExecuteTime": {
     "end_time": "2024-09-22T19:33:16.085941Z",
     "start_time": "2024-09-22T19:33:16.085926Z"
    }
   },
   "outputs": [],
   "source": [
    "hpai_poultry.head()"
   ]
  },
  {
   "cell_type": "code",
   "execution_count": null,
   "id": "7d157ec1",
   "metadata": {
    "ExecuteTime": {
     "end_time": "2024-09-22T19:33:16.087528Z",
     "start_time": "2024-09-22T19:33:16.087513Z"
    }
   },
   "outputs": [],
   "source": [
    "hpai_poultry.info()"
   ]
  },
  {
   "cell_type": "markdown",
   "id": "9b305aea",
   "metadata": {},
   "source": [
    "Comments: \n",
    "\n",
    "- spatial data for farms \n",
    "- long/lat coordinates for mapping"
   ]
  },
  {
   "cell_type": "code",
   "execution_count": null,
   "id": "53e44545",
   "metadata": {
    "ExecuteTime": {
     "end_time": "2024-09-22T19:33:16.088920Z",
     "start_time": "2024-09-22T19:33:16.088905Z"
    }
   },
   "outputs": [],
   "source": [
    "hpai_wild.head()"
   ]
  },
  {
   "cell_type": "code",
   "execution_count": null,
   "id": "821f47d7",
   "metadata": {
    "ExecuteTime": {
     "end_time": "2024-09-22T19:33:16.090400Z",
     "start_time": "2024-09-22T19:33:16.090370Z"
    }
   },
   "outputs": [],
   "source": [
    "hpai_wild.info()"
   ]
  },
  {
   "cell_type": "code",
   "execution_count": null,
   "id": "9e0ddd5c",
   "metadata": {
    "ExecuteTime": {
     "end_time": "2024-09-22T19:33:16.091709Z",
     "start_time": "2024-09-22T19:33:16.091693Z"
    }
   },
   "outputs": [],
   "source": [
    "hpai_wild[['Date Received']].dropna()"
   ]
  },
  {
   "cell_type": "markdown",
   "id": "31d678c1",
   "metadata": {},
   "source": [
    "Comments: \n",
    "\n",
    "- dead wild bird reports w/ accompanying HPAI test result \n",
    "- long/lat location of carcass \n",
    "- species of wild bird (are some species more likely to be the cause?)"
   ]
  },
  {
   "cell_type": "markdown",
   "id": "43c78105",
   "metadata": {},
   "source": [
    "# EDA and Data Cleaning"
   ]
  },
  {
   "cell_type": "markdown",
   "id": "a156000a",
   "metadata": {},
   "source": [
    "## Time filtering"
   ]
  },
  {
   "cell_type": "code",
   "execution_count": null,
   "id": "93af672b",
   "metadata": {
    "ExecuteTime": {
     "end_time": "2024-09-22T19:33:16.093249Z",
     "start_time": "2024-09-22T19:33:16.093235Z"
    }
   },
   "outputs": [],
   "source": [
    "# Time variables for hpai_main:\n",
    "# reportDate\n",
    "# infDate\n",
    "# confDate\n",
    "# cullStart\n",
    "# cullEnd\n",
    "\n",
    "hpai_main_dates = hpai_main[['reportDate', 'infDate',\n",
    "                                                                                      'confDate', 'cullStart', 'cullEnd']].apply(lambda x: pd.to_datetime(x, format='%d/%m/%Y'), axis=1)\n",
    "hpai_main_dates[['reportDate', 'infDate', 'confDate', 'cullStart', 'cullEnd']].tail()"
   ]
  },
  {
   "cell_type": "code",
   "execution_count": null,
   "id": "35c7ac27",
   "metadata": {
    "ExecuteTime": {
     "end_time": "2024-09-22T19:33:16.094463Z",
     "start_time": "2024-09-22T19:33:16.094449Z"
    }
   },
   "outputs": [],
   "source": [
    "hpai_main_dates[['reportDate', 'infDate', 'confDate', 'cullStart', 'cullEnd']] = hpai_main_dates[['reportDate', 'infDate', 'confDate', 'cullStart', 'cullEnd']].apply(lambda x: pd.to_datetime(x, format='%d/%m/%Y'))"
   ]
  },
  {
   "cell_type": "code",
   "execution_count": null,
   "id": "29bf80a8",
   "metadata": {
    "ExecuteTime": {
     "end_time": "2024-09-22T19:33:16.096054Z",
     "start_time": "2024-09-22T19:33:16.096039Z"
    }
   },
   "outputs": [],
   "source": [
    "sns.histplot(data = hpai_main_dates, x = 'reportDate')"
   ]
  },
  {
   "cell_type": "code",
   "execution_count": null,
   "id": "c46a51be",
   "metadata": {
    "ExecuteTime": {
     "end_time": "2024-09-22T19:33:16.098190Z",
     "start_time": "2024-09-22T19:33:16.098155Z"
    }
   },
   "outputs": [],
   "source": [
    "# most cases are in 2020 onwards so we filter out the 2017 wave \n",
    "hpai_main_dates = hpai_main_dates[hpai_main_dates.reportDate >= datetime.datetime(2020,1, 1, 0,0,0)]"
   ]
  },
  {
   "cell_type": "code",
   "execution_count": null,
   "id": "99c52c10",
   "metadata": {
    "ExecuteTime": {
     "end_time": "2024-09-22T19:33:16.100735Z",
     "start_time": "2024-09-22T19:33:16.100720Z"
    }
   },
   "outputs": [],
   "source": [
    "sns.histplot(data = hpai_main_dates, x = 'reportDate', bins = 36)\n",
    "# Change the axis labels and title\n",
    "plt.xlabel('Month')\n",
    "plt.ylabel('Number of cases')\n",
    "plt.title('HPAI case counts')\n",
    "plt.savefig('hpai_case_counts.png')"
   ]
  },
  {
   "cell_type": "code",
   "execution_count": null,
   "id": "5ed69c0a",
   "metadata": {
    "ExecuteTime": {
     "end_time": "2024-09-22T19:33:16.102836Z",
     "start_time": "2024-09-22T19:33:16.102814Z"
    }
   },
   "outputs": [],
   "source": [
    "# Time variables for hpai_wild:\n",
    "# Date Received\n",
    "# Test date\n",
    "# Date PHE informed\n",
    "\n",
    "hpai_wild[['Date Received', 'Test date', 'Date PHE informed']] = hpai_wild[['Date Received', 'Test date', 'Date PHE informed']].apply(\n",
    "    lambda x: pd.to_datetime(x, infer_datetime_format=True), axis=1)"
   ]
  },
  {
   "cell_type": "markdown",
   "id": "ae2e6709",
   "metadata": {},
   "source": [
    "## Geopandas attempts"
   ]
  },
  {
   "cell_type": "code",
   "execution_count": null,
   "id": "74192076",
   "metadata": {
    "ExecuteTime": {
     "end_time": "2024-09-22T19:33:16.105072Z",
     "start_time": "2024-09-22T19:33:16.105054Z"
    }
   },
   "outputs": [],
   "source": [
    "sns.scatterplot(data=hpai_main, x = 'Long', y = 'Lat', style = 'region', hue='premisesType')"
   ]
  },
  {
   "cell_type": "code",
   "execution_count": null,
   "id": "6507e735",
   "metadata": {
    "ExecuteTime": {
     "end_time": "2024-09-22T19:33:16.107379Z",
     "start_time": "2024-09-22T19:33:16.107360Z"
    }
   },
   "outputs": [],
   "source": [
    "sns.scatterplot(data=hpai_wild, x = 'easting', y = 'northing', hue='Final Result')"
   ]
  },
  {
   "cell_type": "code",
   "execution_count": null,
   "id": "69fc0d90",
   "metadata": {
    "ExecuteTime": {
     "end_time": "2024-09-22T19:33:16.109717Z",
     "start_time": "2024-09-22T19:33:16.109677Z"
    }
   },
   "outputs": [],
   "source": [
    "geo_hpai_main = geopandas.GeoDataFrame(\n",
    "    hpai_main, geometry=geopandas.points_from_xy(hpai_main.Long, hpai_main.Lat))"
   ]
  },
  {
   "cell_type": "code",
   "execution_count": null,
   "id": "046826cb",
   "metadata": {
    "ExecuteTime": {
     "end_time": "2024-09-22T19:33:16.111696Z",
     "start_time": "2024-09-22T19:33:16.111679Z"
    }
   },
   "outputs": [],
   "source": [
    "geo_hpai_wild = geopandas.GeoDataFrame(\n",
    "    hpai_wild, geometry=geopandas.points_from_xy(hpai_wild.longitude, hpai_wild.latitude))"
   ]
  },
  {
   "cell_type": "code",
   "execution_count": null,
   "id": "21a3ff25",
   "metadata": {
    "ExecuteTime": {
     "end_time": "2024-09-22T19:33:16.114377Z",
     "start_time": "2024-09-22T19:33:16.114321Z"
    },
    "scrolled": false
   },
   "outputs": [],
   "source": [
    "world = geopandas.read_file(geopandas.datasets.get_path('naturalearth_lowres'))\n",
    "\n",
    "\n",
    "# restrict to UK.\n",
    "ax = world[world.name == 'United Kingdom'].plot(\n",
    "    color='white', edgecolor='black')\n",
    "\n",
    "# plot our ``GeoDataFrame``.\n",
    "geo_hpai_wild[geo_hpai_wild['Final Result'] == 'Positive'].plot(\n",
    "    ax=ax, color='red', alpha=0.5, label='Wild bird Infected',  marker='x')\n",
    "geo_hpai_wild[geo_hpai_wild['Final Result'] != 'Positive'].plot(\n",
    "    ax=ax, color='green', alpha=0.3, label='Wild bird *Not* Infected',  marker='.')\n",
    "geo_hpai_main.plot(ax=ax, color='blue', marker='s',\n",
    "                   label='Poultry Farms', alpha=0.5)\n",
    "\n",
    "plt.title('Wild bird deaths in relation to poultry farms in the UK')\n",
    "plt.xlabel('Longitude')\n",
    "plt.ylabel('Latitude')\n",
    "plt.legend(loc=\"upper left\")\n",
    "plt.savefig('wild_bird_occurences.png')"
   ]
  },
  {
   "cell_type": "markdown",
   "id": "da346ee6",
   "metadata": {},
   "source": [
    "# Extracting modeling data \n",
    "\n",
    "Proposed model: SEINR "
   ]
  },
  {
   "cell_type": "code",
   "execution_count": null,
   "id": "f5e91486",
   "metadata": {
    "ExecuteTime": {
     "end_time": "2024-09-22T19:33:16.117196Z",
     "start_time": "2024-09-22T19:33:16.117036Z"
    }
   },
   "outputs": [],
   "source": [
    "world = geopandas.read_file(geopandas.datasets.get_path('naturalearth_lowres'))\n",
    "\n",
    "# restrict to UK.\n",
    "ax = world[world.name == 'United Kingdom'].plot(\n",
    "    color='white', edgecolor='black')\n",
    "\n",
    "# plot our ``GeoDataFrame``.\n",
    "geo_hpai_wild[geo_hpai_wild['Final Result'] == 'Positive'].plot(\n",
    "    ax=ax, color='red', alpha=0.5, label='Wild bird Infected',  marker='x')\n",
    "geo_hpai_wild[geo_hpai_wild['Final Result'] != 'Positive'].plot(\n",
    "    ax=ax, color='green', alpha=0.3, label='Wild bird *Not* Infected',  marker='.')\n",
    "geo_hpai_main.plot(ax=ax, color='blue', marker='s',\n",
    "                   label='Poultry Farms', alpha=0.5)\n",
    "\n",
    "plt.title('Wild bird deaths in relation to poultry farms in the UK')\n",
    "plt.xlabel('Longitude')\n",
    "plt.ylabel('Latitude')\n",
    "plt.legend(loc=\"upper left\")\n",
    "plt.savefig('wild_bird_occurences.png')\n",
    "\n",
    "plt."
   ]
  },
  {
   "cell_type": "code",
   "execution_count": null,
   "id": "caaf9715",
   "metadata": {
    "ExecuteTime": {
     "end_time": "2024-09-22T19:33:16.120223Z",
     "start_time": "2024-09-22T19:33:16.120197Z"
    }
   },
   "outputs": [],
   "source": [
    "uk = geopandas.read_file('Countries_December_2022_GB_BFE_1266578283381653958.zip')\n",
    "ax = uk.plot(\n",
    "    color='white', edgecolor='black')\n",
    "\n",
    "\n",
    "# plot our ``GeoDataFrame``.\n",
    "geo_hpai_wild[geo_hpai_wild['Final Result'] == 'Positive'].plot(\n",
    "    ax=ax, color='red', alpha=0.5, label='Wild bird Infected',  marker='x')\n",
    "geo_hpai_wild[geo_hpai_wild['Final Result'] != 'Positive'].plot(\n",
    "    ax=ax, color='green', alpha=0.3, label='Wild bird *Not* Infected',  marker='.')\n",
    "geo_hpai_main.plot(ax=ax, color='blue', marker='s',\n",
    "                   label='Poultry Farms', alpha=0.5)\n",
    "\n",
    "plt.title('Wild bird deaths in relation to poultry farms in the UK')\n",
    "plt.xlabel('Longitude')\n",
    "plt.ylabel('Latitude')\n",
    "plt.legend(loc=\"upper left\")\n",
    "plt.savefig('wild_bird_occurences.png')\n"
   ]
  },
  {
   "cell_type": "code",
   "execution_count": null,
   "id": "19933a42",
   "metadata": {
    "ExecuteTime": {
     "end_time": "2024-09-22T19:33:16.122263Z",
     "start_time": "2024-09-22T19:33:16.122214Z"
    }
   },
   "outputs": [],
   "source": [
    "uk"
   ]
  },
  {
   "cell_type": "code",
   "execution_count": null,
   "id": "857f414b",
   "metadata": {
    "ExecuteTime": {
     "end_time": "2024-09-22T19:33:16.126165Z",
     "start_time": "2024-09-22T19:33:16.126141Z"
    }
   },
   "outputs": [],
   "source": [
    "# spatial data - farm level\n",
    "hpai_poultry[['Location Id', 'Easting', 'Northing']].to_csv('data_files/farm_locations.csv')"
   ]
  },
  {
   "cell_type": "code",
   "execution_count": null,
   "id": "d37bb465",
   "metadata": {
    "ExecuteTime": {
     "end_time": "2024-09-22T19:33:16.128694Z",
     "start_time": "2024-09-22T19:33:16.128678Z"
    }
   },
   "outputs": [],
   "source": [
    "# time data - case level (will not have every farm infected)\n",
    "hpai_main_dates.to_csv('data_files/hpai_temporal_data.csv')"
   ]
  },
  {
   "cell_type": "code",
   "execution_count": null,
   "id": "9d662a26",
   "metadata": {
    "ExecuteTime": {
     "end_time": "2024-09-22T19:33:16.130316Z",
     "start_time": "2024-09-22T19:33:16.130294Z"
    }
   },
   "outputs": [],
   "source": [
    "# farm characteristics - from the hpai_main dataset so they align with the hpai_main_dates\n",
    "# characteristics available for every infected/case but not for every farm (i.e. occults)! Harder to simulate\n",
    "hpai_main[['approxNumBirds', 'Season', 'speciesPresent', 'businessType', 'premisesType']]\n",
    "\n",
    "# any derivative data sets from the main file can be matched by index, o/w need to match by location? "
   ]
  },
  {
   "cell_type": "code",
   "execution_count": null,
   "id": "4fac9a56",
   "metadata": {
    "ExecuteTime": {
     "end_time": "2024-09-22T19:33:16.132418Z",
     "start_time": "2024-09-22T19:33:16.132402Z"
    }
   },
   "outputs": [],
   "source": [
    "hpai_main.info()"
   ]
  },
  {
   "cell_type": "markdown",
   "id": "0fafc76e",
   "metadata": {},
   "source": [
    "# Simulate data"
   ]
  },
  {
   "cell_type": "code",
   "execution_count": null,
   "id": "5393a75e",
   "metadata": {
    "ExecuteTime": {
     "end_time": "2024-09-22T19:33:16.133985Z",
     "start_time": "2024-09-22T19:33:16.133928Z"
    }
   },
   "outputs": [],
   "source": [
    "import sys \n",
    "\n",
    "sys.path.append('/Users/alinmorariu/Documents/Github/ContinuousTimeIndividualLevelEpidemicModels')"
   ]
  },
  {
   "cell_type": "code",
   "execution_count": null,
   "id": "0f2082be",
   "metadata": {
    "ExecuteTime": {
     "end_time": "2024-09-22T19:33:16.136146Z",
     "start_time": "2024-09-22T19:33:16.136122Z"
    }
   },
   "outputs": [],
   "source": [
    "import ContinousTimeStateTransitionModel as epi_sim"
   ]
  },
  {
   "cell_type": "markdown",
   "id": "d1f06071",
   "metadata": {},
   "source": [
    "## Fake data "
   ]
  },
  {
   "cell_type": "code",
   "execution_count": null,
   "id": "e95b0eeb",
   "metadata": {
    "ExecuteTime": {
     "end_time": "2024-09-22T19:33:16.140224Z",
     "start_time": "2024-09-22T19:33:16.140197Z"
    }
   },
   "outputs": [],
   "source": [
    "# location data\n",
    "num_farms = 1000\n",
    "np.random.seed(1356315)\n",
    "location_data = np.random.uniform(low = 0.0, high = 1000.0, size = (num_farms,2))\n",
    "location_data = pd.DataFrame(location_data, columns= ('Long', 'Lat'))\n",
    "location_data.head()"
   ]
  },
  {
   "cell_type": "code",
   "execution_count": null,
   "id": "de04a885",
   "metadata": {
    "ExecuteTime": {
     "end_time": "2024-09-22T19:33:16.142281Z",
     "start_time": "2024-09-22T19:33:16.142266Z"
    }
   },
   "outputs": [],
   "source": [
    "sns.scatterplot(data=location_data, x='Long', y='Lat')"
   ]
  },
  {
   "cell_type": "code",
   "execution_count": null,
   "id": "7aa5a743",
   "metadata": {
    "ExecuteTime": {
     "end_time": "2024-09-22T19:33:16.144525Z",
     "start_time": "2024-09-22T19:33:16.144506Z"
    }
   },
   "outputs": [],
   "source": [
    "# farm type data \n",
    "farm_types = ['chicken', 'other']\n",
    "np.random.seed(1356315)\n"
   ]
  },
  {
   "cell_type": "code",
   "execution_count": null,
   "id": "f0df77c4",
   "metadata": {
    "ExecuteTime": {
     "end_time": "2024-09-22T19:33:16.146421Z",
     "start_time": "2024-09-22T19:33:16.146385Z"
    }
   },
   "outputs": [],
   "source": [
    "# Create hazard fn \n",
    "DTYPE = tf.float32\n",
    "def pairwise_distance(farm_locations_data):\n",
    "    \"\"\"Compute pairwise distance matrix between farms\n",
    "\n",
    "    Args:\n",
    "        farm_locations_data (DataFrame): Lat-Long coordinates of farms\n",
    "\n",
    "    Returns:\n",
    "        tensor: tensor of Eucli dean distances between entities\n",
    "                Dim = len(farm_location_data)\n",
    "    \"\"\"\n",
    "    return tf.convert_to_tensor(\n",
    "        sp.spatial.distance.squareform(\n",
    "            sp.spatial.distance.pdist(farm_locations_data)\n",
    "        ),\n",
    "        dtype=DTYPE\n",
    "    )"
   ]
  },
  {
   "cell_type": "code",
   "execution_count": null,
   "id": "536cd4fd",
   "metadata": {
    "ExecuteTime": {
     "end_time": "2024-09-22T19:33:16.149434Z",
     "start_time": "2024-09-22T19:33:16.149410Z"
    }
   },
   "outputs": [],
   "source": [
    "# eg. spatial distance\n",
    "pairwise_distance(farm_locations_data= location_data)"
   ]
  },
  {
   "cell_type": "code",
   "execution_count": null,
   "id": "e11bdf2b",
   "metadata": {
    "ExecuteTime": {
     "end_time": "2024-09-22T19:33:16.152056Z",
     "start_time": "2024-09-22T19:33:16.152029Z"
    }
   },
   "outputs": [],
   "source": [
    "# Datetimes for events \n",
    "np.random.seed(1356315)\n",
    "\n",
    "infectious_period_range = np.arange(0, 20)\n",
    "base_date = np.datetime64('2023-01-07')\n",
    "infectious_dates = base_date + np.random.choice(infectious_period_range, num_farms)\n",
    "\n",
    "infectious_dates"
   ]
  },
  {
   "cell_type": "code",
   "execution_count": null,
   "id": "9584d09b",
   "metadata": {
    "ExecuteTime": {
     "end_time": "2024-09-22T19:33:16.154582Z",
     "start_time": "2024-09-22T19:33:16.154557Z"
    }
   },
   "outputs": [],
   "source": [
    "removal_dates = infectious_dates + 4"
   ]
  },
  {
   "cell_type": "code",
   "execution_count": null,
   "id": "ed0666d3",
   "metadata": {
    "ExecuteTime": {
     "end_time": "2024-09-22T19:33:16.156111Z",
     "start_time": "2024-09-22T19:33:16.156078Z"
    }
   },
   "outputs": [],
   "source": [
    "key_dates = pd.DataFrame({'inf_date': pd.to_numeric(infectious_dates), \n",
    "                          'removal_date': pd.to_numeric(removal_dates)})\n",
    "key_dates"
   ]
  },
  {
   "cell_type": "code",
   "execution_count": null,
   "id": "850fd934",
   "metadata": {
    "ExecuteTime": {
     "end_time": "2024-09-22T19:33:16.157839Z",
     "start_time": "2024-09-22T19:33:16.157822Z"
    }
   },
   "outputs": [],
   "source": [
    "key_dates.iloc[:,0]"
   ]
  },
  {
   "cell_type": "markdown",
   "id": "66780b3a",
   "metadata": {},
   "source": [
    "## Summary "
   ]
  },
  {
   "cell_type": "code",
   "execution_count": null,
   "id": "d2e30f07",
   "metadata": {
    "ExecuteTime": {
     "end_time": "2024-09-22T19:33:16.159934Z",
     "start_time": "2024-09-22T19:33:16.159918Z"
    }
   },
   "outputs": [],
   "source": [
    "location_data.head()"
   ]
  },
  {
   "cell_type": "code",
   "execution_count": null,
   "id": "81b10d86",
   "metadata": {
    "ExecuteTime": {
     "end_time": "2024-09-22T19:33:16.161416Z",
     "start_time": "2024-09-22T19:33:16.161400Z"
    }
   },
   "outputs": [],
   "source": [
    "key_dates.head()"
   ]
  },
  {
   "cell_type": "markdown",
   "id": "83574af5",
   "metadata": {},
   "source": [
    "# Likelihood evaluation "
   ]
  },
  {
   "cell_type": "code",
   "execution_count": null,
   "id": "44aa7f8d",
   "metadata": {
    "ExecuteTime": {
     "end_time": "2024-09-22T19:33:16.163321Z",
     "start_time": "2024-09-22T19:33:16.163304Z"
    }
   },
   "outputs": [],
   "source": [
    "def generate_waifw(infection_times, removal_times):\n",
    "    \"\"\"\n",
    "    Compute a WAIFW (who acquired infection from who) matrix \n",
    "    given tensors of infection and removal times. \n",
    "\n",
    "    Args:\n",
    "        infection_times (datetime): array of infection times \n",
    "        removal_times (datetime): array of removal times \n",
    "\n",
    "    Returns:\n",
    "        tensor: len(infection_times) x len(infection_times) tensor of 1s and 0s\n",
    "    \"\"\"\n",
    "\n",
    "    infection_times = tf.convert_to_tensor(infection_times)\n",
    "    removal_times = tf.convert_to_tensor(removal_times)\n",
    "\n",
    "    # use the expand_dim to do the [I,:] trick\n",
    "    waifw = tf.math.logical_and(\n",
    "        # compare infections to infections: I_i <= I_j\n",
    "        infection_times[tf.newaxis, :] < infection_times[:, tf.newaxis],\n",
    "        # compare infections to removals: I_j <= R_i\n",
    "        infection_times[:, tf.newaxis] < removal_times[tf.newaxis, :]\n",
    "    )\n",
    "    return tf.cast(waifw,\n",
    "                   dtype=DTYPE)"
   ]
  },
  {
   "cell_type": "code",
   "execution_count": null,
   "id": "bef8277c",
   "metadata": {
    "ExecuteTime": {
     "end_time": "2024-09-22T19:33:16.165314Z",
     "start_time": "2024-09-22T19:33:16.165291Z"
    }
   },
   "outputs": [],
   "source": [
    "generate_waifw(infection_times= key_dates.iloc[:,0],\n",
    "              removal_times= key_dates.iloc[:,1])"
   ]
  },
  {
   "cell_type": "code",
   "execution_count": null,
   "id": "a811aa48",
   "metadata": {
    "ExecuteTime": {
     "end_time": "2024-09-22T19:33:16.167172Z",
     "start_time": "2024-09-22T19:33:16.167157Z"
    }
   },
   "outputs": [],
   "source": [
    "def generate_exposure(infection_times, removal_times):\n",
    "    \"\"\"\n",
    "    Compute exposure matrix given two tensors of infections and removal times\n",
    "\n",
    "    Args:\n",
    "        infection_times (datetime): array of infection times \n",
    "        removal_times (datetime): array of removal times \n",
    "\n",
    "    Returns:\n",
    "        tensor: len(infection_times) x len(infection_times) tensor of exposure\n",
    "        durations \n",
    "    \"\"\"\n",
    "\n",
    "    return (\n",
    "        tf.math.minimum(infection_times[:, tf.newaxis],\n",
    "                        removal_times[tf.newaxis, :]) -\n",
    "        tf.math.minimum(infection_times[:, tf.newaxis],\n",
    "                        infection_times[tf.newaxis, :])\n",
    "    )"
   ]
  },
  {
   "cell_type": "code",
   "execution_count": null,
   "id": "4a5cc51d",
   "metadata": {
    "ExecuteTime": {
     "end_time": "2024-09-22T19:33:16.168856Z",
     "start_time": "2024-09-22T19:33:16.168830Z"
    }
   },
   "outputs": [],
   "source": [
    "generate_exposure(infection_times= key_dates.iloc[:,0],\n",
    "              removal_times= key_dates.iloc[:,1])"
   ]
  },
  {
   "cell_type": "code",
   "execution_count": null,
   "id": "e9fe03b5",
   "metadata": {
    "ExecuteTime": {
     "end_time": "2024-09-22T19:33:16.170875Z",
     "start_time": "2024-09-22T19:33:16.170852Z"
    }
   },
   "outputs": [],
   "source": [
    "def generate_spatial_kernel(farm_distance_matrix):\n",
    "    \"\"\"Compute the square exponential spatial kernel given a pairwise distance matrix\n",
    "\n",
    "    Args:\n",
    "        farm_distance_matrix (tensor): matrix of pairwise distance\n",
    "\n",
    "    Returns:\n",
    "        function: function taking in spatial pressure parameter based on \n",
    "    \"\"\"\n",
    "    farm_distance_matrix = tf.convert_to_tensor(farm_distance_matrix, DTYPE)\n",
    "    def square_exponential_kernel(parameters):\n",
    "        partial_step = tf.math.multiply(farm_distance_matrix, 1/parameters)\n",
    "        return tf.math.exp(tf.math.negative(tf.math.square(partial_step)))\n",
    "    return square_exponential_kernel"
   ]
  },
  {
   "cell_type": "code",
   "execution_count": null,
   "id": "1499650a",
   "metadata": {
    "ExecuteTime": {
     "end_time": "2024-09-22T19:33:16.173175Z",
     "start_time": "2024-09-22T19:33:16.173111Z"
    }
   },
   "outputs": [],
   "source": [
    "farm_distances = pairwise_distance(farm_locations_data= location_data)\n",
    "spatial_kernel = generate_spatial_kernel(farm_distance_matrix= farm_distances)\n",
    "\n",
    "spatial_kernel(500.0)"
   ]
  },
  {
   "cell_type": "code",
   "execution_count": null,
   "id": "672c0718",
   "metadata": {
    "ExecuteTime": {
     "end_time": "2024-09-22T19:33:16.175317Z",
     "start_time": "2024-09-22T19:33:16.175294Z"
    }
   },
   "outputs": [],
   "source": [
    "# farm type data \n",
    "np.random.seed(1356315)\n",
    "farm_types = np.random.choice((0,1), size = num_farms) # chicken, o/w "
   ]
  },
  {
   "cell_type": "code",
   "execution_count": null,
   "id": "f0913928",
   "metadata": {
    "ExecuteTime": {
     "end_time": "2024-09-22T19:33:16.177721Z",
     "start_time": "2024-09-22T19:33:16.177703Z"
    }
   },
   "outputs": [],
   "source": [
    "def generate_regression_pressure(farm_characteristics_data = None): \n",
    "    \"\"\"_summary_\n",
    "\n",
    "    Args:\n",
    "        farm_characteristics_data (_type_, optional): Factor variables for each farm unit. Defaults to None.\n",
    "\n",
    "    Returns:\n",
    "        tensor: exp(alpha + beta^T * data)\n",
    "    \"\"\"\n",
    "    farm_characteristics_data = tf.convert_to_tensor(farm_characteristics_data, DTYPE)\n",
    "    def compute_regression(parameters):\n",
    "        # regression does not include the intercept term \n",
    "        regression = tf.math.multiply(farm_characteristics_data, parameters)\n",
    "        expontiated_regression = tf.math.exp(regression)\n",
    "        return expontiated_regression\n",
    "        \n",
    "    return compute_regression"
   ]
  },
  {
   "cell_type": "code",
   "execution_count": null,
   "id": "b05b5ed3",
   "metadata": {
    "ExecuteTime": {
     "end_time": "2024-09-22T19:33:16.179697Z",
     "start_time": "2024-09-22T19:33:16.179678Z"
    }
   },
   "outputs": [],
   "source": [
    "regression_pressure = generate_regression_pressure(farm_characteristics_data=farm_types)\n",
    "regression_pressure(parameters=0.7)"
   ]
  },
  {
   "cell_type": "code",
   "execution_count": null,
   "id": "497aa203",
   "metadata": {
    "ExecuteTime": {
     "end_time": "2024-09-22T19:33:16.181903Z",
     "start_time": "2024-09-22T19:33:16.181884Z"
    }
   },
   "outputs": [],
   "source": [
    "def generate_pairwise_hazard_fn(farm_distance_matrix, farm_characteristics_data=None):\n",
    "    \"\"\"_summary_\n",
    "\n",
    "    Args:\n",
    "        farm_characteristics_data (_type_): features of farms, including a 1s column for regression\n",
    "        farm_locations_data (_type_): Northing-Easting coordinates of farms\n",
    "\n",
    "    Returns:\n",
    "        fn: fn which outputs a tensor of pairwise hazard rates \n",
    "    \"\"\"\n",
    "    spatial_kernel = generate_spatial_kernel(farm_distance_matrix)\n",
    "    regression_kernel = generate_regression_pressure(farm_characteristics_data)\n",
    "    \n",
    "    def compute_hazard(parameters):\n",
    "        # Fill in later\n",
    "\n",
    "        # spatial component - already exponentiated!\n",
    "        spatial = spatial_kernel(parameters[0])\n",
    "        \n",
    "        # regression component - already exponentiated!\n",
    "        regression = regression_kernel(parameters[1])\n",
    "        return tf.math.multiply(spatial,\n",
    "                                regression\n",
    "                               )\n",
    "\n",
    "    return compute_hazard"
   ]
  },
  {
   "cell_type": "code",
   "execution_count": null,
   "id": "9de754b1",
   "metadata": {
    "ExecuteTime": {
     "end_time": "2024-09-22T19:33:16.183806Z",
     "start_time": "2024-09-22T19:33:16.183783Z"
    },
    "scrolled": true
   },
   "outputs": [],
   "source": [
    "hazard_fn = generate_pairwise_hazard_fn(farm_distance_matrix=farm_distances, farm_characteristics_data=farm_types)\n",
    "tf.einsum('ij -> i', hazard_fn([500.0,0.7]))"
   ]
  },
  {
   "cell_type": "markdown",
   "id": "5d2137b4",
   "metadata": {
    "ExecuteTime": {
     "end_time": "2023-07-06T17:44:08.966101Z",
     "start_time": "2023-07-06T17:44:08.963353Z"
    }
   },
   "source": [
    "# Simulate epidemic (event)"
   ]
  },
  {
   "cell_type": "code",
   "execution_count": null,
   "id": "6b9a2155",
   "metadata": {
    "ExecuteTime": {
     "end_time": "2024-09-22T19:33:16.186340Z",
     "start_time": "2024-09-22T19:33:16.186323Z"
    }
   },
   "outputs": [],
   "source": [
    "# make rate fn for simulation \n",
    "def make_rate_fn(parameters):\n",
    "    # keep data variables and parameters on the outside\n",
    "    def rate_fn(t, state):\n",
    "        # t and state change with each iteration of the Gillespie so they are\n",
    "        # a loop variable and thus inside the rate_fn\n",
    "        si_rate = tf.einsum('ij -> i', hazard_fn(parameters))\n",
    "        ir_rate = tf.broadcast_to([70.0], shape=si_rate.shape)\n",
    "        return tf.stack([si_rate, ir_rate], axis=0)  # [R x M]\n",
    "    return rate_fn"
   ]
  },
  {
   "cell_type": "code",
   "execution_count": null,
   "id": "0b3e6375",
   "metadata": {
    "ExecuteTime": {
     "end_time": "2024-09-22T19:33:16.188479Z",
     "start_time": "2024-09-22T19:33:16.188461Z"
    }
   },
   "outputs": [],
   "source": [
    "make_rate_fn([500.0, 0.07])(1,np.array([[9],\n",
    "                          [1],\n",
    "                          [0]], dtype=np.float32) )"
   ]
  },
  {
   "cell_type": "code",
   "execution_count": null,
   "id": "73a79468",
   "metadata": {
    "ExecuteTime": {
     "end_time": "2024-09-22T19:33:16.190199Z",
     "start_time": "2024-09-22T19:33:16.190181Z"
    }
   },
   "outputs": [],
   "source": [
    "# Define variables to govern epidemic\n",
    "sir_graph = np.array([[-1, 0],\n",
    "                      [1, -1],\n",
    "                      [0, 1]], dtype=np.float32)\n",
    "\n",
    "\n",
    "initial_state = np.array([[900],\n",
    "                          [100],\n",
    "                          [0]], dtype=np.float32)"
   ]
  },
  {
   "cell_type": "code",
   "execution_count": null,
   "id": "5b7b69c6",
   "metadata": {
    "ExecuteTime": {
     "end_time": "2024-09-22T19:33:16.191948Z",
     "start_time": "2024-09-22T19:33:16.191927Z"
    }
   },
   "outputs": [],
   "source": [
    "example_epidemic = epi_sim.ContinuousTimeStateTransitionModelSimulation(\n",
    "    incidence_matrix=sir_graph,\n",
    "    initial_state=initial_state,\n",
    "    transition_rate_fn=make_rate_fn([500,0.07])\n",
    ")"
   ]
  },
  {
   "cell_type": "code",
   "execution_count": null,
   "id": "7e9aa83a",
   "metadata": {
    "ExecuteTime": {
     "end_time": "2024-09-22T19:33:16.193677Z",
     "start_time": "2024-09-22T19:33:16.193660Z"
    }
   },
   "outputs": [],
   "source": [
    "# simulate the epidemic\n",
    "epidemic1 = example_epidemic.simulate_continuous_time_state_transition_model()\n",
    "time_stamps, transition_types, individual = example_epidemic.simulate_continuous_time_state_transition_model()"
   ]
  },
  {
   "cell_type": "code",
   "execution_count": null,
   "id": "06a5ceb0",
   "metadata": {
    "ExecuteTime": {
     "end_time": "2024-09-22T19:33:16.196094Z",
     "start_time": "2024-09-22T19:33:16.196070Z"
    }
   },
   "outputs": [],
   "source": [
    "time_stamps, transition_types, individual"
   ]
  },
  {
   "cell_type": "code",
   "execution_count": null,
   "id": "6bc077cd",
   "metadata": {
    "ExecuteTime": {
     "end_time": "2024-09-22T19:33:16.199188Z",
     "start_time": "2024-09-22T19:33:16.199171Z"
    }
   },
   "outputs": [],
   "source": [
    "long_form_epi1 = epi_sim._compute_state(initial_state= epi_sim._expand_state(initial_state),\n",
    "                      event_list= epidemic1,\n",
    "                      incidence_matrix=sir_graph)"
   ]
  },
  {
   "cell_type": "code",
   "execution_count": null,
   "id": "89f4eb18",
   "metadata": {
    "ExecuteTime": {
     "end_time": "2024-09-22T19:33:16.200862Z",
     "start_time": "2024-09-22T19:33:16.200846Z"
    }
   },
   "outputs": [],
   "source": [
    "long_form_epi1"
   ]
  },
  {
   "cell_type": "code",
   "execution_count": null,
   "id": "ba2813f5",
   "metadata": {
    "ExecuteTime": {
     "end_time": "2024-09-22T19:33:16.202733Z",
     "start_time": "2024-09-22T19:33:16.202718Z"
    }
   },
   "outputs": [],
   "source": [
    "summary = tf.concat([tf.expand_dims(long_form_epi1[0], axis=1, name='time'),\n",
    "                         tf.reduce_sum(long_form_epi1[1], axis=-1)],\n",
    "                        axis=-1,\n",
    "                        name=\"full_epidemic\")\n",
    "format_summary = pd.DataFrame(summary.numpy())\n",
    "\n",
    "new_names = dict(zip(format_summary.columns,\n",
    "                         ['time'] + ['S', 'I', 'R'])\n",
    "                     )\n",
    "\n",
    "format_summary = format_summary.rename(columns=new_names)"
   ]
  },
  {
   "cell_type": "code",
   "execution_count": null,
   "id": "f5410906",
   "metadata": {
    "ExecuteTime": {
     "end_time": "2024-09-22T19:33:16.204832Z",
     "start_time": "2024-09-22T19:33:16.204814Z"
    }
   },
   "outputs": [],
   "source": [
    "format_summary.iloc[:, ].plot(x='time')\n",
    "plt.title('Simulated Epidemic')"
   ]
  },
  {
   "cell_type": "markdown",
   "id": "6f602be8",
   "metadata": {},
   "source": [
    "# Inference \n",
    "## Centred MCMC "
   ]
  },
  {
   "cell_type": "code",
   "execution_count": null,
   "id": "28e911a4",
   "metadata": {
    "ExecuteTime": {
     "end_time": "2024-09-22T19:33:16.207087Z",
     "start_time": "2024-09-22T19:33:16.207070Z"
    }
   },
   "outputs": [],
   "source": [
    "@tf.function(jit_compile=True)\n",
    "def centred_MCMC(target_log_prob_fn, initial_parameter_values, iter=25):\n",
    "    '''\n",
    "    MCMC sampler for centred parameterization of a \n",
    "    partially observed epidemic. Data generated from \n",
    "    SIR model. \n",
    "    '''\n",
    "\n",
    "    dtype = np.float32\n",
    "    initial_parameter_values = tf.convert_to_tensor(initial_parameter_values,\n",
    "                                                    dtype=dtype)\n",
    "\n",
    "    # generate initial values for missing data\n",
    "    infection_times = removal_times - 5.0\n",
    "\n",
    "    def single_iteration(parameters, infection_times):\n",
    "        '''\n",
    "        Define a single iteration of the sampler. We first update the parameters,\n",
    "        followed by updating an infection time. \n",
    "        '''\n",
    "\n",
    "        # 1(a) Propose new parameter values from Q(.)\n",
    "        new_param = tfd.Normal(loc=parameters,\n",
    "                               scale=[0.02, 0.01, 0.001, 0.01]).sample()\n",
    "\n",
    "        # 1(b) Accept/reject\n",
    "        a1 = target_log_prob_fn(new_param, infection_times) - \\\n",
    "            target_log_prob_fn(parameters, infection_times)\n",
    "\n",
    "        # 1(c) Check\n",
    "        def parameter_true_fn():\n",
    "            return new_param, 1\n",
    "\n",
    "        def parameter_false_fn():\n",
    "            return parameters, 0\n",
    "\n",
    "        is_param_accept = tf.math.log(tfd.Uniform().sample()) < a1\n",
    "\n",
    "        parameters, result_param = tf.cond(is_param_accept,\n",
    "                                           parameter_true_fn,\n",
    "                                           parameter_false_fn)\n",
    "\n",
    "        # 2(a) Propose new infection time from Q_i(.)\n",
    "        # Part i - choose a person\n",
    "        individual_ID = tfd.Categorical(\n",
    "            logits=tf.zeros_like(removal_times)).sample()\n",
    "        # Part ii - propose new infection time\n",
    "        proposal = tfd.Exponential(rate=1.5)\n",
    "        new_infectious_period = proposal.sample()\n",
    "\n",
    "        current_infectious_periods = removal_times - infection_times\n",
    "        new_infectious_periods = tf.tensor_scatter_nd_update(\n",
    "            tensor=current_infectious_periods,\n",
    "            indices=[[individual_ID]],\n",
    "            updates=[new_infectious_period]\n",
    "        )\n",
    "        new_infection_times = removal_times - new_infectious_periods\n",
    "\n",
    "        # 2(b) Accept/reject\n",
    "        a2 = (\n",
    "            target_log_prob_fn(parameters, new_infection_times)\n",
    "            - target_log_prob_fn(parameters, infection_times)\n",
    "            + proposal.log_prob(\n",
    "                tf.gather(current_infectious_periods, individual_ID)\n",
    "            )\n",
    "            - proposal.log_prob(new_infectious_period)\n",
    "        )\n",
    "\n",
    "        # 2(c) Check\n",
    "        def infection_true_fn():\n",
    "            return new_infection_times, 1\n",
    "\n",
    "        def infection_false_fn():\n",
    "            return infection_times, 0\n",
    "\n",
    "        is_infection_accept = tf.math.log(tfd.Uniform().sample()) < a2\n",
    "\n",
    "        infection_times, result_inf = tf.cond(is_infection_accept,\n",
    "                                              infection_true_fn,\n",
    "                                              infection_false_fn)\n",
    "\n",
    "        return x\n",
    "\n",
    "    # Construct while loop here\n",
    "    parameter_samples = tf.TensorArray(\n",
    "        initial_parameter_values.dtype, size=iter)\n",
    "    infection_times_samples = tf.TensorArray(infection_times.dtype, size=iter)\n",
    "    results = tf.TensorArray(infection_times.dtype, size=iter)\n",
    "\n",
    "    def cond(i,\n",
    "             current_parameters,\n",
    "             current_infection_times,\n",
    "             parameter_accum,\n",
    "             infection_times_accum,\n",
    "             results_accum):\n",
    "        return i < iter\n",
    "\n",
    "    def body(i,\n",
    "             current_parameters,\n",
    "             current_infection_times,\n",
    "             parameter_accum,\n",
    "             infection_times_accum,\n",
    "             results_accum):\n",
    "\n",
    "        (next_parameters,\n",
    "         next_infection_times,\n",
    "         results) = single_iteration(parameters=current_parameters,\n",
    "                                     infection_times=current_infection_times)\n",
    "\n",
    "        parameter_accum = parameter_accum.write(i, next_parameters)\n",
    "        infection_times_accum = infection_times_accum.write(\n",
    "            i, next_infection_times)\n",
    "        results_accum = results_accum.write(i, results)\n",
    "\n",
    "        return (i+1,\n",
    "                next_parameters,\n",
    "                next_infection_times,\n",
    "                parameter_accum,\n",
    "                infection_times_accum,\n",
    "                results_accum)\n",
    "\n",
    "    (\n",
    "        _1,\n",
    "        _2,\n",
    "        _3,\n",
    "        parameter_samples,\n",
    "        infection_times_samples,\n",
    "        results) = tf.while_loop(cond=cond,\n",
    "                                 body=body,\n",
    "                                 loop_vars=(0,\n",
    "                                            initial_parameter_values,\n",
    "                                            infection_times,\n",
    "                                            parameter_samples,\n",
    "                                            infection_times_samples,\n",
    "                                            results)\n",
    "                                 )\n",
    "    return parameter_samples.stack(), infection_times_samples.stack(), results.stack()"
   ]
  },
  {
   "cell_type": "markdown",
   "id": "3d40fb50",
   "metadata": {
    "ExecuteTime": {
     "end_time": "2023-06-08T14:38:23.810447Z",
     "start_time": "2023-06-08T14:38:23.741401Z"
    }
   },
   "source": [
    "## Data transformation"
   ]
  },
  {
   "cell_type": "code",
   "execution_count": null,
   "id": "8247f228",
   "metadata": {
    "ExecuteTime": {
     "end_time": "2024-09-22T19:33:16.209128Z",
     "start_time": "2024-09-22T19:33:16.209091Z"
    }
   },
   "outputs": [],
   "source": [
    "tf.scatter_nd(indices=tf.stack([individual, transition_types], axis=-1),\n",
    "              updates=time_stamps, shape=[num_farms, 2])"
   ]
  },
  {
   "cell_type": "code",
   "execution_count": null,
   "id": "59b43a35",
   "metadata": {
    "ExecuteTime": {
     "end_time": "2024-09-22T19:33:16.210858Z",
     "start_time": "2024-09-22T19:33:16.210841Z"
    }
   },
   "outputs": [],
   "source": [
    "tf.stack([individual, transition_types], axis=-1)"
   ]
  },
  {
   "cell_type": "code",
   "execution_count": null,
   "id": "eff3c3a5",
   "metadata": {
    "ExecuteTime": {
     "end_time": "2024-09-22T19:33:16.212349Z",
     "start_time": "2024-09-22T19:33:16.212332Z"
    }
   },
   "outputs": [],
   "source": [
    "formatted_data = pd.DataFrame({'time_stamp':time_stamps, 'event_type':transition_types, 'ind_id':individual})"
   ]
  },
  {
   "cell_type": "code",
   "execution_count": null,
   "id": "461ccc7d",
   "metadata": {
    "ExecuteTime": {
     "end_time": "2024-09-22T19:33:16.214288Z",
     "start_time": "2024-09-22T19:33:16.214272Z"
    }
   },
   "outputs": [],
   "source": [
    "formatted_data.sort_values('ind_id').reset_index "
   ]
  },
  {
   "cell_type": "code",
   "execution_count": null,
   "id": "04d31d49",
   "metadata": {
    "ExecuteTime": {
     "end_time": "2024-09-22T19:33:16.215818Z",
     "start_time": "2024-09-22T19:33:16.215804Z"
    }
   },
   "outputs": [],
   "source": [
    "event_time_data = formatted_data.melt(id_vars=['ind_id', 'event_type'],\n",
    "                                      value_vars=['time_stamp'],\n",
    "                                      value_name='time_stamp').sort_values('ind_id').pivot(index='ind_id',\n",
    "                                                                                           columns='event_type',\n",
    "                                                                                           values='time_stamp').fillna(0.0)"
   ]
  },
  {
   "cell_type": "code",
   "execution_count": null,
   "id": "d17ff325",
   "metadata": {
    "ExecuteTime": {
     "end_time": "2024-09-22T19:33:16.217497Z",
     "start_time": "2024-09-22T19:33:16.217481Z"
    }
   },
   "outputs": [],
   "source": [
    "event_time_data\n",
    "####### "
   ]
  },
  {
   "cell_type": "code",
   "execution_count": null,
   "id": "142b7c84",
   "metadata": {
    "ExecuteTime": {
     "end_time": "2024-09-22T19:33:16.218893Z",
     "start_time": "2024-09-22T19:33:16.218877Z"
    }
   },
   "outputs": [],
   "source": [
    "np.column_stack((time_stamps, individual,transition_types))"
   ]
  },
  {
   "cell_type": "code",
   "execution_count": null,
   "id": "85602e1e",
   "metadata": {
    "ExecuteTime": {
     "end_time": "2024-09-22T19:33:16.220386Z",
     "start_time": "2024-09-22T19:33:16.220368Z"
    }
   },
   "outputs": [],
   "source": [
    "tf.gather(individual, np.argwhere(transition_types == 1).ravel())"
   ]
  },
  {
   "cell_type": "code",
   "execution_count": null,
   "id": "53996362",
   "metadata": {
    "ExecuteTime": {
     "end_time": "2024-09-22T19:33:16.222040Z",
     "start_time": "2024-09-22T19:33:16.222025Z"
    }
   },
   "outputs": [],
   "source": [
    "simulated_removal_times = tf.gather(\n",
    "    time_stamps, np.argwhere(transition_types == 1).ravel())"
   ]
  },
  {
   "cell_type": "code",
   "execution_count": null,
   "id": "63a7d88f",
   "metadata": {
    "ExecuteTime": {
     "end_time": "2024-09-22T19:33:16.223585Z",
     "start_time": "2024-09-22T19:33:16.223569Z"
    }
   },
   "outputs": [],
   "source": [
    "simulated_infection_times = tf.pad(tf.gather(time_stamps, np.argwhere(transition_types == 0).ravel()),\n",
    "                                   paddings=tf.constant([[0, 100]]))"
   ]
  },
  {
   "cell_type": "markdown",
   "id": "9488a8b5",
   "metadata": {},
   "source": [
    "# Likelihood computation"
   ]
  },
  {
   "cell_type": "code",
   "execution_count": null,
   "id": "ec16c84a",
   "metadata": {
    "ExecuteTime": {
     "end_time": "2024-09-22T19:33:16.225110Z",
     "start_time": "2024-09-22T19:33:16.225095Z"
    }
   },
   "outputs": [],
   "source": [
    "generate_waifw(infection_times=simulated_infection_times,\n",
    "               removal_times=simulated_removal_times)"
   ]
  },
  {
   "cell_type": "code",
   "execution_count": null,
   "id": "4058407d",
   "metadata": {
    "ExecuteTime": {
     "end_time": "2024-09-22T19:33:16.226394Z",
     "start_time": "2024-09-22T19:33:16.226378Z"
    }
   },
   "outputs": [],
   "source": [
    "generate_exposure(infection_times=simulated_infection_times,\n",
    "                  removal_times=simulated_removal_times)"
   ]
  },
  {
   "cell_type": "code",
   "execution_count": null,
   "id": "8e72c9c4",
   "metadata": {
    "ExecuteTime": {
     "end_time": "2024-09-22T19:33:16.228382Z",
     "start_time": "2024-09-22T19:33:16.228367Z"
    }
   },
   "outputs": [],
   "source": [
    "simualted_exposure_mat = tf.matmul(a=generate_waifw(infection_times=simulated_infection_times, removal_times=simulated_removal_times),\n",
    "          b=generate_exposure(infection_times=simulated_infection_times, removal_times=simulated_removal_times))"
   ]
  },
  {
   "cell_type": "code",
   "execution_count": null,
   "id": "8d2b0d97",
   "metadata": {
    "ExecuteTime": {
     "end_time": "2024-09-22T19:33:16.229908Z",
     "start_time": "2024-09-22T19:33:16.229892Z"
    }
   },
   "outputs": [],
   "source": [
    "def drop_initial_infections(infection_times):\n",
    "    return np.argwhere(infection_times != 0.0).ravel()"
   ]
  },
  {
   "cell_type": "code",
   "execution_count": null,
   "id": "70029d80",
   "metadata": {
    "ExecuteTime": {
     "end_time": "2024-09-22T19:33:16.231442Z",
     "start_time": "2024-09-22T19:33:16.231426Z"
    }
   },
   "outputs": [],
   "source": [
    "drop_initial_infections(infection_times=simulated_infection_times)"
   ]
  },
  {
   "cell_type": "code",
   "execution_count": null,
   "id": "bf342010",
   "metadata": {
    "ExecuteTime": {
     "end_time": "2024-09-22T19:33:16.233259Z",
     "start_time": "2024-09-22T19:33:16.233243Z"
    }
   },
   "outputs": [],
   "source": [
    "tf.einsum('ij -> i', tf.gather(simualted_exposure_mat,\n",
    "          indices=drop_initial_infections(infecti=n_times=simulated_infection_times)))"
   ]
  },
  {
   "cell_type": "code",
   "execution_count": null,
   "id": "a0d3c31b",
   "metadata": {
    "ExecuteTime": {
     "end_time": "2024-09-22T19:33:16.235011Z",
     "start_time": "2024-09-22T19:33:16.234995Z"
    }
   },
   "outputs": [],
   "source": [
    "def log_ll(spatial_data, unit_data, event_times):\n",
    "    inf_times = event_times.get('infection_times')\n",
    "    removal_times = event_times.get('removal_times')\n",
    "\n",
    "    exposure_calcs = tf.matmul(a=generate_waifw(infection_times=inf_times, removal_times=removal_times),\n",
    "                               b=generate_exposure(infection_times=inf_times, removal_times=removal_times))\n",
    "    \n",
    "    overall_event_rate = tf.einsum('ij -> ', tf.gather(exposure_calcs,\n",
    "          indices=drop_initial_infections(infection_times=inf_times)))\n",
    "    \n",
    "    return overall_event_rate\n",
    "    "
   ]
  },
  {
   "cell_type": "code",
   "execution_count": null,
   "id": "2af6bcbb",
   "metadata": {
    "ExecuteTime": {
     "end_time": "2024-09-22T19:33:16.236336Z",
     "start_time": "2024-09-22T19:33:16.236321Z"
    }
   },
   "outputs": [],
   "source": [
    "log_ll()"
   ]
  }
 ],
 "metadata": {
  "kernelspec": {
   "display_name": "Python 3 (ipykernel)",
   "language": "python",
   "name": "python3"
  },
  "language_info": {
   "codemirror_mode": {
    "name": "ipython",
    "version": 3
   },
   "file_extension": ".py",
   "mimetype": "text/x-python",
   "name": "python",
   "nbconvert_exporter": "python",
   "pygments_lexer": "ipython3",
   "version": "3.9.13"
  },
  "toc": {
   "base_numbering": 1,
   "nav_menu": {},
   "number_sections": true,
   "sideBar": true,
   "skip_h1_title": false,
   "title_cell": "Table of Contents",
   "title_sidebar": "Contents",
   "toc_cell": false,
   "toc_position": {
    "height": "calc(100% - 180px)",
    "left": "10px",
    "top": "150px",
    "width": "246px"
   },
   "toc_section_display": true,
   "toc_window_display": true
  },
  "varInspector": {
   "cols": {
    "lenName": 16,
    "lenType": 16,
    "lenVar": 40
   },
   "kernels_config": {
    "python": {
     "delete_cmd_postfix": "",
     "delete_cmd_prefix": "del ",
     "library": "var_list.py",
     "varRefreshCmd": "print(var_dic_list())"
    },
    "r": {
     "delete_cmd_postfix": ") ",
     "delete_cmd_prefix": "rm(",
     "library": "var_list.r",
     "varRefreshCmd": "cat(var_dic_list()) "
    }
   },
   "position": {
    "height": "420px",
    "left": "2190px",
    "right": "20px",
    "top": "120px",
    "width": "350px"
   },
   "types_to_exclude": [
    "module",
    "function",
    "builtin_function_or_method",
    "instance",
    "_Feature"
   ],
   "window_display": true
  }
 },
 "nbformat": 4,
 "nbformat_minor": 5
}
