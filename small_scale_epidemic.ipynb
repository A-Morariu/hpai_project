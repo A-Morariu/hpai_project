{
 "cells": [
  {
   "cell_type": "code",
   "execution_count": 1,
   "id": "3e2ddeaf",
   "metadata": {
    "ExecuteTime": {
     "end_time": "2023-08-03T14:54:41.672989Z",
     "start_time": "2023-08-03T14:54:30.222127Z"
    }
   },
   "outputs": [],
   "source": [
    "import pandas as pd \n",
    "import numpy as np \n",
    "import matplotlib.pyplot as plt \n",
    "import tensorflow as tf \n",
    "import tensorflow_probability as tfp \n",
    "import scipy as sp\n",
    "import seaborn as sns \n",
    "\n",
    "import collections\n",
    "import sys \n",
    "\n",
    "sys.path.append('/Users/alinmorariu/Documents/Github/ContinuousTimeIndividualLevelEpidemicModels')"
   ]
  },
  {
   "cell_type": "code",
   "execution_count": 2,
   "id": "fe5b4b07",
   "metadata": {
    "ExecuteTime": {
     "end_time": "2023-08-03T14:54:41.681534Z",
     "start_time": "2023-08-03T14:54:41.676249Z"
    }
   },
   "outputs": [],
   "source": [
    "sns.set_theme()"
   ]
  },
  {
   "cell_type": "code",
   "execution_count": 3,
   "id": "71fdf5c8",
   "metadata": {
    "ExecuteTime": {
     "end_time": "2023-08-03T14:54:41.688569Z",
     "start_time": "2023-08-03T14:54:41.685151Z"
    }
   },
   "outputs": [],
   "source": [
    "DTYPE = tf.float64"
   ]
  },
  {
   "cell_type": "code",
   "execution_count": 4,
   "id": "663732f0",
   "metadata": {
    "ExecuteTime": {
     "end_time": "2023-08-03T14:54:41.697185Z",
     "start_time": "2023-08-03T14:54:41.693575Z"
    }
   },
   "outputs": [],
   "source": [
    "population_size = 4 # 3 infected, 1 occult "
   ]
  },
  {
   "cell_type": "markdown",
   "id": "55087686",
   "metadata": {},
   "source": [
    "# Characteristic data simulation"
   ]
  },
  {
   "cell_type": "code",
   "execution_count": 5,
   "id": "cd01c253",
   "metadata": {
    "ExecuteTime": {
     "end_time": "2023-08-03T14:54:41.703590Z",
     "start_time": "2023-08-03T14:54:41.700330Z"
    }
   },
   "outputs": [],
   "source": [
    "ind_id = ['A', 'B', 'C', 'D']"
   ]
  },
  {
   "cell_type": "code",
   "execution_count": 6,
   "id": "85660e3c",
   "metadata": {
    "ExecuteTime": {
     "end_time": "2023-08-03T14:54:41.713522Z",
     "start_time": "2023-08-03T14:54:41.707150Z"
    }
   },
   "outputs": [],
   "source": [
    "np.random.seed(20230720)\n",
    "location_data = np.random.uniform(low = 0.0, high = 10.0, size = (population_size,2))"
   ]
  },
  {
   "cell_type": "code",
   "execution_count": 7,
   "id": "4767a59b",
   "metadata": {
    "ExecuteTime": {
     "end_time": "2023-08-03T14:54:42.033775Z",
     "start_time": "2023-08-03T14:54:41.716996Z"
    }
   },
   "outputs": [
    {
     "data": {
      "text/plain": [
       "<AxesSubplot:xlabel='Long', ylabel='Lat'>"
      ]
     },
     "execution_count": 7,
     "metadata": {},
     "output_type": "execute_result"
    },
    {
     "data": {
      "image/png": "[encoded data removed]",
      "text/plain": [
       "<Figure size 640x480 with 1 Axes>"
      ]
     },
     "metadata": {},
     "output_type": "display_data"
    }
   ],
   "source": [
    "sns.scatterplot(data=pd.DataFrame(\n",
    "    location_data, columns=('Long', 'Lat')), x='Long', y='Lat')"
   ]
  },
  {
   "cell_type": "code",
   "execution_count": 8,
   "id": "782eb8d4",
   "metadata": {
    "ExecuteTime": {
     "end_time": "2023-08-03T14:54:42.042271Z",
     "start_time": "2023-08-03T14:54:42.037666Z"
    }
   },
   "outputs": [],
   "source": [
    "farm_size = [30, 7, 70, 20]"
   ]
  },
  {
   "cell_type": "code",
   "execution_count": 9,
   "id": "7e2ed66e",
   "metadata": {
    "ExecuteTime": {
     "end_time": "2023-08-03T14:54:42.051690Z",
     "start_time": "2023-08-03T14:54:42.046141Z"
    }
   },
   "outputs": [],
   "source": [
    "raw_data = {'ind_id': ind_id,\n",
    " 'long': location_data[:, 0],\n",
    " 'lat': location_data[:, 1],\n",
    " 'farm_size': farm_size}"
   ]
  },
  {
   "cell_type": "code",
   "execution_count": 10,
   "id": "fa6b19ca",
   "metadata": {
    "ExecuteTime": {
     "end_time": "2023-08-03T14:54:42.072560Z",
     "start_time": "2023-08-03T14:54:42.062690Z"
    }
   },
   "outputs": [
    {
     "data": {
      "text/plain": [
       "array([[ 6.7622786 ,  0.27765238, 30.        ],\n",
       "       [ 3.67218619,  9.27634228,  7.        ],\n",
       "       [ 5.51130133,  5.66629101, 70.        ],\n",
       "       [ 5.12430292,  5.36310558, 20.        ]])"
      ]
     },
     "execution_count": 10,
     "metadata": {},
     "output_type": "execute_result"
    }
   ],
   "source": [
    "np.column_stack((location_data[:, 0], location_data[:, 1], farm_size))"
   ]
  },
  {
   "cell_type": "code",
   "execution_count": 11,
   "id": "e870a680",
   "metadata": {
    "ExecuteTime": {
     "end_time": "2023-08-03T14:54:42.138691Z",
     "start_time": "2023-08-03T14:54:42.083209Z"
    }
   },
   "outputs": [
    {
     "name": "stderr",
     "output_type": "stream",
     "text": [
      "2023-08-03 15:54:42.104269: I tensorflow/core/platform/cpu_feature_guard.cc:151] This TensorFlow binary is optimized with oneAPI Deep Neural Network Library (oneDNN) to use the following CPU instructions in performance-critical operations:  AVX2 FMA\n",
      "To enable them in other operations, rebuild TensorFlow with the appropriate compiler flags.\n"
     ]
    }
   ],
   "source": [
    "characteristic_data = tf.convert_to_tensor(np.column_stack(\n",
    "    (location_data[:, 0], location_data[:, 1], farm_size)), dtype=DTYPE, name='long-lat-size')"
   ]
  },
  {
   "cell_type": "code",
   "execution_count": 12,
   "id": "4347ebd5",
   "metadata": {
    "ExecuteTime": {
     "end_time": "2023-08-03T14:54:42.149242Z",
     "start_time": "2023-08-03T14:54:42.142827Z"
    }
   },
   "outputs": [
    {
     "data": {
      "text/plain": [
       "<tf.Tensor: shape=(4, 3), dtype=float64, numpy=\n",
       "array([[ 6.7622786 ,  0.27765238, 30.        ],\n",
       "       [ 3.67218619,  9.27634228,  7.        ],\n",
       "       [ 5.51130133,  5.66629101, 70.        ],\n",
       "       [ 5.12430292,  5.36310558, 20.        ]])>"
      ]
     },
     "execution_count": 12,
     "metadata": {},
     "output_type": "execute_result"
    }
   ],
   "source": [
    "characteristic_data "
   ]
  },
  {
   "cell_type": "markdown",
   "id": "7bf2fe26",
   "metadata": {
    "ExecuteTime": {
     "end_time": "2023-07-10T15:21:16.002595Z",
     "start_time": "2023-07-10T15:21:15.997447Z"
    }
   },
   "source": [
    "# Stochastic process"
   ]
  },
  {
   "cell_type": "code",
   "execution_count": 13,
   "id": "93b76c12",
   "metadata": {
    "ExecuteTime": {
     "end_time": "2023-08-03T14:54:42.157491Z",
     "start_time": "2023-08-03T14:54:42.152702Z"
    }
   },
   "outputs": [],
   "source": [
    "# Define variables to govern epidemic\n",
    "sir_graph = np.array([[-1, 0],\n",
    "                      [1, -1],\n",
    "                      [0, 1]], dtype=np.float32)\n",
    "\n",
    "\n",
    "initial_state = np.array([[2],\n",
    "                          [1],\n",
    "                          [1]], dtype=np.float32)"
   ]
  },
  {
   "cell_type": "code",
   "execution_count": 14,
   "id": "55d8fc22",
   "metadata": {
    "ExecuteTime": {
     "end_time": "2023-08-03T14:54:42.175132Z",
     "start_time": "2023-08-03T14:54:42.161300Z"
    }
   },
   "outputs": [],
   "source": [
    "THEORETICAL_VALUES = tf.constant((0.8, 1.2, 12.14, 2), dtype=DTYPE)\n",
    "THEORETICAL_VALUES_DICT = {\n",
    "    'reg': THEORETICAL_VALUES[0:2], 'spatial': THEORETICAL_VALUES[2], 'removal': THEORETICAL_VALUES[3]}"
   ]
  },
  {
   "cell_type": "code",
   "execution_count": 15,
   "id": "345e8fdb",
   "metadata": {
    "ExecuteTime": {
     "end_time": "2023-08-03T14:54:42.185180Z",
     "start_time": "2023-08-03T14:54:42.177935Z"
    }
   },
   "outputs": [
    {
     "data": {
      "text/plain": [
       "{'reg': <tf.Tensor: shape=(2,), dtype=float64, numpy=array([0.8, 1.2])>,\n",
       " 'spatial': <tf.Tensor: shape=(), dtype=float64, numpy=12.14>,\n",
       " 'removal': <tf.Tensor: shape=(), dtype=float64, numpy=2.0>}"
      ]
     },
     "execution_count": 15,
     "metadata": {},
     "output_type": "execute_result"
    }
   ],
   "source": [
    "THEORETICAL_VALUES_DICT"
   ]
  },
  {
   "cell_type": "code",
   "execution_count": 16,
   "id": "c9ecb760",
   "metadata": {
    "ExecuteTime": {
     "end_time": "2023-08-03T14:54:42.194267Z",
     "start_time": "2023-08-03T14:54:42.189492Z"
    }
   },
   "outputs": [],
   "source": [
    "ParameterTuple = collections.namedtuple('ParameterTuple', 'regression spatial removal')"
   ]
  },
  {
   "cell_type": "code",
   "execution_count": 17,
   "id": "1abe9837",
   "metadata": {
    "ExecuteTime": {
     "end_time": "2023-08-03T14:54:42.203907Z",
     "start_time": "2023-08-03T14:54:42.198216Z"
    }
   },
   "outputs": [],
   "source": [
    "INITIAL_VALUES = ParameterTuple(regression=tf.constant([1., 1.], dtype=DTYPE),\n",
    "                                 spatial=tf.constant(12.14, dtype=DTYPE),\n",
    "                                 removal=tf.constant(2., dtype=DTYPE))"
   ]
  },
  {
   "cell_type": "code",
   "execution_count": 18,
   "id": "2c6383f2",
   "metadata": {
    "ExecuteTime": {
     "end_time": "2023-08-03T14:54:42.213163Z",
     "start_time": "2023-08-03T14:54:42.207559Z"
    }
   },
   "outputs": [
    {
     "data": {
      "text/plain": [
       "{'regression': <tf.Tensor: shape=(2,), dtype=float64, numpy=array([1., 1.])>,\n",
       " 'spatial': <tf.Tensor: shape=(), dtype=float64, numpy=12.14>,\n",
       " 'removal': <tf.Tensor: shape=(), dtype=float64, numpy=2.0>}"
      ]
     },
     "execution_count": 18,
     "metadata": {},
     "output_type": "execute_result"
    }
   ],
   "source": [
    "INITIAL_VALUES._asdict()"
   ]
  },
  {
   "cell_type": "code",
   "execution_count": 19,
   "id": "fdea5451",
   "metadata": {
    "ExecuteTime": {
     "end_time": "2023-08-03T14:54:42.227855Z",
     "start_time": "2023-08-03T14:54:42.216589Z"
    }
   },
   "outputs": [],
   "source": [
    "###########\n",
    "# Hazard fn\n",
    "###########\n",
    "\n",
    "# 1. Compute spatial component\n",
    "def pairwise_distance(location_data):\n",
    "    \"\"\"Compute pairwise distance matrix between farms\n",
    "\n",
    "    Args:\n",
    "        farm_locations_data (DataFrame): Lat-Long coordinates of farms\n",
    "\n",
    "    Returns:\n",
    "        tensor: tensor of Euclidean distances between entities\n",
    "                Dim = len(farm_location_data)\n",
    "    \"\"\"\n",
    "    return tf.convert_to_tensor(\n",
    "        sp.spatial.distance.squareform(\n",
    "            sp.spatial.distance.pdist(location_data)\n",
    "        ),\n",
    "        dtype=DTYPE\n",
    "    )\n",
    "\n",
    "\n",
    "def generate_spatial_kernel(location_data):\n",
    "    # compute distances between farms (i.e. [rho(i,j)] )\n",
    "    farm_distance_matrix = pairwise_distance(location_data)\n",
    "    farm_distance_matrix = tf.convert_to_tensor(\n",
    "        farm_distance_matrix, DTYPE)\n",
    "\n",
    "    def square_exponential_kernel(parameters):\n",
    "        parameters = tf.convert_to_tensor(parameters, DTYPE)\n",
    "        partial_step = tf.math.multiply(farm_distance_matrix, 1/parameters)\n",
    "        return tf.math.exp(-tf.math.square(partial_step))\n",
    "\n",
    "    return square_exponential_kernel\n",
    "\n",
    "# 2. Compute regression component\n",
    "\n",
    "\n",
    "def generate_regression_pressure(characteristic_data=None):\n",
    "    \"\"\"_summary_\n",
    "\n",
    "    Args:\n",
    "        farm_characteristics_data (_type_, optional): Factor variables for each farm unit. Defaults to None.\n",
    "\n",
    "    Returns:\n",
    "        tensor: exp(alpha + beta * data)\n",
    "    \"\"\"\n",
    "    characteristic_data = tf.convert_to_tensor(characteristic_data, DTYPE)\n",
    "\n",
    "    def compute_regression(parameters):\n",
    "        parameters = tf.convert_to_tensor(parameters, DTYPE)\n",
    "        # note: char_data is a column vector so this needs to change for general case\n",
    "        one_padded_data = tf.stack([np.full(np.shape(characteristic_data), 1.0),\n",
    "                                    characteristic_data], axis=-1)\n",
    "        regression = tf.matmul(one_padded_data, tf.expand_dims(parameters,-1))\n",
    "        expontiated_regression = tf.math.exp(-regression)\n",
    "        return expontiated_regression\n",
    "\n",
    "    return compute_regression\n",
    "\n",
    "# 3. Combine for overall hazard function\n",
    "\n",
    "\n",
    "def generate_pairwise_hazard_fn(location_data, characteristic_data):\n",
    "    \"\"\"_summary_\n",
    "\n",
    "    Args:\n",
    "        farm_characteristics_data (_type_): features of farms, including a 1s column for regression\n",
    "        farm_locations_data (_type_): Northing-Easting coordinates of farms\n",
    "\n",
    "    Returns:\n",
    "        fn: fn which outputs a tensor of pairwise hazard rates\n",
    "    \"\"\"\n",
    "    spatial_kernel = generate_spatial_kernel(location_data)\n",
    "    regression_kernel = generate_regression_pressure(characteristic_data)\n",
    "\n",
    "    def compute_hazard(parameters_tuple):\n",
    "\n",
    "        # spatial component - already exponentiated!\n",
    "        spatial = spatial_kernel(parameters_tuple.spatial)\n",
    "\n",
    "        # regression component - already exponentiated!\n",
    "        regression = regression_kernel(parameters_tuple.regression)\n",
    "        return tf.math.multiply(spatial,\n",
    "                                regression\n",
    "                                )\n",
    "\n",
    "    return compute_hazard"
   ]
  },
  {
   "cell_type": "code",
   "execution_count": 20,
   "id": "4be713d7",
   "metadata": {
    "ExecuteTime": {
     "end_time": "2023-08-03T14:54:42.243675Z",
     "start_time": "2023-08-03T14:54:42.230661Z"
    }
   },
   "outputs": [
    {
     "data": {
      "text/plain": [
       "<tf.Tensor: shape=(4, 4), dtype=float64, numpy=\n",
       "array([[1.        , 0.54105691, 0.81249689, 0.82391974],\n",
       "       [0.54105691, 1.        , 0.89460071, 0.88850751],\n",
       "       [0.81249689, 0.89460071, 1.        , 0.99836143],\n",
       "       [0.82391974, 0.88850751, 0.99836143, 1.        ]])>"
      ]
     },
     "execution_count": 20,
     "metadata": {},
     "output_type": "execute_result"
    }
   ],
   "source": [
    "generate_spatial_kernel(location_data)(INITIAL_VALUES.spatial)"
   ]
  },
  {
   "cell_type": "code",
   "execution_count": 21,
   "id": "a1ce5b8f",
   "metadata": {
    "ExecuteTime": {
     "end_time": "2023-08-03T14:54:42.254483Z",
     "start_time": "2023-08-03T14:54:42.246928Z"
    }
   },
   "outputs": [
    {
     "data": {
      "text/plain": [
       "<tf.Tensor: shape=(4,), dtype=float64, numpy=array([30.,  7., 70., 20.])>"
      ]
     },
     "execution_count": 21,
     "metadata": {},
     "output_type": "execute_result"
    }
   ],
   "source": [
    "characteristic_data[:, -1]"
   ]
  },
  {
   "cell_type": "code",
   "execution_count": 22,
   "id": "1a2f4262",
   "metadata": {
    "ExecuteTime": {
     "end_time": "2023-08-03T14:54:42.272626Z",
     "start_time": "2023-08-03T14:54:42.257302Z"
    }
   },
   "outputs": [
    {
     "data": {
      "text/plain": [
       "<tf.Tensor: shape=(4, 4), dtype=float64, numpy=\n",
       "array([[3.44247711e-14, 1.86257603e-14, 2.79700195e-14, 2.83632485e-14],\n",
       "       [1.81504373e-04, 3.35462628e-04, 3.00105105e-04, 2.98061063e-04],\n",
       "       [1.18826551e-31, 1.30834122e-31, 1.46248623e-31, 1.46008985e-31],\n",
       "       [6.24742122e-10, 6.73716185e-10, 7.57013591e-10, 7.58256043e-10]])>"
      ]
     },
     "execution_count": 22,
     "metadata": {},
     "output_type": "execute_result"
    }
   ],
   "source": [
    "# example usage \n",
    "generate_pairwise_hazard_fn(\n",
    "    location_data=location_data,\n",
    "    characteristic_data=tf.stack(characteristic_data[:, -1]))(INITIAL_VALUES) "
   ]
  },
  {
   "cell_type": "code",
   "execution_count": 23,
   "id": "bc633a27",
   "metadata": {
    "ExecuteTime": {
     "end_time": "2023-08-03T14:54:42.280374Z",
     "start_time": "2023-08-03T14:54:42.275605Z"
    }
   },
   "outputs": [],
   "source": [
    "############\n",
    "# Removal fn\n",
    "############\n",
    "\n",
    "def generate_removal_fn(infection_time, removal_time):\n",
    "    time_diff = removal_time - infection_time\n",
    "\n",
    "    def removal_fn(parameters):\n",
    "        return tfp.distributions.Exponential(rate=parameters).log_prob(time_diff)\n",
    "    return removal_fn"
   ]
  },
  {
   "cell_type": "markdown",
   "id": "29778f7e",
   "metadata": {},
   "source": [
    "The hazard functions and removal function correspond to the $S \\rightarrow I$ and $I \\rightarrow R$ transitions of the $SIR$ model. They can be combined in order to evaluate the likelihood of the epidemic. Implementation requires the raw data (called the characteristic data in the code above) and timestamps for the epidemic events. We create a closure over the model parameters (target of the MCMC scheme) and evaluate the likelihood at proposed parameter values. Several additional functions are required in order to compute the like likelihood. The hazard function quantifies pairwise infectious pressure but does not factor in the directionality of that pressure since it is missing information about the ordering of events (i.e. at a given time, a susceptible individual does not exert infectious pressure on another susceptible individual, but an infectious individual does exert infectious pressure on susceptibles). Direction of infection is determined by the computation of a \"who acquired infection from who\" (called the WAIFW matrix). The WAIFW matrix encodes if individual $j$ is exerts infectious pressure on individual $i$ by checking for overlap of individual $j$'s infectious period with individual $i$'s susceptible period. "
   ]
  },
  {
   "cell_type": "code",
   "execution_count": 24,
   "id": "9dae352e",
   "metadata": {
    "ExecuteTime": {
     "end_time": "2023-08-03T14:54:42.289110Z",
     "start_time": "2023-08-03T14:54:42.283258Z"
    }
   },
   "outputs": [],
   "source": [
    "def generate_waifw(infection_times, removal_times):\n",
    "    \"\"\"\n",
    "    Compute a WAIFW (who acquired infection from who) matrix \n",
    "    given tensors of infection and removal times. \n",
    "\n",
    "    Args:\n",
    "        infection_times (datetime): array of infection times \n",
    "        removal_times (datetime): array of removal times \n",
    "\n",
    "    Returns:\n",
    "        tensor: len(infection_times) x len(infection_times) tensor of 1s and 0s\n",
    "    \"\"\"\n",
    "\n",
    "    infection_times = tf.convert_to_tensor(infection_times, dtype=DTYPE)\n",
    "    removal_times = tf.convert_to_tensor(removal_times, dtype=DTYPE)\n",
    "\n",
    "    # use the expand_dim to do the [I,:] trick\n",
    "    waifw = tf.math.logical_and(\n",
    "        # compare infections to infections: I_i <= I_j\n",
    "        infection_times[tf.newaxis, :] < infection_times[:, tf.newaxis],\n",
    "        # compare infections to removals: I_j <= R_i\n",
    "        infection_times[:, tf.newaxis] < removal_times[tf.newaxis, :]\n",
    "    )\n",
    "    return tf.cast(waifw,\n",
    "                   dtype=DTYPE)"
   ]
  },
  {
   "cell_type": "markdown",
   "id": "21569482",
   "metadata": {},
   "source": [
    "With the direction of infectious pressure being determined, we now turn to the exposure matrix which provides the duration that infectious pressure is exerted from one individual to another. "
   ]
  },
  {
   "cell_type": "code",
   "execution_count": 25,
   "id": "42a6e849",
   "metadata": {
    "ExecuteTime": {
     "end_time": "2023-08-03T14:54:42.297377Z",
     "start_time": "2023-08-03T14:54:42.292308Z"
    }
   },
   "outputs": [],
   "source": [
    "def generate_exposure(infection_times, removal_times):\n",
    "    \"\"\"\n",
    "    Compute exposure matrix given two tensors of infections and removal times\n",
    "\n",
    "    Args:\n",
    "        infection_times (datetime): array of infection times \n",
    "        removal_times (datetime): array of removal times \n",
    "\n",
    "    Returns:\n",
    "        tensor: len(infection_times) x len(infection_times) tensor of exposure\n",
    "        durations \n",
    "    \"\"\"\n",
    "    infection_times = tf.convert_to_tensor(infection_times, dtype=DTYPE)\n",
    "    removal_times = tf.convert_to_tensor(removal_times, dtype=DTYPE)\n",
    "\n",
    "    return (\n",
    "        tf.math.minimum(infection_times[:, tf.newaxis],\n",
    "                        removal_times[tf.newaxis, :]) -\n",
    "        tf.math.minimum(infection_times[:, tf.newaxis],\n",
    "                        infection_times[tf.newaxis, :])\n",
    "    )"
   ]
  },
  {
   "cell_type": "code",
   "execution_count": 26,
   "id": "5f5d9626",
   "metadata": {
    "ExecuteTime": {
     "end_time": "2023-08-03T14:54:42.305000Z",
     "start_time": "2023-08-03T14:54:42.300934Z"
    }
   },
   "outputs": [],
   "source": [
    "def identify_initial_infective(infection_times):\n",
    "    infection_times = tf.convert_to_tensor(infection_times, dtype=DTYPE)\n",
    "    return tf.argmin(infection_times, name='initial_infective_individual')"
   ]
  },
  {
   "cell_type": "markdown",
   "id": "37367bea",
   "metadata": {},
   "source": [
    "## Create fake dates"
   ]
  },
  {
   "cell_type": "code",
   "execution_count": 27,
   "id": "b82a22f6",
   "metadata": {
    "ExecuteTime": {
     "end_time": "2023-08-03T14:54:42.313027Z",
     "start_time": "2023-08-03T14:54:42.307972Z"
    }
   },
   "outputs": [],
   "source": [
    "# Create fake dates \n",
    "epidemic_timestamps = {'ind_id': ind_id,\n",
    " 'infection_time': np.array([0, 5.4, 3.7835, 12.0]),\n",
    "'removal_time': np.array([6.111, 8.4954, 10.03313, 12.0])}"
   ]
  },
  {
   "cell_type": "markdown",
   "id": "fbbca309",
   "metadata": {},
   "source": [
    "### Data cleaning convention\n",
    "\n",
    "In a dataset of infective and occult units, set the infection *and* removal time of the occults to $T_{\\max}$"
   ]
  },
  {
   "cell_type": "code",
   "execution_count": 28,
   "id": "330447cb",
   "metadata": {
    "ExecuteTime": {
     "end_time": "2023-08-03T14:54:42.331924Z",
     "start_time": "2023-08-03T14:54:42.327386Z"
    }
   },
   "outputs": [],
   "source": [
    "def generate_infectious_duration(infection_times, removal_times):\n",
    "    infection_times = tf.convert_to_tensor(infection_times, dtype=DTYPE)\n",
    "    removal_times = tf.convert_to_tensor(removal_times, dtype=DTYPE)\n",
    "    return tf.math.subtract(x=removal_times,\n",
    "                            y=infection_times)"
   ]
  },
  {
   "cell_type": "code",
   "execution_count": 29,
   "id": "aa4d62db",
   "metadata": {
    "ExecuteTime": {
     "end_time": "2023-08-03T14:54:42.346511Z",
     "start_time": "2023-08-03T14:54:42.336977Z"
    }
   },
   "outputs": [
    {
     "data": {
      "text/plain": [
       "<tf.Tensor: shape=(4,), dtype=float64, numpy=array([6.111  , 3.0954 , 6.24963, 0.     ])>"
      ]
     },
     "execution_count": 29,
     "metadata": {},
     "output_type": "execute_result"
    }
   ],
   "source": [
    "# example\n",
    "generate_infectious_duration(infection_times=epidemic_timestamps.get('infection_time'),\n",
    "                 removal_times=epidemic_timestamps.get('removal_time'))"
   ]
  },
  {
   "cell_type": "code",
   "execution_count": 30,
   "id": "e1bf3600",
   "metadata": {
    "ExecuteTime": {
     "end_time": "2023-08-03T14:54:42.603935Z",
     "start_time": "2023-08-03T14:54:42.351067Z"
    }
   },
   "outputs": [
    {
     "data": {
      "image/png": "[encoded data removed]",
      "text/plain": [
       "<Figure size 800x600 with 1 Axes>"
      ]
     },
     "metadata": {},
     "output_type": "display_data"
    }
   ],
   "source": [
    "# Dataset\n",
    "data = {\n",
    "    'ind_id': ind_id,\n",
    "    'infection_time': [0.0000, 5.4000, 3.7835, float('inf')],\n",
    "    'removal_time': [6.11100, 8.49540, 10.03313, float('inf')]\n",
    "}\n",
    "\n",
    "# Calculate difference\n",
    "difference = generate_infectious_duration(infection_times=epidemic_timestamps.get('infection_time'),\n",
    "                 removal_times=epidemic_timestamps.get('removal_time'))\n",
    "\n",
    "# Create the plot\n",
    "plt.figure(figsize=(8, 6))\n",
    "\n",
    "# Plot the difference as a line connecting infection_time and removal_time\n",
    "for i, individual in enumerate(data['ind_id']):\n",
    "    plt.plot([data['infection_time'][i], data['removal_time'][i]], [individual, individual], marker='o', label=individual)\n",
    "\n",
    "plt.xlabel('Time (Days)')\n",
    "plt.ylabel('Individual')\n",
    "plt.xlim(0, 15)\n",
    "plt.yticks(data['ind_id'])\n",
    "plt.grid(True)\n",
    "plt.legend()\n",
    "plt.title('Infectious Durations')\n",
    "\n",
    "plt.show()"
   ]
  },
  {
   "cell_type": "code",
   "execution_count": 31,
   "id": "ef7b996a",
   "metadata": {
    "ExecuteTime": {
     "end_time": "2023-08-03T14:54:42.615963Z",
     "start_time": "2023-08-03T14:54:42.607146Z"
    }
   },
   "outputs": [
    {
     "data": {
      "text/plain": [
       "<tf.Tensor: shape=(4, 4), dtype=float64, numpy=\n",
       "array([[0.     , 0.     , 0.     , 0.     ],\n",
       "       [5.4    , 0.     , 1.6165 , 0.     ],\n",
       "       [3.7835 , 0.     , 0.     , 0.     ],\n",
       "       [6.111  , 3.0954 , 6.24963, 0.     ]])>"
      ]
     },
     "execution_count": 31,
     "metadata": {},
     "output_type": "execute_result"
    }
   ],
   "source": [
    "# Exposure fn\n",
    "generate_exposure(infection_times=epidemic_timestamps.get('infection_time'),\n",
    "                 removal_times=epidemic_timestamps.get('removal_time')) "
   ]
  },
  {
   "cell_type": "code",
   "execution_count": 32,
   "id": "6b172f58",
   "metadata": {
    "ExecuteTime": {
     "end_time": "2023-08-03T14:54:42.629307Z",
     "start_time": "2023-08-03T14:54:42.619275Z"
    }
   },
   "outputs": [
    {
     "data": {
      "text/plain": [
       "<tf.Tensor: shape=(4, 4), dtype=float64, numpy=\n",
       "array([[0., 0., 0., 0.],\n",
       "       [1., 0., 1., 0.],\n",
       "       [1., 0., 0., 0.],\n",
       "       [0., 0., 0., 0.]])>"
      ]
     },
     "execution_count": 32,
     "metadata": {},
     "output_type": "execute_result"
    }
   ],
   "source": [
    "# WAIFW\n",
    "generate_waifw(infection_times=epidemic_timestamps.get('infection_time'),\n",
    "                 removal_times=epidemic_timestamps.get('removal_time'))"
   ]
  },
  {
   "cell_type": "code",
   "execution_count": 33,
   "id": "8b0fb1f0",
   "metadata": {
    "ExecuteTime": {
     "end_time": "2023-08-03T14:54:42.640981Z",
     "start_time": "2023-08-03T14:54:42.632052Z"
    }
   },
   "outputs": [
    {
     "data": {
      "text/plain": [
       "<tf.Tensor: shape=(4, 4), dtype=float64, numpy=\n",
       "array([[3.44247711e-14, 1.86257603e-14, 2.79700195e-14, 2.83632485e-14],\n",
       "       [1.81504373e-04, 3.35462628e-04, 3.00105105e-04, 2.98061063e-04],\n",
       "       [1.18826551e-31, 1.30834122e-31, 1.46248623e-31, 1.46008985e-31],\n",
       "       [6.24742122e-10, 6.73716185e-10, 7.57013591e-10, 7.58256043e-10]])>"
      ]
     },
     "execution_count": 33,
     "metadata": {},
     "output_type": "execute_result"
    }
   ],
   "source": [
    "# Hazard fn\n",
    "generate_pairwise_hazard_fn(\n",
    "    location_data=location_data,\n",
    "    characteristic_data=tf.stack(characteristic_data[:, -1]))(INITIAL_VALUES) "
   ]
  },
  {
   "cell_type": "markdown",
   "id": "7f2789a2",
   "metadata": {},
   "source": [
    "# Log-likelihood evaluation"
   ]
  },
  {
   "cell_type": "code",
   "execution_count": 34,
   "id": "aebb99c4",
   "metadata": {
    "ExecuteTime": {
     "end_time": "2023-08-03T14:54:42.650394Z",
     "start_time": "2023-08-03T14:54:42.644221Z"
    }
   },
   "outputs": [],
   "source": [
    "# block 1 - event rate\n",
    "# math: [log (WAIFW cdot (H_{I,I}) cdot 1v )] cdot 1v\n",
    "def event_rate_block(waifw_matrix, hazard_matrix):\n",
    "    log_rates = tf.math.log(\n",
    "        tf.einsum('ij -> i', tf.matmul(a=waifw_matrix, b=hazard_matrix)))\n",
    "    log_rates = tf.where(tf.math.is_inf(log_rates),\n",
    "                         tf.constant(0.0, dtype=DTYPE), log_rates)  # remove np.inf (initial inf and occults)\n",
    "    return tf.reduce_sum(log_rates)\n",
    "\n",
    "# This function hides the matrix multiplications within the log_ll computation - no need to write as a closure"
   ]
  },
  {
   "cell_type": "code",
   "execution_count": 35,
   "id": "9353ebc2",
   "metadata": {
    "ExecuteTime": {
     "end_time": "2023-08-03T14:54:42.656470Z",
     "start_time": "2023-08-03T14:54:42.653365Z"
    }
   },
   "outputs": [],
   "source": [
    "# Write test for block 1 "
   ]
  },
  {
   "cell_type": "code",
   "execution_count": 36,
   "id": "43ba88c0",
   "metadata": {
    "ExecuteTime": {
     "end_time": "2023-08-03T14:54:42.663789Z",
     "start_time": "2023-08-03T14:54:42.660160Z"
    }
   },
   "outputs": [],
   "source": [
    "# block 2 - infectious pressure p.w. approximation \n",
    "# math: ((E cdot H_{I,I} ) cdot 1v cdot 1v\n",
    "def infectious_pressure_block(hazard_matrix, exposure_matrix):\n",
    "    infection_pressure = tf.matmul(a=hazard_matrix, b=exposure_matrix)\n",
    "    return tf.reduce_sum(infection_pressure)\n",
    "\n",
    "# This function hides the matrix multiplications within the log_ll computation - no need to write as a closure"
   ]
  },
  {
   "cell_type": "code",
   "execution_count": 37,
   "id": "445098ab",
   "metadata": {
    "ExecuteTime": {
     "end_time": "2023-08-03T14:54:42.671062Z",
     "start_time": "2023-08-03T14:54:42.667254Z"
    }
   },
   "outputs": [],
   "source": [
    "# Write test for block 2"
   ]
  },
  {
   "cell_type": "code",
   "execution_count": 38,
   "id": "979ad997",
   "metadata": {
    "ExecuteTime": {
     "end_time": "2023-08-03T14:54:42.682628Z",
     "start_time": "2023-08-03T14:54:42.674223Z"
    }
   },
   "outputs": [],
   "source": [
    "# block 3 - removal process\n",
    "# math: log_prob(D)\n",
    "def removal_process_block(known_event_times):\n",
    "    # these can be moved one level deeper into the closure if they\n",
    "    # are unknown (i.e. are model parameters)\n",
    "\n",
    "    infection_time = known_event_times['infection_time']\n",
    "    removal_time = known_event_times['removal_time']\n",
    "\n",
    "    def removal_process_block_eval(removal_rate):\n",
    "        # TO DO: add parameter to create a removal rate fn?\n",
    "\n",
    "        # set exponential removal times with rate = removal_rate\n",
    "        removal_process = tfp.distributions.Exponential(rate=removal_rate)\n",
    "\n",
    "        # compute D \n",
    "        infectious_duration = removal_time - infection_time\n",
    "        \n",
    "        # compute log prob - account for P(X = 0) = lambda in exp distribution\n",
    "        # handles occults since their infectious duration is 0 so they don't \n",
    "        # have a removal time - convention is that occults had I = R = T_maxlog\n",
    "        log_prob_duration = tf.where(infectious_duration > 0,\n",
    "                                     removal_process.log_prob(\n",
    "                                         infectious_duration),\n",
    "                                     0.0)\n",
    "        \n",
    "        return tf.reduce_sum(log_prob_duration)\n",
    "    return removal_process_block_eval"
   ]
  },
  {
   "cell_type": "code",
   "execution_count": 39,
   "id": "aca6a801",
   "metadata": {
    "ExecuteTime": {
     "end_time": "2023-08-03T14:54:42.708070Z",
     "start_time": "2023-08-03T14:54:42.687837Z"
    }
   },
   "outputs": [
    {
     "data": {
      "text/plain": [
       "<tf.Tensor: shape=(), dtype=float64, numpy=-28.832618458320162>"
      ]
     },
     "execution_count": 39,
     "metadata": {},
     "output_type": "execute_result"
    }
   ],
   "source": [
    "# Write test for block 3\n",
    "removal_process_block(known_event_times = epidemic_timestamps)(removal_rate = INITIAL_VALUES.removal)"
   ]
  },
  {
   "cell_type": "code",
   "execution_count": 40,
   "id": "292b4e63",
   "metadata": {
    "ExecuteTime": {
     "end_time": "2023-08-03T14:54:42.719484Z",
     "start_time": "2023-08-03T14:54:42.711647Z"
    }
   },
   "outputs": [],
   "source": [
    "def log_ll(hazard_rate_function, known_event_times):\n",
    "\n",
    "    @tf.function(jit_compile=False)\n",
    "    def log_ll_eval(parameters_tuple):\n",
    "        # Compute matrices \n",
    "        hazard_mat = hazard_rate_function(parameters_tuple)\n",
    "\n",
    "        waifw_mat = generate_waifw(infection_times=known_event_times['infection_time'],\n",
    "                                   removal_times=known_event_times['removal_time'])\n",
    "\n",
    "        exposure_mat = generate_exposure(infection_times=known_event_times['infection_time'],\n",
    "                                         removal_times=known_event_times['removal_time'])\n",
    "        \n",
    "        # Remove? \n",
    "        initial_infective_individual = identify_initial_infective(\n",
    "            infection_times=epidemic_timestamps['infection_time'])\n",
    "        # I don't think I need this anymore^\n",
    "        # Initial infective has their contribution put to zero in block 1 automatically\n",
    "\n",
    "        # Block 1: [log (WAIFW cdot (H_{I,I}) cdot 1v )] cdot 1v\n",
    "\n",
    "        block1 = event_rate_block(waifw_matrix=waifw_mat,\n",
    "                                  hazard_matrix=hazard_mat)\n",
    "\n",
    "        # Block 2: - ((E cdot H_{I,I} ) cdot 1v cdot 1v\n",
    "\n",
    "        block2 = infectious_pressure_block(hazard_matrix=hazard_mat,\n",
    "                                           exposure_matrix=exposure_mat)\n",
    "\n",
    "            # Block 3: log_prob(D)\n",
    "\n",
    "        removal_process = removal_process_block(\n",
    "            known_event_times=known_event_times)\n",
    "\n",
    "        # evaluate the contribution\n",
    "        block3 = removal_process(removal_rate=parameters_tuple.removal)\n",
    "\n",
    "        return block1 + block2 + block3\n",
    "    return log_ll_eval"
   ]
  },
  {
   "cell_type": "code",
   "execution_count": 41,
   "id": "e217a691",
   "metadata": {
    "ExecuteTime": {
     "end_time": "2023-08-03T14:54:43.712892Z",
     "start_time": "2023-08-03T14:54:42.723268Z"
    }
   },
   "outputs": [
    {
     "data": {
      "text/plain": [
       "<tf.Tensor: shape=(), dtype=float64, numpy=-88.51234958139446>"
      ]
     },
     "execution_count": 41,
     "metadata": {},
     "output_type": "execute_result"
    }
   ],
   "source": [
    "# example usage \n",
    "hazard_fn = generate_pairwise_hazard_fn(\n",
    "            location_data=location_data,\n",
    "            characteristic_data=characteristic_data[:, -1])\n",
    "\n",
    "log_ll(hazard_fn, known_event_times=epidemic_timestamps)(INITIAL_VALUES) "
   ]
  },
  {
   "cell_type": "code",
   "execution_count": 42,
   "id": "2e78e5b0",
   "metadata": {
    "ExecuteTime": {
     "end_time": "2023-08-03T14:54:43.722727Z",
     "start_time": "2023-08-03T14:54:43.715881Z"
    }
   },
   "outputs": [
    {
     "data": {
      "text/plain": [
       "{'regression': <tf.Tensor: shape=(2,), dtype=float64, numpy=array([1., 1.])>,\n",
       " 'spatial': <tf.Tensor: shape=(), dtype=float64, numpy=12.14>,\n",
       " 'removal': <tf.Tensor: shape=(), dtype=float64, numpy=2.0>}"
      ]
     },
     "execution_count": 42,
     "metadata": {},
     "output_type": "execute_result"
    }
   ],
   "source": [
    "INITIAL_VALUES._asdict()"
   ]
  },
  {
   "cell_type": "markdown",
   "id": "1cd1f02e",
   "metadata": {
    "ExecuteTime": {
     "end_time": "2023-07-14T14:47:16.237094Z",
     "start_time": "2023-07-14T14:47:16.228895Z"
    }
   },
   "source": [
    "# Inference "
   ]
  },
  {
   "cell_type": "code",
   "execution_count": 43,
   "id": "2ed78f7e",
   "metadata": {
    "ExecuteTime": {
     "end_time": "2023-08-03T14:54:43.732855Z",
     "start_time": "2023-08-03T14:54:43.726101Z"
    }
   },
   "outputs": [],
   "source": [
    "# Priors for all parameters\n",
    "def prior_distributions_block(initial_values_tuple):\n",
    "    # Goal: priors to be initialized w/ arguments\n",
    "    # (initial_values, distribution, distribution_param)\n",
    "    # inital value are used to set up the shapes of the priors\n",
    "\n",
    "    # initialize tfp.distributions\n",
    "    reg_priors = tfp.distributions.Normal(loc=tf.broadcast_to(tf.constant(\n",
    "        0., dtype=DTYPE), tf.shape(initial_values_tuple.regression)), scale=10.)\n",
    "\n",
    "    spatial_priors = tfp.distributions.Normal(loc=tf.broadcast_to(tf.constant(\n",
    "        0., dtype=DTYPE), tf.shape(initial_values_tuple.spatial)), scale=10.)\n",
    "\n",
    "    removal_priors = tfp.distributions.Normal(loc=tf.broadcast_to(tf.constant(\n",
    "        0., dtype=DTYPE), tf.shape(initial_values_tuple.removal)), scale=10.)\n",
    "\n",
    "    def prior_eval(parameters):\n",
    "        reg_block = tf.reduce_sum(reg_priors.log_prob(initial_values_tuple.regression))\n",
    "        spatial_block = tf.reduce_sum(\n",
    "            spatial_priors.log_prob(initial_values_tuple.spatial))\n",
    "        removal_block = tf.reduce_sum(\n",
    "            removal_priors.log_prob(initial_values_tuple.removal))\n",
    "\n",
    "        return reg_block + spatial_block + removal_block\n",
    "    return prior_eval"
   ]
  },
  {
   "cell_type": "code",
   "execution_count": 44,
   "id": "2e92f485",
   "metadata": {
    "ExecuteTime": {
     "end_time": "2023-08-03T14:54:43.749416Z",
     "start_time": "2023-08-03T14:54:43.735666Z"
    }
   },
   "outputs": [
    {
     "data": {
      "text/plain": [
       "<tf.Tensor: shape=(), dtype=float64, numpy=-13.652992504794874>"
      ]
     },
     "execution_count": 44,
     "metadata": {},
     "output_type": "execute_result"
    }
   ],
   "source": [
    "# Write test for prior function \n",
    "prior_distributions_block(INITIAL_VALUES)(INITIAL_VALUES)"
   ]
  },
  {
   "cell_type": "code",
   "execution_count": 45,
   "id": "5ac85486",
   "metadata": {
    "ExecuteTime": {
     "end_time": "2023-08-03T14:54:43.759033Z",
     "start_time": "2023-08-03T14:54:43.752783Z"
    }
   },
   "outputs": [],
   "source": [
    "# target lob prob\n",
    "def target_log_prob_fn(log_likelihood_fn, prior_dist_fn):\n",
    "    \"\"\"Combine log-likelihood and prior distributions to create the \n",
    "    target log prob fn used in inference\n",
    "\n",
    "    Args:\n",
    "        log_likelihood_fn (fn): log-likelihood fn of the model\n",
    "        prior_dist_fn (fn): prior distribution fn of the model parameters\n",
    "\n",
    "    Returns:\n",
    "        float64: evaluation of the target log prob\n",
    "\n",
    "    Notes: \n",
    "    The inner fn operates on an unpacked version of the ParameterTuple\n",
    "    in order to be able to take advantage of partial function \n",
    "    evaluations in the functools package. \n",
    "    \"\"\"\n",
    "    # initialize the two parts\n",
    "    def target_log_prob_eval(regression_param, spatial_param, removal_param):\n",
    "        # pack up the parameters (lazy way so we don't need to\n",
    "        # change the structure of the other functions above)\n",
    "        parameters_tuple = ParameterTuple(regression_param,\n",
    "                                          spatial_param,\n",
    "                                          removal_param)\n",
    "\n",
    "        return log_likelihood_fn(parameters_tuple) + prior_dist_fn(parameters_tuple)\n",
    "    return target_log_prob_eval"
   ]
  },
  {
   "cell_type": "code",
   "execution_count": 46,
   "id": "27a4883e",
   "metadata": {
    "ExecuteTime": {
     "end_time": "2023-08-03T14:54:43.770548Z",
     "start_time": "2023-08-03T14:54:43.762007Z"
    }
   },
   "outputs": [
    {
     "data": {
      "text/plain": [
       "<function __main__.target_log_prob_fn.<locals>.target_log_prob_eval(regression_param, spatial_param, removal_param)>"
      ]
     },
     "execution_count": 46,
     "metadata": {},
     "output_type": "execute_result"
    }
   ],
   "source": [
    "# Write test for target log prob fn\n",
    "\n",
    "TLP = target_log_prob_fn(log_likelihood_fn=log_ll(hazard_fn, known_event_times=epidemic_timestamps),\n",
    "                  prior_dist_fn=prior_distributions_block(INITIAL_VALUES))\n",
    "\n",
    "TLP"
   ]
  },
  {
   "cell_type": "code",
   "execution_count": 48,
   "id": "9b247e1b",
   "metadata": {
    "ExecuteTime": {
     "end_time": "2023-08-03T14:55:37.405408Z",
     "start_time": "2023-08-03T14:55:37.392112Z"
    }
   },
   "outputs": [
    {
     "data": {
      "text/plain": [
       "<tf.Tensor: shape=(), dtype=float64, numpy=-102.16534208618933>"
      ]
     },
     "execution_count": 48,
     "metadata": {},
     "output_type": "execute_result"
    }
   ],
   "source": [
    "TLP(*INITIAL_VALUES)"
   ]
  },
  {
   "cell_type": "code",
   "execution_count": 49,
   "id": "81ba1770",
   "metadata": {
    "ExecuteTime": {
     "end_time": "2023-08-03T14:55:37.414678Z",
     "start_time": "2023-08-03T14:55:37.410348Z"
    }
   },
   "outputs": [],
   "source": [
    "# RWMH transition kernel\n",
    "RWMHResult = collections.namedtuple('RWMHResult', ['is_accepted',\n",
    "                                                   'current_state',\n",
    "                                                   'current_state_log_prob'\n",
    "                                                   ]\n",
    "                                    )"
   ]
  },
  {
   "cell_type": "code",
   "execution_count": 50,
   "id": "fcdd00ad",
   "metadata": {
    "ExecuteTime": {
     "end_time": "2023-08-03T14:55:37.425047Z",
     "start_time": "2023-08-03T14:55:37.419188Z"
    }
   },
   "outputs": [],
   "source": [
    "proposal_sigma_values = ParameterTuple(regression=tf.constant([0.01, 0.01], dtype = DTYPE),\n",
    "                                       spatial=tf.constant(0.2, dtype = DTYPE),\n",
    "                                       removal=tf.constant(0.01, dtype = DTYPE))"
   ]
  },
  {
   "cell_type": "code",
   "execution_count": 51,
   "id": "c467a272",
   "metadata": {
    "ExecuteTime": {
     "end_time": "2023-08-03T14:55:37.436577Z",
     "start_time": "2023-08-03T14:55:37.430641Z"
    }
   },
   "outputs": [],
   "source": [
    "opitmal_proposals = ParameterTuple(regression=tf.constant([2*0.0626987, 2*0.048898], dtype = DTYPE),\n",
    "                                   spatial=tf.constant(2*4.0604401, dtype = DTYPE),\n",
    "                                   removal=tf.constant(2*0.0322145, dtype = DTYPE))"
   ]
  },
  {
   "cell_type": "code",
   "execution_count": 52,
   "id": "ea1470b1",
   "metadata": {
    "ExecuteTime": {
     "end_time": "2023-08-03T14:55:37.446064Z",
     "start_time": "2023-08-03T14:55:37.439625Z"
    }
   },
   "outputs": [
    {
     "data": {
      "text/plain": [
       "ParameterTuple(regression=<tf.Tensor: shape=(2,), dtype=float64, numpy=array([1., 1.])>, spatial=<tf.Tensor: shape=(), dtype=float64, numpy=12.14>, removal=<tf.Tensor: shape=(), dtype=float64, numpy=2.0>)"
      ]
     },
     "execution_count": 52,
     "metadata": {},
     "output_type": "execute_result"
    }
   ],
   "source": [
    "INITIAL_VALUES"
   ]
  },
  {
   "cell_type": "code",
   "execution_count": 81,
   "id": "afca2045",
   "metadata": {
    "ExecuteTime": {
     "end_time": "2023-08-03T15:33:20.593124Z",
     "start_time": "2023-08-03T15:33:20.584024Z"
    }
   },
   "outputs": [],
   "source": [
    "# Proposal distributions\n",
    "\n",
    "def generate_gaussian_proposal(scale):\n",
    "    \"\"\"Instantiate a Gaussian proposal for an MCMC kernel \n",
    "\n",
    "    Args:\n",
    "        scale (float64): the scale of the proposal distribution. \n",
    "        Must contain only positive values. \n",
    "\n",
    "    Returns:\n",
    "        fn: proposal function with a fixed scale parameter. The\n",
    "        function takes in the current chain state and a seed, \n",
    "        and returns a sample of size 1 matching the current \n",
    "        state dimensions\n",
    "    \"\"\"\n",
    "#     # set scale to correct dtype\n",
    "#     scale = tf.constant(scale, dtype=DTYPE)\n",
    "\n",
    "    def gaussian_proposal(current_state, seed):\n",
    "        \"\"\"Propose next state in an MCMC chain given a current\n",
    "        state and a seed \n",
    "\n",
    "        Args:\n",
    "            current_state (float64): vector of values of the \n",
    "            current chain state\n",
    "            seed (int): PRNG seed\n",
    "\n",
    "        Returns:\n",
    "            float64: suggested next state for the chain\n",
    "        \"\"\"\n",
    "        loc = current_state\n",
    "        isotropic_normal = tfp.distributions.Normal(\n",
    "            loc=loc, scale=scale)\n",
    "        return isotropic_normal.sample(seed=seed)\n",
    "    return gaussian_proposal"
   ]
  },
  {
   "cell_type": "code",
   "execution_count": 82,
   "id": "1e37390d",
   "metadata": {
    "ExecuteTime": {
     "end_time": "2023-08-03T15:33:25.944981Z",
     "start_time": "2023-08-03T15:33:25.915358Z"
    }
   },
   "outputs": [],
   "source": [
    "@tf.function(jit_compile=True)\n",
    "def RandomWalkMetropolisHastings_baseline(\n",
    "        target_log_prob_fn, initial_state_tuple, proposal_sigma_tuple,\n",
    "        num_iter=15, seed=None):\n",
    "\n",
    "    seed = tfp.random.sanitize_seed(\n",
    "        seed, salt=\"RandomWalkMetropolisHastings_baseline\")\n",
    "\n",
    "    # Instantiate proposal distributions - a ParameterTuple containing\n",
    "    # fn's corresponding to the proposal of each block of inference\n",
    "    Qx_tuple = tf.nest.map_structure(\n",
    "        lambda x: generate_gaussian_proposal(x), proposal_sigma_tuple)\n",
    "\n",
    "    # Instantiate the TLP - place holder in case we want to make this\n",
    "    # depend on other data and want to combine it within the function\n",
    "    TFP = target_log_prob_fn\n",
    "\n",
    "    def bootstrap_result(initial_state_tuple):\n",
    "        kernel_results = RWMHResult(\n",
    "            is_accepted=tf.ones_like(TFP(\n",
    "                *initial_state_tuple), dtype=tf.bool),\n",
    "            current_state=initial_state_tuple,\n",
    "            current_state_log_prob=TFP(*initial_state_tuple)\n",
    "        )\n",
    "        return ParameterTuple(kernel_results, kernel_results, kernel_results)\n",
    "\n",
    "    def one_step(current_state, previous_kernel_result, seed):\n",
    "        # pick up most recent update log prob\n",
    "        seeds = tfp.random.split_seed(seed, n=len(\n",
    "            current_state._fields), salt=\"one_step\")\n",
    "\n",
    "        current_state_log_prob = previous_kernel_result[-1].current_state_log_prob\n",
    "\n",
    "        # iterate over each of the blocks we want to update\n",
    "        intermediate_kernel_results = []\n",
    "\n",
    "        # TO DO -- Eliminate the for loop over the current state by creating\n",
    "        # a namedtuple over which maps each field to it's own one_step fn. Each one_step\n",
    "        # fn instantiates its own proposal fn. Parameters come from a namedtuple over\n",
    "        # the same fields - i.e. create a fn to *make* a proposal (closure over the\n",
    "        # variance with the current state providing the mean). End goal is to iterate\n",
    "        # over a namedtuple fields with signatures ([current_partial_state], [partial_target_log_prob],\n",
    "        # [proposal_fn]).\n",
    "\n",
    "        # NEXT TO DO -- unpack the namedtuple of parameters to be arguments\n",
    "        # for the target_log_prob and take advantage of the partial evaluation fn. We\n",
    "        # want to make a wrapper one_step fn that acts as a pipe for all the kernels\n",
    "        # that need to be evaluated in one step of the MCMC\n",
    "\n",
    "        # IDEA -- kernels can be stacked using tf.scan?\n",
    "\n",
    "        for field, seed in zip(current_state._fields, seeds):\n",
    "\n",
    "            # seed handling\n",
    "            proposal_seed, accept_seed = tfp.random.split_seed(\n",
    "                seed, n=2, salt=\"for_loop\")\n",
    "\n",
    "            # pick up partial state (maps to block to perform inference on)\n",
    "            partial_current_state = getattr(current_state, field)\n",
    "\n",
    "            #########\n",
    "            # Propose next step\n",
    "            proposal_fn = getattr(Qx_tuple, field)\n",
    "            next_partial_state = proposal_fn(\n",
    "                partial_current_state, proposal_seed)\n",
    "\n",
    "            # overright type - Bad for memory I know\n",
    "            next_complete_state = current_state._replace(\n",
    "                **{field: next_partial_state})\n",
    "\n",
    "            #########\n",
    "            # Compute log accept ratio\n",
    "            next_target_log_prob = TFP(\n",
    "                *next_complete_state)\n",
    "\n",
    "            log_accept_ratio = next_target_log_prob - \\\n",
    "                current_state_log_prob\n",
    "\n",
    "            # Accept reject step\n",
    "            log_uniform = tf.math.log(tfp.distributions.Uniform(\n",
    "                high=tf.constant(1., dtype=DTYPE)).sample(seed=accept_seed))\n",
    "\n",
    "            is_accepted = log_uniform < log_accept_ratio\n",
    "\n",
    "            current_state = tf.cond(\n",
    "                is_accepted, lambda: next_complete_state, lambda: current_state)\n",
    "            current_state_log_prob = tf.cond(\n",
    "                is_accepted, lambda: next_target_log_prob,\n",
    "                lambda: current_state_log_prob)\n",
    "\n",
    "            new_kernel_results = RWMHResult(\n",
    "                is_accepted=is_accepted,\n",
    "                current_state=current_state,\n",
    "                current_state_log_prob=current_state_log_prob\n",
    "            )\n",
    "            intermediate_kernel_results.append(new_kernel_results)\n",
    "        # this only keeps track of accept/reject of last block\n",
    "        # new_kernel_results\n",
    "\n",
    "        return current_state, ParameterTuple(*intermediate_kernel_results)\n",
    "\n",
    "    # Perform sampling - use the tf.while_loop fn and style\n",
    "    # Require: body fn and cond fn (i.e. perform body while cond is true)\n",
    "    # Write the results to the following accumulators\n",
    "\n",
    "    # Chain values - a ParameterTuple of TensorArrays which expand at each\n",
    "    # iteration with the next value from the one_step fn\n",
    "    parameter_samples = tf.nest.map_structure(\n",
    "        lambda x: tf.TensorArray(dtype=x.dtype, size=num_iter),\n",
    "        initial_state_tuple)\n",
    "    # One step result tracker - a ParameterTuple of RMWHResult tuples tracking each\n",
    "    # sub-kernel outcome (instances of the intermediate_kernel_results)\n",
    "    mcmc_results = tf.nest.map_structure(\n",
    "        lambda x: tf.TensorArray(dtype=x.dtype, size=num_iter),\n",
    "        bootstrap_result(initial_state_tuple))\n",
    "\n",
    "    def cond(ii,\n",
    "             current_state,\n",
    "             previous_kernel_result,\n",
    "             parameter_samples,\n",
    "             mcmc_results,\n",
    "             seed):\n",
    "        return ii < num_iter\n",
    "\n",
    "    def body(ii,\n",
    "             current_state,\n",
    "             previous_kernel_result,\n",
    "             parameter_samples,\n",
    "             mcmc_results,\n",
    "             seed):\n",
    "        # Perform one step of in the chain\n",
    "        this_seed, next_seed = tfp.random.split_seed(seed, n=2, salt=\"body\")\n",
    "        next_state, next_kernel_result = one_step(\n",
    "            current_state=current_state,\n",
    "            previous_kernel_result=previous_kernel_result, seed=this_seed)\n",
    "\n",
    "        # Track the outcome - CHAIN STATE\n",
    "        parameter_samples = tf.nest.map_structure(lambda x, a: a.write(ii, x),\n",
    "                                                  next_state, parameter_samples)\n",
    "        # # Track the outcome - KERNEL STATE(S)\n",
    "        mcmc_results = tf.nest.map_structure(lambda x, a: a.write(ii, x),\n",
    "                                             next_kernel_result, mcmc_results)\n",
    "\n",
    "        return (ii + 1,\n",
    "                next_state,\n",
    "                next_kernel_result,\n",
    "                parameter_samples,\n",
    "                mcmc_results,\n",
    "                next_seed)\n",
    "\n",
    "    (_1,\n",
    "     _2,\n",
    "     _3,\n",
    "     parameter_samples,\n",
    "     mcmc_results,\n",
    "     _4) = tf.while_loop(cond=cond,\n",
    "                         body=body,\n",
    "                         loop_vars=(0,\n",
    "                                    initial_state_tuple,\n",
    "                                    bootstrap_result(\n",
    "                                        initial_state_tuple),\n",
    "                                    parameter_samples,\n",
    "                                    mcmc_results,\n",
    "                                    seed))\n",
    "\n",
    "    # Formatting\n",
    "    def stack(arr):\n",
    "        return arr.stack()\n",
    "    parameter_samples = tf.nest.map_structure(\n",
    "        lambda x: x.stack(), parameter_samples)\n",
    "\n",
    "    mcmc_results = tf.nest.map_structure(lambda x: x.stack(),  mcmc_results)\n",
    "\n",
    "    return parameter_samples, mcmc_results"
   ]
  },
  {
   "cell_type": "code",
   "execution_count": 72,
   "id": "9bc0c611",
   "metadata": {
    "ExecuteTime": {
     "end_time": "2023-08-03T15:22:30.480512Z",
     "start_time": "2023-08-03T15:22:30.475245Z"
    }
   },
   "outputs": [],
   "source": [
    "# Tuning parameters for the proposals\n",
    "opitmal_proposals = ParameterTuple(regression=tf.constant([0.0082, 1.0826], dtype=DTYPE),\n",
    "                                   spatial=tf.constant(0.5, dtype=DTYPE),\n",
    "                                   removal=tf.constant(0.5, dtype=DTYPE))"
   ]
  },
  {
   "cell_type": "code",
   "execution_count": 77,
   "id": "54aee0d2",
   "metadata": {
    "ExecuteTime": {
     "end_time": "2023-08-03T15:24:29.483725Z",
     "start_time": "2023-08-03T15:24:29.477189Z"
    }
   },
   "outputs": [
    {
     "data": {
      "text/plain": [
       "{'regression': <function __main__.generate_gaussian_proposal.<locals>.gaussian_proposal(current_state, seed)>,\n",
       " 'spatial': <function __main__.generate_gaussian_proposal.<locals>.gaussian_proposal(current_state, seed)>,\n",
       " 'removal': <function __main__.generate_gaussian_proposal.<locals>.gaussian_proposal(current_state, seed)>}"
      ]
     },
     "execution_count": 77,
     "metadata": {},
     "output_type": "execute_result"
    }
   ],
   "source": [
    "tf.nest.map_structure(\n",
    "        lambda x: generate_gaussian_proposal(x), opitmal_proposals)._asdict()"
   ]
  },
  {
   "cell_type": "code",
   "execution_count": 83,
   "id": "ea02c29d",
   "metadata": {
    "ExecuteTime": {
     "end_time": "2023-08-03T15:33:33.884077Z",
     "start_time": "2023-08-03T15:33:30.349216Z"
    },
    "scrolled": false
   },
   "outputs": [],
   "source": [
    "N = 10_0\n",
    "\n",
    "chains, results = RandomWalkMetropolisHastings_baseline(\n",
    "    target_log_prob_fn=TLP, \n",
    "    initial_state_tuple=INITIAL_VALUES, \n",
    "    proposal_sigma_tuple=opitmal_proposals,\n",
    "    num_iter= N)"
   ]
  },
  {
   "cell_type": "code",
   "execution_count": 84,
   "id": "aa5be2f0",
   "metadata": {
    "ExecuteTime": {
     "end_time": "2023-08-03T15:33:38.517482Z",
     "start_time": "2023-08-03T15:33:38.504712Z"
    },
    "scrolled": true
   },
   "outputs": [
    {
     "data": {
      "text/plain": [
       "{'regression': <tf.Tensor: shape=(2, 2), dtype=float64, numpy=\n",
       " array([[7.19994772e-05, 2.11518284e-02],\n",
       "        [2.11518284e-02, 7.17681831e+00]])>,\n",
       " 'spatial': <tf.Tensor: shape=(), dtype=float64, numpy=1.154362822266222>,\n",
       " 'removal': <tf.Tensor: shape=(), dtype=float64, numpy=0.10369760288597547>}"
      ]
     },
     "execution_count": 84,
     "metadata": {},
     "output_type": "execute_result"
    }
   ],
   "source": [
    "# Adaptive MCMC calcs \n",
    "tf.nest.map_structure(lambda x: (1/tf.shape(x)[-1])*2.38 * np.cov(x, rowvar = False), chains)._asdict()"
   ]
  },
  {
   "cell_type": "code",
   "execution_count": 85,
   "id": "4ff43cf5",
   "metadata": {
    "ExecuteTime": {
     "end_time": "2023-08-03T15:33:44.637185Z",
     "start_time": "2023-08-03T15:33:44.044824Z"
    },
    "scrolled": false
   },
   "outputs": [
    {
     "data": {
      "text/plain": [
       "Text(0.5, 0, 'Iterations')"
      ]
     },
     "execution_count": 85,
     "metadata": {},
     "output_type": "execute_result"
    },
    {
     "data": {
      "image/png": "[encoded data removed]",
      "text/plain": [
       "<Figure size 1500x1000 with 3 Axes>"
      ]
     },
     "metadata": {},
     "output_type": "display_data"
    }
   ],
   "source": [
    "param_names = chains._fields\n",
    "fig, ax = plt.subplots(len( chains._fields), figsize=(15, 10))\n",
    "for i, ax in enumerate(ax.flatten()):\n",
    "    ax.plot(chains[i], )\n",
    "    ax.set_title(param_names[i])\n",
    "    \n",
    "ax.set_xlabel('Iterations')"
   ]
  },
  {
   "cell_type": "code",
   "execution_count": 86,
   "id": "baab4e3b",
   "metadata": {
    "ExecuteTime": {
     "end_time": "2023-08-03T15:33:45.276746Z",
     "start_time": "2023-08-03T15:33:44.641884Z"
    }
   },
   "outputs": [
    {
     "data": {
      "image/png": "[encoded data removed]",
      "text/plain": [
       "<Figure size 1500x1000 with 3 Axes>"
      ]
     },
     "metadata": {},
     "output_type": "display_data"
    }
   ],
   "source": [
    "fig, ax = plt.subplots(len(chains._fields), figsize=(15, 10))\n",
    "for i, ax in enumerate(ax.flatten()):\n",
    "    ax.plot(np.cumsum(results[i].is_accepted)/range(1, N+1), )\n",
    "    ax.set_title(param_names[i])\n",
    "    ax.set_ylabel('Acceptance Rate')\n",
    "    ax.set_ylim(bottom=0, top=1.1)\n",
    "\n",
    "    plt.xlabel('Iterations')"
   ]
  },
  {
   "cell_type": "code",
   "execution_count": 87,
   "id": "3a73ab1b",
   "metadata": {
    "ExecuteTime": {
     "end_time": "2023-08-03T15:33:46.051828Z",
     "start_time": "2023-08-03T15:33:45.279415Z"
    }
   },
   "outputs": [
    {
     "data": {
      "text/plain": [
       "Text(0.5, 0, 'Iterations')"
      ]
     },
     "execution_count": 87,
     "metadata": {},
     "output_type": "execute_result"
    },
    {
     "data": {
      "image/png": "[encoded data removed]",
      "text/plain": [
       "<Figure size 1500x1000 with 3 Axes>"
      ]
     },
     "metadata": {},
     "output_type": "display_data"
    }
   ],
   "source": [
    "param_names = chains._fields\n",
    "fig, ax = plt.subplots(len( chains._fields), figsize=(15, 10))\n",
    "for i, ax in enumerate(ax.flatten()):\n",
    "    ax.plot(results[i].current_state_log_prob, )\n",
    "    ax.set_title(param_names[i])\n",
    "    ax.set_ylabel('Log-Posterior')   \n",
    "    ax.set_xlim(left= 0, right = N)\n",
    "    \n",
    "ax.set_xlabel('Iterations')"
   ]
  },
  {
   "cell_type": "code",
   "execution_count": 88,
   "id": "a777b7a1",
   "metadata": {
    "ExecuteTime": {
     "end_time": "2023-08-03T15:33:46.065166Z",
     "start_time": "2023-08-03T15:33:46.057542Z"
    }
   },
   "outputs": [
    {
     "data": {
      "text/plain": [
       "ParameterTuple(regression=<tf.Tensor: shape=(2,), dtype=float64, numpy=array([1., 1.])>, spatial=<tf.Tensor: shape=(), dtype=float64, numpy=12.14>, removal=<tf.Tensor: shape=(), dtype=float64, numpy=2.0>)"
      ]
     },
     "execution_count": 88,
     "metadata": {},
     "output_type": "execute_result"
    }
   ],
   "source": [
    "INITIAL_VALUES"
   ]
  }
 ],
 "metadata": {
  "kernelspec": {
   "display_name": "Python 3 (ipykernel)",
   "language": "python",
   "name": "python3"
  },
  "language_info": {
   "codemirror_mode": {
    "name": "ipython",
    "version": 3
   },
   "file_extension": ".py",
   "mimetype": "text/x-python",
   "name": "python",
   "nbconvert_exporter": "python",
   "pygments_lexer": "ipython3",
   "version": "3.9.13"
  },
  "toc": {
   "base_numbering": 1,
   "nav_menu": {},
   "number_sections": true,
   "sideBar": true,
   "skip_h1_title": false,
   "title_cell": "Table of Contents",
   "title_sidebar": "Contents",
   "toc_cell": false,
   "toc_position": {
    "height": "calc(100% - 180px)",
    "left": "10px",
    "top": "150px",
    "width": "238.247284px"
   },
   "toc_section_display": true,
   "toc_window_display": false
  },
  "varInspector": {
   "cols": {
    "lenName": 16,
    "lenType": 16,
    "lenVar": 40
   },
   "kernels_config": {
    "python": {
     "delete_cmd_postfix": "",
     "delete_cmd_prefix": "del ",
     "library": "var_list.py",
     "varRefreshCmd": "print(var_dic_list())"
    },
    "r": {
     "delete_cmd_postfix": ") ",
     "delete_cmd_prefix": "rm(",
     "library": "var_list.r",
     "varRefreshCmd": "cat(var_dic_list()) "
    }
   },
   "types_to_exclude": [
    "module",
    "function",
    "builtin_function_or_method",
    "instance",
    "_Feature"
   ],
   "window_display": false
  }
 },
 "nbformat": 4,
 "nbformat_minor": 5
}
