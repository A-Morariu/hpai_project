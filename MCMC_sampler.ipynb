{
 "cells": [
  {
   "cell_type": "code",
   "execution_count": 10,
   "id": "7fb013eb",
   "metadata": {
    "ExecuteTime": {
     "end_time": "2022-12-12T17:03:12.471944Z",
     "start_time": "2022-12-12T17:03:12.464438Z"
    }
   },
   "outputs": [],
   "source": [
    "# load packages \n",
    "import numpy as np\n",
    "import pandas as pd \n",
    "import matplotlib.pyplot as plt\n",
    "import tensorflow as tf \n",
    "import tensorflow_probability as tfp \n",
    "import scipy.stats as stats\n",
    "import seaborn as sns\n",
    "\n",
    "from functools import partial"
   ]
  },
  {
   "cell_type": "code",
   "execution_count": 4,
   "id": "2ada53cf",
   "metadata": {
    "ExecuteTime": {
     "end_time": "2022-12-12T16:17:56.946347Z",
     "start_time": "2022-12-12T16:17:56.944033Z"
    }
   },
   "outputs": [],
   "source": [
    "tfd = tfp.distributions"
   ]
  },
  {
   "cell_type": "code",
   "execution_count": 3,
   "id": "48572a0d",
   "metadata": {
    "ExecuteTime": {
     "end_time": "2022-12-12T16:11:31.060676Z",
     "start_time": "2022-12-12T16:11:31.056962Z"
    }
   },
   "outputs": [],
   "source": [
    "sns.set_theme()\n",
    "plt.rcParams[\"figure.figsize\"] = (15, 10)"
   ]
  },
  {
   "cell_type": "code",
   "execution_count": 8,
   "id": "b970fc41",
   "metadata": {
    "ExecuteTime": {
     "end_time": "2022-12-12T16:19:32.563948Z",
     "start_time": "2022-12-12T16:19:32.560299Z"
    }
   },
   "outputs": [],
   "source": [
    "def make_target_log_prob()\n",
    "    def target_log_prob(data, parameters): \n",
    "        '''\n",
    "        Build the log probability density of the model. Returns a function with \n",
    "        inputs data (list) and parameters (list) to allow use of partial functions\n",
    "        '''\n",
    "\n",
    "        def log_priors(): \n",
    "            '''\n",
    "            Prior distribution of estimated quantities \n",
    "            '''\n",
    "            prior_parameters = tf.reduce_sum(tfd.Normal(loc = 0, scale = 10).log_prob(parameters))\n",
    "\n",
    "            # filler value for now\n",
    "            prior_data = tfd.Uniform(low = 0, max = 100).log_prob(1)\n",
    "\n",
    "            return prior_parameters + prior_data\n",
    "\n",
    "        # fill in later - model specific! \n",
    "        \n",
    "        # exposure process\n",
    "        \n",
    "        # removal process \n",
    "        \n",
    "        # return likelihood \n",
    "    return target_log_prob "
   ]
  },
  {
   "cell_type": "code",
   "execution_count": 9,
   "id": "c683e44b",
   "metadata": {
    "ExecuteTime": {
     "end_time": "2022-12-12T16:19:35.925639Z",
     "start_time": "2022-12-12T16:19:35.899813Z"
    }
   },
   "outputs": [
    {
     "data": {
      "text/plain": [
       "<tf.Tensor: shape=(), dtype=float32, numpy=-4.6051702>"
      ]
     },
     "execution_count": 9,
     "metadata": {},
     "output_type": "execute_result"
    }
   ],
   "source": [
    "# define proposal functions \n",
    "\n",
    "def propose_parameter(current_parameters)\n",
    "    # fix data using partial function \n",
    "    return None \n",
    "    "
   ]
  }
 ],
 "metadata": {
  "kernelspec": {
   "display_name": "Python 3 (ipykernel)",
   "language": "python",
   "name": "python3"
  },
  "language_info": {
   "codemirror_mode": {
    "name": "ipython",
    "version": 3
   },
   "file_extension": ".py",
   "mimetype": "text/x-python",
   "name": "python",
   "nbconvert_exporter": "python",
   "pygments_lexer": "ipython3",
   "version": "3.9.7"
  },
  "toc": {
   "base_numbering": 1,
   "nav_menu": {},
   "number_sections": true,
   "sideBar": true,
   "skip_h1_title": false,
   "title_cell": "Table of Contents",
   "title_sidebar": "Contents",
   "toc_cell": false,
   "toc_position": {},
   "toc_section_display": true,
   "toc_window_display": false
  },
  "varInspector": {
   "cols": {
    "lenName": 16,
    "lenType": 16,
    "lenVar": 40
   },
   "kernels_config": {
    "python": {
     "delete_cmd_postfix": "",
     "delete_cmd_prefix": "del ",
     "library": "var_list.py",
     "varRefreshCmd": "print(var_dic_list())"
    },
    "r": {
     "delete_cmd_postfix": ") ",
     "delete_cmd_prefix": "rm(",
     "library": "var_list.r",
     "varRefreshCmd": "cat(var_dic_list()) "
    }
   },
   "types_to_exclude": [
    "module",
    "function",
    "builtin_function_or_method",
    "instance",
    "_Feature"
   ],
   "window_display": false
  }
 },
 "nbformat": 4,
 "nbformat_minor": 5
}
